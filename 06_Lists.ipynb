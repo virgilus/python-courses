{
 "cells": [
  {
   "cell_type": "markdown",
   "metadata": {
    "tags": [
     "en"
    ]
   },
   "source": [
    "# LISTS"
   ]
  },
  {
   "cell_type": "markdown",
   "metadata": {
    "tags": [
     "en"
    ]
   },
   "source": [
    "## What is a list in Python?\n",
    "\n",
    "Lists are special Python objects that can contain other objects. They are recognizable because the contents of these variables are enclosed in brackets `[ ]`. For example the following list contains three elements (the numbers 1, 2 and 3):"
   ]
  },
  {
   "cell_type": "code",
   "execution_count": null,
   "metadata": {
    "tags": []
   },
   "outputs": [],
   "source": [
    "my_list = [1, 2, 3]"
   ]
  },
  {
   "cell_type": "markdown",
   "metadata": {
    "tags": [
     "en"
    ]
   },
   "source": [
    "A list can contain different objects (strings, integers, variables, other lists...): "
   ]
  },
  {
   "cell_type": "code",
   "execution_count": null,
   "metadata": {
    "tags": []
   },
   "outputs": [],
   "source": [
    "my_variable = 12.34\n",
    "my_list_2 = [1, 2, 3, \"banana\"]\n",
    "my_list = [\"bla bla bla\", 356, my_variable, my_list_2]"
   ]
  },
  {
   "cell_type": "markdown",
   "metadata": {
    "tags": [
     "en"
    ]
   },
   "source": [
    "## Exercise (easy)\n",
    "\n",
    "❓ **>>>** In my basket there are : \n",
    "\n",
    "- Courgettes\n",
    "- My wallet which contains :\n",
    "    - 20€.\n",
    "    - The equivalent of 0.76 euro cents in change.\n",
    "\n",
    "Create a list called \"basket\" that contains these different objects.\n",
    "\n",
    "- For the courgettes, store them as strings.\n",
    "- For the wallet, create a new list variable called \"wallet\" which contains two elements: an *integer* of 20 and a *float* of 0.76."
   ]
  },
  {
   "cell_type": "code",
   "execution_count": null,
   "metadata": {},
   "outputs": [],
   "source": [
    "# Code here!\n"
   ]
  },
  {
   "cell_type": "markdown",
   "metadata": {
    "tags": [
     "en"
    ]
   },
   "source": [
    "# How do we use lists?\n",
    "\n",
    "## Index\n",
    "\n",
    "In a list each element is identified by an index. For Python the first element of a list corresponds to the index 0. This may sound strange, but this counting system has its advantages. If you want to know more, you can [read a post by Guido Van Rossum](http://python-history.blogspot.com/2013/10/why-python-uses-0-based-indexing.html), the creator of Python, who explains this choice.\n",
    "\n",
    "| Contents  | Index |\n",
    "|-----------|-------|\n",
    "| Element 1 | 0     |\n",
    "| Element 2 | 1     |\n",
    "| Element 3 | 2     |\n",
    "| ...       | ...   |\n",
    "| Element n | n-1   |\n",
    "\n",
    "\n",
    "## Manipulation using the index\n",
    "\n",
    "### Displaying an element\n",
    "\n",
    "To access an element in a list, simply indicate the index between `[]`.\n",
    "\n",
    "Example :"
   ]
  },
  {
   "cell_type": "code",
   "execution_count": null,
   "metadata": {
    "tags": [
     "en"
    ]
   },
   "outputs": [],
   "source": [
    "l = [\"My first element\", \"My second element\", 16.767, \"My fourth element\", True, \"My sixth element\"]\n",
    "print(l[0])"
   ]
  },
  {
   "cell_type": "markdown",
   "metadata": {
    "tags": [
     "en"
    ]
   },
   "source": [
    "### Modifying an element\n",
    "\n",
    "To replace one element with another, we use the same syntax as if we wanted to change the content of a variable:"
   ]
  },
  {
   "cell_type": "code",
   "execution_count": null,
   "metadata": {
    "tags": []
   },
   "outputs": [],
   "source": [
    "my_list = [1, 2, 3]\n",
    "my_list[0] = 999\n",
    "my_list"
   ]
  },
  {
   "cell_type": "markdown",
   "metadata": {
    "tags": [
     "en"
    ]
   },
   "source": [
    "## Exercise (easy)\n",
    "\n",
    "❓ **>>>** Using the method above, replace the exotic fruits with local fruits of your choice. Then display the contents of the basket."
   ]
  },
  {
   "cell_type": "code",
   "execution_count": null,
   "metadata": {
    "tags": [
     "en"
    ]
   },
   "outputs": [],
   "source": [
    "basket = [\"kiwi\", \"pear\", \"apple\", \"pineapple\", \"raspberry\"]\n",
    "\n",
    "# code here!\n"
   ]
  },
  {
   "cell_type": "markdown",
   "metadata": {
    "tags": [
     "en"
    ]
   },
   "source": [
    "## Adding an element\n",
    "\n",
    "This is done with the `.append()` method. Example:"
   ]
  },
  {
   "cell_type": "code",
   "execution_count": null,
   "metadata": {
    "tags": [
     "en"
    ]
   },
   "outputs": [],
   "source": [
    "basket = [\"pear\", \"apple\", \"raspberry\"]\n",
    "print(f\"Local fruits : {basket}\")\n",
    "\n",
    "basket.append(\"grape\")\n",
    "print(f\"Local fruits : {basket}\")"
   ]
  },
  {
   "cell_type": "markdown",
   "metadata": {
    "tags": [
     "en"
    ]
   },
   "source": [
    "### List concatenation"
   ]
  },
  {
   "cell_type": "code",
   "execution_count": null,
   "metadata": {
    "tags": []
   },
   "outputs": [],
   "source": [
    "nums = [1, 2, 3]\n",
    "nums = nums + [\"A\", \"B\", \"C\"]\n",
    "nums"
   ]
  },
  {
   "cell_type": "markdown",
   "metadata": {
    "tags": [
     "en"
    ]
   },
   "source": [
    "### Empty list"
   ]
  },
  {
   "cell_type": "code",
   "execution_count": null,
   "metadata": {},
   "outputs": [],
   "source": [
    "empty_list = []"
   ]
  },
  {
   "cell_type": "markdown",
   "metadata": {
    "editable": true,
    "slideshow": {
     "slide_type": ""
    },
    "tags": [
     "en"
    ]
   },
   "source": [
    "## Exercise (easy)\n",
    "\n",
    "❓ **>>>** Perform the following operations in this order:\n",
    "\n",
    "1. Create an empty list named \"my_list\".\n",
    "1. Use the `.append()` method to add the element \"banana\".\n",
    "1. Concatenate the list with this one: `[False, 12]`.\n",
    "1. Display `False` by accessing it by its index.\n",
    "1. Display the contents of \"my_list\".\n",
    "1. Replace the word 'banana' with the word 'pear'.\n",
    "1. Replace `False` with `True`.\n",
    "1. Display the contents of \"my_list\"."
   ]
  },
  {
   "cell_type": "code",
   "execution_count": null,
   "metadata": {},
   "outputs": [],
   "source": [
    "# Code here!\n"
   ]
  },
  {
   "cell_type": "markdown",
   "metadata": {
    "editable": true,
    "slideshow": {
     "slide_type": ""
    },
    "tags": [
     "en"
    ]
   },
   "source": [
    "# Let's go deeper"
   ]
  },
  {
   "cell_type": "markdown",
   "metadata": {
    "tags": [
     "en"
    ]
   },
   "source": [
    "## Adding an element to a specific index\n",
    "\n",
    "This is done using the `.insert()` method. For example:"
   ]
  },
  {
   "cell_type": "code",
   "execution_count": null,
   "metadata": {
    "tags": []
   },
   "outputs": [],
   "source": [
    "a = [\"A\", \"B\", \"D\"]\n",
    "a.insert(2, \"C\")\n",
    "a"
   ]
  },
  {
   "cell_type": "markdown",
   "metadata": {
    "tags": [
     "en"
    ]
   },
   "source": [
    "## Adding several elements with ```.extend()```\n",
    "\n",
    "The `.extend()` method allows you to add the different elements of an iterable."
   ]
  },
  {
   "cell_type": "code",
   "execution_count": null,
   "metadata": {
    "tags": []
   },
   "outputs": [],
   "source": [
    "nums = [2, 4, 6]\n",
    "nums.extend([\"A\", \"B\", \"C\", 100, 101, 102])\n",
    "nums"
   ]
  },
  {
   "cell_type": "code",
   "execution_count": null,
   "metadata": {
    "tags": []
   },
   "outputs": [],
   "source": [
    "nums = [2, 4, 6]\n",
    "nums.extend(\"ABC\")\n",
    "nums"
   ]
  },
  {
   "cell_type": "code",
   "execution_count": null,
   "metadata": {},
   "outputs": [],
   "source": []
  }
 ],
 "metadata": {
  "kernelspec": {
   "display_name": "Python 3 (ipykernel)",
   "language": "python",
   "name": "python3"
  },
  "language_info": {
   "codemirror_mode": {
    "name": "ipython",
    "version": 3
   },
   "file_extension": ".py",
   "mimetype": "text/x-python",
   "name": "python",
   "nbconvert_exporter": "python",
   "pygments_lexer": "ipython3",
   "version": "3.11.0"
  }
 },
 "nbformat": 4,
 "nbformat_minor": 4
}
