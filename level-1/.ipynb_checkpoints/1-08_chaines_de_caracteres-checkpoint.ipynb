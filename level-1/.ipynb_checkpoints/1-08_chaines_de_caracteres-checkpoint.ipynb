{
 "cells": [
  {
   "cell_type": "markdown",
   "metadata": {
    "tags": [
     "fr"
    ]
   },
   "source": [
    "# CHAINES DE CARACTERE\n",
    "\n",
    "Nous avons vu dans les cours précédents que les chaînes de caractères étaient en fait des suites ordonnés de caractère : ce sont en quelque sorte des listes de caractères. La manipulation de texte ou de chaîne de caractère est quelque chose de courant en programmation et Python dispose d'un large éventail de méthodes pour traiter ce type d'objet.\n",
    "\n",
    "## Rappel des index\n",
    "\n",
    "Chaque caractère alphanumérique dispose d'un index dans une string. On peut y accéder en entrant l'index, qui est toujours un nombre entier et part toujours de 0, ainsi :\n",
    "\n",
    "| H | e | l | l | o |   | W | o | r | l | d  |    | !  | !  | !  |\n",
    "|---|---|---|---|---|---|---|---|---|---|----|----|----|----|----|\n",
    "| 0 | 1 | 2 | 3 | 4 | 5 | 6 | 7 | 8 | 9 | 10 | 11 | 12 | 13 | 14 |"
   ]
  },
  {
   "cell_type": "markdown",
   "metadata": {
    "tags": [
     "en"
    ]
   },
   "source": [
    "# STRINGS\n",
    "\n",
    "We have previously seen that strings are in fact ordered sequences of characters. String manipulation is common in programming and Python has a wide range of methods to handle this type of object.\n",
    "\n",
    "## Index\n",
    "\n",
    "Each alphanumeric character has an index in a string. It can be accessed by entering the index, which is always an integer and always starts from 0, so :\n",
    "\n",
    "| H | e | l | l | o |   | W | o | r | l | d  |    | !  | !  | !  |\n",
    "|---|---|---|---|---|---|---|---|---|---|----|----|----|----|----|\n",
    "| 0 | 1 | 2 | 3 | 4 | 5 | 6 | 7 | 8 | 9 | 10 | 11 | 12 | 13 | 14 |"
   ]
  },
  {
   "cell_type": "code",
   "execution_count": null,
   "metadata": {
    "tags": []
   },
   "outputs": [],
   "source": [
    "my_string = \"Hello World !!!\"\n",
    "my_string[0]"
   ]
  },
  {
   "cell_type": "markdown",
   "metadata": {
    "tags": [
     "fr"
    ]
   },
   "source": [
    "En Python, une string est un itérable, donc on peut utiliser une boucle `for`."
   ]
  },
  {
   "cell_type": "markdown",
   "metadata": {
    "tags": [
     "en"
    ]
   },
   "source": [
    "In Python a string is an iterable obect, so we can use a `for` loop."
   ]
  },
  {
   "cell_type": "code",
   "execution_count": null,
   "metadata": {
    "tags": []
   },
   "outputs": [],
   "source": [
    "my_string = \"Hello World !!!\"\n",
    "\n",
    "for i in my_string:\n",
    "    print(i)"
   ]
  },
  {
   "cell_type": "markdown",
   "metadata": {
    "tags": [
     "fr"
    ]
   },
   "source": [
    "## Sélection d'index\n",
    "\n",
    "On peut tout à fait sélectionner différents index à la fois en leur indiquant un début et une fin. Pour cela on les sépare par un `:` pour créer une plage, un _range_, c'est-à-dire que l'on indique un début et une fin. On appelle aussi cela des _slice_, c'est-à-dire des sous-chaînes de caractères (aussi appellées \"sous-strings\" ou *substrings*) c'est donc un morceau, un extrait de la chaîne de caractère.\n",
    "\n",
    "```python\n",
    "ma_chaine[x,y]\n",
    "```\n",
    "\n",
    "Attention car Python utilise des intervalles semi-ouverts, c'est-à-dire que **x est inclusif**, et **y est exclusif** : la fonction de _slice_ prend en compte l'élément x mais s'arrête lorsqu'il rencontre l'élément y, et donc ne le prend pas en compte.\n",
    "\n",
    "Ce fonctionnement permet d'écrire des lignes de code très élégantes. Par exemple si une string doit être divisée est divisée en trois groupes séparées par deux indices i et j, alors: \n",
    "\n",
    "```python\n",
    "a = a[:i] + a[i:j] + a[j:]\n",
    "```\n",
    "Une autre manière de voir cela : si i = 3 et est utilisé comme borne supérieur, c'est un peu comme si il valait `2.999999...` avec une infinité de décimales.\n",
    "(Voir la section \"Pour aller plus loin\" de la fin de ce chapitre)\n",
    "\n",
    "Si on laisse x ou y vide, cela signifie qu'on souhaite sélectionner les éléments jusqu'à la fin. Ex:"
   ]
  },
  {
   "cell_type": "markdown",
   "metadata": {
    "tags": [
     "en"
    ]
   },
   "source": [
    "## Selecting indexes\n",
    "\n",
    "\n",
    "Several characters can be accessed using a numerical index in square brackets. This is done by separating the start index and the stop index with a `:`. This is also called *slicing*, which is a substring.\n",
    "\n",
    "```python\n",
    "my_string[x,y]\n",
    "```\n",
    "\n",
    "Python uses semi-open ranges, so the x is inclusive and the y is exclusive. The function of *slice* takes the x element into account but stops when it encounters the y element, and thus does not take it into account.\n",
    "\n",
    "This makes it possible to write very elegant lines of code. For example, if we want a string to be split into three groups separated by two indices i and j, then: \n",
    "\n",
    "```python\n",
    "a = a[:i] + a[i:j] + a[j:]\n",
    "```\n",
    "Another way of looking at it: if i = 3 and is used as an upper bound, it's a bit like having a value of `2.999999...` with infinite decimal places.\n",
    "\n",
    "Leaving the lower bound or the upper bound empty means we want to select all the indexes from the start or until the end."
   ]
  },
  {
   "cell_type": "code",
   "execution_count": null,
   "metadata": {
    "tags": []
   },
   "outputs": [],
   "source": [
    "my_string = \"Hello World !!!\"\n",
    "\n",
    "print(my_string[0:1])\n",
    "print(my_string[:1])\n",
    "print(my_string[0:4])\n",
    "print(my_string[4:6])\n",
    "print(my_string[12:15])\n",
    "print(my_string[12:])"
   ]
  },
  {
   "cell_type": "markdown",
   "metadata": {
    "tags": [
     "fr"
    ]
   },
   "source": [
    "### Index negatif\n",
    "\n",
    "On peut aussi le remplacer par des nombres négatifs. Dans ce cas là le calcul de l'index se fait en partant de la fin :\n",
    "\n",
    "| H   | e   | l   | l   | o   |     | W  | o  | r  | l  | d  |    | !  | !  | !  |\n",
    "|-----|-----|-----|-----|-----|-----|----|----|----|----|----|----|----|----|----|\n",
    "| -15 | -14 | -13 | -12 | -11 | -10 | -9 | -8 | -7 | -6 | -5 | -4 | -3 | -2 | -1 |"
   ]
  },
  {
   "cell_type": "markdown",
   "metadata": {
    "tags": [
     "en"
    ]
   },
   "source": [
    "### Negative indexing\n",
    "\n",
    "We can also use negative indexing. In that case the last character is -1.\n",
    "\n",
    "| H   | e   | l   | l   | o   |     | W  | o  | r  | l  | d  |    | !  | !  | !  |\n",
    "|-----|-----|-----|-----|-----|-----|----|----|----|----|----|----|----|----|----|\n",
    "| -15 | -14 | -13 | -12 | -11 | -10 | -9 | -8 | -7 | -6 | -5 | -4 | -3 | -2 | -1 |"
   ]
  },
  {
   "cell_type": "code",
   "execution_count": null,
   "metadata": {
    "tags": []
   },
   "outputs": [],
   "source": [
    "my_string = \"Hello World !!!\"\n",
    "\n",
    "print(my_string[-2:-1])\n",
    "print(my_string[-9:-4])\n",
    "print(my_string[-15:-11])\n",
    "print(my_string[:-4])\n",
    "print(my_string[-9:])"
   ]
  },
  {
   "cell_type": "markdown",
   "metadata": {
    "tags": [
     "fr"
    ]
   },
   "source": [
    "### Exercice (facile)\n",
    "\n",
    "Utilisez la variable suivante ainsi que des *slices* et des `print()` pour afficher:\n",
    "\n",
    "- \"Bonjour\" (en utilisant des index positifs)\n",
    "- \"programmeur\" (en utilisant des index négatifs)"
   ]
  },
  {
   "cell_type": "markdown",
   "metadata": {
    "tags": [
     "en"
    ]
   },
   "source": [
    "### Exercise (easy)\n",
    "\n",
    "Use the following variable along with *slices* and `print()` to display:\n",
    "\n",
    "- \"Hello\" (using positive indexes)\n",
    "- \"programmers\" (using negative indexes)"
   ]
  },
  {
   "cell_type": "code",
   "execution_count": null,
   "metadata": {
    "tags": [
     "fr"
    ]
   },
   "outputs": [],
   "source": [
    "s = \"Bonjour à tous les programmeurs.\"\n",
    "\n",
    "# Code here!\n"
   ]
  },
  {
   "cell_type": "code",
   "execution_count": null,
   "metadata": {
    "tags": [
     "en"
    ]
   },
   "outputs": [],
   "source": [
    "s = \"Hello to all programmers.\"\n",
    "\n",
    "# Code here!\n"
   ]
  },
  {
   "cell_type": "code",
   "execution_count": null,
   "metadata": {
    "tags": [
     "solution",
     "fr"
    ]
   },
   "outputs": [],
   "source": [
    "# Solution\n",
    "\n",
    "s = \"Bonjour à tous les programmeurs.\"\n",
    "\n",
    "print(s[:7])\n",
    "print(s[-13:-1])"
   ]
  },
  {
   "cell_type": "code",
   "execution_count": null,
   "metadata": {
    "tags": [
     "en",
     "solution"
    ]
   },
   "outputs": [],
   "source": [
    "# Solution\n",
    "\n",
    "s = \"Hello to all programmers.\"\n",
    "\n",
    "print(s[:5])\n",
    "print(s[-12:-1])"
   ]
  },
  {
   "cell_type": "markdown",
   "metadata": {
    "tags": [
     "fr"
    ]
   },
   "source": [
    "# La concaténation\n",
    "\n",
    "C'est le fait d'assembler, de coller, des chaînes de caractères ou des caractères entre eux. Sous Python c'est facile, nous l'avons déjà vu, il suffit d'utiliser l'opérateur `+` comme si c'était des nombres."
   ]
  },
  {
   "cell_type": "markdown",
   "metadata": {
    "tags": [
     "en"
    ]
   },
   "source": [
    "# Concatenation\n",
    "\n",
    "This is the act of joining strings or characters together. In Python it's easy, as we've already seen, just use the `+` operator as if they were numbers."
   ]
  },
  {
   "cell_type": "code",
   "execution_count": null,
   "metadata": {
    "tags": [
     "fr"
    ]
   },
   "outputs": [],
   "source": [
    "s1 = \"Hello \"\n",
    "s2 = \"World !!!\"\n",
    "\n",
    "print(s1 + s2)"
   ]
  },
  {
   "cell_type": "markdown",
   "metadata": {
    "tags": [
     "fr"
    ]
   },
   "source": [
    "## Exercice (facile)\n",
    "\n",
    "Utilisez une boucle `for` pour rectifer l'orthographe de chaque élément de la liste suivante en ajoutant les caractères **\"di\"** quand il le faut.\n",
    "\n",
    "**ASTUCES:**\n",
    "\n",
    "- Attention, il y a une exception pour dimanche, utilisez un `if` dans votre boucle pour régler le problème !"
   ]
  },
  {
   "cell_type": "markdown",
   "metadata": {
    "tags": [
     "en"
    ]
   },
   "source": [
    "## Exercise (easy)\n",
    "\n",
    "Use a `for` loop to correct the spelling of each item in the following list by adding the **\"di\"** characters when necessary.\n",
    "\n",
    "**TIPS:**\n",
    "\n",
    "- Beware, there is an exception for \"dimanche\", use an `if` in your loop to fix the problem!"
   ]
  },
  {
   "cell_type": "code",
   "execution_count": null,
   "metadata": {
    "tags": []
   },
   "outputs": [],
   "source": [
    "jours_tronques = [\"lun\", \"mar\", \"mercre\", \"jeu\", \"vendre\", \"same\", \"manche\"]\n",
    "\n",
    "# Tapez votre code ici :\n"
   ]
  },
  {
   "cell_type": "code",
   "execution_count": null,
   "metadata": {
    "tags": [
     "solution"
    ]
   },
   "outputs": [],
   "source": [
    "# Solution\n",
    "\n",
    "jours_tronques = [\"lun\", \"mar\", \"mer\", \"jeu\", \"vendre\", \"same\", \"manche\"]\n",
    "\n",
    "for jour in jours_tronques:\n",
    "    if jour == \"manche\": print(\"di\" + jour)\n",
    "    else: print(jour + \"di\")"
   ]
  },
  {
   "cell_type": "markdown",
   "metadata": {
    "tags": [
     "fr"
    ]
   },
   "source": [
    "# Autres fonctions utiles\n",
    "\n",
    "## Le mot-clé `in`\n",
    "\n",
    "Cette instruction python signifie tout simplement \"dans\" ou plus exactement \"contenu dans\". Pour l'instant nous l'avons toujours vu avec `for`, mais il peut aussi s'utiliser pour vérifier qu'un objet contient un certain élément. Dans ce cas là il renvoie `True si l'élément que l'on cherche est dans contenu dans l'objet ou `False dans le cas contraire.\n",
    "\n",
    "Par exemple :"
   ]
  },
  {
   "cell_type": "markdown",
   "metadata": {
    "tags": [
     "en"
    ]
   },
   "source": [
    "# Other useful functions\n",
    "\n",
    "## The `in` keyword\n",
    "\n",
    "This python statement simply means \"in\" or more accurately \"contained in\". So far we've always seen it with `for`, but it can also be used to check that an object contains a certain element. In this case it returns `True` if the element we're looking for is contained in the object or `False` otherwise.\n",
    "\n",
    "For example:"
   ]
  },
  {
   "cell_type": "code",
   "execution_count": null,
   "metadata": {
    "tags": []
   },
   "outputs": [],
   "source": [
    "seq = [\"a\", \"b\", \"c\", \"d\"]\n",
    "\n",
    "print(\"a\" in seq)\n",
    "print(\"e\" in seq)"
   ]
  },
  {
   "cell_type": "markdown",
   "metadata": {
    "tags": [
     "fr"
    ]
   },
   "source": [
    "### L'opérateur `not`\n",
    "\n",
    "Remarquez que si vous voulez avoir le comportement inverse, il suffit d'ajouter un `not` avant le `in`. Par exemple :"
   ]
  },
  {
   "cell_type": "markdown",
   "metadata": {
    "tags": [
     "en"
    ]
   },
   "source": [
    "### The `not` operator\n",
    "If you need the opposite behaviour, just add a `not` before the `in`. For example:"
   ]
  },
  {
   "cell_type": "code",
   "execution_count": null,
   "metadata": {
    "tags": []
   },
   "outputs": [],
   "source": [
    "seq = [\"a\", \"b\", \"c\", \"d\"]\n",
    "\n",
    "print(\"z\" not in seq)"
   ]
  },
  {
   "cell_type": "markdown",
   "metadata": {
    "tags": [
     "fr"
    ]
   },
   "source": [
    "## Exercice (facile)\n",
    "\n",
    "Si la lettre \"x\" est contenue dans la liste nommée \"symbols\", affichez le texte \"x est présent\". Sinon affichez \"x n'est pas présent\".\n",
    "\n",
    "Puis si \"pi\" n'est pas présent dans le texte, affichez \"pi n'est pas présent\", autrement affichez \"pi est présent\".\n",
    "\n",
    "**Astuce**:\n",
    "\n",
    "- Utilisez des `if`, des `else`, des `in` et des `not`."
   ]
  },
  {
   "cell_type": "markdown",
   "metadata": {
    "tags": [
     "en"
    ]
   },
   "source": [
    "## Exercise (easy)\n",
    "\n",
    "If the letter \"x\" is contained in the list named \"symbols\", display the text \"x is present\". Otherwise display \"x is not present\".\n",
    "\n",
    "Then if \"pi\" is not present in the text, display \"pi is not present\", otherwise display \"pi is present\".\n",
    "\n",
    "**Tip**:\n",
    "\n",
    "- Use `if`, `else`, `in` and `not`."
   ]
  },
  {
   "cell_type": "code",
   "execution_count": null,
   "metadata": {
    "tags": []
   },
   "outputs": [],
   "source": [
    "symbols = [\"fi\", \"x\", \"lambda\", \"epsilon\", \"y\"]\n",
    "\n",
    "# code here!"
   ]
  },
  {
   "cell_type": "code",
   "execution_count": null,
   "metadata": {
    "tags": [
     "fr",
     "solution"
    ]
   },
   "outputs": [],
   "source": [
    "# Solution\n",
    "\n",
    "symbols = [\"fi\", \"x\", \"lambda\", \"epsilon\", \"y\"]\n",
    "\n",
    "if \"x\" in symbols: print(\"x est présent !\")\n",
    "else: print(\"x n'est pas présent !\")\n",
    "\n",
    "if \"pi\" in symbols: print(\"pi est présent !\")\n",
    "else: print(\"pi n'est pas présent !\")"
   ]
  },
  {
   "cell_type": "code",
   "execution_count": null,
   "metadata": {
    "tags": [
     "en",
     "solution"
    ]
   },
   "outputs": [],
   "source": [
    "# Solution\n",
    "\n",
    "symbols = [\"fi\", \"x\", \"lambda\", \"epsilon\", \"y\"]\n",
    "\n",
    "if \"x\" in symbols: print(\"x is present!\")\n",
    "else: print(\"x isn't present!\")\n",
    "\n",
    "if \"pi\" in symbols: print(\"pi is present!\")\n",
    "else: print(\"pi isn't present!\")"
   ]
  },
  {
   "cell_type": "markdown",
   "metadata": {
    "tags": [
     "fr"
    ]
   },
   "source": [
    "## Majuscules et minuscules\n",
    "\n",
    "Les méthodes `.upper()` et `.lower()` permettent de mettre en majuscule ou en minuscule une chaîne de caractères. Exemple : "
   ]
  },
  {
   "cell_type": "markdown",
   "metadata": {
    "tags": [
     "en"
    ]
   },
   "source": [
    "## Upper and lower case\n",
    "\n",
    "The `.upper()` and `.lower()` methods convert all of the characters to uppercase or to lowercase. Example: "
   ]
  },
  {
   "cell_type": "code",
   "execution_count": null,
   "metadata": {
    "tags": [
     "fr"
    ]
   },
   "outputs": [],
   "source": [
    "cri = \"INUTILE DE CRIER !\"\n",
    "chuchotement = \"peux-tu parler plus fort ?\"\n",
    "\n",
    "print(cri.lower())\n",
    "print(chuchotement.upper())"
   ]
  },
  {
   "cell_type": "code",
   "execution_count": null,
   "metadata": {
    "tags": [
     "en"
    ]
   },
   "outputs": [],
   "source": [
    "loud = \"UPPERCASE!!!\"\n",
    "soft = \"lowercase...\"\n",
    "\n",
    "print(loud.lower())\n",
    "print(soft.upper())"
   ]
  },
  {
   "cell_type": "markdown",
   "metadata": {
    "tags": [
     "fr"
    ]
   },
   "source": [
    "## Exercice (facile)\n",
    "\n",
    "Affichez tous les mots de la liste suivante en minuscule.\n",
    "\n",
    "**Astuces**:\n",
    "\n",
    "- Utilisez une boucle `for`."
   ]
  },
  {
   "cell_type": "markdown",
   "metadata": {
    "tags": [
     "en"
    ]
   },
   "source": [
    "## Exercise (easy)\n",
    "\n",
    "Show all the words in the following list in lower case.\n",
    "\n",
    "**Tips**:\n",
    "\n",
    "- Use a `for` loop."
   ]
  },
  {
   "cell_type": "code",
   "execution_count": null,
   "metadata": {
    "tags": []
   },
   "outputs": [],
   "source": [
    "l = ['NooB', 'HaCKerZ', 'NeWBiE']\n",
    "# tapez votre code ici\n"
   ]
  },
  {
   "cell_type": "code",
   "execution_count": null,
   "metadata": {
    "tags": [
     "solution"
    ]
   },
   "outputs": [],
   "source": [
    "# Solution\n",
    "\n",
    "l = ['NooB', 'HaCKerZ', 'NeWBiE']\n",
    "for word in l: print(word.lower())"
   ]
  },
  {
   "cell_type": "markdown",
   "metadata": {
    "tags": [
     "fr"
    ]
   },
   "source": [
    "## Exercice (moyen)\n",
    "\n",
    "La lettre \"e\" est la plus répandue dans la langue française mais combien de fois est-elle présente dans ces deux extraits de textes écrits, respectivement, par Baudelaire et Perec ?\n",
    "\n",
    "**ASTUCES**:\n",
    "\n",
    "- Ici on va itérer sur chaque caractère de la string.\n",
    "- Comme nous voulons compter tous les \"e\", quelque soit son accent, il va falloir utiliser la \"liste_e\" avec un `if`... `in` pour vérifier si un élément d'une liste est présent dans une string.\n",
    "- Attention avec les majuscules et les minuscules ! Il va falloir gérer cela en utilisant `.upper()` ou `.lower()`.\n",
    "- Les trois guillemets `\"\"\"` permettent de faire comprendre à Python que tout ce qui va suivre est du texte, jusqu'à ce que l'on ferme les triple guillemets."
   ]
  },
  {
   "cell_type": "markdown",
   "metadata": {
    "tags": [
     "en"
    ]
   },
   "source": [
    "## Exercise (medium)\n",
    "\n",
    "The letter \"e\" is the most common in the English language, but how many times is it present in these two extracts from texts written, respectively, by Poe and Wright?\n",
    "\n",
    "**ASTUCES**:\n",
    "\n",
    "- Here we will iterate on each character of the string.\n",
    "- Be careful with upper and lower case! You'll have to handle this using `.upper()` or `.lower()`.\n",
    "- The three double quotes `\"\"\"` let Python know that everything that follows is text, until you close the triple double quotes."
   ]
  },
  {
   "cell_type": "code",
   "execution_count": null,
   "metadata": {
    "tags": [
     "fr"
    ]
   },
   "outputs": [],
   "source": [
    "baudelaire = \"\"\"\n",
    "Pour l'enfant, amoureux de cartes et d'estampes,\n",
    "L'univers est égal à son vaste appétit.\n",
    "Ah ! que le monde est grand à la clarté des lampes !\n",
    "Aux yeux du souvenir que le monde est petit !\n",
    "\n",
    "Un matin nous partons, le cerveau plein de flamme,\n",
    "Le coeur gros de rancune et de désirs amers,\n",
    "Et nous allons, suivant le rythme de la lame,\n",
    "Berçant notre infini sur le fini des mers.\n",
    "\"\"\"\n",
    "\n",
    "perec = \"\"\"\n",
    "Il ouvrit son frigo mural, il prit du lait froid, il but un grand bol.\n",
    "Il s'apaisait. Il s'assit sur son cosy, il prit un journal qu'il parcourut d'un air distrait.\n",
    "Il alluma un cigarillo qu'il fuma jusqu'au bout quoiqu'il trouvât son parfum irritant. Il toussa.\n",
    "\"\"\"\n",
    "\n",
    "liste_e = ['e', 'é', 'è', 'ê', 'ë']\n",
    "\n",
    "# Code here!\n",
    "\n"
   ]
  },
  {
   "cell_type": "code",
   "execution_count": null,
   "metadata": {
    "tags": [
     "en"
    ]
   },
   "outputs": [],
   "source": [
    "poe = \"\"\"\n",
    "Once upon a midnight dreary, while I pondered, weak and weary,\n",
    "Over many a quaint and curious volume of forgotten lore—\n",
    "    While I nodded, nearly napping, suddenly there came a tapping,\n",
    "As of some one gently rapping, rapping at my chamber door.\n",
    "“’Tis some visitor,” I muttered, “tapping at my chamber door—\n",
    "            Only this and nothing more.”\n",
    "\n",
    "Ah, distinctly I remember it was in the bleak December;\n",
    "And each separate dying ember wrought its ghost upon the floor.\n",
    "    Eagerly I wished the morrow;—vainly I had sought to borrow\n",
    "    From my books surcease of sorrow—sorrow for the lost Lenore—\n",
    "For the rare and radiant maiden whom the angels name Lenore—\n",
    "            Nameless here for evermore.\n",
    "\"\"\"\n",
    "\n",
    "wright = \"\"\"\n",
    "If Youth, throughout all history, had had a champion to stand up for it;\n",
    "to show a doubting world that a child can think; and, possibly, do it practically;\n",
    "you wouldn't constantly run across folks today who claim that \"a child don't know anything.\"\n",
    "A child's brain starts functioning at birth; and has, amongst its many infant convolutions,\n",
    "thousands of dormant atoms, into which God has put a mystic possibility for noticing an adult's act,\n",
    "and figuring out its purport.\n",
    "\"\"\"\n",
    "\n",
    "# code here!\n",
    "\n"
   ]
  },
  {
   "cell_type": "code",
   "execution_count": null,
   "metadata": {
    "tags": [
     "fr",
     "solution"
    ]
   },
   "outputs": [],
   "source": [
    "# Solution\n",
    "\n",
    "baudelaire = \"\"\"\n",
    "Pour l'enfant, amoureux de cartes et d'estampes,\n",
    "L'univers est égal à son vaste appétit.\n",
    "Ah ! que le monde est grand à la clarté des lampes !\n",
    "Aux yeux du souvenir que le monde est petit !\n",
    "\n",
    "Un matin nous partons, le cerveau plein de flamme,\n",
    "Le coeur gros de rancune et de désirs amers,\n",
    "Et nous allons, suivant le rythme de la lame,\n",
    "Berçant notre infini sur le fini des mers.\n",
    "\"\"\"\n",
    "\n",
    "perec = \"\"\"\n",
    "Il ouvrit son frigo mural, il prit du lait froid, il but un grand bol.\n",
    "Il s'apaisait. Il s'assit sur son cosy, il prit un journal qu'il parcourut d'un air distrait.\n",
    "Il alluma un cigarillo qu'il fuma jusqu'au bout quoiqu'il trouvât son parfum irritant. Il toussa.\n",
    "\"\"\"\n",
    "\n",
    "liste_e = ['e', 'é', 'è', 'ê', 'ë']\n",
    "\n",
    "# Tapez votre code ici:\n",
    "\n",
    "for texte in [baudelaire, perec]:\n",
    "    nombre_de_e = 0\n",
    "    for car in texte:\n",
    "        if car.lower() in liste_e: nombre_de_e += 1\n",
    "\n",
    "    print(f\"Il y a {nombre_de_e} 'e' dans ce texte.\")"
   ]
  },
  {
   "cell_type": "code",
   "execution_count": null,
   "metadata": {
    "tags": [
     "en",
     "solution"
    ]
   },
   "outputs": [],
   "source": [
    "# Solution\n",
    "\n",
    "poe = \"\"\"\n",
    "Once upon a midnight dreary, while I pondered, weak and weary,\n",
    "Over many a quaint and curious volume of forgotten lore—\n",
    "    While I nodded, nearly napping, suddenly there came a tapping,\n",
    "As of some one gently rapping, rapping at my chamber door.\n",
    "“’Tis some visitor,” I muttered, “tapping at my chamber door—\n",
    "            Only this and nothing more.”\n",
    "\n",
    "Ah, distinctly I remember it was in the bleak December;\n",
    "And each separate dying ember wrought its ghost upon the floor.\n",
    "    Eagerly I wished the morrow;—vainly I had sought to borrow\n",
    "    From my books surcease of sorrow—sorrow for the lost Lenore—\n",
    "For the rare and radiant maiden whom the angels name Lenore—\n",
    "            Nameless here for evermore.\n",
    "\"\"\"\n",
    "\n",
    "wright = \"\"\"\n",
    "If Youth, throughout all history, had had a champion to stand up for it;\n",
    "to show a doubting world that a child can think; and, possibly, do it practically;\n",
    "you wouldn't constantly run across folks today who claim that \"a child don't know anything.\"\n",
    "A child's brain starts functioning at birth; and has, amongst its many infant convolutions,\n",
    "thousands of dormant atoms, into which God has put a mystic possibility for noticing an adult's act,\n",
    "and figuring out its purport.\n",
    "\"\"\"\n",
    "\n",
    "# code here!\n",
    "\n",
    "for text in [poe, wright]:\n",
    "    number_of_e = 0\n",
    "    for char in text:\n",
    "        if char.lower() == \"e\": number_of_e += 1\n",
    "\n",
    "    print(f\"There are {number_of_e} 'e' in this text\")"
   ]
  },
  {
   "cell_type": "markdown",
   "metadata": {
    "tags": [
     "fr"
    ]
   },
   "source": [
    "## Fonction `.split()`\n",
    "\n",
    "Cette fonction permet de transformer une string en une liste grâce à un séparateur. Par défaut celui-ci est l'espace \" \". Exemple :"
   ]
  },
  {
   "cell_type": "markdown",
   "metadata": {
    "tags": [
     "en"
    ]
   },
   "source": [
    "## Function `.split()`\n",
    "\n",
    "This function splits a string into a list at the specified separator and returns a list of substrings. By default, the separator is the space \" \". Example :"
   ]
  },
  {
   "cell_type": "code",
   "execution_count": null,
   "metadata": {
    "tags": [
     "fr"
    ]
   },
   "outputs": [],
   "source": [
    "encore_une_string = \"Bonjour, je suis une phrase. Donc je suis composé de plusieurs mots, logique, non ?\"\n",
    "encore_une_string.split()"
   ]
  },
  {
   "cell_type": "code",
   "execution_count": null,
   "metadata": {
    "tags": [
     "en"
    ]
   },
   "outputs": [],
   "source": [
    "a_string = \"Hello, I am a sentence. So I'm made up of several words, logical, right?\"\n",
    "a_string.split()"
   ]
  },
  {
   "cell_type": "markdown",
   "metadata": {
    "tags": [
     "fr"
    ]
   },
   "source": [
    "Mais on pourrait choisir comme séparateur la virgule par exemple :"
   ]
  },
  {
   "cell_type": "markdown",
   "metadata": {
    "tags": [
     "en"
    ]
   },
   "source": [
    "But we could use the comma as separator:"
   ]
  },
  {
   "cell_type": "code",
   "execution_count": null,
   "metadata": {
    "tags": [
     "fr"
    ]
   },
   "outputs": [],
   "source": [
    "encore_une_string = \"bonjour, je suis une phrase. Donc je suis composé de plusieurs mots, logique, non ?\"\n",
    "encore_une_string.split(\",\")"
   ]
  },
  {
   "cell_type": "code",
   "execution_count": null,
   "metadata": {
    "tags": [
     "en"
    ]
   },
   "outputs": [],
   "source": [
    "a_string = \"Hello, I am a sentence. So I'm made up of several words, logical, right?\"\n",
    "a_string.split(\",\")"
   ]
  },
  {
   "cell_type": "markdown",
   "metadata": {
    "tags": [
     "fr"
    ]
   },
   "source": [
    "## Exercice (moyen)\n",
    "\n",
    "A partir de la phrase stockée dans la variable \"texte\", affichez chacun des mots mais modifiez-les pour qu'ils commencent tous par une majuscule.\n",
    "\n",
    "**ASTUCES**:\n",
    "\n",
    "- N'oubliez pas les principes de la concaténation, des *slices* et de `.split()` !\n",
    "- Pour rappel : la méthode pour mettre des caractères en majuscule est `.upper()`."
   ]
  },
  {
   "cell_type": "markdown",
   "metadata": {
    "tags": [
     "en"
    ]
   },
   "source": [
    "## Exercise (medium)\n",
    "\n",
    "From the sentence stored in the \"text\" variable, display each of the words but change them so that they all start with a capital letter.\n",
    "\n",
    "**TIPS**:\n",
    "\n",
    "- Don't forget the principles of concatenation, *slices* and `.split()`!\n",
    "- As a reminder: the method for capitalizing characters is `.upper()`."
   ]
  },
  {
   "cell_type": "code",
   "execution_count": null,
   "metadata": {
    "tags": [
     "fr"
    ]
   },
   "outputs": [],
   "source": [
    "texte = \"\"\"\n",
    "Python est un langage qui peut s'utiliser dans de nombreux contextes\n",
    "et s'adapter à tout type d'utilisation grâce à des bibliothèques spécialisées.\n",
    "\"\"\"\n",
    "\n",
    "# Tapez votre code ici :"
   ]
  },
  {
   "cell_type": "code",
   "execution_count": null,
   "metadata": {
    "tags": [
     "en"
    ]
   },
   "outputs": [],
   "source": [
    "text = \"\"\"\n",
    "Python is a language that can be used in many contexts\n",
    "and can be adapted to any type of use thanks to specialised libraries.\n",
    "\"\"\"\n",
    "\n",
    "# Code here!"
   ]
  },
  {
   "cell_type": "code",
   "execution_count": null,
   "metadata": {
    "tags": [
     "solution",
     "fr"
    ]
   },
   "outputs": [],
   "source": [
    "# Solution\n",
    "\n",
    "texte = \"\"\"\n",
    "Python est un langage qui peut s'utiliser dans de nombreux contextes\n",
    "et s'adapter à tout type d'utilisation grâce à des bibliothèques spécialisées.\n",
    "\"\"\"\n",
    "\n",
    "for mot in texte.split(): print(mot[0].upper() + mot[1:])\n",
    "\n",
    "# for mot in texte.split(): print(mot.capitalize())"
   ]
  },
  {
   "cell_type": "code",
   "execution_count": null,
   "metadata": {
    "tags": [
     "en",
     "solution"
    ]
   },
   "outputs": [],
   "source": [
    "# Solution\n",
    "\n",
    "text = \"\"\"\n",
    "Python is a language that can be used in many contexts\n",
    "and can be adapted to any type of use thanks to specialised libraries.\n",
    "\"\"\"\n",
    "\n",
    "for word in text.split(): print(word[0].upper() + word[1:])\n",
    "\n",
    "# for word in text.split(): print(word.capitalize())"
   ]
  },
  {
   "cell_type": "markdown",
   "metadata": {
    "tags": [
     "fr"
    ]
   },
   "source": [
    "## La méthode `.replace()`\n",
    "\n",
    "Si l'on veut remplacer un ou plusieurs caractères dans une string, on peut utiliser une méthode très pratique : `.replace()`\n",
    "\n",
    "```python\n",
    "string.replace(old, new, count)\n",
    "```\n",
    "\n",
    "Où :\n",
    "- **old** : ancienne substring que vous voulez remplacer.\n",
    "- **new** : nouvelle substring que vous voulez substituer à l'ancienne.\n",
    "- **count** : le nombre de fois que vous voulez remplacer l'ancienne substring avec la nouvelle (optionnel).\n",
    "\n",
    "Par exemple :"
   ]
  },
  {
   "cell_type": "markdown",
   "metadata": {
    "tags": [
     "en"
    ]
   },
   "source": [
    "## The `.replace()` method\n",
    "\n",
    "If you want to replace one or more characters in a string (*substring*), you can use a very handy method: `.replace()`.\n",
    "\n",
    "```python\n",
    "string.replace(original, new, count)\n",
    "```\n",
    "\n",
    "Where:\n",
    "- **old**: the original substring you want to replace.\n",
    "- **new** : the new substring.\n",
    "- **count** : the number of times you want to replace the original substring with the new one (optional).\n",
    "\n",
    "For example :"
   ]
  },
  {
   "cell_type": "code",
   "execution_count": null,
   "metadata": {
    "tags": [
     "fr"
    ]
   },
   "outputs": [],
   "source": [
    "texte = \"S@lut, ç@ va ?\"\n",
    "print(\"Le texte avant :\", texte)\n",
    "\n",
    "texte = texte.replace('@', 'a')\n",
    "print(\"Le texte après :\", texte)"
   ]
  },
  {
   "cell_type": "code",
   "execution_count": null,
   "metadata": {
    "tags": [
     "en"
    ]
   },
   "outputs": [],
   "source": [
    "text = \"Hell@, h@w you d@ing?\"\n",
    "print(f\"Text before: {text}\")\n",
    "\n",
    "text = text.replace('@', 'o')\n",
    "print(f\"Text after: {text}\")"
   ]
  },
  {
   "cell_type": "markdown",
   "metadata": {
    "tags": [
     "fr"
    ]
   },
   "source": [
    "## Exercice (facile/moyen)\n",
    "\n",
    "On veut modifier la liste suivante afin de visualiser clairement les prénoms, noms et les fournisseurs de messagerie électronique sous la forme suivante :\n",
    "\n",
    "```python\n",
    "\"prénom nom - Messagerie : name.ext\"\n",
    "```\n",
    "Par exemple pour l'adresse :\n",
    "```python\n",
    "\"jeanne.chose@no-log.org\"\n",
    "```\n",
    "on veut le résultat suivant :\n",
    "```python\n",
    "\"jeanne chose - Messagerie : no-log.org\"\n",
    "```\n",
    "\n",
    "**ASTUCES:**\n",
    "\n",
    "- Attention ! On ne veut supprimer **que le premier point, pas le deuxième !**\n",
    "- On peut appliquer une méthode à la suite d'une autre méthode, par exemple une succession de `.replace()` sur une string."
   ]
  },
  {
   "cell_type": "markdown",
   "metadata": {
    "tags": [
     "en"
    ]
   },
   "source": [
    "## Exercise (easy/medium)\n",
    "\n",
    "We want to modify the following list to clearly display the first names, surnames and email providers in the following form:\n",
    "\n",
    "```python\n",
    "\"firstname lastname - Mailbox provider: name.ext\"\n",
    "```\n",
    "For example for the address:\n",
    "```python\n",
    "\"jeanne.chose@no-log.org\"\n",
    "```\n",
    "we want the following result:\n",
    "```python\n",
    "\"jeanne chose - Mailbox provider: no-log.org\"\n",
    "```\n",
    "\n",
    "**TIPS:**\n",
    "\n",
    "- Be careful! You only want to delete **the first point, not the second!**\n",
    "- You can apply a method after another method, for example a succession of `.replace()` on a string."
   ]
  },
  {
   "cell_type": "code",
   "execution_count": null,
   "metadata": {
    "tags": []
   },
   "outputs": [],
   "source": [
    "emails = [\"jean.truc@aol.com\", \"herve.bidule@wanadoo.fr\", \"emilie.machin@caramail.com\"]\n",
    "\n",
    "# Code here!\n"
   ]
  },
  {
   "cell_type": "code",
   "execution_count": null,
   "metadata": {
    "tags": [
     "solution"
    ]
   },
   "outputs": [],
   "source": [
    "# Solution\n",
    "\n",
    "emails = [\"jean.truc@aol.com\", \"herve.bidule@wanadoo.fr\", \"emilie.machin@caramail.com\"]\n",
    "\n",
    "# With a comprehensive list\n",
    "[el.replace('.', ' ', 1).replace('@',' - Messagerie : ') for el in emails]\n",
    "\n",
    "# With a for loop\n",
    "l = []\n",
    "for el in emails:\n",
    "    l.append(el.replace('.', ' ', 1).replace('@',' - Messagerie : '))\n",
    "\n",
    "print(l)"
   ]
  },
  {
   "cell_type": "markdown",
   "metadata": {
    "tags": [
     "fr"
    ]
   },
   "source": [
    "# Pour aller plus loin"
   ]
  },
  {
   "cell_type": "markdown",
   "metadata": {
    "tags": [
     "fr"
    ]
   },
   "source": [
    "## Utilisation de `step` dans un slice\n",
    "\n",
    "On peut également ajouter, tout comme la fonction `range()`, la notion de `step`, de pas ou d'incrément. Par exemple en ajoutant un 2 à la fin, on signifie à python qu'on ne veut sélectionner qu'un caractère sur deux."
   ]
  },
  {
   "cell_type": "code",
   "execution_count": null,
   "metadata": {
    "tags": [
     "fr"
    ]
   },
   "outputs": [],
   "source": [
    "ma_chaine = \"Hello World !!!\"\n",
    "\n",
    "print(ma_chaine[0:-1:1])\n",
    "print(ma_chaine[::2])"
   ]
  },
  {
   "cell_type": "markdown",
   "metadata": {
    "tags": [
     "fr"
    ]
   },
   "source": [
    "## La méthode `.count()`\n",
    "\n",
    "Pour ne pas faire une boucle, on peut utiliser la méthode `.count()` afin de compter le nombre d'occurences d'un caractère dans une string. Notez que la **casse**, le fait que les mots commencent par une majuscule ou une minuscule, est importante. En effet en programmation un \"H\" n'est pas égal à un \"h\".\n",
    "\n",
    "Par exemple :"
   ]
  },
  {
   "cell_type": "code",
   "execution_count": null,
   "metadata": {
    "tags": [
     "fr"
    ]
   },
   "outputs": [],
   "source": [
    "ma_chaine = \"Hello World ! Hello, dear old world.\"\n",
    "\n",
    "print(\"Nombre de 'Hello':\", ma_chaine.count(\"Hello\"))\n",
    "print(\"Nombre de 'hello':\", ma_chaine.count(\"hello\"))\n",
    "print(\"Nombre de 'World':\", ma_chaine.count(\"World\"))\n",
    "print(\"Nombre de 'world':\", ma_chaine.count(\"world\"))"
   ]
  },
  {
   "cell_type": "markdown",
   "metadata": {
    "tags": [
     "fr"
    ]
   },
   "source": [
    "## L'ASCII\n",
    "\n",
    "Si vous vous souvenez de l'introduction, vous savez que tout caractère est rattaché à un nombre qui le définit. Pour le trouver on peut utiliser la fonction `ord()`. Pour faire le chemin inverse et afficher le caractère correspondant à un chiffre, on peut utiliser la fonction `chr()`."
   ]
  },
  {
   "cell_type": "code",
   "execution_count": null,
   "metadata": {
    "tags": [
     "fr"
    ]
   },
   "outputs": [],
   "source": [
    "print(\"Code ASCII de 'h':\", ord('h'))\n",
    "print(\"Code ASCII de 'H':\", ord('H'))\n",
    "print(\"Code ASCII de ' ':\", ord(' '))\n",
    "print(\"Code ASCII de '@':\", ord('@'))"
   ]
  },
  {
   "cell_type": "markdown",
   "metadata": {
    "tags": [
     "fr"
    ]
   },
   "source": [
    "**NOTE**: Les puristes pourront trouver le nombre en hexadécimal avec la fonction `hex()`"
   ]
  },
  {
   "cell_type": "code",
   "execution_count": null,
   "metadata": {
    "tags": [
     "fr"
    ]
   },
   "outputs": [],
   "source": [
    "print(\"Code ASCII en hexadécimal de 'h':\", hex((ord('h'))))\n",
    "print(\"Code ASCII en hexadécimal de 'H':\", hex((ord('H'))))"
   ]
  },
  {
   "cell_type": "markdown",
   "metadata": {
    "tags": [
     "fr"
    ]
   },
   "source": [
    "## Au sujet des intervalles \"semi-ouverts\"\n",
    "\n",
    "Voici une citation attribuée à Guido Van Rossum :\n",
    "\n",
    ">[...] I was swayed by the elegance of half-open intervals. Especially the invariant that when two slices are adjacent, the first slice's end index is the second slice's start index is just too beautiful to ignore. For example, suppose you split a string into three parts at indices i and j -- the parts would be a[:i], a[i:j], and a[j:].\n",
    "\n",
    ">[...] J'étais attiré par l'élégance des intervalles semi-ouverts. Surtout par le fait que quand deux *slices* sont adjacentes, la fin du l'index du premier *slice* est aussi le début de l'index du second ; difficile d'ignorer quelque chose d'aussi beau. Par exemple, si vous divisez une chaîne de caractères en trois parties en partant des indices i et j, les trois parties s'écriront ainsi : a[:i], a[i:j], et a[j:].\n",
    "\n",
    "(Traduction de votre serviteur)\n",
    "\n",
    "Source : un commentaire utilisé sur google+, qui n'existe désormais plus, mais qu'on peut retrouver sur ce post sur [stackoverflow](https://stackoverflow.com/questions/21481585/python-range-slicing-and-indexing-behavior)"
   ]
  }
 ],
 "metadata": {
  "kernelspec": {
   "display_name": "Python 3 (ipykernel)",
   "language": "python",
   "name": "python3"
  },
  "language_info": {
   "codemirror_mode": {
    "name": "ipython",
    "version": 3
   },
   "file_extension": ".py",
   "mimetype": "text/x-python",
   "name": "python",
   "nbconvert_exporter": "python",
   "pygments_lexer": "ipython3",
   "version": "3.10.9"
  }
 },
 "nbformat": 4,
 "nbformat_minor": 4
}
