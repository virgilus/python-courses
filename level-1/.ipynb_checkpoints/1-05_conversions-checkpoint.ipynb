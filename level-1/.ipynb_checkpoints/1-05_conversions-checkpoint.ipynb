{
 "cells": [
  {
   "cell_type": "markdown",
   "metadata": {},
   "source": [
    "# CONVERSION"
   ]
  },
  {
   "cell_type": "markdown",
   "metadata": {
    "tags": [
     "fr"
    ]
   },
   "source": [
    "# Définition\n",
    "\n",
    "Jusqu'à présent nous avons vu que les variables pouvaient être de différents types : `int`, `str` ou `float` par exemple. Mais parfois nous avons besoin de convertir un type de variable vers un autre.\n",
    "\n",
    "Pour ce faire on peut utiliser les fonctions suivantes :  `int()`, `str()` ou `float()`.\n",
    "\n",
    "## Les fonctions de conversion\n",
    "\n",
    "### La fonction `int()`\n",
    "\n",
    "La fonction `int()`, à ne pas confondre avec le type `int`, permet de convertir une chaîne de caractère en un nombre entier. Si la conversion réussit, le programme continue de s'exécuter. Dans le cas contraire, il renvoie une erreur et s'arrête. N'hésitez pas à tester par vous-même ces possibilités.\n",
    "\n",
    "#### Conversion d'une string vers un integer\n",
    "\n",
    "Si tous les caractères de la string sont des nombres, alors la conversion peut s'effectuer sans erreur."
   ]
  },
  {
   "cell_type": "markdown",
   "metadata": {
    "tags": [
     "en"
    ]
   },
   "source": [
    "# Definition\n",
    "\n",
    "So far we have seen that variables can be of different types: `int`, `str` or `float` for example. But sometimes we need to convert one type of variable to another.\n",
    "\n",
    "To do this we can use the following functions: `int()`, `str()` or `float()`.\n",
    "\n",
    "## The conversion functions\n",
    "\n",
    "### Function `int()`\n",
    "\n",
    "The `int()` function, not to be confused with the `int` type, converts a string to an integer. If the conversion succeeds, the program continues to run. If not, it returns an error and stops. Feel free to test these possibilities yourself.\n",
    "\n",
    "#### Converting a string to an integer\n",
    "\n",
    "If all characters in the string are numbers, then the conversion can be performed without error."
   ]
  },
  {
   "cell_type": "code",
   "execution_count": null,
   "metadata": {},
   "outputs": [],
   "source": [
    "a = \"12\"\n",
    "print(a)\n",
    "print(type(a))\n",
    "\n",
    "a = int(a)\n",
    "print(a)\n",
    "print(type(a))"
   ]
  },
  {
   "cell_type": "markdown",
   "metadata": {
    "tags": [
     "fr"
    ]
   },
   "source": [
    "#### Conversion d'un float vers un integer\n",
    "\n",
    "Dans ce cas présent la conversion ne prend que la partie entière du nombre, elle ne l'arrondit pas ! Si on voulait l'arrondir il faudrait utiliser la fonction `round()`."
   ]
  },
  {
   "cell_type": "markdown",
   "metadata": {
    "tags": [
     "en"
    ]
   },
   "source": [
    "#### Converting a float to an integer\n",
    "\n",
    "In this case the conversion only takes the integer part of the number, it does not round it! If you wanted to round it, you would have to use the `round()` function."
   ]
  },
  {
   "cell_type": "code",
   "execution_count": null,
   "metadata": {},
   "outputs": [],
   "source": [
    "a = 12.99999\n",
    "print(a)\n",
    "print(type(a))\n",
    "\n",
    "a = int(a)\n",
    "print(a)\n",
    "print(type(a))"
   ]
  },
  {
   "cell_type": "markdown",
   "metadata": {
    "tags": [
     "fr"
    ]
   },
   "source": [
    "### Conversion d'un float ou d'un integer vers une string\n",
    "\n",
    "Dans ce cas présent la conversion prend chaque chiffre individuellement et le convertit en caractère."
   ]
  },
  {
   "cell_type": "markdown",
   "metadata": {
    "tags": [
     "en"
    ]
   },
   "source": [
    "### Converting a float or integer to a string\n",
    "\n",
    "In this case the conversion takes each number individually and converts it to a character."
   ]
  },
  {
   "cell_type": "code",
   "execution_count": null,
   "metadata": {},
   "outputs": [],
   "source": [
    "a = 12.99999\n",
    "print(a)\n",
    "print(type(a))\n",
    "\n",
    "a = str(a)\n",
    "print(a)\n",
    "print(type(a))"
   ]
  },
  {
   "cell_type": "markdown",
   "metadata": {
    "tags": [
     "fr"
    ]
   },
   "source": [
    "## Exercice (facile)\n",
    "\n",
    "A partit de la chaîne de caractère suivante (qui ne contient que des chiffres), convertissez-la en un entier, puis en un float, puis à nouveau vers une chaîne de caractère. Que constatez-vous ?\n",
    "\n",
    "**Astuce**\n",
    "\n",
    "- Vous pouvez le faire en une ligne en imbriquant les conversions entre elles."
   ]
  },
  {
   "cell_type": "markdown",
   "metadata": {
    "tags": [
     "en"
    ]
   },
   "source": [
    "## Exercise (easy)\n",
    "\n",
    "From the following string, which contains only digits, convert it to an integer, then to a float, then back to a string. Did you expect that final output?\n",
    "\n",
    "**Tip\n",
    "\n",
    "- You can do this in one line by nesting the conversions together."
   ]
  },
  {
   "cell_type": "code",
   "execution_count": null,
   "metadata": {},
   "outputs": [],
   "source": [
    "s = \"256\"\n",
    "\n",
    "# Code here!\n",
    "\n"
   ]
  },
  {
   "cell_type": "code",
   "execution_count": null,
   "metadata": {
    "tags": [
     "solution"
    ]
   },
   "outputs": [],
   "source": [
    "#solution\n",
    "\n",
    "s = \"256\"\n",
    "str(float(int(\"123\")))"
   ]
  },
  {
   "cell_type": "markdown",
   "metadata": {
    "tags": [
     "fr"
    ]
   },
   "source": [
    "## La fonction de saisie `input()`\n",
    "\n",
    "Elle permet d'afficher un champ pour que l'utilisateur entre un texte.\n",
    "\n",
    "En utilisant `input()` la variable récupérée est de type `str`. Si on veut effectuer des calculs avec cette variable il faut la convertir dans un autre format numérique en utilisant la fonction `int()` par exemple."
   ]
  },
  {
   "cell_type": "markdown",
   "metadata": {
    "tags": [
     "en"
    ]
   },
   "source": [
    "## The function `input()`.\n",
    "\n",
    "This displays a field so the user can enter a text.\n",
    "\n",
    "When using `input()` the variable retrieved is of type `str`. If you want to perform calculations with this variable you have to convert it to another numeric format using the `int()` function for example."
   ]
  },
  {
   "cell_type": "code",
   "execution_count": null,
   "metadata": {
    "tags": [
     "fr"
    ]
   },
   "outputs": [],
   "source": [
    "nom = input(\"Quel est votre nom ?\")\n",
    "print(f\"Bonjour {nom} ! 'Nom' est de type: {type(nom)}\")\n",
    "\n",
    "age = input(\"Et quel est votre âge ?\")\n",
    "print(f\"{age} ? Le bel âge ! 'age' est de type: {type(age)}\")"
   ]
  },
  {
   "cell_type": "code",
   "execution_count": null,
   "metadata": {
    "tags": [
     "en"
    ]
   },
   "outputs": [],
   "source": [
    "name = input(\"What's your name?\")\n",
    "print(f\"Hello {name} ! The type of the variable 'name' is: {type(name)}\")\n",
    "\n",
    "age = input(\"How old are you?\")\n",
    "print(f\"{age} ? Nice! The type of the variable 'age' is: {type(age)}\")"
   ]
  },
  {
   "cell_type": "markdown",
   "metadata": {
    "tags": [
     "fr"
    ]
   },
   "source": [
    "Remarquez que, bien que vous avez rentré un nombre à la seconde question, cette variable est une *string*. Si vous avez rentré \"22\", il s'agit donc bien du texte \"22\" et non pas du nombre 22."
   ]
  },
  {
   "cell_type": "markdown",
   "metadata": {
    "tags": [
     "en"
    ]
   },
   "source": [
    "Note that although you entered a number in the second question, this variable is a *string*. So if you entered \"22\", it is the text \"22\" and not the number 22."
   ]
  },
  {
   "cell_type": "markdown",
   "metadata": {
    "tags": [
     "fr"
    ]
   },
   "source": [
    "## Exercice (facile)\n",
    "\n",
    "Utiliser input pour vous demander à l'utilisateur quelle est sa votre couleur préférée. Si la réponse donnée par l'utilisateur est le rouge (ou une autre couleur de votre choix), indiquez-lui qu'il a gagné ! Sinon indiquez-lui qu'il a perdu."
   ]
  },
  {
   "cell_type": "markdown",
   "metadata": {
    "tags": [
     "en"
    ]
   },
   "source": [
    "## Exercise (easy)\n",
    "\n",
    "Use input to ask the user what their favourite colour is. If the user's answer is red (or another colour of your choice), tell them they've won! If not, tell them they lost."
   ]
  },
  {
   "cell_type": "code",
   "execution_count": null,
   "metadata": {},
   "outputs": [],
   "source": [
    "# Code here!\n",
    "\n"
   ]
  },
  {
   "cell_type": "code",
   "execution_count": null,
   "metadata": {
    "tags": [
     "solution",
     "fr"
    ]
   },
   "outputs": [],
   "source": [
    "#Solution\n",
    "\n",
    "if input(\"Quelle est votre couleur préférée ?\") == \"rouge\":\n",
    "    print(\"Gagné !\")"
   ]
  },
  {
   "cell_type": "code",
   "execution_count": null,
   "metadata": {
    "tags": [
     "en",
     "solution"
    ]
   },
   "outputs": [],
   "source": [
    "#Solution\n",
    "\n",
    "if input(\"What's four favourite colour?\") == \"red\":\n",
    "    print(\"You won!\")"
   ]
  },
  {
   "cell_type": "markdown",
   "metadata": {
    "tags": [
     "fr"
    ]
   },
   "source": [
    "## La méthode `.isdigit()`\n",
    "\n",
    "### Une \"méthode\" ?\n",
    "\n",
    "Une `string` est un type de donnée, mais comme c'est aussi un objet appartenant à une \"classe\", c'est-à-dire à un objet spécial de Python. La plupart des classes possèdent des \"méthodes\", c'est-à-dire des fonctions qui sont propres à l'objet.\n",
    "\n",
    "Pour appeler une **méthode** on écrit le nom de l'objet, puis on ajoute un point et le nom de la méthode.\n",
    "\n",
    "Exemple :"
   ]
  },
  {
   "cell_type": "markdown",
   "metadata": {
    "tags": [
     "en"
    ]
   },
   "source": [
    "## The `.isdigit()` method\n",
    "\n",
    "### A \"method\"?\n",
    "\n",
    "A `string` is a data type, but as it is also an object belonging to a `class`, that is, a special object in Python. Most classes have \"methods\", i.e. functions which are specific to the object.\n",
    "\n",
    "To call a **method** you write the name of the object, then add a dot and the name of the method.\n",
    "\n",
    "Example :"
   ]
  },
  {
   "cell_type": "code",
   "execution_count": null,
   "metadata": {},
   "outputs": [],
   "source": [
    "s = \"1649\"\n",
    "s.isdigit()"
   ]
  },
  {
   "cell_type": "markdown",
   "metadata": {
    "tags": [
     "fr"
    ]
   },
   "source": [
    "La méthode `.isdigit()` renvoie `True` si une chaîne de caractère **n'est pas nulle et ne contient que des chiffres**.\n",
    "Elle renvoie `False` si ce n'est pas le cas.\n",
    "\n",
    "Cette fonction est une **méthode** car elle est propre aux objets de type *string*. "
   ]
  },
  {
   "cell_type": "markdown",
   "metadata": {
    "tags": [
     "en"
    ]
   },
   "source": [
    "The `.isdigit()` method returns `True` if a string is **non-null and contains only numbers**.\n",
    "Otherwise it returns `False`.\n",
    "\n",
    "This function is a **method** because it is specific to objects of type *string*. "
   ]
  },
  {
   "cell_type": "code",
   "execution_count": null,
   "metadata": {},
   "outputs": [],
   "source": [
    "s = \"1649hello\"\n",
    "s.isdigit()"
   ]
  },
  {
   "cell_type": "markdown",
   "metadata": {
    "tags": [
     "fr"
    ]
   },
   "source": [
    "### Effectuer des tests avec ``.isdigit()``\n",
    "\n",
    "Pour vérifier si une string ne contient que des nombres, on peut effectuer un test avec `if`.\n",
    "\n",
    "**ASTUCE** : Lorsqu'une fonction, une méthode ou une expression retourne `True`, il n'est pas nécessaire d'écrire `== True`, cela est implicite. Par exemple :"
   ]
  },
  {
   "cell_type": "markdown",
   "metadata": {
    "tags": [
     "en"
    ]
   },
   "source": [
    "### Performing tests with ``.isdigit()``\n",
    "\n",
    "To check if a string contains only numbers, you can test with `if`.\n",
    "\n",
    "**ASTUCE** : When a function, method or expression returns a `bool`, it is not necessary to write `== True`. For example:"
   ]
  },
  {
   "cell_type": "code",
   "execution_count": null,
   "metadata": {
    "tags": [
     "fr"
    ]
   },
   "outputs": [],
   "source": [
    "s = \"99\"\n",
    "\n",
    "if s.isdigit() == True:\n",
    "    print(\"Oui, cette chaîne ne contient que des chiffres.\")"
   ]
  },
  {
   "cell_type": "code",
   "execution_count": null,
   "metadata": {
    "tags": [
     "en"
    ]
   },
   "outputs": [],
   "source": [
    "s = \"99\"\n",
    "\n",
    "if s.isdigit() == True:\n",
    "    print(\"This string contains only digits.\")"
   ]
  },
  {
   "cell_type": "markdown",
   "metadata": {
    "tags": [
     "fr"
    ]
   },
   "source": [
    " Revient au même que ceci :"
   ]
  },
  {
   "cell_type": "markdown",
   "metadata": {
    "tags": [
     "en"
    ]
   },
   "source": [
    "Is the same thing than this code:"
   ]
  },
  {
   "cell_type": "code",
   "execution_count": null,
   "metadata": {
    "tags": [
     "fr"
    ]
   },
   "outputs": [],
   "source": [
    "s = \"99\"\n",
    "\n",
    "if s.isdigit():\n",
    "    print(\"Oui, cette chaîne ne contient que des chiffres.\")"
   ]
  },
  {
   "cell_type": "code",
   "execution_count": null,
   "metadata": {
    "tags": [
     "en"
    ]
   },
   "outputs": [],
   "source": [
    "s = \"99\"\n",
    "\n",
    "if s.isdigit():\n",
    "    print(\"This string contains only digits.\")"
   ]
  },
  {
   "cell_type": "markdown",
   "metadata": {
    "tags": [
     "fr"
    ]
   },
   "source": [
    "# Exercice (facile / moyen)\n",
    "\n",
    "Ecrivez un programme qui permet d'acheter des courges sur le marché : elles valent 4,5€ l'unité. Cependant le maraîcher ne dispose au total que de 25 courges, il ne peut donc pas en vendre au-delà.\n",
    "\n",
    "Pour cela procédez ainsi :\n",
    "\n",
    "- Utilisez la fonction `input()` pour demander à l'utilisateur, le client, combien de courges celui-ci désire.\n",
    "- Vérifiez que le chiffre est bien un entier en utilisant la méthode `.isdigit()`. Si c'est le cas, convertissez-le en un entier.\n",
    "- Effectuez des tests pour vérifier que ce nombre n'est pas égal à 0, et n'est pas non plus supérieur au stock maximum.\n",
    "- Finalement, calculez le prix total que le client devra payer.\n",
    "\n",
    "Prévoyez un message d'erreur différent dans les cas suivants :\n",
    "\n",
    "- L'utilisateur n'a pas entré un nombre valide.\n",
    "- L'utilisateur a rentré un nombre égal à 0.\n",
    "- L'utilisateur demande davantage de courges que le stock maximal.\n",
    "\n",
    "**Astuces**:\n",
    "\n",
    "- Il vous faudra utiliser plusieurs niveaux d'indentation (tests \"imbriqués\").\n",
    "- Si la variable entrée est bien un nombre entier, n'oubliez-pas de la convertir avec `int()` pour pouvoir effectuer des opérations dessus !\n",
    "- Testez ensuite tous les cas de figure pour vérifiez que le code fonctionne correctement.\n",
    "- Essayez de n'écrire que le strict minimum de code nécessaire.\n",
    "- Utilisez des noms de variable courts et clairs."
   ]
  },
  {
   "cell_type": "markdown",
   "metadata": {
    "tags": [
     "en"
    ]
   },
   "source": [
    "# Exercise (easy / medium)\n",
    "\n",
    "Write a program that allows you to buy marrow on the market: they are worth 4.5€ each. However, the market gardener only has a total of 25 marrows, so he cannot sell more.\n",
    "\n",
    "To do this, proceed as follows:\n",
    "\n",
    "- Use the function `input()` to ask the user, the customer, how many marrows he wants.\n",
    "- Check that the number is an integer by using the `.isdigit()` method. If it is, convert it to an integer.\n",
    "- Test to make sure that this number is not 0, nor is it greater than the maximum stock.\n",
    "- Finally, calculate the total price the customer will have to pay.\n",
    "\n",
    "Provide a different error message in the following cases:\n",
    "\n",
    "- The user did not enter a valid number.\n",
    "- The user has entered a number equal to 0.\n",
    "- The user requests more marrows than the maximum stock.\n",
    "\n",
    "**Tips**:\n",
    "\n",
    "- You will need to use multiple levels of indentation (\"nested\" tests).\n",
    "- If the input variable is an integer, don't forget to convert it with `int()` to be able to perform operations on it!\n",
    "- Then test all the cases to make sure the code works correctly.\n",
    "- Try to write only the bare minimum of code necessary.\n",
    "- Use short and clear variable names."
   ]
  },
  {
   "cell_type": "code",
   "execution_count": null,
   "metadata": {},
   "outputs": [],
   "source": [
    "# Code here!\n"
   ]
  },
  {
   "cell_type": "code",
   "execution_count": null,
   "metadata": {
    "tags": [
     "fr",
     "solution"
    ]
   },
   "outputs": [],
   "source": [
    "#Solution\n",
    "\n",
    "prix = 4.5\n",
    "stock_max = 25\n",
    "\n",
    "quantite = input(\"Bonjour, combien désirez-vous de courges ?\")\n",
    "\n",
    "if quantite.isdigit():\n",
    "    \n",
    "    quantite = int(quantite)\n",
    "    \n",
    "    if quantite < 1: print(\"Dites-moi un nombre au moins égal à 1 !\") \n",
    "    elif quantite > 25: print(\"Désolé, nous n'avons pas assez de stock !\")\n",
    "    else:  print(\"Très bien, cela fera\", quantite * prix, \"€! Bon appétit \")\n",
    "\n",
    "else: print(\"Désolé, mais\", quantite, \"n'est pas un nombre valide !\")"
   ]
  },
  {
   "cell_type": "code",
   "execution_count": null,
   "metadata": {
    "tags": [
     "en",
     "solution"
    ]
   },
   "outputs": [],
   "source": [
    "#Solution\n",
    "\n",
    "price = 4.5\n",
    "stock_max = 25\n",
    "\n",
    "qty = input(\"Hi, how many marrows do you want?\")\n",
    "\n",
    "if qty.isdigit():\n",
    "    \n",
    "    qty = int(qty)\n",
    "    \n",
    "    if qty < 1: print(\"Number must be at least 1!\") \n",
    "    elif qty > 25: print(\"Sorry, we don't have enough marrows.\")\n",
    "    else:  print(f\"Wery well it'll be {qty * price}€! Bon appétit!\")\n",
    "\n",
    "else: print(f\"I beg your pardon but {qty} isn't a valid number!\")"
   ]
  },
  {
   "cell_type": "markdown",
   "metadata": {
    "tags": [
     "fr"
    ]
   },
   "source": [
    "# Exercice (moyen)\n",
    "\n",
    "Reprenez le même exercice que précédemment, mais il y a désormais une promotion sur les courges, à partir de la troisième l'unité supplémentaire est à moitié prix. (Si vous en achetez 5, vous en aurez donc 3 au prix normal et 2 avec une réduction de moitié.)"
   ]
  },
  {
   "cell_type": "markdown",
   "metadata": {
    "tags": [
     "en"
    ]
   },
   "source": [
    "# Exercise (medium)\n",
    "\n",
    "Repeat the same exercise as before, but there is now a promotion on marrow, starting from the third unit every extra unit is half price. (If you buy 5, you will get 3 at normal price and 2 at half price)."
   ]
  },
  {
   "cell_type": "code",
   "execution_count": null,
   "metadata": {},
   "outputs": [],
   "source": [
    "# Code here!\n"
   ]
  },
  {
   "cell_type": "code",
   "execution_count": null,
   "metadata": {
    "tags": [
     "fr",
     "solution"
    ]
   },
   "outputs": [],
   "source": [
    "prix = 4.5\n",
    "stock_max = 25\n",
    "\n",
    "quantite = input(\"Bonjour, combien désirez-vous de courges ?\")\n",
    "\n",
    "if quantite.isdigit():\n",
    "    \n",
    "    quantite = int(quantite)\n",
    "    \n",
    "    if quantite < 1: print(\"Dites-moi un nombre au moins égal à 1 !\") \n",
    "    elif quantite > 25: print(\"Désolé, nous n'avons pas assez de stock !\")\n",
    "    else:\n",
    "        if quantite < 3: total = quantite * prix\n",
    "        else: total = (3 * prix) + (quantite - 3) * (prix / 2)\n",
    "        print(\"Très bien, cela fera\", total,\"! Bon appétit \")\n",
    "\n",
    "else: print(\"Désolé, mais\", quantite, \"n'est pas un nombre valide !\")"
   ]
  },
  {
   "cell_type": "code",
   "execution_count": null,
   "metadata": {
    "tags": [
     "en",
     "solution"
    ]
   },
   "outputs": [],
   "source": [
    "#Solution\n",
    "\n",
    "price = 4.5\n",
    "stock_max = 25\n",
    "\n",
    "qty = input(\"Hi, how many marrows do you want? ?\")\n",
    "\n",
    "if qty.isdigit():\n",
    "    \n",
    "    qty = int(qty)\n",
    "    \n",
    "    if qty < 1: print(\"Number must be at least 1!\") \n",
    "    elif qty > 25: print(\"Sorry, we don't have enough marrows.\")\n",
    "    else:\n",
    "        if qty < 3: total = qty * price\n",
    "        else: total = (3 * price) + (qty - 3) * (price / 2)\n",
    "        print(f\"Wery well it'll be {qty * price}€! Bon appétit!\")\n",
    "\n",
    "else: print(f\"I beg your pardon but {qty} isn't a valid number!\")"
   ]
  }
 ],
 "metadata": {
  "kernelspec": {
   "display_name": "Python 3 (ipykernel)",
   "language": "python",
   "name": "python3"
  },
  "language_info": {
   "codemirror_mode": {
    "name": "ipython",
    "version": 3
   },
   "file_extension": ".py",
   "mimetype": "text/x-python",
   "name": "python",
   "nbconvert_exporter": "python",
   "pygments_lexer": "ipython3",
   "version": "3.10.9"
  }
 },
 "nbformat": 4,
 "nbformat_minor": 4
}
