{
 "cells": [
  {
   "cell_type": "markdown",
   "id": "e092b9bf",
   "metadata": {
    "tags": [
     "fr"
    ]
   },
   "source": [
    "# Syntaxe Compréhensive\n",
    "\n",
    "La syntaxe compréhensive est une syntaxe propre à certains langages de programmation qui vient du monde des mathématiques et qui, au lieu de décrire des éléments un par un, décrit plutôt les propriétés qu'ont en commun ces différents éléments.\n",
    "\n",
    "En Python, on peut considérer cela comme une formule qui permet de générer des éléments au lieu de les écrire tous un par un.\n",
    "\n",
    "Cette syntaxe peut s'appliquer sur différents objets (listes, sets et dictionnaires) et est très utilisée, notamment pour filtrer facilement des itérables.\n",
    "\n",
    "Même si cette manière d'écrire est concise, élégante et offre de meilleures performances car elle fait appel à des fonctions codées en bas niveau, il n'est pourtant pas recommandé de les utiliser partout où c'est possible. En effet si l'opération à effecteur est complexe mieux vaut utiliser une boucle `for` qui prendra un peu plus de place dans le code mais sera aussi plus facile à créer, à tester, à débugger et à comprendre par un autre programmeur."
   ]
  },
  {
   "cell_type": "markdown",
   "id": "5eabec60-fd5c-40d4-ab6b-b9dff9f97c3b",
   "metadata": {
    "tags": [
     "en"
    ]
   },
   "source": [
    "# Comprehension Syntax\n",
    "\n",
    "Comprehension syntax is a syntax specific to some programming languages that comes from the world of mathematics and which, instead of describing elements one by one, describes the properties that these different elements have in common.\n",
    "\n",
    "In Python, this can be thought of as a formula that allows us to generate elements instead of writing them all one by one.\n",
    "\n",
    "This syntax can be applied to different objects (lists, sets and dictionaries) and is widely used, for example to easily filter iterables.\n",
    "\n",
    "Even if this way of writing is short and elegant, it is not recommended to use it each time we need to generate a list, a dictionary or a set. Indeed, if the operation to be performed is complex, it's probably best to use a `for` loop which will take up a little more space in the code but will also be easier to create, test, debug and understand by another programmer."
   ]
  },
  {
   "cell_type": "markdown",
   "id": "b53fc5f6",
   "metadata": {
    "tags": [
     "fr"
    ]
   },
   "source": [
    "# Les listes compréhensives\n",
    "\n",
    "## Définition\n",
    "\n",
    "Les listes compréhensives sont donc des sortes de \"formules magiques\" qui vont créer des listes. En général on part d'un objet itérable d'après lequel on veut créer une liste (ce peut donc être une autre liste, mais aussi un dictionnaire ou n'importe quel autre objet itérable).\n",
    "\n",
    "Pour créer une liste compréhensive on ouvre les crochets comme si on voulait créer une liste mais au lieu d'énumérer les différents éléments qui la composent on utilise la syntaxe suivante :\n",
    "\n",
    "```python\n",
    "[expression for element in iterable]\n",
    "```\n",
    "Ici :\n",
    "\n",
    "- La variable **expression** est le résultat que l'on veut obtenir.\n",
    "- La variable **élément** est le nom que l'on va donner à chaque élément sur lequel on itère.\n",
    "- La variable **itérable** est le nom de l'objet sur lequel on va pouvoir itérer.\n",
    "\n",
    "On pourrait donc l'écrire ainsi :\n",
    "\n",
    "```python\n",
    "[ce_que_l_on_veut_obtenir for variable_contenant_successivement_chaque_element in objet_iterable]\n",
    "```\n",
    "\n",
    "Pour commencer de manière très simple, créeons une liste compréhensive qui va générer une copie d'une autre liste :"
   ]
  },
  {
   "cell_type": "markdown",
   "id": "82fc579c",
   "metadata": {
    "tags": [
     "en"
    ]
   },
   "source": [
    "# List Comprehension\n",
    "\n",
    "## Definition\n",
    "\n",
    "List Comprehension are a kind of \"magic formula\" that will create lists. In general, we start with an iterable object from which we want to create a list (it can be another list, but also a dictionary or any other iterable object).\n",
    "\n",
    "To create a comprehensive list we open the brackets as if we wanted to create a list, but instead of enumerating the different elements that make it up, we use the following syntax:\n",
    "\n",
    "```python\n",
    "[expression for element in iterable]\n",
    "```\n",
    "Here:\n",
    "\n",
    "- The variable **expression** is the result we want to get.\n",
    "- The **element** variable is the name we will give to each element we iterate on.\n",
    "- The **iterable** variable is the name of the object on which we can iterate.\n",
    "\n",
    "So you could write it like this:\n",
    "\n",
    "```python\n",
    "[what_we_want_to_get for variable_containing_successively_each_element in object_iterable]\n",
    "```\n",
    "\n",
    "To begin in a very simple way, let's just create a comprehension list that will generate a copy of another list:"
   ]
  },
  {
   "cell_type": "code",
   "execution_count": 1,
   "id": "01c523ed",
   "metadata": {
    "tags": []
   },
   "outputs": [
    {
     "data": {
      "text/plain": [
       "[2, 6, 8, 5, 7, 9, 1, 2, 3, 6]"
      ]
     },
     "execution_count": 1,
     "metadata": {},
     "output_type": "execute_result"
    }
   ],
   "source": [
    "seq = [2, 6, 8, 5, 7, 9, 1, 2, 3, 6]\n",
    "\n",
    "[n for n in seq]"
   ]
  },
  {
   "cell_type": "markdown",
   "id": "fc4ae9a4",
   "metadata": {
    "tags": [
     "fr"
    ]
   },
   "source": [
    "Maintenant imaginons que nous voulions générer une nouvelle liste contenant les carrés de chacun de ces chiffres, on va alors modifier l'expression que l'on cherche à obtenir :"
   ]
  },
  {
   "cell_type": "markdown",
   "id": "151e7bc5-c259-49b5-b29c-d14c5900d713",
   "metadata": {
    "tags": [
     "en"
    ]
   },
   "source": [
    "Now let's imagine that we want to generate a new list containing the squares of each of these numbers, we will then modify the expression we are trying to obtain:"
   ]
  },
  {
   "cell_type": "code",
   "execution_count": 2,
   "id": "6112c0d7",
   "metadata": {
    "tags": []
   },
   "outputs": [
    {
     "data": {
      "text/plain": [
       "[4, 36, 64, 25, 49, 81, 1, 4, 9, 36]"
      ]
     },
     "execution_count": 2,
     "metadata": {},
     "output_type": "execute_result"
    }
   ],
   "source": [
    "seq = [2, 6, 8, 5, 7, 9, 1, 2, 3, 6]\n",
    "\n",
    "[n ** 2 for n in seq]"
   ]
  },
  {
   "cell_type": "markdown",
   "id": "ee4f39f7",
   "metadata": {
    "tags": [
     "fr"
    ]
   },
   "source": [
    "Notez qu'on aurait pu l'écrire avec une boucle `for` ainsi, mais c'est plus long :"
   ]
  },
  {
   "cell_type": "markdown",
   "id": "a1497c86-2628-4b52-8454-59aca7713308",
   "metadata": {
    "tags": [
     "en"
    ]
   },
   "source": [
    "Note that we could use a `for` loop as well, but it'd take more time to write:"
   ]
  },
  {
   "cell_type": "code",
   "execution_count": 3,
   "id": "d4f768c1",
   "metadata": {
    "tags": []
   },
   "outputs": [
    {
     "name": "stdout",
     "output_type": "stream",
     "text": [
      "[4, 36, 64, 25, 49, 81, 1, 4, 9, 36]\n"
     ]
    }
   ],
   "source": [
    "seq = [2, 6, 8, 5, 7, 9, 1, 2, 3, 6]\n",
    "\n",
    "new_list = []\n",
    "\n",
    "for n in seq:\n",
    "    new_list.append(n ** 2)\n",
    "\n",
    "print(new_list)"
   ]
  },
  {
   "cell_type": "markdown",
   "id": "7623a3f1",
   "metadata": {
    "tags": [
     "fr"
    ]
   },
   "source": [
    "### Exercice (facile)\n",
    "\n",
    "A partir de la liste suivante, générez une nouvelle liste à l'aide de la syntaxe compréhensive qui triple chaque caractère. Par exemple La lettre \"c\" deviendra \"ccc\" dans la nouvelle liste.\n",
    "\n",
    "**Astuce**\n",
    "\n",
    "- Rappelez-vous, en python il est possible de multiplier des strings par des entiers."
   ]
  },
  {
   "cell_type": "markdown",
   "id": "c370b5ea-7db7-4843-81d9-116efd7141ef",
   "metadata": {
    "tags": [
     "en"
    ]
   },
   "source": [
    "### Exercise (easy)\n",
    "\n",
    "From the following list, generate a new list using the comprehensive syntax that triples each character. For example The letter \"c\" will become \"ccc\" in the new list.\n",
    "\n",
    "**Tip**:\n",
    "\n",
    "- Remember, in python it is possible to multiply strings by integers."
   ]
  },
  {
   "cell_type": "code",
   "execution_count": 4,
   "id": "f9ac133c",
   "metadata": {
    "tags": []
   },
   "outputs": [],
   "source": [
    "seq = [\"a\", \"c\", \"d\", \"f\", \"g\", \"z\", \"e\", \"i\"]\n",
    "\n",
    "# Code here!"
   ]
  },
  {
   "cell_type": "code",
   "execution_count": 5,
   "id": "711a2b3d-a3d1-4031-921f-6ceab9c697ed",
   "metadata": {
    "tags": [
     "solution"
    ]
   },
   "outputs": [
    {
     "data": {
      "text/plain": [
       "['aaa', 'ccc', 'ddd', 'fff', 'ggg', 'zzz', 'eee', 'iii']"
      ]
     },
     "execution_count": 5,
     "metadata": {},
     "output_type": "execute_result"
    }
   ],
   "source": [
    "# Solution\n",
    "\n",
    "seq = [\"a\", \"c\", \"d\", \"f\", \"g\", \"z\", \"e\", \"i\"]\n",
    "\n",
    "[el * 3 for el in seq]"
   ]
  },
  {
   "cell_type": "markdown",
   "id": "0adfc4fc",
   "metadata": {
    "tags": [
     "fr"
    ]
   },
   "source": [
    "## Filtrer avec des listes compréhensives et `if`\n",
    "\n",
    "Les listes compréhensives permettent de facilement filtrer, c'est-à-dire choisir les éléments qu'on va traiter (et ceux qu'on ne traitera pas).\n",
    "\n",
    "Pour cela on ajoute tout simplement un `if` à la fin de la syntaxe.\n",
    "\n",
    "```python\n",
    "[el for el in iterable if cond]\n",
    "```\n",
    "Autrement dit, on veut \"el\" si la condition est satisfaite, où \"el\" est l'élément qui sera ajouté dans notre liste. Sinon l'élément ne sera pas traité.\n",
    "\n",
    "On pourrait aussi l'écrire de cette manière :\n",
    "\n",
    "```python\n",
    "[ce_que_l_on_veut_obtenir for variable_contenant_successivement_chaque_element in objet_iterable if notre_condition_est_vraie]\n",
    "```\n",
    "\n",
    "Reprenons le dernier exemple et imaginons que nous ne voulions tripler les lettres uniquement dans le cas où celles-ci sont des voyelles :"
   ]
  },
  {
   "cell_type": "markdown",
   "id": "1da135af-9cd7-4c3b-95ba-0fdcb51fbdc5",
   "metadata": {
    "tags": [
     "en"
    ]
   },
   "source": [
    "## Filtering with list comphrension and `if`\n",
    "\n",
    "Lists allow you to easily filter, i.e. to choose the elements that you will process (and those that you will not process).\n",
    "\n",
    "To do this, you simply add an `if` at the end of the syntax.\n",
    "\n",
    "```python\n",
    "[el for el in iterable if cond]\n",
    "```\n",
    "In other words, we want \"el\" if the condition is met, where \"el\" is the element that will be added to our list. Otherwise the element will not be processed.\n",
    "\n",
    "We could also write it this way:\n",
    "\n",
    "```python\n",
    "[what_we_want_to_get for variable_containing_successively_each_element in object_iterable if our_condition_is_true]\n",
    "```\n",
    "\n",
    "Let's go back to the last example and imagine that we only want to triple the letters in the case that they are vowels:"
   ]
  },
  {
   "cell_type": "code",
   "execution_count": 6,
   "id": "ac5709bc",
   "metadata": {
    "tags": []
   },
   "outputs": [
    {
     "data": {
      "text/plain": [
       "['aaa', 'eee', 'iii']"
      ]
     },
     "execution_count": 6,
     "metadata": {},
     "output_type": "execute_result"
    }
   ],
   "source": [
    "seq = [\"a\", \"c\", \"d\", \"f\", \"g\", \"z\", \"e\", \"i\"]\n",
    "\n",
    "[el * 3 for el in seq if el in [\"a\", \"e\", \"i\", \"o\", \"u\", \"y\"]]"
   ]
  },
  {
   "cell_type": "markdown",
   "id": "4a8d9378",
   "metadata": {
    "tags": [
     "fr"
    ]
   },
   "source": [
    "## Exercice (facile)\n",
    "\n",
    "Ecrivez une liste compréhensive qui retourne le carré des nombres suivants uniquement si ils sont strictement plus grands que 5."
   ]
  },
  {
   "cell_type": "markdown",
   "id": "f6479d69-1791-4fce-9ce0-9d24dba5f36c",
   "metadata": {
    "tags": [
     "en"
    ]
   },
   "source": [
    "## Exercise (easy)\n",
    "\n",
    "Write a comprehensive list that returns the square of the following numbers only if they are strictly greater than 5."
   ]
  },
  {
   "cell_type": "code",
   "execution_count": 7,
   "id": "31b2c6d8",
   "metadata": {
    "tags": []
   },
   "outputs": [],
   "source": [
    "seq = [2, 6, 8, 5, 7, 9, 1, 2, 3, 6]\n",
    "\n",
    "# code here!\n"
   ]
  },
  {
   "cell_type": "code",
   "execution_count": 8,
   "id": "ccce161d-78d8-4408-890b-b6f82d07adf6",
   "metadata": {
    "tags": [
     "solution"
    ]
   },
   "outputs": [
    {
     "data": {
      "text/plain": [
       "[36, 64, 49, 81, 36]"
      ]
     },
     "execution_count": 8,
     "metadata": {},
     "output_type": "execute_result"
    }
   ],
   "source": [
    "# Solution\n",
    "\n",
    "seq = [2, 6, 8, 5, 7, 9, 1, 2, 3, 6]\n",
    "\n",
    "[n ** 2 for n in seq if n > 5]"
   ]
  },
  {
   "cell_type": "markdown",
   "id": "22264751",
   "metadata": {
    "tags": [
     "fr"
    ]
   },
   "source": [
    "## `if` et `else` dans une liste compréhensive\n",
    "\n",
    "Parfois on souhaite appliquer différentes transformations aux éléments en fonction de leur nature. Dans ce cas là on peut ajouter des `if` et des `else` dans la première partie de l'expression afin de leur faire subir un traitement différencié.\n",
    "\n",
    "```python\n",
    "[expression_1 if condition else expression_2 for element in iterable]\n",
    "```\n",
    "Par exemple imaginons qu'on veut avoir les carrés des nombres 2, 4 et 6 et le cube des autres nombres."
   ]
  },
  {
   "cell_type": "markdown",
   "id": "aa71926b-7f4c-4c07-81ab-c0c8dde405f2",
   "metadata": {
    "tags": [
     "en"
    ]
   },
   "source": [
    "## `if` and `else` in a list comprehension\n",
    "\n",
    "Sometimes we want to apply different transformations to elements depending on their nature. In this case you can add `if` and `else` in the first part of the expression.\n",
    "\n",
    "```python\n",
    "[expression_1 if condition else expression_2 for element in iterable]\n",
    "```\n",
    "For example, let's say we want to get the squares of the numbers 2, 4 and 6 and the cube of the other numbers."
   ]
  },
  {
   "cell_type": "code",
   "execution_count": 9,
   "id": "9737d35c",
   "metadata": {
    "tags": []
   },
   "outputs": [
    {
     "data": {
      "text/plain": [
       "[4, 36, 512, 125, 343, 729, 1, 4, 27, 36]"
      ]
     },
     "execution_count": 9,
     "metadata": {},
     "output_type": "execute_result"
    }
   ],
   "source": [
    "seq = [2, 6, 8, 5, 7, 9, 1, 2, 3, 6]\n",
    "\n",
    "[n ** 2 if n in [2, 4, 6] else n ** 3 for n in seq]"
   ]
  },
  {
   "cell_type": "markdown",
   "id": "a1dd2047",
   "metadata": {
    "tags": [
     "fr"
    ]
   },
   "source": [
    "Notez que l'on peut cumuler l'utilisation d'expressions conditionnelles (`if` et `else`) avec l'utilisation d'un `if` à la fin de l'expression qui lui filtrera en amont les éléments :"
   ]
  },
  {
   "cell_type": "markdown",
   "id": "fb541b58-695c-41bd-b546-e1db0ac8c441",
   "metadata": {
    "tags": [
     "en"
    ]
   },
   "source": [
    "Note that the use of conditional expressions (`if` and `else`) can be combined with the use of an `if` at the end of the expression which will filter out the upstream elements:"
   ]
  },
  {
   "cell_type": "code",
   "execution_count": 10,
   "id": "9dab9666",
   "metadata": {
    "tags": []
   },
   "outputs": [
    {
     "data": {
      "text/plain": [
       "[36, 512, 343, 729, 36]"
      ]
     },
     "execution_count": 10,
     "metadata": {},
     "output_type": "execute_result"
    }
   ],
   "source": [
    "seq = [2, 6, 8, 5, 7, 9, 1, 2, 3, 6]\n",
    "\n",
    "[n ** 2 if n in [2, 4, 6] else n ** 3 for n in seq if n > 5]"
   ]
  },
  {
   "cell_type": "markdown",
   "id": "3007a7b9",
   "metadata": {
    "tags": [
     "fr"
    ]
   },
   "source": [
    "## Exercice (facile / moyen)\n",
    "\n",
    "Générez une nouvelle liste à partir de la liste \"fruits\" grâce à la syntaxe compréhensive. La nouvelle liste aura pour caractéristiques :\n",
    "\n",
    "- La première lettre de chacun des mots devra être une majuscule.\n",
    "- Les éléments \"banane\" seront remplacés par \"Gorille\".\n",
    "- Les éléments \"mangue\" doivent être retirés de la liste."
   ]
  },
  {
   "cell_type": "markdown",
   "id": "5e1712c8-e666-4da2-96fa-ce4a3c075ce6",
   "metadata": {
    "tags": [
     "en"
    ]
   },
   "source": [
    "## Exercise (easy / medium)\n",
    "\n",
    "Generate a new list from the \"fruits\" list using the comprehensive syntax. The new list will have the following characteristics:\n",
    "\n",
    "- The first letter of each word must be a capital letter.\n",
    "- The items \"banana\" will be replaced by \"Gorilla\".\n",
    "- The items \"mango\" should be removed from the list."
   ]
  },
  {
   "cell_type": "code",
   "execution_count": 11,
   "id": "5562113d",
   "metadata": {
    "tags": [
     "fr"
    ]
   },
   "outputs": [],
   "source": [
    "fruits = [\"mangue\", \"banane\", \"kiwi\", \"orange\",\n",
    "         \"banane\", \"banane\", \"banane\", \"banane\",\n",
    "         \"mangue\", \"mangue\", \"banane\", \"mangue\", \"banane\",\n",
    "         \"ananas\", \"mangue\", \"banane\", \"ananas\"]\n",
    "\n",
    "# Code here!"
   ]
  },
  {
   "cell_type": "code",
   "execution_count": 12,
   "id": "ebc3b67b-598d-4f32-b5e8-7e78bfe03270",
   "metadata": {
    "tags": [
     "en"
    ]
   },
   "outputs": [],
   "source": [
    "fruits = [\"mango\", \"banana\", \"kiwi\", \"orange\",\n",
    "         \"banana\", \"banana\", \"banana\", \"banane\",\n",
    "         \"mango\", \"mango\", \"banana\", \"mango\", \"banana\",\n",
    "         \"pineapple\", \"mango\", \"banana\", \"pineapple\"]\n",
    "\n",
    "# Code here!"
   ]
  },
  {
   "cell_type": "code",
   "execution_count": 13,
   "id": "3236abda-e6d3-48d3-8ad9-a83b837d550e",
   "metadata": {
    "tags": [
     "fr",
     "solution"
    ]
   },
   "outputs": [
    {
     "data": {
      "text/plain": [
       "['Gorille',\n",
       " 'Kiwi',\n",
       " 'Orange',\n",
       " 'Gorille',\n",
       " 'Gorille',\n",
       " 'Gorille',\n",
       " 'Gorille',\n",
       " 'Gorille',\n",
       " 'Gorille',\n",
       " 'Ananas']"
      ]
     },
     "execution_count": 13,
     "metadata": {},
     "output_type": "execute_result"
    }
   ],
   "source": [
    "# Solution\n",
    "\n",
    "fruits = [\"mangue\", \"banane\", \"kiwi\", \"orange\",\n",
    "         \"banane\", \"banane\", \"banane\", \"banane\",\n",
    "         \"mangue\", \"mangue\", \"banane\", \"mangue\", \"banane\",\n",
    "         \"ananas\"]\n",
    "\n",
    "[\"Gorille\" if el == \"banane\" else el[0].upper() + el[1:] for el in fruits if el != \"mangue\"]"
   ]
  },
  {
   "cell_type": "code",
   "execution_count": 14,
   "id": "3845bb70-3ee2-4bff-80c9-3d040bb04fa8",
   "metadata": {
    "tags": [
     "solution",
     "en"
    ]
   },
   "outputs": [
    {
     "data": {
      "text/plain": [
       "['Gorilla',\n",
       " 'Kiwi',\n",
       " 'Orange',\n",
       " 'Gorilla',\n",
       " 'Gorilla',\n",
       " 'Gorilla',\n",
       " 'Banane',\n",
       " 'Gorilla',\n",
       " 'Gorilla',\n",
       " 'Pineapple',\n",
       " 'Gorilla',\n",
       " 'Pineapple']"
      ]
     },
     "execution_count": 14,
     "metadata": {},
     "output_type": "execute_result"
    }
   ],
   "source": [
    "# Solution\n",
    "\n",
    "fruits = [\"mango\", \"banana\", \"kiwi\", \"orange\",\n",
    "         \"banana\", \"banana\", \"banana\", \"banane\",\n",
    "         \"mango\", \"mango\", \"banana\", \"mango\", \"banana\",\n",
    "         \"pineapple\", \"mango\", \"banana\", \"pineapple\"]\n",
    "\n",
    "[\"Gorilla\" if el == \"banana\" else el[0].upper() + el[1:] for el in fruits if el != \"mango\"]"
   ]
  },
  {
   "cell_type": "markdown",
   "id": "db46b09e",
   "metadata": {
    "tags": [
     "fr"
    ]
   },
   "source": [
    "# Dictionnaires compréhensifs\n",
    "\n",
    "## Définition\n",
    "\n",
    "Les dictionnaires compréhensifs se comportent de la même manière que les listes compréhensives, à la différence que l'on doit leur donner deux expressions à retourner : la clé et la valeur. La syntaxe est donc légèrement différente. Voyons cela :\n",
    "\n",
    "```python\n",
    "{k: v for k, v in iterable}\n",
    "```\n",
    "Ici :\n",
    "\n",
    "- La variable **k** (*key*) désigne la variable qui sera utilisée comme clé.\n",
    "- La variable **v** (*value*) est la valeur associée à cette clé.\n",
    "- La variable **itérable** est le nom de l'objet sur lequel on va pouvoir itérer, il faut donc que cet itérable contienne des couples de valeurs.\n",
    "\n",
    "Commençons simplement en créant une copie d'un dictionnaire, dans ce cas-là il faut itérer sur celui-ci à l'aide de la méthode `.items()` afin qu'à chaque itération un couple clé valeur soit retourné."
   ]
  },
  {
   "cell_type": "markdown",
   "id": "5dcc796d-0b02-4f3b-87ad-735d9072227f",
   "metadata": {
    "tags": [
     "en"
    ]
   },
   "source": [
    "# Dictionary comprehension\n",
    "\n",
    "## Definition\n",
    "\n",
    "Dictionary comprehension behave in the same way as list comprehension, except that they must be given two expressions to return: the key and the value. The syntax is therefore slightly different:\n",
    "\n",
    "```python\n",
    "{k: v for k, v in iterable}\n",
    "```\n",
    "Here:\n",
    "\n",
    "- The variable **k** (*key*) is the variable that will be used as the key.\n",
    "- The variable **v** (*value*) is the value associated with this key.\n",
    "- The **iterable** variable is the name of the object that we will be able to iterate on, so this iterable must contain pairs of values.\n",
    "\n",
    "Let's start simply by creating a copy of a dictionary, in this case we must iterate on it using the `.items()` method so that at each iteration a key-value pair is returned."
   ]
  },
  {
   "cell_type": "code",
   "execution_count": 15,
   "id": "58a75397",
   "metadata": {
    "tags": []
   },
   "outputs": [
    {
     "data": {
      "text/plain": [
       "{'kiwis': 3, 'melons': 12, 'oranges': 7}"
      ]
     },
     "execution_count": 15,
     "metadata": {},
     "output_type": "execute_result"
    }
   ],
   "source": [
    "my_dict = {\"kiwis\": 3,\n",
    "           \"melons\": 12,\n",
    "           \"oranges\": 7}\n",
    "\n",
    "{k: v for k, v in my_dict.items()}"
   ]
  },
  {
   "cell_type": "markdown",
   "id": "fae7173d",
   "metadata": {
    "tags": [
     "fr"
    ]
   },
   "source": [
    "Désormais multiplions les quantités par 5."
   ]
  },
  {
   "cell_type": "markdown",
   "id": "8f5dc83c-4570-4982-aac3-1b657fe14e52",
   "metadata": {
    "tags": [
     "en"
    ]
   },
   "source": [
    "Now let's multiply the quantities by 5."
   ]
  },
  {
   "cell_type": "code",
   "execution_count": 16,
   "id": "5596a3a7",
   "metadata": {
    "tags": []
   },
   "outputs": [
    {
     "data": {
      "text/plain": [
       "{'kiwis': 15, 'melons': 60, 'oranges': 35}"
      ]
     },
     "execution_count": 16,
     "metadata": {},
     "output_type": "execute_result"
    }
   ],
   "source": [
    "my_dict = {\"kiwis\": 3,\n",
    "           \"melons\": 12,\n",
    "           \"oranges\": 7}\n",
    "\n",
    "{k: v * 5 for k, v in my_dict.items()}"
   ]
  },
  {
   "cell_type": "markdown",
   "id": "a405c518",
   "metadata": {
    "tags": [
     "fr"
    ]
   },
   "source": [
    "Et passons les clés en majuscules."
   ]
  },
  {
   "cell_type": "markdown",
   "id": "46271906-5ad4-45c6-949e-0d750961eb97",
   "metadata": {
    "tags": [
     "en"
    ]
   },
   "source": [
    "And let's capitalise the keys."
   ]
  },
  {
   "cell_type": "code",
   "execution_count": 17,
   "id": "f5dbb948",
   "metadata": {
    "tags": [
     "fr"
    ]
   },
   "outputs": [
    {
     "data": {
      "text/plain": [
       "{'KIWIS': 15, 'MELONS': 60, 'ORANGES': 35}"
      ]
     },
     "execution_count": 17,
     "metadata": {},
     "output_type": "execute_result"
    }
   ],
   "source": [
    "my_dict = {\"kiwis\": 3,\n",
    "           \"melons\": 12,\n",
    "           \"oranges\": 7}\n",
    "\n",
    "{k.upper(): v * 5 for k, v in my_dict.items()}"
   ]
  },
  {
   "cell_type": "markdown",
   "id": "d955bb23",
   "metadata": {
    "tags": [
     "fr"
    ]
   },
   "source": [
    "## Générer un dictionnaire à partir de listes\n",
    "\n",
    "Imaginons que nous ayons deux listes, et que nous voulions que l'une devienne une clé et l'autre la valeur. Nous pouvons alors utiliser la fonction `zip()` qui va faire correspondre chaque élément d'une liste à l'autre afin que nous puissions itérer sur les deux listes simultanément !\n",
    "\n",
    "Créons un objet de type `zip` et itérons dessus pour observer son comportement :"
   ]
  },
  {
   "cell_type": "markdown",
   "id": "abbf9c70-8093-4bdd-9c2f-e62fbb24ec72",
   "metadata": {
    "tags": [
     "en"
    ]
   },
   "source": [
    "## Generating a dictionary from lists\n",
    "\n",
    "Let's pretend we have two lists, we want the first one to become a key and the second to become the value. We can then use the `zip()` function which will map each element of one list to the other so that we can iterate over both lists simultaneously!\n",
    "\n",
    "Let's create an object of type `zip` and iterate over it to see how it behaves:"
   ]
  },
  {
   "cell_type": "code",
   "execution_count": 18,
   "id": "5e1e1436",
   "metadata": {
    "tags": []
   },
   "outputs": [
    {
     "name": "stdout",
     "output_type": "stream",
     "text": [
      "('kiwis', 3)\n",
      "('melons', 12)\n",
      "('oranges', 7)\n"
     ]
    }
   ],
   "source": [
    "l1 = [\"kiwis\", \"melons\", \"oranges\"]\n",
    "l2 = [3, 12, 7]\n",
    "\n",
    "for el in zip(l1, l2): print(el)"
   ]
  },
  {
   "cell_type": "markdown",
   "id": "02428891",
   "metadata": {
    "tags": [
     "fr"
    ]
   },
   "source": [
    "On constate que le fait de \"zipper\" les listes entre elles a donc créé un objet spécial de type \"zip\" qui permet de parcourir les deux listes à la fois. Celui-ci renvoie un \"tuple\" (une liste non modifiable) à chaque itération. Maintenant générons notre dictionnaire à l'aide de la syntaxe compréhensive :"
   ]
  },
  {
   "cell_type": "markdown",
   "id": "ccdaac0b-332d-4ac6-8df6-afae27f207ee",
   "metadata": {
    "tags": [
     "en"
    ]
   },
   "source": [
    "Zipping the lists together has created a special \"zip\" object that allows us to iterate over both lists at once. This returns a \"tuple\" at each iteration. Now let's generate our dictionary using the comprehensive syntax :"
   ]
  },
  {
   "cell_type": "code",
   "execution_count": 19,
   "id": "e210cbd4",
   "metadata": {
    "tags": []
   },
   "outputs": [
    {
     "data": {
      "text/plain": [
       "{'kiwis': 3, 'melons': 12, 'oranges': 7}"
      ]
     },
     "execution_count": 19,
     "metadata": {},
     "output_type": "execute_result"
    }
   ],
   "source": [
    "l1 = [\"kiwis\", \"melons\", \"oranges\"]\n",
    "l2 = [3, 12, 7]\n",
    "\n",
    "{k: v for k, v in zip(l1, l2)}"
   ]
  },
  {
   "cell_type": "markdown",
   "id": "c891b97e",
   "metadata": {
    "tags": [
     "fr"
    ]
   },
   "source": [
    "Bien évidemment les structures conditionnelles (`if` et `else`) s'appliquent de la même manière que les listes compréhensives. Vérifiez ceci en effectuant l'exercice suivant :"
   ]
  },
  {
   "cell_type": "markdown",
   "id": "bea457fe-d442-48ae-bc88-33dc4d3c5ae7",
   "metadata": {
    "tags": [
     "en"
    ]
   },
   "source": [
    "Conditional structures (`if` and `else`) apply in the same way as in list comprehension."
   ]
  },
  {
   "cell_type": "markdown",
   "id": "3545b063",
   "metadata": {
    "tags": [
     "fr"
    ]
   },
   "source": [
    "# Exercice (moyen)\n",
    "\n",
    "Créer un dictionnaire à partir des deux listes suivantes. Celle contenant les noms des produits alimentaires sera la clé, l'autre sera celle des valeurs. Faites en sorte que les contraintes suivantes soient respectées :\n",
    "- Les clés commençant par la lettre \"c\" et \"b\" (quelque soit leur casse) ne devront pas être prises en compte.\n",
    "- La première lettre de chaque clé du dictionnaire doit commencer par une majuscule.\n",
    "- Si la valeur est égale à 0, remplacez-la par \"out of stock\".\n",
    "\n",
    "**ASTUCES**\n",
    "\n",
    "- Utilisez `.upper()`afin de gérer la casse.\n",
    "- Vous souvenez-vous de l'utilisation des *slices* ?"
   ]
  },
  {
   "cell_type": "markdown",
   "id": "3bdaa226-65be-40b9-83f7-6bbfc8566704",
   "metadata": {
    "tags": [
     "en"
    ]
   },
   "source": [
    "# Exercise (medium)\n",
    "\n",
    "Create a dictionary from the following two lists. The one containing the names of the differents types of food will be the key, the other will be the values. Make sure that the following constraints are met:\n",
    "\n",
    "- Keys beginning with the letter \"c\" and \"b\" (regardless of their case) should be ignored.\n",
    "- The first letter of each key in the dictionary must start with a capital letter.\n",
    "- If the value is 0, replace it with \"out of stock\".\n",
    "\n",
    "**ASTUCES**\n",
    "\n",
    "- Use `.upper()` to deal with the letter case.\n",
    "- Do you remember the use of *slices*?"
   ]
  },
  {
   "cell_type": "code",
   "execution_count": 20,
   "id": "1b4d3ed6",
   "metadata": {
    "tags": []
   },
   "outputs": [],
   "source": [
    "food = [\"Courgettes\", \"quiche\", \"aubergines\", \"croissant\", \"Baguette\", \"kiwi\", \"melon\", \"oranges\", \"brioche\"]\n",
    "stock = [1, 0, 2, 16, 46, 0, 1, 4, 5]\n",
    "\n",
    "# Code here!\n"
   ]
  },
  {
   "cell_type": "code",
   "execution_count": 21,
   "id": "ef4f9bc6-873b-4731-93b6-e9204ab8a898",
   "metadata": {
    "tags": [
     "solution"
    ]
   },
   "outputs": [
    {
     "data": {
      "text/plain": [
       "{'Quiche': 'stock épuisé',\n",
       " 'Aubergines': 2,\n",
       " 'Kiwi': 'stock épuisé',\n",
       " 'Melon': 1,\n",
       " 'Oranges': 4}"
      ]
     },
     "execution_count": 21,
     "metadata": {},
     "output_type": "execute_result"
    }
   ],
   "source": [
    "## Solution\n",
    "\n",
    "food = [\"Courgettes\", \"quiche\", \"aubergines\", \"croissant\", \"Baguette\", \"kiwi\", \"melon\", \"oranges\", \"brioche\"]\n",
    "stock = [1, 0, 2, 16, 46, 0, 1, 4, 5]\n",
    "\n",
    "{k[0].upper() + k[1:] : v if v != 0 else \"stock épuisé\"\n",
    " for k, v in zip(food, stock)\n",
    " if k[0].lower() not in [\"c\", \"b\"]}"
   ]
  },
  {
   "cell_type": "markdown",
   "id": "18dd4dd8-d319-4594-a8c1-431378d2890e",
   "metadata": {
    "tags": [
     "fr"
    ]
   },
   "source": [
    "# Pour aller plus loin"
   ]
  },
  {
   "cell_type": "markdown",
   "id": "47dbae47-13e6-4329-b33e-a108f1024c17",
   "metadata": {
    "tags": [
     "fr"
    ]
   },
   "source": [
    "## Exercice (moyen)\n",
    "\n",
    "Ecrivez une liste compréhensive qui itérera sur la liste nommez \"Filtrez-moi\" et appliquera les modifications suivantes :\n",
    "- Ne prendra pas en compte les strings égales ou plus grandes que 14 caractères.\n",
    "- Ne prendra pas en compte les integer dont le carré est strictement plus petit que 40.\n",
    "- Passera en majuscules les strings.\n",
    "- Retournera le cube des nombres.\n",
    "\n",
    "**Précision sur les tests de type**\n",
    "\n",
    "Pour tester le type d'un élément, on pourrait bien sûr écrire quelque chose comme :\n",
    "```python\n",
    "if type(\"Hello World !\") == str: print(\"C'est une string !\")\n",
    "```\n",
    "Mais il est préférable d'utiliser la fonction `isinstance()` qui a été conçue pour réaliser ce type de tests et qui est plus robuste. Sa syntaxe est : `isinstance(el, type)`. Ex:\n",
    "\n",
    "```python\n",
    "if isinstance(\"Hello World !\", str): print(\"C'est une string !\")\n",
    "```\n",
    "\n",
    "**ASTUCES**:\n",
    "\n",
    "- Vous vous souvenez des `and` et des `or` ?\n",
    "- Et de `.upper()` et `len()` ?\n",
    "- Attention à ne pas utiliser des opérations numériques sur des strings ou des méthodes réservées aux strings sur des nombres, dans ce cas-là python renverra une erreur. Pour éviter cela vérifiez le type de l'élément avec `isinstance()`.\n",
    "- La réponse tient en une seule ligne de code, mais comme celle-ci est un peu longue sachez que vous pouvez tout à fait écrire des listes compréhensives sur plusieurs lignes."
   ]
  },
  {
   "cell_type": "code",
   "execution_count": 22,
   "id": "998ed3fc",
   "metadata": {
    "tags": [
     "fr"
    ]
   },
   "outputs": [],
   "source": [
    "filtrez_moi = [\"topinambour\", 5, \"patate\", 9, 7, 5, 1, 3, 5, 7, \"tomates anciennes\", 5, 12, 11]\n",
    "\n",
    "# Tapez le code ici:\n"
   ]
  },
  {
   "cell_type": "code",
   "execution_count": 23,
   "id": "5943fbc7-cfe9-44ce-8242-cce608e0fd30",
   "metadata": {
    "tags": [
     "fr",
     "solution"
    ]
   },
   "outputs": [
    {
     "data": {
      "text/plain": [
       "['TOPINAMBOUR', 'PATATE', 729, 343, 343, 1728, 1331]"
      ]
     },
     "execution_count": 23,
     "metadata": {},
     "output_type": "execute_result"
    }
   ],
   "source": [
    "# Solution\n",
    "\n",
    "filtrez_moi = [\"topinambour\", 5, \"patate\", 9, 7, 5, 1, 3, 5, 7, \"tomates anciennes\", 5, 12, 11]\n",
    "\n",
    "[el.upper() if (isinstance(el, str)) else el ** 3 for el in filtrez_moi\n",
    "if (isinstance(el, str) and len(el) < 14) or\n",
    "   (isinstance(el, int) and el ** 2 > 40)]"
   ]
  }
 ],
 "metadata": {
  "kernelspec": {
   "display_name": "Python 3 (ipykernel)",
   "language": "python",
   "name": "python3"
  },
  "language_info": {
   "codemirror_mode": {
    "name": "ipython",
    "version": 3
   },
   "file_extension": ".py",
   "mimetype": "text/x-python",
   "name": "python",
   "nbconvert_exporter": "python",
   "pygments_lexer": "ipython3",
   "version": "3.10.9"
  }
 },
 "nbformat": 4,
 "nbformat_minor": 5
}
