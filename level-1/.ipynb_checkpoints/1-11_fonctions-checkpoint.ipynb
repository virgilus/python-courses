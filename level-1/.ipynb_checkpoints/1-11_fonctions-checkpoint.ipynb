{
 "cells": [
  {
   "cell_type": "markdown",
   "metadata": {
    "tags": [
     "fr"
    ]
   },
   "source": [
    "# LES FONCTIONS\n",
    "\n",
    "Nous avons déjà utilisé de grands nombres de fonctions jusqu'à présent. Cependant en programmation il est courant de créer ses propres fonctions qui seront ainsi parfaitement adaptées à nos besoins. Python permet de faire cela très facilement en quelques lignes seulement !\n",
    "\n",
    "## Syntaxe\n",
    "\n",
    "Pour cela on utilise la syntaxe suivante, qui est très similaire à celles des boucles ou des tests :\n",
    "\n",
    "- On commence par écrire le mot-clé `def`  pour faire comprendre à Python que la suite sera une fonction.\n",
    "- On écrit le nom que l'on veut lui donner.\n",
    "- On ajoute des parenthèses entre lesquels on indiquera, éventuellement, des arguments.\n",
    "- On ajoute le signe `:` pour préciser que la suite sera le contenu de la fonction\n",
    "- A n'importe quel moment de la fonction on peut lui indiquer qu'on veut qu'elle nous retourne une valeur à l'aide de l'instruction `return`. Mais ceci n'est pas obligatoire."
   ]
  },
  {
   "cell_type": "markdown",
   "metadata": {
    "tags": [
     "en"
    ]
   },
   "source": [
    "# FUNCTIONS\n",
    "\n",
    "We have already used many different functions so far. However, in programming it is common to create your own functions that will be perfectly adapted to your needs. Python allows you to do this very easily in just a few lines!\n",
    "\n",
    "## Syntax\n",
    "\n",
    "To do this we use the following syntax, which is very similar to that of loops or tests:\n",
    "\n",
    "- First, write the keyword `def` to make Python understand that the following will be a function.\n",
    "- Then type name you want to give to your function.\n",
    "- Add parentheses between which you can indicate arguments.\n",
    "- Add the sign `:` to specify that the sequence will be the content of the function.\n",
    "- At any time during the function we can tell it that we want it to return a value using the `return` statement. But this is not mandatory."
   ]
  },
  {
   "cell_type": "code",
   "execution_count": null,
   "metadata": {
    "tags": []
   },
   "outputs": [],
   "source": [
    "def my_first_function():\n",
    "    return \"First function!\""
   ]
  },
  {
   "cell_type": "markdown",
   "metadata": {
    "tags": [
     "fr"
    ]
   },
   "source": [
    "## Exécution\n",
    "\n",
    "Tiens ? Mais quand on l'éxecute rien ne se passe ? C'est normal, votre fonction est désormais **définie**, elle existe quelque part dans la mémoire de Python. Pour l'exécuter, il faut tout simplement l'appeler comme n'importe quelle autre fonction. Notez qu'ici le terme \"appeler\" (*call*) ne veut pas dire \"nommer\" mais exécuter."
   ]
  },
  {
   "cell_type": "markdown",
   "metadata": {
    "tags": [
     "en"
    ]
   },
   "source": [
    "## Execution\n",
    "\n",
    "Nothing happens when you run the cell? This is normal, your function is now **defined**, it exists somewhere in Python's memory. To execute it, you just have to call it like any other function."
   ]
  },
  {
   "cell_type": "code",
   "execution_count": null,
   "metadata": {
    "tags": []
   },
   "outputs": [],
   "source": [
    "my_first_function()"
   ]
  },
  {
   "cell_type": "markdown",
   "metadata": {
    "tags": [
     "fr"
    ]
   },
   "source": [
    "## Paramètres\n",
    "\n",
    "Lorsqu'on définit une fonction on peut définir des paramètres en indiquant dans les parenthèses le nom de variables. La fonction suivante, qui retourne le carré d'un nombre, a un paramètre : \"x\".\n",
    "\n",
    "```python\n",
    "def square(x):\n",
    "    return x * x\n",
    "```\n",
    "\n",
    "## Arguments\n",
    "\n",
    "Exécutons la fonction en donnant au paramètre \"x\" la valeur 2:\n",
    "\n",
    "```python\n",
    "square(2)\n",
    "```\n",
    "Ici 2 est l'argument de la fonction. L'argument va venir donner la valeur au paramètre de la fonction.\n",
    "Testons cette fonction en lui donnant différents arguments."
   ]
  },
  {
   "cell_type": "markdown",
   "metadata": {
    "tags": [
     "en"
    ]
   },
   "source": [
    "## Parameters\n",
    "\n",
    "When defining a function you can define parameters by indicating the names of variables inside the parenthesis. The following function, which returns the square of a number, has one parameter: \"x\".\n",
    "\n",
    "```python\n",
    "def square(x):\n",
    "    return x * x\n",
    "```\n",
    "\n",
    "## Arguments\n",
    "\n",
    "Let's run the function with the parameter \"x\" set to 2:\n",
    "\n",
    "```python\n",
    "square(2)\n",
    "```\n",
    "Here the number 2 is the argument given to the function. The argument will pass the value to the function's parameter.\n",
    "Let's test this function by giving it different arguments."
   ]
  },
  {
   "cell_type": "code",
   "execution_count": null,
   "metadata": {},
   "outputs": [],
   "source": [
    "def square(x):\n",
    "    return x * x\n",
    "\n",
    "print(square(2))\n",
    "print(square(7))\n",
    "print(square(9))"
   ]
  },
  {
   "cell_type": "markdown",
   "metadata": {
    "tags": [
     "fr"
    ]
   },
   "source": [
    "Quand on **appelle** la fonction, c'est-à-dire qu'on l'exécute, on lui donne en entrée la valeur désirée. Cette valeur là prend ensuite la place de \"x\" dans notre fonction. Mais remarquez que nous aurions pu écrire cela et obtenir exactement les mêmes résultats :"
   ]
  },
  {
   "cell_type": "markdown",
   "metadata": {
    "tags": [
     "en"
    ]
   },
   "source": [
    "When we **call** (execute) the function, we pass the desired value as input. This value then takes the place of \"x\" in our function. But notice that we could have written this and obtained exactly the same results:"
   ]
  },
  {
   "cell_type": "code",
   "execution_count": null,
   "metadata": {},
   "outputs": [],
   "source": [
    "def square(blablabla):\n",
    "    return blablabla * blablabla\n",
    "\n",
    "print(square(2))\n",
    "print(square(7))\n",
    "print(square(9))\n",
    "\n",
    "# We can also use a variable as argument\n",
    "n = 49\n",
    "print(square(n))"
   ]
  },
  {
   "cell_type": "markdown",
   "metadata": {
    "tags": [
     "fr"
    ]
   },
   "source": [
    "## L'instruction `return`\n",
    "\n",
    "La grande majorité des fonctions comporte une ou plusieurs instructions `return`. Cette instruction gère les paramètres de sortie, elle indique donc ce qu'elle renvoie (retourne) ou, autrement dit, en quoi se \"transforme\" notre fonction. Après avoir exécuté un `return` la fonction se termine automatiquement sans exécuter les autres lignes de code.\n",
    "\n",
    "Dans l'exemple suivant la fonction retourne le carré d'un nombre si on lui donne un entier négatif. Si le nombre est compris entre 0 et 100 inclus elle retourne la valeur du nombre augmentée de 10.\n",
    "\n",
    "Autrement elle ne retourne rien, qui est un objet spécial en Python appellé `None`."
   ]
  },
  {
   "cell_type": "markdown",
   "metadata": {
    "tags": [
     "en"
    ]
   },
   "source": [
    "## The `return` statement\n",
    "\n",
    "The vast majority of functions have one or more `return` statements. This statement manages the output parameters, so it indicates what the function returns, what our function \"transforms\" into. After executing a `return` the function automatically terminates without executing the other lines of code.\n",
    "\n",
    "In the following example the function returns the square of a number if given a negative integer. If the number is between 0 and 100 inclusive it returns the value of the number plus 10.\n",
    "\n",
    "Otherwise it returns nothing which is a special object in Python called `None`."
   ]
  },
  {
   "cell_type": "code",
   "execution_count": null,
   "metadata": {
    "tags": []
   },
   "outputs": [],
   "source": [
    "def square_or_plus_ten(x):\n",
    "    if x < 0: return x ** 2\n",
    "    elif x <= 100: return x + 10"
   ]
  },
  {
   "cell_type": "code",
   "execution_count": null,
   "metadata": {
    "tags": []
   },
   "outputs": [],
   "source": [
    "square_or_plus_ten(-4)"
   ]
  },
  {
   "cell_type": "code",
   "execution_count": null,
   "metadata": {
    "tags": []
   },
   "outputs": [],
   "source": [
    "square_or_plus_ten(50)"
   ]
  },
  {
   "cell_type": "code",
   "execution_count": null,
   "metadata": {
    "tags": []
   },
   "outputs": [],
   "source": [
    "square_or_plus_ten(400)"
   ]
  },
  {
   "cell_type": "markdown",
   "metadata": {
    "tags": [
     "fr"
    ]
   },
   "source": [
    "## Arguments par défaut\n",
    "\n",
    "Si l'utilisateur ne spécifie pas d'arguments, on peut en définir la valeur par défaut du paramètre en utilisant le signe `=`. Ex:"
   ]
  },
  {
   "cell_type": "markdown",
   "metadata": {
    "tags": [
     "en"
    ]
   },
   "source": [
    "## Default Arguments\n",
    "\n",
    "If the user does not specify any arguments, the default value of the parameter can be set using the `=` sign. Ex:"
   ]
  },
  {
   "cell_type": "code",
   "execution_count": null,
   "metadata": {
    "tags": []
   },
   "outputs": [],
   "source": [
    "def multiply_by_10(x=10):\n",
    "    return x * 10\n",
    "\n",
    "print(multiply_by_10())\n",
    "print(multiply_by_10(5))\n",
    "print(multiply_by_10(23))\n",
    "print(multiply_by_10())"
   ]
  },
  {
   "cell_type": "markdown",
   "metadata": {
    "tags": [
     "fr"
    ]
   },
   "source": [
    "## Paramètres multiples\n",
    "\n",
    "On peut donner différents paramètres à une fonction en les séparant par une virgule. Par exemple la fonction suivante retourne différents nombres multipliés entre eux :"
   ]
  },
  {
   "cell_type": "markdown",
   "metadata": {
    "tags": [
     "en"
    ]
   },
   "source": [
    "## Multiple parameters\n",
    "\n",
    "You can give different parameters to a function by separating them with a comma. For example the following function returns different numbers multiplied by each other:"
   ]
  },
  {
   "cell_type": "code",
   "execution_count": null,
   "metadata": {},
   "outputs": [],
   "source": [
    "def mult(a, b, c):\n",
    "    return a * b * c\n",
    "\n",
    "mult(3, 4, 5)"
   ]
  },
  {
   "cell_type": "markdown",
   "metadata": {
    "tags": [
     "fr"
    ]
   },
   "source": [
    "## Arguments nommés\n",
    "\n",
    "Les arguments nommés (dits aussi *keyword*) permettent de donner des valeurs par défaut à des paramètres.\n",
    "\n",
    "**Remarque** : Par convention on ne met pas d'espace de part et d'autre de l'opérateur égal dans la définition d'une fonction ou bien lorsqu'on l'appelle."
   ]
  },
  {
   "cell_type": "markdown",
   "metadata": {
    "tags": [
     "en"
    ]
   },
   "source": [
    "## Named Arguments\n",
    "\n",
    "Named arguments, also known as *keyword* arguments, are used to set default values to specific parameters.\n",
    "\n",
    "**Note**: By convention, whitespace are not used on either side of the equal operator (`=`) in the definition of a function or when calling it."
   ]
  },
  {
   "cell_type": "code",
   "execution_count": null,
   "metadata": {
    "tags": []
   },
   "outputs": [],
   "source": [
    "def birthday(name, birthdate, punctuation=\" !!!\"):\n",
    "    return name + \" was born on the \" + birthdate + punctuation\n",
    "\n",
    "birthday(birthdate=\"24th of March\", name='Bob')"
   ]
  },
  {
   "cell_type": "markdown",
   "metadata": {
    "tags": [
     "fr"
    ]
   },
   "source": [
    "## Portée globale et locale des variables\n",
    "\n",
    "La portée (*scope*) d'une variable  détermine si une fonction a accès à cette variable ou pas.\n",
    "Toutes les variables crées dans le corps principal du script sont dites \"globales\" et peuvent être utilisées par toutes les fonctions.\n",
    "\n",
    "Une variable \"locale\", quant à elle, est une variable créée dans une fonction. Elle est automatiquement détruite lorsque la fonction a fini d'être exécutée."
   ]
  },
  {
   "cell_type": "markdown",
   "metadata": {
    "tags": [
     "en"
    ]
   },
   "source": [
    "## Global and local scope of variables\n",
    "\n",
    "The scope of a variable determines whether a function has access to that variable or not.\n",
    "All variables created in the main body of the script are said to be \"global\" and can be used by all functions.\n",
    "\n",
    "A \"local\" variable is a variable created inside a function. It is automatically destroyed when the function terminates."
   ]
  },
  {
   "cell_type": "code",
   "execution_count": null,
   "metadata": {
    "tags": []
   },
   "outputs": [],
   "source": [
    "global_variable = \"aaa\"\n",
    "\n",
    "def test():\n",
    "    \n",
    "    local_variable = \"bbb\"\n",
    "    return global_variable + local_variable\n",
    "\n",
    "test()\n",
    "# Next line will yield an error :\n",
    "# print(local_variable)"
   ]
  },
  {
   "cell_type": "markdown",
   "metadata": {
    "tags": [
     "fr"
    ]
   },
   "source": [
    "### Exercice (facile)\n",
    "\n",
    "Ecrivez une fonction nommée `convert()` qui convertit des degrés celsius en degrés fahrenheit ou des degrés celsius en degré fahrenheit. Elle prend en entrée deux arguments :\n",
    "\n",
    "- Une valeur (int ou float).\n",
    "- L'unité de cette valeur, est-elle un degré celsius ou fahrenheit ? Vous pouvez utiliser les lettres \"C\" ou \"F\" pour désigner chacune des unités.\n",
    "\n",
    "Le programme vous retourne alors la valeur convertie dans l'unité où elle n'est pas.\n",
    "\n",
    "Pour rappel :\n",
    "\n",
    "- température Fahrenheit = (température Celsius x 9/5) + 32\n",
    "\n",
    "- température Celsius = (température Fahrenheit - 32) × 5/9"
   ]
  },
  {
   "cell_type": "markdown",
   "metadata": {
    "tags": [
     "en"
    ]
   },
   "source": [
    "### Exercise (easy)\n",
    "\n",
    "Write a function called `convert()` that converts degrees Celsius to degrees Fahrenheit or degrees Celsius to degrees Fahrenheit. It takes two arguments as input:\n",
    "\n",
    "- A value (int or float).\n",
    "- The unit of this value, is it a degree celsius or fahrenheit? You can use the letters \"C\" or \"F\" to designate each unit.\n",
    "\n",
    "The program then returns the value converted to the unit where it is not.\n",
    "\n",
    "As a reminder:\n",
    "\n",
    "- Fahrenheit temperature = (Celsius temperature x 9/5) + 32\n",
    "\n",
    "- Celsius temperature = (Fahrenheit temperature - 32) × 5/9"
   ]
  },
  {
   "cell_type": "code",
   "execution_count": null,
   "metadata": {},
   "outputs": [],
   "source": [
    "# Code here!\n",
    "\n"
   ]
  },
  {
   "cell_type": "code",
   "execution_count": null,
   "metadata": {
    "tags": [
     "solution"
    ]
   },
   "outputs": [],
   "source": [
    "# Solution\n",
    "\n",
    "def convert(x, unit):\n",
    "    \n",
    "    if unit == \"C\":\n",
    "        return x * 9/5 + 32\n",
    "    elif unit == \"F\":\n",
    "        return (x - 32) * 9/5"
   ]
  },
  {
   "cell_type": "markdown",
   "metadata": {
    "tags": [
     "fr"
    ]
   },
   "source": [
    "## Exercices : consignes globales\n",
    "\n",
    "Pour la série d'exercices suivants n'écrivez pas de messages d'erreur. Faites au plus simple, il n'y aura besoin que d'un seul argument et une ou deux instructions `return` pour résoudre chacun de ces problèmes."
   ]
  },
  {
   "cell_type": "markdown",
   "metadata": {
    "tags": [
     "en"
    ]
   },
   "source": [
    "## Exercises : guidelines\n",
    "\n",
    "For the following series of exercises do not write error messages. Keep it simple, you will only need one argument and one or two `return` statements to solve each of these problems."
   ]
  },
  {
   "cell_type": "markdown",
   "metadata": {
    "tags": [
     "fr"
    ]
   },
   "source": [
    "## Exercice - `Max()` (moyen)\n",
    "\n",
    "La fonction `max()` de python renvoie la valeur la plus élevée de certains objets, comme les listes par exemple. Par exemple :"
   ]
  },
  {
   "cell_type": "markdown",
   "metadata": {
    "tags": [
     "en"
    ]
   },
   "source": [
    "## Exercise - `Max()` (medium)\n",
    "\n",
    "The `max()` function returns the highest value of certain objects, such as lists. For example :"
   ]
  },
  {
   "cell_type": "code",
   "execution_count": null,
   "metadata": {
    "tags": []
   },
   "outputs": [],
   "source": [
    "seq = [5, 8, 1, 6, 9, 12]\n",
    "max(seq)"
   ]
  },
  {
   "cell_type": "markdown",
   "metadata": {
    "tags": [
     "fr"
    ]
   },
   "source": [
    "Reprogrammez-la en utilisant des tests et des boucles. Nommez-la `max2()`."
   ]
  },
  {
   "cell_type": "markdown",
   "metadata": {
    "tags": [
     "en"
    ]
   },
   "source": [
    "Reprogram it using tests and loops. Name it `max2()`."
   ]
  },
  {
   "cell_type": "code",
   "execution_count": null,
   "metadata": {},
   "outputs": [],
   "source": [
    "def max2(seq):\n",
    "    \n",
    "    pass # delete the pass instructions and code here!\n",
    "\n",
    "    #return"
   ]
  },
  {
   "cell_type": "code",
   "execution_count": null,
   "metadata": {
    "tags": [
     "solution"
    ]
   },
   "outputs": [],
   "source": [
    "# Solution\n",
    "\n",
    "def max2(seq):\n",
    "    \n",
    "    max_val = seq[0]\n",
    "    for n in seq:\n",
    "        if n > max_val: max_val = n\n",
    "    return max_val"
   ]
  },
  {
   "cell_type": "code",
   "execution_count": null,
   "metadata": {},
   "outputs": [],
   "source": [
    "# Use this cell to check if your function works\n",
    "\n",
    "nombres = [5,8,1,6,9,12]\n",
    "if max(nombres) == max2(nombres): print(\"Bravo !\")"
   ]
  },
  {
   "cell_type": "markdown",
   "metadata": {
    "tags": [
     "fr"
    ]
   },
   "source": [
    "## Exercice (moyen) - `.isdigit()`\n",
    "\n",
    "Vous vous souvenez de la méthode `.isdigit()` ? Celle-ci permet de savoir si une chaîne de caractère ne contient que des chiffres. Recreéez-la sous forme de fonction.\n",
    "\n",
    "**ASTUCES**:\n",
    "\n",
    "- Votre fonction doit retourner `True` ou `False`\n",
    "- Une fonction peut tout à fait comporter plusieurs `return`, mais dès qu'elle en exécute un elle s'arrête immédiatement. Utilisez ce comportement à votre avantage !\n",
    "- Vous pouvez utiliser `not` pour raccourcir un peu votre code."
   ]
  },
  {
   "cell_type": "markdown",
   "metadata": {
    "tags": [
     "en"
    ]
   },
   "source": [
    "## Exercise (Medium) - `.isdigit()`\n",
    "\n",
    "Remember the `.isdigit()` method? This method is used to find out if a string contains only digits. Recreate this function.\n",
    "\n",
    "**TIPS**:\n",
    "\n",
    "- Your function must return `True` or `False`.\n",
    "- A function can have several `return`, but as soon as it executes one it stops immediately. Use this behaviour to your advantage!\n",
    "- You can use the `not` operator to shorten your code."
   ]
  },
  {
   "cell_type": "code",
   "execution_count": null,
   "metadata": {},
   "outputs": [],
   "source": [
    "def isdigit2(text):\n",
    "    \n",
    "    digits = '0123456789'\n",
    "        \n",
    "    # return"
   ]
  },
  {
   "cell_type": "code",
   "execution_count": null,
   "metadata": {
    "tags": [
     "solution"
    ]
   },
   "outputs": [],
   "source": [
    "# Solution\n",
    "\n",
    "def isdigit2(text):\n",
    "    \n",
    "    digits = '0123456789'\n",
    "        \n",
    "    for c in text:\n",
    "        if c not in digits: return False\n",
    "            \n",
    "    return True"
   ]
  },
  {
   "cell_type": "code",
   "execution_count": null,
   "metadata": {},
   "outputs": [],
   "source": [
    "if isdigit2(\"5364\") == \"5364\".isdigit(): print(\"Bravo !\")\n",
    "if isdigit2(\"5A364a\") == \"5A364a\".isdigit(): print(\"Bravo !\") "
   ]
  },
  {
   "cell_type": "markdown",
   "metadata": {
    "tags": [
     "fr"
    ]
   },
   "source": [
    "## Exercice - Médiane (moyen/difficile)\n",
    "\n",
    "Créez une fonction nommée `med()` qui calcule la médiane d'une suite d'entiers stockée dans une liste.\n",
    "\n",
    "**RAPPEL:**\n",
    "\n",
    "La médiane d'un distribution est une valeur x qui permet de couper l'ensemble des valeurs en deux parties égales : mettant d'un côté une moitié des valeurs, qui sont toutes inférieures ou égales à x et de l'autre côté l'autre moitié des valeurs, qui sont toutes supérieures ou égales à x.\n",
    "\n",
    "Si le nombre de valeurs de la distribution est paire, la médiane est la moyenne des deux valeurs centrales.\n",
    "\n",
    "**ASTUCES**\n",
    "\n",
    "- On peut donner une liste comme argument à la fonction `sorted()` pour la classer par ordre croissant.\n",
    "- Convertir un `float` en `int` ne prend que la partie entière d'un nombre. Par exemple `8.5` converti en entier devient alors `8`. Cela peut se révéler pratique dans le cas où cet entier doit être utilisé comme index d'une liste.\n",
    "- Il y a deux cas de figure : soit le nombre d'éléments de la suite est paire, soit il est impaire."
   ]
  },
  {
   "cell_type": "markdown",
   "metadata": {
    "tags": [
     "en"
    ]
   },
   "source": [
    "## Exercise - Median (medium / hard)\n",
    "\n",
    "Create a function named `med()` that calculates the median of a sequence of integers stored in a list.\n",
    "\n",
    "**REMINDER:**\n",
    "\n",
    "The median of a distribution is a value x that splits the set of values into two equal parts: putting one half of the values, which are all less than or equal to x, on one side and the other half of the values, which are all greater than or equal to x, on the other side.\n",
    "\n",
    "If the number of values in the distribution is even, the median is the average of the two central values.\n",
    "\n",
    "**ASTUCES**\n",
    "\n",
    "- You can give a list as an argument to the `sorted()` function to sort it in ascending order.\n",
    "- Converting a `float` to `int` takes only the integer part of a number. For example `8.5` converted to an integer then becomes `8`. This can be useful if the integer is to be used as an index to a list.\n",
    "- There are two cases: either the number of elements in the sequence is even, or it is odd."
   ]
  },
  {
   "cell_type": "code",
   "execution_count": null,
   "metadata": {},
   "outputs": [],
   "source": [
    "def med(seq):\n",
    "    \n",
    "    pass # delete the pass instruction and code here!\n",
    "    # return"
   ]
  },
  {
   "cell_type": "code",
   "execution_count": null,
   "metadata": {
    "tags": [
     "solution"
    ]
   },
   "outputs": [],
   "source": [
    "def med(seq): \n",
    "    \n",
    "    seq = sorted(seq)\n",
    "    seq_len = len(seq)\n",
    "    if seq_len % 2 != 0: return seq[int(seq_len/2)]\n",
    "    else: return ((seq[int(seq_len/2)-1]) + (seq[int(seq_len/2)]))/2"
   ]
  },
  {
   "cell_type": "code",
   "execution_count": null,
   "metadata": {
    "tags": []
   },
   "outputs": [],
   "source": [
    "# Use this cell to check if your function works\n",
    "import numpy as np\n",
    "\n",
    "a = [172.67,3,78,-67, 8900, 8, 19, 9, 89]\n",
    "\n",
    "print(f\"Result with med(): {med(a)}\")\n",
    "print(f\"Result with numpy.median(): {np.median(a)}\")\n",
    "if med(a) == np.median(a) : print (\"Bravo !\")\n",
    "else: print(\":(\")"
   ]
  },
  {
   "cell_type": "markdown",
   "metadata": {
    "tags": [
     "fr"
    ]
   },
   "source": [
    "## Exercice - Mode (difficile)\n",
    "\n",
    "La valeur modale est la valeur la plus présente dans une distribution. Prenons par exemple la suite suivante : `[2, 3, 3, 5, -1, 3, 12, 3]`\n",
    "\n",
    "Sa valeur modale est \"3\", car elle y est présente 4 fois. Ce nombre, 4, s'appelle aussi l'effectif de la valeur modale.\n",
    "\n",
    "Une distribution peut avoir plusieurs modes puisqu'il peut y avoir une égalité entre les valeurs les plus présentes. Par exemple la suite `[17, 34, 34, 42, 42]` a deux valeurs modales : 34 et 42 (et l'effectif de ces deux valeurs modales est 2).\n",
    "\n",
    "**Sans utiliser la fonction `max()` ou `count()`**, écrire une fonction nommée `mode()` qui renvoie la ou les valeurs modales avec l'effectif qui y est associé. La fonction doit donc renvoyer deux objets : une liste contenant le ou les valeurs modales et un nombre correspondant à l'effectif de cette valeur ou de ces valeurs. Exemple :\n",
    "\n",
    "```python\n",
    "mode([2, 3, 19, 2, 1, 0, -7, 2])\n",
    ">>> ([2], 3)\n",
    "```\n",
    "```python\n",
    "mode([7, 8, 9, 8, 9])\n",
    ">>> ([8, 9], 2)\n",
    "```\n",
    "**ASTUCES**\n",
    "\n",
    "- L'utilisation d'un dictionnaire est une bonne idée.\n",
    "- L'une des solutions à cet exercice peut vous amener à manipuler des nombres infinis, en ce cas on peut utiliser `float('inf')` ou `float('-inf')`.\n",
    "- `sorted()` peut là encore être utilisé."
   ]
  },
  {
   "cell_type": "markdown",
   "metadata": {
    "tags": [
     "en"
    ]
   },
   "source": [
    "## Exercise - Mode (difficult)\n",
    "\n",
    "The modal value is the most present value in a distribution. Take for example the following sequence: `[2, 3, 3, 5, -1, 3, 12, 3]`.\n",
    "\n",
    "Its modal value is \"3\", because it occurs 4 times. This number, 4, is also called \"frequency of the modal value\".\n",
    "\n",
    "A distribution can have several modes since there can be equality between the most present values. For example the sequence `[17, 34, 34, 42, 42]` has two modal values: 34 and 42 (and the frequency of these two modal values is 2).\n",
    "\n",
    "**Without using `max()` or `count()` functions**, write a function named `mode()` that returns the modal value(s) with the frequency. The function must therefore return two objects: a list containing the modal value(s) and a number corresponding to the frequency of that value(s). Example:\n",
    "\n",
    "```python\n",
    "mode([2, 3, 19, 2, 1, 0, -7, 2])\n",
    ">>> ([2], 3)\n",
    "```\n",
    "```python\n",
    "mode([7, 8, 9, 8, 9])\n",
    ">>> ([8, 9], 2)\n",
    "```\n",
    "**TIPS**\n",
    "\n",
    "- Using a dictionary is a good idea.\n",
    "- One of the solutions to this exercise may involve manipulating infinite numbers, in which case you can use `float('inf')` or `float('-inf')`.\n",
    "- Again, `sorted()` can be used."
   ]
  },
  {
   "cell_type": "code",
   "execution_count": null,
   "metadata": {},
   "outputs": [],
   "source": [
    "def mode(seq):\n",
    "    \n",
    "    pass # delete this instruction and code here!\n",
    "    \n",
    "    # return"
   ]
  },
  {
   "cell_type": "code",
   "execution_count": null,
   "metadata": {
    "tags": [
     "solution"
    ]
   },
   "outputs": [],
   "source": [
    "# Solution\n",
    "\n",
    "def mode(seq):\n",
    "    \n",
    "    freq = {}\n",
    "\n",
    "    for el in seq:\n",
    "        freq[el] = freq.get(el, 0) + 1\n",
    "\n",
    "    k_max = []\n",
    "    v_max = float('-inf')\n",
    "\n",
    "    for k, v in freq.items():\n",
    "        if v_max < v: v_max = v\n",
    "\n",
    "    for k, v in freq.items():\n",
    "        if v_max == v: k_max.append(k)\n",
    "    \n",
    "    return sorted(k_max), v_max"
   ]
  },
  {
   "cell_type": "code",
   "execution_count": null,
   "metadata": {
    "tags": []
   },
   "outputs": [],
   "source": [
    "# Use this cell to check if your function works\n",
    "\n",
    "from scipy import stats\n",
    "from statistics import multimode\n",
    "\n",
    "b = [50, 70, 80, 90, 70, 60, 50, 60, 40, 30, 30, 80, 120, 150, 50, 60, 80, 90, 60, 30, 60, 70, 90, 90, 90, 50, 50]\n",
    "\n",
    "res_mode = mode(b)\n",
    "res_stats_multimode = sorted(multimode(b)), stats.mode(b, keepdims=True)[1][0]\n",
    "print(f\"Result with mode() = {res_mode}\")\n",
    "print(f\"Result with multimode() and stats.mode() = {res_stats_multimode}\")\n",
    "if res_mode == res_stats_multimode: print(\"Bravo !\")\n",
    "else: print(\":(\")"
   ]
  },
  {
   "cell_type": "markdown",
   "metadata": {
    "tags": [
     "fr"
    ]
   },
   "source": [
    "## Exercice - Calcul de la pluviométrie (difficile)\n",
    "\n",
    "Ecrivez une fonction qui prend une liste d'entiers positifs, représentant chacun la hauteur d'un bâtiment, et détermine ensuite le volume maximum d'eau qui peut être contenu dans cette structure. Par exemple la liste `[5,0,4,2,0,3]` peut être représentée sous cette forme :\n",
    "\n",
    "```\n",
    "___               \n",
    "| |   ___         \n",
    "| |   | |      ___\n",
    "| |   | |___   | |\n",
    "| |   |    |   | |\n",
    "| |___|    |___| |\n",
    "```\n",
    "\n",
    "Le premier bâtiment s'étend sur 5 étages, soit 5 lignes, puisque sa hauteur est de 5. Le second est plat puisque sa hauteur est de 0 etc.\n",
    "Par convention la largeur de chaque bâtiment est de 1 (même si graphiquement cette largeur est représentée par une suite de 3 caractères).\n",
    "\n",
    "En imaginant qu'il se mette à pleuvoir sur cette \"ville\", alors l'eau va commencer à s'accumuler et former des poches entre les deux plus grands bâtiments de part et d'autre :\n",
    "\n",
    "```\n",
    "___               \n",
    "| |   ___         \n",
    "| |+++| |      ___\n",
    "| |+++| |±±±+++| |\n",
    "| |+++|    |+++| |\n",
    "| |±±±|    |±±±| |\n",
    "```\n",
    "\n",
    "Ici, graphiquement, chaque groupe de trois +++ représente un volume d'eau. On constate donc que cette \"ville\" peut contenir 8 volumes d'eau. C'est ce résultat, le nombre de volumes d'eau, que la fonction devra retourner.\n",
    "\n",
    "**ASTUCE**:\n",
    "\n",
    "- Le coeur de la résolution de cette énigme tient en deux lignes de code. Une boucle `for` et une instruction.\n",
    "\n",
    "Exemples:\n",
    "- Input: `[1, 2, 1, 2]`\n",
    "- Output: `1`\n",
    "- Input: `[5, 0, 4, 2, 0, 3]`\n",
    "- Output: `8`\n",
    "- Input: `[0, 2, 4, 0, 2, 1, 2, 6]`\n",
    "- Output: `11`\n",
    "- Input: `[10, 0, 1, 2, 0, 12]`\n",
    "- Output: `37`\n",
    "- Input: `[0, 0, 12, 4, 0, 5, 15, 2, 4, 7, 0, 3, 6, 2, 2, 2, 2, 4]`\n",
    "- Output: `52`"
   ]
  },
  {
   "cell_type": "markdown",
   "metadata": {},
   "source": [
    "## Exercise - Calculating a water quantity (difficult)\n",
    "\n",
    "Write a function that takes a list of positive integers, each representing the height of a building, and then determines the maximum volume of water that can be contained in that structure. For example the list `[5,0,4,2,0,3]` can be represented in this form:\n",
    "\n",
    "```\n",
    "___               \n",
    "| |   ___         \n",
    "| |   | |      ___\n",
    "| |   | |___   | |\n",
    "| |   |    |   | |\n",
    "| |___|    |___| |\n",
    "```\n",
    "\n",
    "The first building is 5 stories high (5 rows), since its height is 5. The second building is flat since its height is 0 etc.\n",
    "By convention, the width of each building is 1 (even if graphically this width is represented by a sequence of 3 characters).\n",
    "\n",
    "If we imagine that it starts to rain on this \"city\", then the water will start to accumulate and form pockets between the two largest buildings on either side:\n",
    "\n",
    "```\n",
    "___               \n",
    "| |   ___         \n",
    "| |+++| |      ___\n",
    "| |+++| |±±±+++| |\n",
    "| |+++|    |+++| |\n",
    "| |±±±|    |±±±| |\n",
    "```\n",
    "\n",
    "Here, graphically, each group of three +++ represents a volume of water. We can therefore see that this \"city\" can hold 8 volumes of water. It is this result, the number of volumes of water, that the function should return.\n",
    "\n",
    "**TIP**:\n",
    "\n",
    "- The solution lies in two lines of code. A `for` loop and its statement.\n",
    "\n",
    "Examples:\n",
    "- Input: `[1, 2, 1, 2]`\n",
    "- Output: `1`\n",
    "- Input: `[5, 0, 4, 2, 0, 3]`\n",
    "- Output: `8`\n",
    "- Input: `[0, 2, 4, 0, 2, 1, 2, 6]`\n",
    "- Output: `11`\n",
    "- Input: `[10, 0, 1, 2, 0, 12]`\n",
    "- Output: `37`\n",
    "- Input: `[0, 0, 12, 4, 0, 5, 15, 2, 4, 7, 0, 3, 6, 2, 2, 2, 2, 4]`\n",
    "- Output: `52`"
   ]
  },
  {
   "cell_type": "code",
   "execution_count": null,
   "metadata": {
    "tags": []
   },
   "outputs": [],
   "source": [
    "def compute_water_qty(seq):\n",
    "    water_qty_total = 0\n",
    "    # Code here!\n",
    "\n",
    "    return water_qty_total"
   ]
  },
  {
   "cell_type": "code",
   "execution_count": null,
   "metadata": {
    "tags": [
     "solution"
    ]
   },
   "outputs": [],
   "source": [
    "# Solution (short)\n",
    "\n",
    "def compute_water_qty(seq):\n",
    "    water_qty_total = 0\n",
    "    for i, el in enumerate(seq): water_qty_total += min(max(seq[:i+1]), max(seq[i:])) - el\n",
    "    return water_qty_total"
   ]
  },
  {
   "cell_type": "code",
   "execution_count": null,
   "metadata": {
    "tags": [
     "solution"
    ]
   },
   "outputs": [],
   "source": [
    "# Solution (long)\n",
    "\n",
    "def compute_water_qty(seq):\n",
    "    \"\"\"\n",
    "    For any \"building\" we take, we need to find the highest building on the left and\n",
    "    the highest building on the right. Then, take the smallest of the two and susbstract\n",
    "    the height of our building.\n",
    "    \"\"\"\n",
    "    water_qty_total = 0\n",
    "    \n",
    "    for i, current_height in enumerate(seq):\n",
    "        highest_building_on_the_left = max(seq[:i+1])\n",
    "        highest_building_on_the_right = max(seq[i:])\n",
    "        smallest_of_the_two = min(highest_building_on_the_left, highest_building_on_the_right)\n",
    "        difference_with_current_building = smallest_of_the_two - current_height\n",
    "        water_qty_total = water_qty_total + difference_with_current_building\n",
    "    return water_qty_total\n"
   ]
  },
  {
   "cell_type": "code",
   "execution_count": null,
   "metadata": {
    "tags": []
   },
   "outputs": [],
   "source": [
    "# use this cell to check if your function works\n",
    "\n",
    "test = {\"1\":[[1, 2, 1, 2], 1],\n",
    "        \"2\":[[5, 0, 4, 2, 0, 3], 8],\n",
    "        \"3\":[[0, 2, 4, 0, 2, 1, 2, 6], 11],\n",
    "        \"4\":[[10, 0, 1, 2, 0, 12], 37],\n",
    "        \"5\":[[0, 0, 12, 4, 0, 5, 15, 2, 4, 7, 0, 3, 6, 2, 2, 2, 2, 4], 52]}\n",
    "\n",
    "for k, v in test.items():\n",
    "    if compute_water_qty(v[0]) == v[1]: print(f\"Test {k} : Succès\")\n",
    "    else: print(f\"Test {k} : Echec\")"
   ]
  }
 ],
 "metadata": {
  "kernelspec": {
   "display_name": "Python 3 (ipykernel)",
   "language": "python",
   "name": "python3"
  },
  "language_info": {
   "codemirror_mode": {
    "name": "ipython",
    "version": 3
   },
   "file_extension": ".py",
   "mimetype": "text/x-python",
   "name": "python",
   "nbconvert_exporter": "python",
   "pygments_lexer": "ipython3",
   "version": "3.10.9"
  }
 },
 "nbformat": 4,
 "nbformat_minor": 4
}
