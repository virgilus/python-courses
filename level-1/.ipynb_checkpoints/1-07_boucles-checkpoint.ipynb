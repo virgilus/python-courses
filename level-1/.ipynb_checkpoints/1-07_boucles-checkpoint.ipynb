{
 "cells": [
  {
   "cell_type": "markdown",
   "metadata": {
    "tags": [
     "fr"
    ]
   },
   "source": [
    "# LES BOUCLES"
   ]
  },
  {
   "cell_type": "markdown",
   "metadata": {
    "tags": [
     "en"
    ]
   },
   "source": [
    "# LOOPS"
   ]
  },
  {
   "cell_type": "markdown",
   "metadata": {
    "tags": [
     "fr"
    ]
   },
   "source": [
    "Comme nous l'avons vu dans l'introduction, les ordinateurs sont très performants lorsqu'il s'agit d'effectuer des actions répétitives. En programmation nous disposons de structures qui permettent de réaliser des **\"boucles\"** (*loops*), c'est-à-dire de répéter la ou les mêmes instructions autant de fois que nous le voulons. Celles-ci sont très répandues à travers tous les langages de programmation et constituent le coeur d'un grand nombre de logiciels."
   ]
  },
  {
   "cell_type": "markdown",
   "metadata": {
    "tags": [
     "en"
    ]
   },
   "source": [
    "As we saw in the introduction, computers are very good at performing repetitive actions. In programming we have structures that allow us to perform **loops**, that is, to repeat the same instruction(s) as many times as we want. These are very common in all programming languages and form the core of a large number of programs."
   ]
  },
  {
   "cell_type": "markdown",
   "metadata": {
    "tags": [
     "fr"
    ]
   },
   "source": [
    "## La boucle `for`\n",
    "\n",
    "La boucle `for` parcourt les différents éléments d'un objet. On l'utilise avec le mot `in` qui signifie tout simplement \"dans\". Par exemple :\n",
    "\n",
    "En langage humain:\n",
    "```\n",
    "Pour chaque page dans ce livre:\n",
    "    Afficher la page.\n",
    "```\n",
    "\n",
    "En formalisation python:\n",
    "\n",
    "```python\n",
    "for page in livre:\n",
    "    print(page)\n",
    "```\n",
    "\n",
    "Vous remarquerez que, comme un `if` le code qui suit un `for` est indenté."
   ]
  },
  {
   "cell_type": "markdown",
   "metadata": {
    "tags": [
     "en"
    ]
   },
   "source": [
    "## The `for` loop\n",
    "\n",
    "The `for` loop goes through the different elements of an object. It is used with the word `in`. For example:\n",
    "\n",
    "In human language:\n",
    "```\n",
    "For every page in this book:\n",
    "    Show page.\n",
    "```\n",
    "\n",
    "In python formalization:\n",
    "\n",
    "```python\n",
    "for page in book:\n",
    "    print(page)\n",
    "```\n",
    "\n",
    "You'll notice that, like an `if`, the code that follows a `for` is indentated."
   ]
  },
  {
   "cell_type": "markdown",
   "metadata": {
    "tags": [
     "fr"
    ]
   },
   "source": [
    "### Parcourir une liste\n",
    "\n",
    "En utilisant une boucle for, chaque élément de la liste sera sélectionné un par un afin que l'on puisse les traiter séparément. Beaucoup de programmeurs utilisent le nom \"el\" (diminutif de \"élément\") afin de désigner la variable qui va contenir successivement chaque élément de l'itérable, mais ce n'est qu'une habitude. Par exemple :"
   ]
  },
  {
   "cell_type": "markdown",
   "metadata": {
    "tags": [
     "en"
    ]
   },
   "source": [
    "### Iterate through a list\n",
    "\n",
    "Using a for loop, each item in the list will be selected one by one so that they can be processed separately. Many programmers use the name \"el\" (short for \"element\") to refer to the variable that will successively hold each element of the iterable, but this is just a habit. For example :"
   ]
  },
  {
   "cell_type": "code",
   "execution_count": 27,
   "metadata": {
    "tags": []
   },
   "outputs": [
    {
     "name": "stdout",
     "output_type": "stream",
     "text": [
      "a\n",
      "b\n",
      "c\n",
      "d\n",
      "e\n"
     ]
    }
   ],
   "source": [
    "my_list = [\"a\", \"b\", \"c\", \"d\", \"e\"]\n",
    "\n",
    "for el in my_list:\n",
    "    print(el)"
   ]
  },
  {
   "cell_type": "markdown",
   "metadata": {
    "tags": [
     "fr"
    ]
   },
   "source": [
    "Ici il y a 5 éléments différents dans la liste, ce qui veut dire que l'instruction dans le bloc `for` a été exécutée 5 fois. Notez que l'on peut écrire autant d'instructions que l'on souhaite dans le bloc."
   ]
  },
  {
   "cell_type": "markdown",
   "metadata": {
    "tags": [
     "en"
    ]
   },
   "source": [
    "Here there are 5 different items in the list, which means that the instruction in the `for` block has been executed 5 times. Note that we can write as many instructions as we want in the block."
   ]
  },
  {
   "cell_type": "code",
   "execution_count": 28,
   "metadata": {
    "tags": []
   },
   "outputs": [
    {
     "name": "stdout",
     "output_type": "stream",
     "text": [
      "a\n",
      "1\n",
      "b\n",
      "2\n",
      "c\n",
      "3\n",
      "d\n",
      "4\n",
      "e\n",
      "5\n"
     ]
    }
   ],
   "source": [
    "my_list = [\"a\", \"b\", \"c\", \"d\", \"e\"]\n",
    "\n",
    "i = 0\n",
    "for el in my_list:\n",
    "    print(el)\n",
    "    i = i + 1\n",
    "    print(i)"
   ]
  },
  {
   "cell_type": "markdown",
   "metadata": {
    "tags": [
     "fr"
    ]
   },
   "source": [
    "### Exercice (facile)\n",
    "\n",
    "Pour chaque élément de la liste suivante affichez une phrase qui indique le nombre que l'on traite et la valeur de son double.\n",
    "\n",
    "**Astuces**:\n",
    "\n",
    "- Vous pouvez effectuer des calculs dans des `print()`\n",
    "- Utilisez de préférence des \"f-strings\", ce sera plus lisible.\n",
    "- Réalisable en deux lignes de code."
   ]
  },
  {
   "cell_type": "markdown",
   "metadata": {
    "tags": [
     "en"
    ]
   },
   "source": [
    "### Exercise (easy)\n",
    "\n",
    "For each item in the following list display a sentence that indicates the number being processed and the value of its double.\n",
    "\n",
    "**Tips**:\n",
    "\n",
    "- You can perform calculations in `print()`.\n",
    "- Preferably use f-strings, it will be more readable.\n",
    "- Can be done in two lines of code."
   ]
  },
  {
   "cell_type": "code",
   "execution_count": 29,
   "metadata": {
    "tags": []
   },
   "outputs": [],
   "source": [
    "seq1 = [2, 16, 78, 6, 21, 98, 53627]\n",
    "# Code here!\n"
   ]
  },
  {
   "cell_type": "code",
   "execution_count": 30,
   "metadata": {
    "tags": [
     "solution",
     "fr"
    ]
   },
   "outputs": [
    {
     "name": "stdout",
     "output_type": "stream",
     "text": [
      "Le double du nombre 2 vaut 4\n",
      "Le double du nombre 16 vaut 32\n",
      "Le double du nombre 78 vaut 156\n",
      "Le double du nombre 6 vaut 12\n",
      "Le double du nombre 21 vaut 42\n",
      "Le double du nombre 98 vaut 196\n",
      "Le double du nombre 53627 vaut 107254\n"
     ]
    }
   ],
   "source": [
    "# Solution\n",
    "\n",
    "for nbr in seq1:\n",
    "    print(f\"Le double du nombre {nbr} vaut {nbr * 2}\")"
   ]
  },
  {
   "cell_type": "code",
   "execution_count": 31,
   "metadata": {
    "tags": [
     "en",
     "solution"
    ]
   },
   "outputs": [
    {
     "name": "stdout",
     "output_type": "stream",
     "text": [
      "The double of the number 2 equals 4\n",
      "The double of the number 16 equals 32\n",
      "The double of the number 78 equals 156\n",
      "The double of the number 6 equals 12\n",
      "The double of the number 21 equals 42\n",
      "The double of the number 98 equals 196\n",
      "The double of the number 53627 equals 107254\n"
     ]
    }
   ],
   "source": [
    "# Solution\n",
    "\n",
    "for nbr in seq1:\n",
    "    print(f\"The double of the number {nbr} equals {nbr * 2}\")"
   ]
  },
  {
   "cell_type": "markdown",
   "metadata": {
    "tags": [
     "fr"
    ]
   },
   "source": [
    "### Exercice (facile)\n",
    "\n",
    "Pour chaque nombre de la liste suivante:\n",
    "\n",
    "- Si celui-ci est inférieur à 100, affichez le résultat de ce nombre multiplié par 3.\n",
    "- Si celui-ci est supérieur ou égal à 100, affichez le résultat de ce nombre divisé par 5."
   ]
  },
  {
   "cell_type": "markdown",
   "metadata": {
    "tags": [
     "en"
    ]
   },
   "source": [
    "### Exercise (easy)\n",
    "\n",
    "For each number in the following list:\n",
    "\n",
    "- If it is less than 100, display the result of that number multiplied by 3.\n",
    "- If it is greater than or equal to 100, display the result of that number divided by 5."
   ]
  },
  {
   "cell_type": "code",
   "execution_count": 32,
   "metadata": {},
   "outputs": [],
   "source": [
    "seq2 = [50, 100, 213, 15, 350, 78, 101, 423]\n",
    "\n",
    "# tapez votre code ici :\n"
   ]
  },
  {
   "cell_type": "code",
   "execution_count": 33,
   "metadata": {
    "tags": [
     "solution"
    ]
   },
   "outputs": [
    {
     "name": "stdout",
     "output_type": "stream",
     "text": [
      "150\n",
      "20.0\n",
      "42.6\n",
      "45\n",
      "70.0\n",
      "234\n",
      "20.2\n",
      "84.6\n"
     ]
    }
   ],
   "source": [
    "#solution\n",
    "\n",
    "seq2 = [50, 100, 213, 15, 350, 78, 101, 423]\n",
    "\n",
    "for el in seq2:\n",
    "    if el < 100: print(el * 3)\n",
    "    else: print(el / 5)"
   ]
  },
  {
   "cell_type": "markdown",
   "metadata": {
    "tags": [
     "fr"
    ]
   },
   "source": [
    "### La fonction `len()`\n",
    "\n",
    "La fonction `len()`, abréviation de _lenght_ en anglais (la longueur), permet de retourner le nombre d'éléments d'un itérable. Attention car `len()` retourne le nombre d'éléments pas l'index maximum ! Ex:"
   ]
  },
  {
   "cell_type": "markdown",
   "metadata": {
    "tags": [
     "en"
    ]
   },
   "source": [
    "### The `len()` function\n",
    "\n",
    "The `len()` function, short for *lenght*, returns the number of elements in an iterable. Be careful because `len()` returns the number of elements not the maximum index! Ex:"
   ]
  },
  {
   "cell_type": "code",
   "execution_count": 34,
   "metadata": {
    "tags": [
     "fr"
    ]
   },
   "outputs": [
    {
     "name": "stdout",
     "output_type": "stream",
     "text": [
      "3\n"
     ]
    }
   ],
   "source": [
    "une_liste = [\"une chose\", \"encore un autre élément\", 3]\n",
    "print(len(une_liste)) # 3 éléments, donc retourne 3. Mais l'index va de 0 à 2"
   ]
  },
  {
   "cell_type": "code",
   "execution_count": 35,
   "metadata": {
    "tags": [
     "en"
    ]
   },
   "outputs": [
    {
     "name": "stdout",
     "output_type": "stream",
     "text": [
      "3\n"
     ]
    }
   ],
   "source": [
    "a_list = [\"an element\", \"another element\", 3]\n",
    "print(len(a_list)) # 3 elements, so returns 3 but the index ranges from 0 to 2."
   ]
  },
  {
   "cell_type": "markdown",
   "metadata": {
    "tags": [
     "fr"
    ]
   },
   "source": [
    "### Exercice (facile / moyen)\n",
    "\n",
    "Ecrivez une fonction qui calcule la moyenne d'un étudiant. Les notes sont contenues dans une liste.\n",
    "\n",
    "**ASTUCES**:\n",
    "\n",
    "- Créez une nouvelle variable qui contiendra la somme totale des notes et que vous initialiserez à 0.\n",
    "- Utilisez une boucle for pour itérer sur la liste et additionner toutes les notes.\n",
    "- Utilisez `len()` pour trouver la taille de la liste et calculer la moyenne."
   ]
  },
  {
   "cell_type": "markdown",
   "metadata": {
    "tags": [
     "en"
    ]
   },
   "source": [
    "### Exercise (easy / medium)\n",
    "\n",
    "Write a function that calculates the average grade of a student. The grades are contained in a list.\n",
    "\n",
    "**TIPS**:\n",
    "\n",
    "- Create a new variable that will contain the sum total of the grades and initialize it to 0.\n",
    "- Use a `for` loop to iterate through the list and add up all the grades.\n",
    "- Use `len()` to find the size of the list and calculate the average."
   ]
  },
  {
   "cell_type": "code",
   "execution_count": 36,
   "metadata": {
    "tags": []
   },
   "outputs": [],
   "source": [
    "grades = [10, 12, 16, 8, 17, 5, 9, 18, 14, 12, 11, 6, 8, 14, 20]\n",
    "\n",
    "# code here!\n"
   ]
  },
  {
   "cell_type": "code",
   "execution_count": 37,
   "metadata": {
    "tags": [
     "solution"
    ]
   },
   "outputs": [
    {
     "name": "stdout",
     "output_type": "stream",
     "text": [
      "average = 12.0\n"
     ]
    }
   ],
   "source": [
    "grades = [10, 12, 16, 8, 17, 5, 9, 18, 14, 12, 11, 6, 8, 14, 20]\n",
    "\n",
    "total = 0\n",
    "for el in grades:\n",
    "    total = total + el\n",
    "print(f\"average = {total / len(grades)}\")"
   ]
  },
  {
   "cell_type": "markdown",
   "metadata": {
    "tags": [
     "fr"
    ]
   },
   "source": [
    "### Exercice (moyen)\n",
    "\n",
    "Dans la liste suivante trois groupes de nombres sont mélangés : certains sont inférieurs à 100, d'autres sont compris entre 1000 et 10 000 et enfin certains sont supérieurs à 100 000. Calculez la moyenne pour chacun de ces trois groupes.\n",
    "\n",
    "Différentes méthodes peuvent être utilisées. L'une d'elle consiste à :\n",
    "\n",
    "- Créer 3 listes vides dans lesquelles on stockera les nombres appartenant à chaque groupe.\n",
    "\n",
    "- Itérer sur la liste \"notes\" et ajouter les notes dans la liste appropriée.\n",
    "\n",
    "- Une fois que nos trois listes contiennent chacun les bons nombres, on peut créer une liste de listes et itérer dessus en calculant la moyenne pour chacune des listes. Cela revient à imbriquer une boucle `for` dans une autre boucle `for`.\n",
    "\n",
    "**ASTUCES**:\n",
    "\n",
    "- Rappel : Pour ajouter des éléments à une liste, on utilise la méthode `.append()`"
   ]
  },
  {
   "cell_type": "markdown",
   "metadata": {
    "tags": [
     "en"
    ]
   },
   "source": [
    "### Exercise (medium)\n",
    "\n",
    "In the following sequence three groups of numbers are mixed: some are less than 100, some are between 1000 and 10 000 and some are more than 100 000. Calculate the average for each of these three groups.\n",
    "\n",
    "Different methods can be used. One method is to :\n",
    "\n",
    "- Create 3 empty lists in which to store the numbers belonging to each group.\n",
    "\n",
    "- Iterate over the \"grades\" list and add the grades to the appropriate list.\n",
    "\n",
    "- Once our three lists each contain the correct numbers, we can create a list of lists and iterate on them, calculating the average for each list. This is like nesting a `for` loop inside another `for` loop.\n",
    "\n",
    "**TIPS**:\n",
    "\n",
    "- Reminder: To add items to a list, use the `.append()` method."
   ]
  },
  {
   "cell_type": "code",
   "execution_count": 38,
   "metadata": {},
   "outputs": [],
   "source": [
    "seq = [100001, 10, 14, 869761, 1771, 5, 7, 1878, 15, 11, 1001, 6901, 428712, 11, 19, 387654, 9009, 16]\n",
    "# code here!\n"
   ]
  },
  {
   "cell_type": "code",
   "execution_count": 39,
   "metadata": {
    "tags": [
     "solution"
    ]
   },
   "outputs": [
    {
     "name": "stdout",
     "output_type": "stream",
     "text": [
      "Average for list [10, 14, 5, 7, 15, 11, 11, 19, 16] = 12.0\n",
      "Average for list [1771, 1878, 1001, 6901, 9009] = 4112.0\n",
      "Average for list [100001, 869761, 428712, 387654] = 446532.0\n"
     ]
    }
   ],
   "source": [
    "seq = [100001, 10, 14, 869761, 1771, 5, 7, 1878, 15, 11, 1001, 6901, 428712, 11, 19, 387654, 9009, 16]\n",
    "\n",
    "under_100 = []\n",
    "between_1000_and_10_000 = []\n",
    "over_100_000 = []\n",
    "\n",
    "for el in seq:\n",
    "    if el < 100: under_100.append(el)\n",
    "    elif el < 10000: between_1000_and_10_000.append(el)\n",
    "    else: over_100_000.append(el)\n",
    "\n",
    "list_of_lists = [under_100, between_1000_and_10_000, over_100_000]\n",
    "\n",
    "for l in list_of_lists:\n",
    "    total = 0\n",
    "    for el in l:\n",
    "        total = total + el\n",
    "    print(f\"Average for list {l} = {total / len(l)}\")"
   ]
  },
  {
   "cell_type": "markdown",
   "metadata": {
    "tags": [
     "fr"
    ]
   },
   "source": [
    "### Itération sur une plage de nombres avec `range()`\n",
    "\n",
    "`range()` est une fonction très utile, elle permet de créer une \"plage\", c'est-à-dire une étendue de nombres, de la manière dont on le souhaite. Par défaut la fonction part de 0:"
   ]
  },
  {
   "cell_type": "markdown",
   "metadata": {
    "tags": [
     "en"
    ]
   },
   "source": [
    "### Iterating over a range of numbers with `range()`\n",
    "\n",
    "`range()` is a very useful function, it allows you to create a \"range\" of numbers. By default the function starts from 0:"
   ]
  },
  {
   "cell_type": "code",
   "execution_count": 40,
   "metadata": {
    "tags": []
   },
   "outputs": [
    {
     "name": "stdout",
     "output_type": "stream",
     "text": [
      "0\n",
      "1\n",
      "2\n",
      "3\n",
      "4\n"
     ]
    }
   ],
   "source": [
    "for n in range(5):\n",
    "    print(n)"
   ]
  },
  {
   "cell_type": "markdown",
   "metadata": {
    "tags": [
     "fr"
    ]
   },
   "source": [
    "Vous remarquez que comme Python commence à compter à partir de 0. Un `range(5)` s'arrête à 4 ! Mais il y a pourtant bien 5 éléments différents.\n",
    "\n",
    "Si l'on précise un seul nombre à `range()`, comme dans l'exemple vu plus haut, il considèrera que ce nombre est celui auquel la plage doit s'arrêter. Si on lui en donne deux, il considèrera que le premier nombre est le point de départ et le second le point d'arrivée. Par exemple :"
   ]
  },
  {
   "cell_type": "markdown",
   "metadata": {
    "tags": [
     "en"
    ]
   },
   "source": [
    "You will notice that since Python starts counting from 0, a `range(5)` stops at 4! But there are 5 different elements.\n",
    "\n",
    "If `range()` is given a single number, as in the example above, it will assume that this is the number at which the range should end. If it is given two, it will assume that the first number is the starting point and the second the ending point. For example :"
   ]
  },
  {
   "cell_type": "code",
   "execution_count": 41,
   "metadata": {
    "tags": []
   },
   "outputs": [
    {
     "name": "stdout",
     "output_type": "stream",
     "text": [
      "2\n",
      "3\n",
      "4\n"
     ]
    }
   ],
   "source": [
    "for n in range(2,5):\n",
    "    print(n)"
   ]
  },
  {
   "cell_type": "markdown",
   "metadata": {
    "tags": [
     "fr"
    ]
   },
   "source": [
    "### Exercice (facile)\n",
    "\n",
    "En utilisant une boucle `for` ainsi que `range()`, affichez le résultat suivant:\n",
    "    \n",
    "```python\n",
    "*\n",
    "**\n",
    "***\n",
    "****\n",
    "*****\n",
    "******\n",
    "*******\n",
    "********\n",
    "```\n",
    "\n",
    "**ASTUCE**:\n",
    "\n",
    "- Réalisable en seulement deux lignes de code (voire une seule).\n",
    "- Il y a 8 étoiles dans la dernière ligne.\n",
    "- Le * est le symbole de la multiplication, et \"*\" est le caractère étoile."
   ]
  },
  {
   "cell_type": "markdown",
   "metadata": {
    "tags": [
     "en"
    ]
   },
   "source": [
    "### Exercise (easy)\n",
    "\n",
    "Using a `for` loop and `range()`, display the following result:\n",
    "    \n",
    "```python\n",
    "*\n",
    "**\n",
    "***\n",
    "****\n",
    "*****\n",
    "******\n",
    "*******\n",
    "********\n",
    "```\n",
    "\n",
    "**ASTUCE**:\n",
    "\n",
    "- Achievable in only two lines of code (or even one).\n",
    "- There are 8 stars in the last line.\n",
    "- The * is the multiplication symbol, and \"*\" is the star character."
   ]
  },
  {
   "cell_type": "code",
   "execution_count": 42,
   "metadata": {},
   "outputs": [],
   "source": [
    "# Code here!\n"
   ]
  },
  {
   "cell_type": "code",
   "execution_count": 43,
   "metadata": {
    "tags": [
     "solution"
    ]
   },
   "outputs": [
    {
     "name": "stdout",
     "output_type": "stream",
     "text": [
      "*\n",
      "**\n",
      "***\n",
      "****\n",
      "*****\n",
      "******\n",
      "*******\n"
     ]
    }
   ],
   "source": [
    "#solution\n",
    "\n",
    "for i in range(1,8): print(i * \"*\")"
   ]
  },
  {
   "cell_type": "markdown",
   "metadata": {
    "tags": [
     "fr"
    ]
   },
   "source": [
    "### Exercice (moyen / difficile)\n",
    "\n",
    "Le but de cet exercice est d'écrire un code qui permettra de déterminer si on nombre est premier ou pas. Pour rappel les [nombres premiers](https://fr.wikipedia.org/wiki/Nombre_premier) sont les nombres qui ne sont divisibles que par 1 et par eux-même. Ecrivez un programme qui prend en entrée un nombre égal ou supérieur à 2 et vous affiche en sortie si ce nombre est premier ou si il ne l'est pas.\n",
    "\n",
    "**ASTUCES**:\n",
    "\n",
    "- Pour déterminer si un nombre est premier ou pas, vous devrez utiliser l'opération \"modulo\", qui retourne le reste de la division euclidienne. Si à la suite d'une division euclidienne le reste est égal à zéro et que le diviseur utilisé n'est ni 1 ni lui-même alors ce nombre n'est pas premier. En Python le modulo s'écrit `%`. Si l'on veut savoir si 5 est un nombre premier, on divise 5 par tous les nombres compris entre 2 et 4 (puisqu'on exclut 1 et lui-même), c'est-à-dire 2, 3 et 4.\n",
    "\n",
    "```python\n",
    "5 % 2 = 1\n",
    "5 % 3 = 2\n",
    "5 % 4 = 1\n",
    "```\n",
    "\n",
    "Aucune de ces opérations ne retourne 0 donc 5 est un nombre premier. Testons maintenant avec avec 35:\n",
    "\n",
    "```python\n",
    "35 % 2 = 1\n",
    "35 % 3 = 2\n",
    "35 % 4 = 3\n",
    "35 % 5 = 0\n",
    "```\n",
    "\n",
    "La quatrième opération nous retourne 0, cela veut dire que 35 est disivible par 5. Donc il n'est pas un nombre premier.\n",
    "\n",
    "- Pour être plus efficace, partez du principe que le nombre est premier, ce qui peut être matérialisé par l'initialisation d'une variable booléenne `is_prime = True` par exemple. Dès que l'on trouve un diviseur autre que 1 et lui-même, démontrant ainsi que ce nombre n'est pas premier, on modifie cette variable booléenne en conséquence et on lui assigne `False`.\n",
    "- La fonction `range()` vous sera utile.\n",
    "- Vous aurez besoin de 2 variables et 6 lignes de code.\n",
    "- On pourrait écrire cette fonction pour qu'elle soit plus rapide et plus lisible, mais cela ferait appel à des notions que nous n'avons pas encore vu."
   ]
  },
  {
   "cell_type": "markdown",
   "metadata": {
    "tags": [
     "en"
    ]
   },
   "source": [
    "### Exercise (medium / difficult)\n",
    "\n",
    "The aim of this exercise is to write a code which will allow to determine if a number is prime or not. As a reminder, [prime numbers](https://en.wikipedia.org/wiki/Prime_number) are numbers that are divisible only by 1 and by themselves. Write a program that takes as input a number equal to or greater than 2 and displays as output whether that number is prime or not.\n",
    "\n",
    "**TIPS**:\n",
    "\n",
    "- To determine whether a number is prime or not, you will need to use the \"modulo\" operation, which returns the remainder of the Euclidean division. If the remainder of a Euclidean division is zero and the divisor used is neither 1 nor itself then the number is not prime. In Python the modulo is written as `%`. If we want to know if 5 is a prime number, we divide 5 by all the numbers between 2 and 4 (since we exclude 1 and itself), i.e. 2, 3 and 4.\n",
    "\n",
    "```python\n",
    "5 % 2 = 1\n",
    "5 % 3 = 2\n",
    "5 % 4 = 1\n",
    "```\n",
    "\n",
    "None of these operations return 0 so 5 is a prime number. Now let's test with 35:\n",
    "\n",
    "```python\n",
    "35 % 2 = 1\n",
    "35 % 3 = 2\n",
    "35 % 4 = 3\n",
    "35 % 5 = 0\n",
    "```\n",
    "\n",
    "The fourth operation returns 0, which means that 35 is disivisible by 5. So it is not a prime number.\n",
    "\n",
    "- To be more efficient, assume that the number is prime, which can be done by initializing a boolean variable `is_prime = True` for example. As soon as you find a divisor other than 1 and itself, thus demonstrating that the number is not prime, you change this boolean variable accordingly and assign it `False`.\n",
    "- The function `range()` will be useful.\n",
    "- You will need 2 variables and 6 lines of code.\n",
    "- We could write this function to make it faster and more readable, but that would involve concepts we haven't seen yet."
   ]
  },
  {
   "cell_type": "code",
   "execution_count": 44,
   "metadata": {},
   "outputs": [],
   "source": [
    "# Code here!\n"
   ]
  },
  {
   "cell_type": "code",
   "execution_count": 45,
   "metadata": {
    "tags": [
     "solution"
    ]
   },
   "outputs": [
    {
     "name": "stdout",
     "output_type": "stream",
     "text": [
      "13 is a prime number!\n"
     ]
    }
   ],
   "source": [
    "# Solution\n",
    "\n",
    "num = 13\n",
    "is_prime = True\n",
    "\n",
    "for i in range(2, num):\n",
    "    if (num % i) == 0: is_prime = False\n",
    "\n",
    "if is_prime == True: print(f\"{num} is a prime number!\")\n",
    "else : print(f\"{num} is not a prime number!\")"
   ]
  },
  {
   "cell_type": "markdown",
   "metadata": {
    "tags": [
     "fr"
    ]
   },
   "source": [
    "### Itération sur une chaîne de caractère\n",
    "\n",
    "Examinons ce qu'il se passe si on utilise la boucle `for` sur une string."
   ]
  },
  {
   "cell_type": "markdown",
   "metadata": {
    "tags": [
     "en"
    ]
   },
   "source": [
    "### Iterate on a string\n",
    "\n",
    "Let's look at what happens if we use the `for` loop on a string."
   ]
  },
  {
   "cell_type": "code",
   "execution_count": 46,
   "metadata": {
    "tags": []
   },
   "outputs": [
    {
     "name": "stdout",
     "output_type": "stream",
     "text": [
      "H\n",
      "e\n",
      "l\n",
      "l\n",
      "o\n",
      "!\n"
     ]
    }
   ],
   "source": [
    "for el in \"Hello!\":\n",
    "    print(el)"
   ]
  },
  {
   "cell_type": "markdown",
   "metadata": {
    "tags": [
     "fr"
    ]
   },
   "source": [
    "Si une string s'appelle aussi **\"chaîne de caratère\"** c'est parce que Python conçoit une string comme une succession de différents caractères (on dit aussi que les caractères sont concaténés, c'est-à-dire collés les uns aux autres). Chaque \"maillon\" de notre chaîne est donc un caractère différent.\n",
    "\n",
    "Vous remarquerez que l'espace \" \" est aussi un caractère.\n",
    "\n",
    "On appelle les objets composés de différents éléments des \"itérables\", ce qui veut dire qu'on peut \"itérer\" dessus, qui est un mot plus précis pour dire \"parcourir\". Les objets itérables possèdent une succession d'éléments que l'on peut appeler les uns après les autres.\n",
    "\n",
    "**REMARQUE**:\n",
    "\n",
    "- Notez comme Python comprend parfaitement ce que l'on veut faire : le mot `el` est une variable comme une autre. Mais Python lui assigne à chaque boucle effectuée une nouvelle valeur."
   ]
  },
  {
   "cell_type": "markdown",
   "metadata": {
    "tags": [
     "en"
    ]
   },
   "source": [
    "The reason why several characters are called a *string* is because Python conceives a string as a sequence of different characters (we also say that the characters are \"concatenated\".\n",
    "\n",
    "You will notice that the space \" \" is also a character."
   ]
  },
  {
   "cell_type": "markdown",
   "metadata": {
    "tags": [
     "fr"
    ]
   },
   "source": [
    "### Exercice (facile)\n",
    "\n",
    "Au marché vous rencontez votre ancien professeur de français, Mme Michu. Celle-ci vous demande si vous connaissez le mot le plus long de la langue française et quel est son nombre de caractères ? Vous savez très bien qu'il s'agit du mot \"anticonstitutionnellement\", mais vous avez oublié sa longueur. Sans plus réfléchir, vous décidez d'utiliser Python pour écrire un programme qui calcule la longueur de ce mot.\n",
    "\n",
    "**Astuce:**\n",
    "\n",
    "- Créez une variable qui vous servira de compteur."
   ]
  },
  {
   "cell_type": "markdown",
   "metadata": {
    "tags": [
     "en"
    ]
   },
   "source": [
    "### Exercise (easy)\n",
    "\n",
    "You know that the longest word of the English language is \"pneumonoultramicroscopicsilicovolcanoconiosis\", but how many characters are there inside? Find out using a `for` loop and a variable to increment."
   ]
  },
  {
   "cell_type": "code",
   "execution_count": 47,
   "metadata": {},
   "outputs": [],
   "source": [
    "# Code here!\n"
   ]
  },
  {
   "cell_type": "code",
   "execution_count": 48,
   "metadata": {
    "tags": [
     "fr",
     "solution"
    ]
   },
   "outputs": [
    {
     "name": "stdout",
     "output_type": "stream",
     "text": [
      "Il y a 25 caractères dans le mot \"anticonstitutionnellement\" !\n"
     ]
    }
   ],
   "source": [
    "# Solution\n",
    "\n",
    "n = 0\n",
    "\n",
    "for caractere in \"anticonstitutionnellement\":\n",
    "    n += 1\n",
    "    \n",
    "print(f'Il y a {n} caractères dans le mot \"anticonstitutionnellement\" !')"
   ]
  },
  {
   "cell_type": "code",
   "execution_count": 49,
   "metadata": {
    "tags": [
     "solution",
     "en"
    ]
   },
   "outputs": [
    {
     "name": "stdout",
     "output_type": "stream",
     "text": [
      "Il y a 45 caractères dans le mot \"pneumonoultramicroscopicsilicovolcanoconiosis\"!\n"
     ]
    }
   ],
   "source": [
    "count = 0\n",
    "\n",
    "for characater in \"pneumonoultramicroscopicsilicovolcanoconiosis\":\n",
    "    count += 1\n",
    "    \n",
    "print(f'There are {count} characters in the word \"pneumonoultramicroscopicsilicovolcanoconiosis\"!')"
   ]
  },
  {
   "cell_type": "markdown",
   "metadata": {
    "tags": [
     "fr"
    ]
   },
   "source": [
    "# Pour aller plus loin"
   ]
  },
  {
   "cell_type": "markdown",
   "metadata": {
    "tags": [
     "fr"
    ]
   },
   "source": [
    "## La boucle `while`\n",
    "\n",
    "Cette instruction, qui signifie \"tant que\", permet d'exécuter un bloc d'opérations tant qu'une condition est vérifiée.\n",
    "\n",
    "Imaginons que nous disposons d'un stock fini de bonbons dans un sachet (ce qui malheureusement est toujours le cas) et que nous les mangeons un par un. Une boucle `while` fonctionnerait ainsi :\n",
    "\n",
    "Exemple :"
   ]
  },
  {
   "cell_type": "code",
   "execution_count": 50,
   "metadata": {
    "tags": [
     "fr"
    ]
   },
   "outputs": [
    {
     "name": "stdout",
     "output_type": "stream",
     "text": [
      "Je dispose de 5 bonbon(s) dans mon sachet !\n",
      "Miam ! :)\n",
      "Il y a encore 4 bonbon(s) restant(s) dans mon sachet !\n",
      "Miam ! :)\n",
      "Il y a encore 3 bonbon(s) restant(s) dans mon sachet !\n",
      "Miam ! :)\n",
      "Il y a encore 2 bonbon(s) restant(s) dans mon sachet !\n",
      "Miam ! :)\n",
      "Il y a encore 1 bonbon(s) restant(s) dans mon sachet !\n",
      "Miam ! :)\n",
      "Il y a encore 0 bonbon(s) restant(s) dans mon sachet !\n",
      "C'est fini ! Le nombre de bonbons restants est tombé à 0 ! :(\n"
     ]
    }
   ],
   "source": [
    "nombre_de_bonbons = 5\n",
    "\n",
    "print(f\"Je dispose de {nombre_de_bonbons} bonbon(s) dans mon sachet !\")\n",
    "\n",
    "while nombre_de_bonbons > 0:\n",
    "    print(\"Miam ! :)\")\n",
    "    nombre_de_bonbons = nombre_de_bonbons - 1\n",
    "    print(f\"Il y a encore {nombre_de_bonbons} bonbon(s) restant(s) dans mon sachet !\")\n",
    "\n",
    "print(f\"C'est fini ! Le nombre de bonbons restants est tombé à {nombre_de_bonbons} ! :(\")"
   ]
  },
  {
   "cell_type": "markdown",
   "metadata": {
    "tags": [
     "fr"
    ]
   },
   "source": [
    "Dans l'exemple ci-dessus, on regarde si il reste encore des bonbons dans le sachet, si oui alors on en mange un, ce qui fait décroître le stock d'un. A chaque fois que le bloc d'instruction est fini, la condition est de nouveau vérifiée. Quand le stock est égal à 0, la boucle s'arrête.\n",
    "\n",
    "D'un point de vue plus mathématique cette même fonction pourrait s'écrire ainsi :"
   ]
  },
  {
   "cell_type": "code",
   "execution_count": 51,
   "metadata": {
    "tags": [
     "fr"
    ]
   },
   "outputs": [
    {
     "name": "stdout",
     "output_type": "stream",
     "text": [
      "x vaut 5\n",
      "x vaut 4\n",
      "x vaut 3\n",
      "x vaut 2\n",
      "x vaut 1\n",
      "Fini ! x vaut 0\n"
     ]
    }
   ],
   "source": [
    "x = 5\n",
    "\n",
    "while x > 0:\n",
    "    print(f\"x vaut {x}\")\n",
    "    x = x - 1\n",
    "print(f\"Fini ! x vaut {x}\")"
   ]
  },
  {
   "cell_type": "markdown",
   "metadata": {
    "tags": [
     "fr"
    ]
   },
   "source": [
    "## Attention aux boucles infinies !\n",
    "\n",
    "Quand on programme il arrive parfois que l'on se trompe dans les instructions et/ou que la condition n'est jamais remplie, il se passe alors ce qu'on appelle une boucle infinie. Dans ce cas là l'ordinateur va continuer à exécuter l'instruction jusqu'à ce qu'on le \"force\" manuellement à l'arrêter ou qu'un évènement extérieur intervient (coupure de courant, erreur de mémoire, bug du programme...). Par exemple si j'écris :\n",
    "\n",
    "``python\n",
    "while 1 != 2:\n",
    "    print(\"Zut, une boucle infinie !!!!\")\n",
    "``\n",
    "\n",
    "Comme 1 ne sera jamais égal à 2, si on exécutait cette boucle, cela afficherait cette phrase jusqu'à... l'infini. Si cela arrive, on peut cliquer sur l'icône du carré \"STOP\" (_\"Interrupt the Kernel\"_) en haut du notebook. Ou bien utiliser le raccourci :\n",
    "\n",
    "**ESC + i i** (touche échap puis appuyer deux fois rapidement sur la touche \"i\", pour _\"interrupt\"_)\n",
    "\n",
    "Jupyter Lab va vous afficher un message d'erreur de type \"*KeyboardInterrupt*\", c'est tout à fait normal.\n",
    "\n",
    "## Un exemple de boucle infini :\n",
    "**lancez-la puis coupez le kernel en utilisant le raccourci clavier.**\n",
    "\n",
    "**Attention** : Pour éviter de potentiels problèmes cette cellule est en mode \"*raw*\" (texte brut) et ne peut pas être exécutée. Changez son type en vous positionnant dessus comme si vous alliez l'éditer (le curseur d'édition clignote quelque part dans la cellule) puis en utilisant le raccourci clavier **ESC + y**. (Vous pouvez aussi choisir dans le menu déroulant du haut du notebook \"Code\" à la place de \"Raw\", cela revient au même mais c'est moins rapide). \n",
    "\n",
    "**REMARQUES**:\n",
    "\n",
    "- Ici la première ligne de code permet d'importer une fonction spéciale nommée `sleep()` qui provient de la librairie `time`. Cette fonction `sleep()` permet de mettre en pause Python pour une durée déterminée (3 secondes dans le cas présent). Nous verrons les librairies en détails plus tard.\n",
    "- Par convention on note souvent la variable qui permet de compter un nombre de passage dans une boucle \"i\" ou \"count\"."
   ]
  },
  {
   "cell_type": "raw",
   "metadata": {
    "tags": [
     "fr"
    ]
   },
   "source": [
    "from time import sleep\n",
    "\n",
    "i = 0\n",
    "\n",
    "while 1 != 2:\n",
    "    i = i + 1\n",
    "    print(f\"Boucle infinie passage N°{i}\")\n",
    "    sleep(3)"
   ]
  },
  {
   "cell_type": "markdown",
   "metadata": {
    "tags": [
     "fr"
    ]
   },
   "source": [
    "## Exercice (facile)\n",
    "\n",
    "Sur le marché, vous rencontrez votre petit cousin, Théodore, toujours prompt à vous proposer des défis mathématiques.\n",
    "Celui-ci souhaite afficher en Python la table de multiplication de 9. L'on pourrait bien sûr écrire une série de 10 `print()` comme ceci :\n",
    "\n",
    "``python\n",
    "print(\"9 fois 0 = 0\")\n",
    "print(\"9 fois 1 = 9\")\n",
    "print(\"9 fois 2 = 18\")\n",
    "print(\"...etc...\")\n",
    "``\n",
    "Mais ce serait fastidieux. Montrez-lui la puissance des boucles en écrivant un programme qui affiche automatiquement la table de multiplication de 9. Faites-en sorte que votre programme puisse être facilement modifiable pour afficher la table de multiplication d'un autre nombre.\n",
    "\n",
    "**ASTUCES**:\n",
    "\n",
    "- On pourrait utiliser une boucle ``for`` bien sûr, mais faisons-le ici avec une boucle `while`.\n",
    "- On peut très bien effectuer des opérations dans les arguments de `print()` ou dans les accolades es f-strings. Ex: `print(3*4)` ou `print(f\"le résultat est : {3*4}\")`\n",
    "- N'oubliez pas d'incrémenter votre compteur, sinon vous créerez une boucle infinie !"
   ]
  },
  {
   "cell_type": "code",
   "execution_count": 52,
   "metadata": {
    "tags": [
     "fr"
    ]
   },
   "outputs": [],
   "source": [
    "# Tapez votre code ici:"
   ]
  },
  {
   "cell_type": "code",
   "execution_count": 53,
   "metadata": {
    "tags": [
     "solution",
     "fr"
    ]
   },
   "outputs": [
    {
     "name": "stdout",
     "output_type": "stream",
     "text": [
      "9* 0 = 0\n",
      "9* 1 = 9\n",
      "9* 2 = 18\n",
      "9* 3 = 27\n",
      "9* 4 = 36\n",
      "9* 5 = 45\n",
      "9* 6 = 54\n",
      "9* 7 = 63\n",
      "9* 8 = 72\n",
      "9* 9 = 81\n",
      "9* 10 = 90\n"
     ]
    }
   ],
   "source": [
    "# Solution\n",
    "\n",
    "num = 9\n",
    "count = 0\n",
    "\n",
    "while count <= 10:\n",
    "    print(f\"{num}* {count} = {num * count}\")\n",
    "    count += 1"
   ]
  },
  {
   "cell_type": "markdown",
   "metadata": {
    "tags": [
     "fr"
    ]
   },
   "source": [
    "## Exercice (moyen)\n",
    "\n",
    "Théodore vous soumet un nouveau défi :\n",
    "Sachant qu'une feuille de papier moyenne mesure 0,11 millimètres d'épaisseur (soit 0,00011 mètres). Combien de fois faut-il la plier pour qu'elle atteigne la hauteur de la tour Eiffel (324m) ? Et pour atteindre la Lune (distance moyenne de 384 402 000 mètres) ? Ceci est bien sûr un calcul théorique, dans la réalité il n'est guère possible de plier une feuille de papier plus de 7 fois, voire un peu plus avec [certaines techniques](http://www.le-saviez-vous.fr/2011/03/combien-de-fois-peux-t-on-reellement.html).\n",
    "\n",
    "**ASTUCES**:\n",
    "\n",
    "- Plier une feuille revient à doubler sa taille à chaque pliage.\n",
    "- Il vous faudra créer trois variables en entrée : la taille de la feuille, et le nombre de pliages réalisés (le compteur, ou *count*), la distance à dépasser.\n",
    "- Il suffit d'environ 6 lignes de codes."
   ]
  },
  {
   "cell_type": "code",
   "execution_count": 54,
   "metadata": {
    "tags": [
     "fr"
    ]
   },
   "outputs": [],
   "source": [
    "# Tapez votre code ici:"
   ]
  },
  {
   "cell_type": "code",
   "execution_count": 55,
   "metadata": {
    "tags": [
     "solution",
     "fr"
    ]
   },
   "outputs": [
    {
     "name": "stdout",
     "output_type": "stream",
     "text": [
      "22\n"
     ]
    }
   ],
   "source": [
    "# solution\n",
    "\n",
    "distance = 324  # Eiffel Tower\n",
    "# distance = 384402000  # Moon\n",
    "\n",
    "sheet_thickness = 0.00011\n",
    "count = 0\n",
    "while sheet_thickness <= distance:\n",
    "    sheet_thickness = sheet_thickness * 2\n",
    "    # print(sheet_thickness)\n",
    "    count += 1\n",
    "print(count)"
   ]
  },
  {
   "cell_type": "markdown",
   "metadata": {
    "tags": [
     "fr"
    ]
   },
   "source": [
    "## Exercice (difficile)\n",
    "\n",
    "Théodore et ses amis du club de maths viennent vous proposer un nouveau défi. Saurez-vous élaborer un programme qui permette non pas de vérifier si un nombre est premier ou pas, mais de trouver **TOUS** les nombres premiers présents sur une plage de nombre donnée.\n",
    "Vous devez afficher tous les nombres premiers trouvés, ainsi que le nombre total de nombres premiers trouvés.\n",
    "\n",
    "Pour vérifier les réponses de votre programme sachez qu'il existe:\n",
    "- 25 nombre premiers entre 2 et 100.\n",
    "- 21 nombre premiers entre 100 et 200.\n",
    "\n",
    "Une liste plus précise est disponible sur cette [page wikipédia](https://fr.wikipedia.org/wiki/Liste_de_nombres_premiers) ou bien [sur ce site là](https://www.nombres-premiers.fr/liste.html) si vous voulez avoir le détail des nombres.\n",
    "\n",
    "**ASTUCES**\n",
    "\n",
    "- Afin d'améliorer la vitesse de votre programme vous pouvez utiliser deux méthodes :\n",
    "\n",
    "   1. Utilisez une boucle `for` afin de récupérer chaque nombre de la plage étudiée, mais lors du test de chaque nombre utilisez plutôt une boucle `while` afin de tester si le nombre est premier ou pas. En écrivant la bonne condition au `while` vous pouvez ainsi faire en sorte que la boucle cesse dès lors que l'on sait que le nombre testé n'est pas premier.\n",
    "   \n",
    "   1. Pour accélérer de manière notable la vitesse d'exécution du code, on peut utiliser le théorème suivant : **\"Si n n'est divisible par aucun des nombres premiers inférieur ou égaux à sa racine carrée, on peut affirmer qu'il est premier.\"** Au lieu de tester jusqu'au nombre cible, on peut s'arrêter à sa racine carrée. En python il existe différent moyen d'écrire la racine carrée, une méthode simple et rapide et d'utiliser la puissance 0.5 : `n**0.5`"
   ]
  },
  {
   "cell_type": "code",
   "execution_count": 56,
   "metadata": {
    "tags": [
     "fr"
    ]
   },
   "outputs": [],
   "source": [
    "# Code here!\n"
   ]
  },
  {
   "cell_type": "code",
   "execution_count": 57,
   "metadata": {
    "tags": [
     "solution",
     "fr"
    ]
   },
   "outputs": [
    {
     "name": "stdout",
     "output_type": "stream",
     "text": [
      "Prime numbers between 2 and 100 :\n",
      "2\n",
      "3\n",
      "5\n",
      "7\n",
      "11\n",
      "13\n",
      "17\n",
      "19\n",
      "23\n",
      "29\n",
      "31\n",
      "37\n",
      "41\n",
      "43\n",
      "47\n",
      "53\n",
      "59\n",
      "61\n",
      "67\n",
      "71\n",
      "73\n",
      "79\n",
      "83\n",
      "89\n",
      "97\n",
      "In the end, 25 prime numbers have been found in this interval.\n",
      "CPU times: user 223 µs, sys: 47 µs, total: 270 µs\n",
      "Wall time: 244 µs\n"
     ]
    }
   ],
   "source": [
    "%%time\n",
    "\n",
    "# Solution\n",
    "\n",
    "start = 2\n",
    "end = 100\n",
    "count = 0\n",
    "\n",
    "print(f\"Prime numbers between {start} and {end} :\")\n",
    "\n",
    "for num in range(start, end):\n",
    "    is_prime = True\n",
    "    i = 2  # A prime number is divisible by 1, so let's start at 2.\n",
    "    \n",
    "    while (i < round(num**0.5) + 1) and (is_prime == True):\n",
    "        if (num % i) == 0: is_prime = False\n",
    "        else: i += 1\n",
    "    if is_prime == True:\n",
    "        print(num)\n",
    "        count += 1\n",
    "\n",
    "print(f\"In the end, {count} prime numbers have been found in this interval.\")"
   ]
  },
  {
   "cell_type": "markdown",
   "metadata": {
    "tags": [
     "fr"
    ]
   },
   "source": [
    "## Poursuivons les itérations sur les listes"
   ]
  },
  {
   "cell_type": "markdown",
   "metadata": {
    "tags": [
     "fr"
    ]
   },
   "source": [
    "## La fonction enumerate()\n",
    "\n",
    "On a parfois envie de récupérer aussi l'index (la position) de l'élément en question. Pour cela on utilise la fonction `enumerate()`. `Enumerate` retourne deux valeurs : l'index, qui est stockée dans la première variable qu'on lui indique, et l'élément lui-même qui est stocké dans la seconde variable.\n",
    "\n",
    "Beaucoup de programmeurs nomment \"i\" (diminutif de \"index\") la variable contenant l'index de l'élément traité par la boucle."
   ]
  },
  {
   "cell_type": "code",
   "execution_count": 58,
   "metadata": {
    "tags": [
     "fr"
    ]
   },
   "outputs": [
    {
     "name": "stdout",
     "output_type": "stream",
     "text": [
      "Index : 0 - Element : kiwi\n",
      "Index : 1 - Element : poire\n",
      "Index : 2 - Element : pomme\n",
      "Index : 3 - Element : ananas\n",
      "Index : 4 - Element : framboise\n"
     ]
    }
   ],
   "source": [
    "panier = [\"kiwi\", \"poire\", \"pomme\", \"ananas\", \"framboise\"]\n",
    "\n",
    "for i, el in enumerate(panier):\n",
    "    print(f\"Index : {i} - Element : {el}\")"
   ]
  },
  {
   "cell_type": "markdown",
   "metadata": {
    "tags": [
     "fr"
    ]
   },
   "source": [
    "## Exercice (moyen)\n",
    "\n",
    "Écrire un programme qui parcourt la liste suivante et remplace toutes les strings \"banane\" en \"gorille\" en utilisant `enumerate()`."
   ]
  },
  {
   "cell_type": "code",
   "execution_count": 59,
   "metadata": {
    "tags": [
     "fr"
    ]
   },
   "outputs": [],
   "source": [
    "liste = [\"mangue\", \"banane\", \"kiwi\", \"orange\",\n",
    "         \"banane\", \"banane\", \"banane\", \"banane\",\n",
    "         \"fraise\", \"poire\", \"banane\", \"peche\", \"banane\",\n",
    "         \"ananas\"]\n",
    "\n",
    "# Tapez le code ici:"
   ]
  },
  {
   "cell_type": "code",
   "execution_count": 60,
   "metadata": {
    "tags": [
     "solution",
     "fr"
    ]
   },
   "outputs": [],
   "source": [
    "# solution\n",
    "\n",
    "liste = [\"mangue\", \"banane\", \"kiwi\", \"orange\",\n",
    "         \"banane\", \"banane\", \"banane\", \"banane\",\n",
    "         \"fraise\", \"poire\", \"banane\", \"peche\", \"banane\",\n",
    "         \"ananas\"]\n",
    "\n",
    "for i, el in enumerate(liste):\n",
    "    if el == \"banane\": liste[i] = \"gorille\""
   ]
  },
  {
   "cell_type": "markdown",
   "metadata": {
    "tags": [
     "fr"
    ]
   },
   "source": [
    "## Exercice (moyen/difficile)\n",
    "\n",
    "Ecrivez un programme qui demande à l'utilisateur de rentrer ses notes une par une puis, dès qu'il entre autre chose qu'un nombre, lui affiche la liste de toutes ses notes ainsi que sa moyenne. Pour simplifier, on considère que toutes les notes sont des nombres entiers (mais la moyenne elle peut être un *float*).\n",
    "\n",
    "Petite difficulté supplémentaire, cette fois-ci vous n'avez pas le droit d'utiliser la fonction `len()`. Au lieu de cela, utilisez enumerate et récupérez l'index. Ce dernier vous servira à calculer le nombre de notes.\n",
    "\n",
    "**ASTUCES**:\n",
    "\n",
    "- Pour que l'utilisateur puisse entrer des notes, on utilise la fonction `input()`. Rappellez-vous que cette fonction stocke la réponse de l'utilisateur en format string.\n",
    "- Utilisez une boucle `while` afin que l'utilisateur puisse entrer autant de notes qu'il le désire. Quittez cette boucle si la note entrée n'est pas un nombre, pour tester cela, utilisez la méthode `.isdigit()` qui renvoie `True` si une chaîne de caractères ne contient que des nombres.\n",
    "- Une fois que vous savez que l'utilisateur a entré un nombre, n'oubliez pas de convertir cette chaîne de caractère en format numérique avec la fonction `int()`.\n",
    "- Ajoutez chaque nombre dans une liste avec `.append()`. \n",
    "- Vous avez plusieurs moyens de calculer la moyenne. Par exemple vous pouvez utilisez une boucle `for` avec `enumerate` sur la liste de notes en se servant de l'index final pour connaître le nombre d'éléments de la liste. Il faudra peut-être rectifier sa valeur.\n",
    "- Vous aurez besoin de stocker les informations dans une variable et une liste, n'oubliez pas de remettre la variable à 0 et de vider la liste au début de votre code.\n",
    "- Vous pouvez effectuer des calculs directement dans une f-string.\n",
    "- Réalisable en 9 ou 10 lignes de code.\n",
    "- Comme d'habitude, avancez progressivement en vérifiant à chaque étape que votre code fonctionne."
   ]
  },
  {
   "cell_type": "code",
   "execution_count": 61,
   "metadata": {
    "tags": [
     "fr"
    ]
   },
   "outputs": [],
   "source": [
    "# Tapez votre code ici !"
   ]
  },
  {
   "cell_type": "code",
   "execution_count": 62,
   "metadata": {
    "tags": [
     "fr",
     "solution"
    ]
   },
   "outputs": [
    {
     "name": "stdin",
     "output_type": "stream",
     "text": [
      "Entrez une note : h\n"
     ]
    },
    {
     "name": "stdout",
     "output_type": "stream",
     "text": [
      "Notes entrées : []\n",
      "Votre moyenne est de 0.0\n"
     ]
    }
   ],
   "source": [
    "# Solution\n",
    "\n",
    "l = []\n",
    "total = 0\n",
    "note = input(\"Entrez une note :\")\n",
    "while note.isdigit():\n",
    "    note = int(note)\n",
    "    l.append(note)\n",
    "    note = input(\"Entrez une note :\")\n",
    "for i, el in enumerate(l): total += el\n",
    "print(f\"Notes entrées : {l}\")\n",
    "print(f\"Votre moyenne est de {total / (i + 1)}\")"
   ]
  },
  {
   "cell_type": "markdown",
   "metadata": {
    "tags": [
     "fr"
    ]
   },
   "source": [
    "# Exercice (moyen / difficile)\n",
    "\n",
    "Modifiez le programme précédent pour que celui-ci demande à l'utilisateur d'entrer un mot ou un nombre puis stocke la réponse dans deux listes différentes : une liste nommée \"mots\" qui ne contiendra que des chaînes de caractère, et l'autre nommé \"entiers\" qui ne contiendra que des entiers (*integers*). Pour ne pas créer une boucle infini, prévoyez que le programme quitte la boucle d'entrée lorsque l'utilisateur écrit \"stop\" en minuscule.\n",
    "\n",
    "A la fin, affichez les deux listes.\n",
    "\n",
    "**ASTUCES**\n",
    "\n",
    "- Réalisable en 9 lignes de code."
   ]
  },
  {
   "cell_type": "code",
   "execution_count": 63,
   "metadata": {
    "tags": [
     "fr"
    ]
   },
   "outputs": [],
   "source": [
    "# Entrez votre code ici\n"
   ]
  },
  {
   "cell_type": "code",
   "execution_count": 64,
   "metadata": {
    "tags": [
     "fr",
     "solution"
    ]
   },
   "outputs": [
    {
     "name": "stdin",
     "output_type": "stream",
     "text": [
      "Entrez un mot ou un nombre : k*\n",
      "Entrez un mot ou un nombre : stop\n"
     ]
    },
    {
     "name": "stdout",
     "output_type": "stream",
     "text": [
      "Liste de mots : ['k*']\n",
      "Liste de nombres : []\n"
     ]
    }
   ],
   "source": [
    "mots = []\n",
    "entiers = []\n",
    "reponse = input(\"Entrez un mot ou un nombre :\")\n",
    "while reponse != \"stop\":\n",
    "    if reponse.isdigit(): entiers.append(reponse)\n",
    "    else: mots.append(reponse)\n",
    "    reponse = input(\"Entrez un mot ou un nombre :\")\n",
    "print(f\"Liste de mots : {mots}\")\n",
    "print(f\"Liste de nombres : {entiers}\")"
   ]
  },
  {
   "cell_type": "markdown",
   "metadata": {
    "tags": [
     "fr"
    ]
   },
   "source": [
    "## Trouver l'index d'une valeur\n",
    "\n",
    "On utilise la méthode `.index()`. Par exemple :"
   ]
  },
  {
   "cell_type": "code",
   "execution_count": 65,
   "metadata": {
    "tags": [
     "fr"
    ]
   },
   "outputs": [
    {
     "name": "stdout",
     "output_type": "stream",
     "text": [
      "L'index de 'Mon quatrième élément' est : 3\n"
     ]
    }
   ],
   "source": [
    "ma_liste = [\"Mon premier élément\", \"Mon second élément\", 16.767, \"Mon quatrième élément\", True, \"Mon cinquième élément\"]\n",
    "\n",
    "print(\"L'index de 'Mon quatrième élément' est :\", ma_liste.index(\"Mon quatrième élément\"))"
   ]
  },
  {
   "cell_type": "markdown",
   "metadata": {
    "tags": [
     "fr"
    ]
   },
   "source": [
    "## Manipulation de listes : retirer un élément"
   ]
  },
  {
   "cell_type": "markdown",
   "metadata": {
    "tags": [
     "fr"
    ]
   },
   "source": [
    "### Par l'index avec la fonction `del`\n",
    "\n",
    "En lui donnant comme argument l'élément, via son index, à effacer. Exemple :"
   ]
  },
  {
   "cell_type": "code",
   "execution_count": 66,
   "metadata": {
    "tags": [
     "fr"
    ]
   },
   "outputs": [
    {
     "name": "stdout",
     "output_type": "stream",
     "text": [
      "animaux_des_villes avant :  ['chat', 'chien', 'ornithorynque']\n",
      "animaux_des_villes après :  ['chat', 'chien']\n"
     ]
    }
   ],
   "source": [
    "animaux_des_villes = [\"chat\", \"chien\", \"ornithorynque\"]\n",
    "\n",
    "print(\"animaux_des_villes avant : \", animaux_des_villes)\n",
    "\n",
    "del animaux_des_villes[2]\n",
    "\n",
    "print(\"animaux_des_villes après : \", animaux_des_villes)"
   ]
  },
  {
   "cell_type": "markdown",
   "metadata": {
    "tags": [
     "fr"
    ]
   },
   "source": [
    "### Par son nom avec la méthode `.remove()`\n",
    "\n",
    "On peut aussi utiliser la méthode `.remove()` qui prend comme argument l'élément que l'on souhaite retirer. Exemple :"
   ]
  },
  {
   "cell_type": "code",
   "execution_count": 67,
   "metadata": {
    "tags": [
     "fr"
    ]
   },
   "outputs": [
    {
     "name": "stdout",
     "output_type": "stream",
     "text": [
      "animaux_des_villes avant :  ['chat', 'chien', 'ornithorynque']\n",
      "animaux_des_villes après :  ['chat', 'chien']\n"
     ]
    }
   ],
   "source": [
    "animaux_des_villes = [\"chat\", \"chien\", \"ornithorynque\"]\n",
    "\n",
    "print(\"animaux_des_villes avant : \", animaux_des_villes)\n",
    "\n",
    "animaux_des_villes.remove(\"ornithorynque\")\n",
    "\n",
    "print(\"animaux_des_villes après : \", animaux_des_villes)"
   ]
  },
  {
   "cell_type": "markdown",
   "metadata": {
    "tags": [
     "fr"
    ]
   },
   "source": [
    "Et si jamais il y a deux fois le même élément dans la liste ? `.remove()` enlève le premier qu'il trouve !"
   ]
  },
  {
   "cell_type": "code",
   "execution_count": 68,
   "metadata": {
    "tags": [
     "fr"
    ]
   },
   "outputs": [
    {
     "name": "stdout",
     "output_type": "stream",
     "text": [
      "animaux_des_villes avant :  ['chat', 'ornithorynque', 'chien', 'ornithorynque']\n",
      "animaux_des_villes après le .remove() :  ['chat', 'chien', 'ornithorynque']\n"
     ]
    }
   ],
   "source": [
    "animaux_des_villes = [\"chat\", \"ornithorynque\", \"chien\", \"ornithorynque\"]\n",
    "\n",
    "print(\"animaux_des_villes avant : \", animaux_des_villes)\n",
    "\n",
    "animaux_des_villes.remove(\"ornithorynque\")\n",
    "\n",
    "print(\"animaux_des_villes après le .remove() : \", animaux_des_villes)"
   ]
  },
  {
   "cell_type": "markdown",
   "metadata": {
    "tags": [
     "fr"
    ]
   },
   "source": [
    "Cette fonction \"itère\" dans la liste, c'est-à-dire qu'elle se déplace d'élement en élément dans l'ordre de l'index, elle vérifie si le nom correspond, et si c'est le cas elle l'efface. Nous aurons l'occasion de revenir sur le concept d'itération plus loin."
   ]
  },
  {
   "cell_type": "markdown",
   "metadata": {
    "tags": [
     "fr"
    ]
   },
   "source": [
    "## Exercice (facile)\n",
    "\n",
    "Dans la liste suivante :\n",
    "\n",
    "- Retirez avec `.remove()` les arachnides (scorpions, araignées).\n",
    "- Uilisez `del` pour retirer les insectes.\n",
    "- Affichez les mammifères restants\n",
    "\n",
    "**ASTUCES**:\n",
    "\n",
    "- Attention, la suppression des premiers éléments va décaler l'index des autres."
   ]
  },
  {
   "cell_type": "code",
   "execution_count": 69,
   "metadata": {
    "tags": [
     "fr"
    ]
   },
   "outputs": [],
   "source": [
    "grenier = [\"scorpion\", \"fourmi\", \"chauve-souris\", \"loire\", \"araignée\", \"papillon\", \"souris\"]\n",
    "\n",
    "# Tapez votre code ici :"
   ]
  },
  {
   "cell_type": "code",
   "execution_count": 70,
   "metadata": {
    "tags": [
     "fr",
     "solution"
    ]
   },
   "outputs": [
    {
     "name": "stdout",
     "output_type": "stream",
     "text": [
      "['chauve-souris', 'loire', 'souris']\n"
     ]
    }
   ],
   "source": [
    "# Solution\n",
    "\n",
    "grenier = [\"scorpion\", \"fourmi\", \"chauve-souris\", \"loire\", \"araignée\", \"papillon\", \"souris\"]\n",
    "\n",
    "grenier.remove(\"scorpion\")\n",
    "grenier.remove(\"araignée\")\n",
    "del grenier[0]\n",
    "del grenier[2]\n",
    "\n",
    "print(grenier)"
   ]
  },
  {
   "cell_type": "markdown",
   "metadata": {
    "tags": [
     "fr"
    ]
   },
   "source": [
    "# Génération de nombres aléatoires"
   ]
  },
  {
   "cell_type": "markdown",
   "metadata": {
    "tags": [
     "fr"
    ]
   },
   "source": [
    "## Aperçu des librairies\n",
    "\n",
    "Les librairies sont des sortes de bibliothèques qui permettent à Python \"d'apprendre\" des fonctions supplémentaires. Pour importer une librairie, il suffit d'écrire au début du code :\n",
    "\n",
    "```python\n",
    "import le_nom_de_ma_librairie\n",
    "```\n",
    "\n",
    "Puis d'indiquer que l'on veut utiliser la fonction de cette librairie, et pas d'une autre :\n",
    "\n",
    "```python\n",
    "le_nom_de_ma_librairie.le_nom_de_ma_fonction()\n",
    "```"
   ]
  },
  {
   "cell_type": "markdown",
   "metadata": {
    "tags": [
     "fr"
    ]
   },
   "source": [
    "## La fonction `randint()`\n",
    "\n",
    "Ici pour générer un nombre aléatoire nous allons utiliser la librairie \"random\" qui contient une fonction fort utile : `randint()`.\n",
    "\n",
    "Celle-ci prend deux paramètres : la borne inférieure (comprise) et la borne supérieure (comprise également).\n",
    "\n",
    "Exemple avec un nombre aléatoire compris entre 0 et 10. Remarquez qu'à chaque fois que nous relançons la cellule il est très probable que le nombre affiché soit différent. C'est normal puisque celui-ci est généré aléatoirement."
   ]
  },
  {
   "cell_type": "code",
   "execution_count": 71,
   "metadata": {
    "tags": [
     "fr"
    ]
   },
   "outputs": [
    {
     "data": {
      "text/plain": [
       "2"
      ]
     },
     "execution_count": 71,
     "metadata": {},
     "output_type": "execute_result"
    }
   ],
   "source": [
    "import random\n",
    "\n",
    "random.randint(0,10)"
   ]
  },
  {
   "cell_type": "markdown",
   "metadata": {
    "tags": [
     "fr"
    ]
   },
   "source": [
    "## Exercice (moyen)\n",
    "\n",
    "Théodore vous propose un jeu amusant : il pense à un nombre compris entre 1 et 10 et vous devez deviner ce nombre. À chaque fois que vous vous trompez il vous indique si le nombre que vous avez proposé est plus grand ou plus petit que le nombre à deviner.\n",
    "\n",
    "**ASTUCES**:\n",
    "\n",
    "- Vous devez utiliser `input()` pour que le joueur saisisse un nombre.\n",
    "- Si le joueur ne trouve pas le nombre du premier coup, il faudra lui redemander de saisir un nouveau nombre (et donc utiliser encore la fonction `input()`).\n",
    "- N'oubliez pas de mettre au bon format la variable entrée.\n",
    "- Tant que le jeu n'est pas fini, il faut Vous n'avez besoin que d'une seule boucle `while`."
   ]
  },
  {
   "cell_type": "code",
   "execution_count": 72,
   "metadata": {
    "tags": [
     "fr"
    ]
   },
   "outputs": [],
   "source": [
    "# Tapez votre code ici:"
   ]
  },
  {
   "cell_type": "code",
   "execution_count": 73,
   "metadata": {
    "tags": [
     "fr",
     "solution"
    ]
   },
   "outputs": [
    {
     "name": "stdin",
     "output_type": "stream",
     "text": [
      "À quel nombre penses-tu ? 3\n"
     ]
    },
    {
     "name": "stdout",
     "output_type": "stream",
     "text": [
      "Trop petit !\n"
     ]
    },
    {
     "name": "stdin",
     "output_type": "stream",
     "text": [
      "À quel nombre penses-tu ? 7\n"
     ]
    },
    {
     "name": "stdout",
     "output_type": "stream",
     "text": [
      "Trop grand !\n"
     ]
    },
    {
     "name": "stdin",
     "output_type": "stream",
     "text": [
      "À quel nombre penses-tu ? 5\n"
     ]
    },
    {
     "name": "stdout",
     "output_type": "stream",
     "text": [
      "Trop grand !\n"
     ]
    },
    {
     "name": "stdin",
     "output_type": "stream",
     "text": [
      "À quel nombre penses-tu ? 4\n"
     ]
    },
    {
     "name": "stdout",
     "output_type": "stream",
     "text": [
      "Bravo ! C'était bien 4 !\n"
     ]
    }
   ],
   "source": [
    "import random\n",
    "\n",
    "bon_numero = random.randint(0,10)\n",
    "numero_propose = int(input(\"À quel nombre penses-tu ?\"))\n",
    "\n",
    "while bon_numero != numero_propose:\n",
    "    \n",
    "    if bon_numero < numero_propose: print(\"Trop grand !\")\n",
    "    else: print(\"Trop petit !\")\n",
    "        \n",
    "    numero_propose = int(input(\"À quel nombre penses-tu ?\"))\n",
    "\n",
    "print(f\"Bravo ! C'était bien {bon_numero} !\")"
   ]
  },
  {
   "cell_type": "markdown",
   "metadata": {
    "tags": [
     "fr"
    ]
   },
   "source": [
    "## Le paramètre \"step\" de la fonction range"
   ]
  },
  {
   "cell_type": "markdown",
   "metadata": {
    "tags": [
     "fr"
    ]
   },
   "source": [
    "Si on donne 3 arguments à la fonction `range()`, il considèrera le dernier nombre comme le \"pas\", aussi appelé l'incrément ou le \"*step*\". Par défaut celui-ci est de 1. C'est pour cela que dans les deux derniers exemples de la partie sur `range()` les nombres se suivaient tous.\n",
    "\n",
    "La syntaxe complète de range est donc celle-ci :\n",
    "``python\n",
    "\n",
    "range(start, stop, step)\n",
    "\n",
    "``\n",
    "Mais imaginons que nous ne voulons afficher que les nombres pairs de 4 jusqu'à 16. Exemple :"
   ]
  },
  {
   "cell_type": "code",
   "execution_count": 74,
   "metadata": {
    "tags": [
     "fr"
    ]
   },
   "outputs": [
    {
     "name": "stdout",
     "output_type": "stream",
     "text": [
      "4\n",
      "6\n",
      "8\n",
      "10\n",
      "12\n",
      "14\n"
     ]
    }
   ],
   "source": [
    "for nombre in range(4,16,2):\n",
    "    print(nombre)"
   ]
  },
  {
   "cell_type": "markdown",
   "metadata": {
    "tags": [
     "fr"
    ]
   },
   "source": [
    "Encore une fois, vous constatez que la borne supérieure, le 16, ne s'affiche pas. En revanche si on change le 16 par un 17, on a :"
   ]
  },
  {
   "cell_type": "code",
   "execution_count": 75,
   "metadata": {
    "tags": [
     "fr"
    ]
   },
   "outputs": [
    {
     "name": "stdout",
     "output_type": "stream",
     "text": [
      "4\n",
      "6\n",
      "8\n",
      "10\n",
      "12\n",
      "14\n",
      "16\n"
     ]
    }
   ],
   "source": [
    "for nombre in range(4,17,2):\n",
    "    print(nombre)"
   ]
  },
  {
   "cell_type": "markdown",
   "metadata": {
    "tags": [
     "fr"
    ]
   },
   "source": [
    "## Exercice (moyen)\n",
    "\n",
    "En utilisant une variable nommée \"etoile\" valant `\"*\"`, ainsi qu'une boucle `for` et `range()`, afficher le résultat suivant:\n",
    "    \n",
    "```python\n",
    "***\n",
    "******\n",
    "*********\n",
    "************\n",
    "***************\n",
    "******************\n",
    "*********************\n",
    "```\n",
    "\n",
    "**ASTUCE**:\n",
    "\n",
    "- Cette fois utilisez le paramètre \"step\" !\n",
    "- Les étoiles sont désormais empilées trois par trois."
   ]
  },
  {
   "cell_type": "code",
   "execution_count": 76,
   "metadata": {
    "tags": [
     "fr"
    ]
   },
   "outputs": [],
   "source": [
    "etoile = \"*\"\n",
    "\n",
    "# Tapez votre code ici :"
   ]
  },
  {
   "cell_type": "code",
   "execution_count": 77,
   "metadata": {
    "tags": [
     "fr",
     "solution"
    ]
   },
   "outputs": [
    {
     "name": "stdout",
     "output_type": "stream",
     "text": [
      "***\n",
      "******\n",
      "*********\n",
      "************\n",
      "***************\n",
      "******************\n",
      "*********************\n"
     ]
    }
   ],
   "source": [
    "# Solution\n",
    "\n",
    "etoile = \"*\"\n",
    "for i in range(3,22,3): print(etoile * i)"
   ]
  }
 ],
 "metadata": {
  "kernelspec": {
   "display_name": "Python 3 (ipykernel)",
   "language": "python",
   "name": "python3"
  },
  "language_info": {
   "codemirror_mode": {
    "name": "ipython",
    "version": 3
   },
   "file_extension": ".py",
   "mimetype": "text/x-python",
   "name": "python",
   "nbconvert_exporter": "python",
   "pygments_lexer": "ipython3",
   "version": "3.10.9"
  }
 },
 "nbformat": 4,
 "nbformat_minor": 4
}
