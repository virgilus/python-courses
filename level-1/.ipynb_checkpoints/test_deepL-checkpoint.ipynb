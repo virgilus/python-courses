{
 "cells": [
  {
   "cell_type": "code",
   "execution_count": 1,
   "id": "9d074683-7c5f-418a-ae15-d898fcdd0d32",
   "metadata": {
    "tags": []
   },
   "outputs": [],
   "source": [
    "import requests\n",
    "import yaml"
   ]
  },
  {
   "cell_type": "code",
   "execution_count": 4,
   "id": "59f54a27-7ee6-4c18-8264-b8b29251622a",
   "metadata": {
    "tags": []
   },
   "outputs": [],
   "source": [
    "import yaml\n",
    "\n",
    "# Load the YAML file into a dictionary\n",
    "with open('../../secrets/deepL_API.yaml', 'r') as file:\n",
    "    d = yaml.safe_load(file)"
   ]
  },
  {
   "cell_type": "code",
   "execution_count": 56,
   "id": "0be2b981-d7ee-44cc-b981-0f668c46e71f",
   "metadata": {
    "tags": []
   },
   "outputs": [],
   "source": [
    "import requests\n",
    "import yaml\n",
    "\n",
    "def translate(content, URL=URL, headers=headers, target_lang='EN'):\n",
    "    \n",
    "    with open('../../secrets/deepL_API.yaml', 'r') as file:\n",
    "    d = yaml.safe_load(file)\n",
    "    \n",
    "    URL = 'https://api-free.deepl.com/v2/translate'\n",
    "    headers = {'Authorization': f'DeepL-Auth-Key {d[\"API_KEY\"]}'}\n",
    "    \n",
    "    params = {f'text': content, 'target_lang': {target_lang}}\n",
    "    r = requests.get(URL, params=params, headers=headers)\n",
    "    return r.json()['translations'][0]['text']"
   ]
  },
  {
   "cell_type": "code",
   "execution_count": 57,
   "id": "e36d2462-2c32-4cf1-84fb-97d125b61ff6",
   "metadata": {
    "tags": []
   },
   "outputs": [
    {
     "data": {
      "text/plain": [
       "\"Hi, how are you? I am, I'm really happy!\""
      ]
     },
     "execution_count": 57,
     "metadata": {},
     "output_type": "execute_result"
    }
   ],
   "source": [
    "translate(\"Salut, ça va toi ? Moi oui, je suis hyper content !\")"
   ]
  },
  {
   "cell_type": "code",
   "execution_count": 20,
   "id": "2b726d98-61b5-46ab-8e7b-b4da7e792b7d",
   "metadata": {
    "tags": []
   },
   "outputs": [
    {
     "data": {
      "text/plain": [
       "{'translations': [{'detected_source_language': 'FR',\n",
       "   'text': 'My name is Johnny and I love music!'}]}"
      ]
     },
     "execution_count": 20,
     "metadata": {},
     "output_type": "execute_result"
    }
   ],
   "source": [
    "r.json()"
   ]
  },
  {
   "cell_type": "code",
   "execution_count": 37,
   "id": "93475e16-863a-4326-bc16-43470673edda",
   "metadata": {
    "tags": []
   },
   "outputs": [],
   "source": [
    "from IPython.core.magic import register_cell_magic\n",
    "from io import StringIO"
   ]
  },
  {
   "cell_type": "code",
   "execution_count": 44,
   "id": "96c3017d-082f-4c8e-96a1-445864d87f2a",
   "metadata": {
    "tags": []
   },
   "outputs": [
    {
     "ename": "SyntaxError",
     "evalue": "invalid syntax (3829184981.py, line 5)",
     "output_type": "error",
     "traceback": [
      "\u001b[0;36m  Cell \u001b[0;32mIn[44], line 5\u001b[0;36m\u001b[0m\n\u001b[0;31m    input_text = $_\u001b[0m\n\u001b[0m                 ^\u001b[0m\n\u001b[0;31mSyntaxError\u001b[0m\u001b[0;31m:\u001b[0m invalid syntax\n"
     ]
    }
   ],
   "source": [
    "@register_cell_magic\n",
    "\n",
    "def test(line, cell):\n",
    "    if not line: line = 'FR'\n",
    "    input_text = $_\n",
    "    return cell"
   ]
  },
  {
   "cell_type": "markdown",
   "id": "a2c847be-e830-4ce4-add9-03eb05dea94e",
   "metadata": {},
   "source": [
    "test = \"trois\"\n",
    "Salut baby !"
   ]
  },
  {
   "cell_type": "code",
   "execution_count": 59,
   "id": "f259eeee-fcd2-42d7-a715-1c3b6315b3cf",
   "metadata": {
    "tags": []
   },
   "outputs": [],
   "source": [
    "import requests\n",
    "import yaml\n",
    "\n",
    "@register_cell_magic\n",
    "def t(line, cell, target_lang='EN'):\n",
    "    URL = 'https://api-free.deepl.com/v2/translate'\n",
    "    deepL_API_filepath = '../../secrets/deepL_API.yaml'\n",
    "    \n",
    "    with open(deepL_API_filepath, 'r') as file:\n",
    "        d = yaml.safe_load(file)\n",
    "    \n",
    "    headers = {'Authorization': f'DeepL-Auth-Key {d[\"API_KEY\"]}'}\n",
    "    params = {f'text': cell, 'target_lang': {target_lang}}\n",
    "    \n",
    "    r = requests.get(URL, params=params, headers=headers)\n",
    "    return r.json()['translations'][0]['text']"
   ]
  },
  {
   "cell_type": "code",
   "execution_count": 60,
   "id": "1e37c73e-4633-4e72-9bfa-c587e36b3388",
   "metadata": {
    "tags": []
   },
   "outputs": [
    {
     "data": {
      "text/plain": [
       "'test = \"three\\nHi baby!\\n'"
      ]
     },
     "execution_count": 60,
     "metadata": {},
     "output_type": "execute_result"
    }
   ],
   "source": [
    "%%t\n",
    "test = \"trois\"\n",
    "Salut baby !"
   ]
  },
  {
   "cell_type": "code",
   "execution_count": null,
   "id": "1b7b29e7-d05c-4933-a318-1dfee4bc1617",
   "metadata": {},
   "outputs": [],
   "source": [
    "import pandas as pd\n",
    "from io import StringIO\n",
    "\n",
    "@register_cell_magic\n",
    "def csv(line, cell):\n",
    "    # We create a string buffer containing the\n",
    "    # contents of the cell.\n",
    "    sio = StringIO(cell)\n",
    "    # We use Pandas' read_csv function to parse\n",
    "    # the CSV string.\n",
    "    return pd.read_csv(sio)\n",
    "%%csv\n",
    "col1,col2,col3\n",
    "0,1,2\n",
    "3,4,5\n",
    "7,8,9"
   ]
  },
  {
   "cell_type": "code",
   "execution_count": null,
   "id": "d0a53be5-6831-41ca-a4f3-ac3a5806e249",
   "metadata": {},
   "outputs": [],
   "source": [
    "%%writefile translatemagic.py\n",
    "\n",
    "def csv(line, cell):\n",
    "    sio = StringIO(cell)\n",
    "    return pd.read_csv(sio)\n",
    "\n",
    "def load_ipython_extension(ipython):\n",
    "    \"\"\"This function is called when the extension is\n",
    "    loaded. It accepts an IPython InteractiveShell\n",
    "    instance. We can register the magic with the\n",
    "    `register_magic_function` method of the shell\n",
    "    instance.\"\"\"\n",
    "    ipython.register_magic_function(csv, 'cell')\n",
    "Writing csvmagic.py"
   ]
  }
 ],
 "metadata": {
  "kernelspec": {
   "display_name": "Python 3 (ipykernel)",
   "language": "python",
   "name": "python3"
  },
  "language_info": {
   "codemirror_mode": {
    "name": "ipython",
    "version": 3
   },
   "file_extension": ".py",
   "mimetype": "text/x-python",
   "name": "python",
   "nbconvert_exporter": "python",
   "pygments_lexer": "ipython3",
   "version": "3.10.9"
  }
 },
 "nbformat": 4,
 "nbformat_minor": 5
}
