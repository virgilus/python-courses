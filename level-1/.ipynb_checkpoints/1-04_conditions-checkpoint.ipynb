{
 "cells": [
  {
   "cell_type": "markdown",
   "metadata": {},
   "source": [
    "# CONDITIONS"
   ]
  },
  {
   "cell_type": "markdown",
   "metadata": {
    "tags": [
     "fr"
    ]
   },
   "source": [
    "# Définition\n",
    "\n",
    "## Idée générale\n",
    "\n",
    "Les conditions permettent à nos programmes d'effectuer des opérations différentes en fonction de résultats à des tests.\n",
    "\n",
    "Voici un exemple de condition écrite en langue française mais formattée comme l'exige python.\n",
    "\n",
    "```\n",
    "si il pleut :\n",
    "    prendre le bus\n",
    "autrement :\n",
    "    y aller en vélo\n",
    "```"
   ]
  },
  {
   "cell_type": "markdown",
   "metadata": {
    "tags": [
     "en"
    ]
   },
   "source": [
    "# Definition\n",
    "\n",
    "## General idea\n",
    "\n",
    "Conditions allow our programs to perform different operations based on test results.\n",
    "\n",
    "Here is an example of a condition written in French but formatted as required by python.\n",
    "\n",
    "```\n",
    "if it rains :\n",
    "    take the bus\n",
    "otherwise :\n",
    "    go by bike\n",
    "```"
   ]
  },
  {
   "cell_type": "markdown",
   "metadata": {
    "tags": [
     "fr"
    ]
   },
   "source": [
    "## L'indentation\n",
    "\n",
    "<img src=\"files/tab.jpg\" alt=\"tab\" width=\"200\" align=\"left\"/>\n",
    "Dans l'exemple ci-dessus, vous remarquerez qu'il existe un \"décalage\", un espace, entre la ligne qui contient la condition à tester et celle qui contient l'action à réaliser. En python, la plupart du temps, l'identation est égal à 4 espaces.\n",
    "\n",
    "C'est ce qu'on appelle **\"l'indentation\"**. C'est-à-dire le fait de rajouter des espaces, ou des séries d'espace, grâce à la touche \"tabulation\" pour faire ressortir ce que l'on appelle des **\"blocs de code\"**. Les blocs de code peuvent être indentés successivement, on parle alors de niveaux d'indentation. Par exemple :"
   ]
  },
  {
   "cell_type": "markdown",
   "metadata": {
    "tags": [
     "en"
    ]
   },
   "source": [
    "## Indentation\n",
    "\n",
    "<img src=\"files/tab.jpg\" alt=\"tab\" width=\"200\" align=\"left\"/>\n",
    "In the example above, you will notice that there is an \"offset\", a space, between the line containing the condition to be tested and the line containing the action to be performed. In Python most of the time an identation equals four spaces.\n",
    "\n",
    "This is called **\"indentation \"**. That is, adding spaces, or series of spaces, using the \"tab\" key to highlight what are called **\"code blocks \"**. Code blocks can be indented successively, so we speak of indentation levels. For example :"
   ]
  },
  {
   "cell_type": "raw",
   "metadata": {
    "tags": [
     "fr"
    ]
   },
   "source": [
    "bonjour\n",
    "    voici une ligne indentée\n",
    "    celle-ci aussi, nous sommes dans le premier niveau d'indentation\n",
    "        celle-là est indentée par rapport à la précédente\n",
    "        nous sommes donc dans le deuxième niveau d'indentation\n",
    "            Et là dans un troisième niveau !\n",
    "    nous voici de retour au premier niveau\n",
    "Et nous voici sorti du texte indenté"
   ]
  },
  {
   "cell_type": "raw",
   "metadata": {
    "tags": [
     "en"
    ]
   },
   "source": [
    "hello\n",
    "    here is an indented line\n",
    "    this one too, we are in the first level of indentation\n",
    "        this one is indented in relation to the previous one\n",
    "        here we are in the second indentation level\n",
    "            And here in a third level!\n",
    "    back to the first level\n",
    "And here we are out of the indented text"
   ]
  },
  {
   "cell_type": "markdown",
   "metadata": {
    "tags": [
     "fr"
    ]
   },
   "source": [
    "Pour ajouter un niveau d'indentation il suffit de sélectionner les lignes que l'on veut indenter et d'appuyer sur la touche **\"tab\"**.\n",
    "Pour retirer un niveau d'indentation, faites la même opération mais appuyez sur **\"maj+tab\"** simultanément."
   ]
  },
  {
   "cell_type": "markdown",
   "metadata": {
    "tags": [
     "en"
    ]
   },
   "source": [
    "To add an indentation level, simply select the lines you wish to indent and press **\"tab \"**.\n",
    "To remove an indentation level, do the same operation but press **\"shift+tab \"** simultaneously."
   ]
  },
  {
   "cell_type": "markdown",
   "metadata": {
    "tags": [
     "fr"
    ]
   },
   "source": [
    "# Tests et conditions\n",
    "\n",
    "## Les opérateurs de comparaison\n",
    "\n",
    "### Opérateurs usuels\n",
    "\n",
    "Python est capable de comparer différentes valeurs ou expressions entre elles. Voici une première liste des opérateurs utilisés, vous remarquerez qu'ils ressemblent beaucoup à ceux utilisés en mathématiques.\n",
    "\n",
    "- ``<`` signifie \"inférieur à\"\n",
    "- ``>`` signifie \"supérieur à\"\n",
    "- ``>=`` signifie \"supérieur ou égal à\"\n",
    "- ``<=`` signifie \"inférieur ou égal à\"\n",
    "- ``==`` signifie \"est égal à\"\n",
    "- ``!=`` signifie \"différent de\"\n",
    "\n",
    "**Note:** En informatique on distingue l'opérateur d'affectation de l'opérateur d'égalité. En effet :\n",
    "- Le signe ``==``  teste si deux expressions sont égales.\n",
    "- Le signe ``=`` affecte le contenu de l'expression de droite dans celle de gauche.\n",
    "\n",
    "Exemple :\n"
   ]
  },
  {
   "cell_type": "markdown",
   "metadata": {
    "tags": [
     "en"
    ]
   },
   "source": [
    "# Tests and conditions\n",
    "\n",
    "## Comparison operators\n",
    "\n",
    "### Usual operators\n",
    "\n",
    "Python is able to compare different values or expressions with each other. Here is a first list of operators used, you will notice that they are very similar to those used in mathematics.\n",
    "\n",
    "- ``<`` means \"less than\".\n",
    "- ``>`` means \"greater than\".\n",
    "- ``>=`` means \"greater than or equal to\"\n",
    "- ``<=`` means \"less than or equal to\".\n",
    "- ``==`` means \"is equal to\".\n",
    "- ``!=`` means \"different from\".\n",
    "\n",
    "**Note:** In computer science we distinguish the assignment operator from the equality operator. Indeed:\n",
    "- The sign ``==`` tests whether two expressions are equal.\n",
    "- The sign ``=`` assigns the content of the right-hand expression to the left-hand one.\n",
    "\n",
    "Example:"
   ]
  },
  {
   "cell_type": "code",
   "execution_count": null,
   "metadata": {
    "tags": []
   },
   "outputs": [],
   "source": [
    "my_variable = 3"
   ]
  },
  {
   "cell_type": "code",
   "execution_count": null,
   "metadata": {
    "tags": []
   },
   "outputs": [],
   "source": [
    "my_variable == 3"
   ]
  },
  {
   "cell_type": "markdown",
   "metadata": {
    "tags": [
     "fr"
    ]
   },
   "source": [
    "### Vrai ou faux ? Revoilà du binaire\n",
    "\n",
    "À la suite de cette comparaison, Python vient de nous retourner ``True``.\n",
    "\n",
    "Lors de l'introduction, nous avons vu que le concept de vrai ou faux est ancré au coeur même de l'informatique. Nous le retrouvons ici à un niveau plus facilement compréhensible par un humain : lorsqu'on effectue une comparaison entre deux valeurs ou expressions, python vous retourne un résultat qui est soit vrai (``True``) ou faux (``False``). Ces deux valeurs appartiennent à un nouveau type : on dit que ce sont des valeurs booléennes (``bool``).\n",
    "\n",
    "**Note**\n",
    "\n",
    "- Attention la majuscule à ``True`` et ``False`` est très importante ! Sans cela Python pensera que vous parlez d'une variable.\n",
    "- Les mots réservés de Python, comme ceux-ci, apparaissent en vert dans Jupyter Lab.\n",
    "\n",
    "Vérifions cela par nous-même :"
   ]
  },
  {
   "cell_type": "markdown",
   "metadata": {
    "tags": [
     "en"
    ]
   },
   "source": [
    "### True or false? Binary again\n",
    "\n",
    "As a result of this comparison, Python has just returned ``True``.\n",
    "\n",
    "In the introduction, we saw that the concept of true or false the very heart of computing. When performing a comparison between two values or expressions, python returns a result that is either ``True`` or ``False``. These two values belong to a new type: they are said to be boolean values (``bool``).\n",
    "\n",
    "**Note**\n",
    "\n",
    "- Be careful with the capitalization of ``True`` and ``False``. Otherwise Python will think you are talking about a variable.\n",
    "- Python's reserved words, like ``True`` and ``False``, appear in green in Jupyter Lab.\n",
    "\n",
    "Let's check this for ourselves:"
   ]
  },
  {
   "cell_type": "code",
   "execution_count": null,
   "metadata": {
    "tags": []
   },
   "outputs": [],
   "source": [
    "type(True)"
   ]
  },
  {
   "cell_type": "code",
   "execution_count": null,
   "metadata": {
    "tags": []
   },
   "outputs": [],
   "source": [
    "type(False)"
   ]
  },
  {
   "cell_type": "markdown",
   "metadata": {
    "tags": [
     "fr"
    ]
   },
   "source": [
    "Et examinons quelques exemples :"
   ]
  },
  {
   "cell_type": "markdown",
   "metadata": {
    "tags": [
     "en"
    ]
   },
   "source": [
    "Let's check out some examples:"
   ]
  },
  {
   "cell_type": "code",
   "execution_count": null,
   "metadata": {},
   "outputs": [],
   "source": [
    "3 == 3"
   ]
  },
  {
   "cell_type": "code",
   "execution_count": null,
   "metadata": {},
   "outputs": [],
   "source": [
    "3 == 4"
   ]
  },
  {
   "cell_type": "code",
   "execution_count": null,
   "metadata": {},
   "outputs": [],
   "source": [
    "38 >= 12 "
   ]
  },
  {
   "cell_type": "code",
   "execution_count": null,
   "metadata": {},
   "outputs": [],
   "source": [
    "12 < 8"
   ]
  },
  {
   "cell_type": "code",
   "execution_count": null,
   "metadata": {},
   "outputs": [],
   "source": [
    "12 <= 12"
   ]
  },
  {
   "cell_type": "code",
   "execution_count": null,
   "metadata": {},
   "outputs": [],
   "source": [
    "9 != 8"
   ]
  },
  {
   "cell_type": "code",
   "execution_count": null,
   "metadata": {},
   "outputs": [],
   "source": [
    "22 != 22"
   ]
  },
  {
   "cell_type": "markdown",
   "metadata": {
    "tags": [
     "fr"
    ]
   },
   "source": [
    "Par \"expression\" on entend tout objet pouvant être évalué, comme une variable, un caractère, un nombre, ainsi que leur association, par exemple en utilisant des parenthèses. Ex:"
   ]
  },
  {
   "cell_type": "markdown",
   "metadata": {
    "tags": [
     "en"
    ]
   },
   "source": [
    "By \"expression\" we mean any object that can be evaluated, such as a variable, a character, a number, as well as their association, for example by using parentheses. Ex:"
   ]
  },
  {
   "cell_type": "code",
   "execution_count": null,
   "metadata": {
    "tags": []
   },
   "outputs": [],
   "source": [
    "my_variable = 3\n",
    "(my_variable + 3) == (2 + 2 * 2)"
   ]
  },
  {
   "cell_type": "code",
   "execution_count": null,
   "metadata": {
    "tags": []
   },
   "outputs": [],
   "source": [
    "my_variable = 3\n",
    "(my_variable * my_variable) == 9"
   ]
  },
  {
   "cell_type": "code",
   "execution_count": null,
   "metadata": {
    "tags": []
   },
   "outputs": [],
   "source": [
    "my_variable = 3\n",
    "(my_variable * my_variable) == 9.00000000000001"
   ]
  },
  {
   "cell_type": "markdown",
   "metadata": {
    "tags": [
     "fr"
    ]
   },
   "source": [
    "## L'instruction ```if```\n",
    "\n",
    "L'instruction ```if```, qui signifie \"si\" en anglais, permet d'exécuter du code quand une comparaison retourne ``True``. Quand on utilise ``if``, le bloc exécuté doit être **indenté**.\n",
    "\n",
    "La syntaxe est la suivante:\n",
    "\n",
    "```python\n",
    "if condition:\n",
    "    instruction 1\n",
    "    instruction 2\n",
    "    instruction n\n",
    "```\n",
    "\n",
    "Notez l'usage du **\":\"** à la fin. Il indique à Python que l'instruction, ou le bloc de code d'instructions, qui suit est indenté. On peut le voir comme un équivalent d'un \"alors\" (*then*).\n",
    "Exemple :"
   ]
  },
  {
   "cell_type": "markdown",
   "metadata": {
    "tags": [
     "en"
    ]
   },
   "source": [
    "## The ``if`` statement\n",
    "\n",
    "The ``if`` statement allows code to be executed when a comparison returns ``True``. When using ``if``, the executed block must be **indented**.\n",
    "\n",
    "The syntax is as follows:\n",
    "\n",
    "```python\n",
    "if condition:\n",
    "    statement 1\n",
    "    statement 2\n",
    "    statement n\n",
    "```\n",
    "\n",
    "Note the use of the **\": \"** at the end. It tells Python that the instruction, or block of instruction code, that follows is indented. You can think of it as an equivalent of a \"then\" (*then*).\n",
    "Example:"
   ]
  },
  {
   "cell_type": "code",
   "execution_count": null,
   "metadata": {
    "tags": [
     "fr"
    ]
   },
   "outputs": [],
   "source": [
    "ma_variable = 3\n",
    "\n",
    "if ma_variable == 3:\n",
    "    print(\"Cette variable est égale à trois.\")"
   ]
  },
  {
   "cell_type": "code",
   "execution_count": null,
   "metadata": {
    "tags": [
     "en"
    ]
   },
   "outputs": [],
   "source": [
    "my_variable = 3\n",
    "\n",
    "if my_variable == 3:\n",
    "    print(\"This variable is equal to three.\")"
   ]
  },
  {
   "cell_type": "markdown",
   "metadata": {
    "tags": [
     "fr"
    ]
   },
   "source": [
    "Mais cela marche également pour les chaînes de caractères."
   ]
  },
  {
   "cell_type": "markdown",
   "metadata": {
    "tags": [
     "en"
    ]
   },
   "source": [
    "It works for any object, like a string."
   ]
  },
  {
   "cell_type": "code",
   "execution_count": null,
   "metadata": {
    "tags": [
     "fr"
    ]
   },
   "outputs": [],
   "source": [
    "chaine = \"aaa\"\n",
    "\n",
    "if chaine == \"aaa\":\n",
    "    print('Cette variable contient \"aaa\"')"
   ]
  },
  {
   "cell_type": "code",
   "execution_count": null,
   "metadata": {
    "tags": [
     "en"
    ]
   },
   "outputs": [],
   "source": [
    "string = \"aaa\"\n",
    "\n",
    "if string == \"aaa\":\n",
    "    print('This variable contains \"aaa\"')"
   ]
  },
  {
   "cell_type": "markdown",
   "metadata": {
    "tags": [
     "fr"
    ]
   },
   "source": [
    "## l'instruction \"else\"\n",
    "\n",
    "L'instruction ``else`` qui signifie \"autrement\" en anglais, permet d'exécuter du code lorsque la condition du ``if`` n'est pas vérifiée. Cette instruction fonctionne toujours en complément d'un ```if```, elle ne peut pas exister sans lui.\n",
    "\n",
    "**Note:**\n",
    "- Remarquez dans l'exemple suivant comment le ``#`` permet également de passer des lignes de code en commentaire et donc de ne pas les exécuter. Si jamais on veut modifier la valeur \"pluie\" de la variable météo, il suffit de retirer le ``#``)\n",
    "\n",
    "Reprenons l'exemple du début du cours :"
   ]
  },
  {
   "cell_type": "markdown",
   "metadata": {
    "tags": [
     "en"
    ]
   },
   "source": [
    "## the \"else\" statement\n",
    "\n",
    "The ``else`` statement allows code to be executed when the test expression (``if``) is evaluated to False. This statement always works in addition to an ``if``, it cannot exist without it.\n",
    "\n",
    "**Note:**\n",
    "- Notice in the following example how the ``#`` also allows lines of code to be passed as comments and thus not executed. If we ever want to change the value of the weather variable to \"rain\", we can just remove the ``#``)\n",
    "\n",
    "Let's go back to the example from the beginning of the course:"
   ]
  },
  {
   "cell_type": "code",
   "execution_count": null,
   "metadata": {
    "tags": [
     "fr"
    ]
   },
   "outputs": [],
   "source": [
    "meteo = \"pluie\"\n",
    "# meteo = \"soleil\"\n",
    "\n",
    "if meteo == \"pluie\":\n",
    "    print(\"Il pleut... Prenons le bus !\")\n",
    "else:\n",
    "    print(\"Il y a du soleil, vive le vélo !\")"
   ]
  },
  {
   "cell_type": "code",
   "execution_count": null,
   "metadata": {
    "tags": [
     "en"
    ]
   },
   "outputs": [],
   "source": [
    "weather = \"rain\"\n",
    "# weather = \"sun\"\n",
    "\n",
    "if weather == \"rain\":\n",
    "    print(\"It's raining... Let's take the bus!\")\n",
    "else:\n",
    "    print(\"It's sunny, let's go by bike!\")"
   ]
  },
  {
   "cell_type": "markdown",
   "metadata": {
    "tags": [
     "fr"
    ]
   },
   "source": [
    "## l'instruction \"elif\"\n",
    "\n",
    "L'instruction ``elif`` qui est la contraction de \"*else if*\" et signifie \"autrement si\" en anglais, permet d'exécuter du code lorsque la condition du premier ``if`` n'est pas vérifiée, mais qu'une autre condition l'est.\n",
    "\n",
    "L'exemple suivant permet de commenter la note d'un élève à un examen. Vous noterez qu'avec ``elif`` dès que la condition est remplie le programme sort de la structure conditionnelle. Si nous n'avions utilisé que des ``if`` le programme aurait pu nous afficher des réponses multiples, ce que nous ne voulons pas."
   ]
  },
  {
   "cell_type": "markdown",
   "metadata": {
    "tags": [
     "en"
    ]
   },
   "source": [
    "## the \"elif\" statement\n",
    "\n",
    "The ``elif`` statement, which is a contraction of \"Else If\" is used to execute code when the test condition in the first ``if`` is evaluated false, but another condition is evaluated true.\n",
    "\n",
    "The following example comments on a student's grade in an exam. You will notice that with ``elif`` as soon as the condition is met the program exits the conditional structure. Had we only used several ``if`` then the program would have allowed multiple answers, which we don't want."
   ]
  },
  {
   "cell_type": "code",
   "execution_count": null,
   "metadata": {
    "tags": [
     "fr"
    ]
   },
   "outputs": [],
   "source": [
    "note = 19\n",
    "\n",
    "if note > 20:\n",
    "    print(\"Impossible\")\n",
    "elif note == 20:\n",
    "    print(\"Parfait\")\n",
    "elif note >= 10:\n",
    "    print(\"Plus de 10\")\n",
    "elif note >= 0:\n",
    "    print(\"Moins de 10\")\n",
    "else:\n",
    "    print(\"Inférieure à 0\")"
   ]
  },
  {
   "cell_type": "code",
   "execution_count": null,
   "metadata": {
    "tags": [
     "en"
    ]
   },
   "outputs": [],
   "source": [
    "grade = 19\n",
    "\n",
    "if grade > 20:\n",
    "    print(\"Impossible\")\n",
    "elif grade == 20:\n",
    "    grade(\"Perfect\")\n",
    "elif grade >= 10:\n",
    "    print(\"More than 10\")\n",
    "elif grade >= 0:\n",
    "    print(\"Less than 10\")\n",
    "else:\n",
    "    print(\"Below 0\")"
   ]
  },
  {
   "cell_type": "markdown",
   "metadata": {
    "tags": [
     "fr"
    ]
   },
   "source": [
    "## Exercice (facile)\n",
    "\n",
    "Lors de votre marché, vous apercevez des affiches pour les élections présidentielles.\n",
    "\n",
    "Écrivez un programme qui :\n",
    "\n",
    "- Prend en entrée l'âge d'une personne dans une variable nommée \"age\".\n",
    "\n",
    "- Si la personne a plus de 122 ans, [record mondial de longévité](https://fr.wikipedia.org/wiki/Jeanne_Calment), dites-lui que son âge n'est pas crédible.\n",
    "\n",
    "- Si la personne est âgée de plus de 18 ans, utilisez ``print()`` pour lui indiquer qu'elle a le droit de voter aux élections présidentielles.\n",
    "\n",
    "- Si la personne a moins de 18 ans indiquez-lui qu'elle est n'a pas le droit de vote.\n",
    "\n",
    "- Si la personne a 0 ans ou moins, dites-lui que cet âge est impossible.\n",
    "\n",
    "Ecrivez le programme pas-à-pas en le lançant régulièrement pour vérifier que tout fonctionne correctement.\n",
    "\n",
    "**Note:**\n",
    "- Remarquez que l'ordre dans lequel vous allez tester les différents cas de figure joue un rôle crucial dans le résultat final."
   ]
  },
  {
   "cell_type": "markdown",
   "metadata": {
    "tags": [
     "en"
    ]
   },
   "source": [
    "## Exercise (easy)\n",
    "\n",
    "Write a program that :\n",
    "\n",
    "- Takes as input the age of a person in a variable named \"age\".\n",
    "\n",
    "- If the person is over 122 years old, [world record for longevity](https://fr.wikipedia.org/wiki/Jeanne_Calment), tell them that their age is not credible.\n",
    "\n",
    "- If the person is over 18, use ``print()`` to tell them that they are eligible to vote.\n",
    "\n",
    "- If the person is under 18, tell them they are not eligible to vote.\n",
    "\n",
    "- If the person is 0 years old or younger, tell him/her that this age is impossible.\n",
    "\n",
    "Write the program step by step, running it regularly to check that everything is working correctly.\n",
    "\n",
    "**Note:**\n",
    "- Note that the order in which you test the different scenarios plays a crucial role in the final result."
   ]
  },
  {
   "cell_type": "code",
   "execution_count": null,
   "metadata": {},
   "outputs": [],
   "source": [
    "# Code here!\n"
   ]
  },
  {
   "cell_type": "code",
   "execution_count": null,
   "metadata": {
    "tags": [
     "fr",
     "solution"
    ]
   },
   "outputs": [],
   "source": [
    "#solution\n",
    "\n",
    "age = 19\n",
    "\n",
    "if age > 122:\n",
    "    print(\"Vous n'êtes pas la personne la plus vieille du monde.\")\n",
    "    \n",
    "elif age >= 18:\n",
    "    print(\"Vous pouvez voter.\")\n",
    "\n",
    "elif age >= 0:\n",
    "    print(\"Vous êtes encore mineur.\")\n",
    "\n",
    "else:\n",
    "    print(\"Vous ne pouvez pas avoir un âge négatif\")"
   ]
  },
  {
   "cell_type": "code",
   "execution_count": null,
   "metadata": {
    "tags": [
     "solution",
     "en"
    ]
   },
   "outputs": [],
   "source": [
    "#solution\n",
    "\n",
    "age = 19\n",
    "\n",
    "if age > 122:\n",
    "    print(\"You're not the oldest person on earth.\")\n",
    "    \n",
    "elif age >= 18:\n",
    "    print(\"You can vote.\")\n",
    "\n",
    "elif age >= 0:\n",
    "    print(\"You can't vote.\")\n",
    "\n",
    "else:\n",
    "    print(\"You can't be under 0 year old.\")"
   ]
  },
  {
   "cell_type": "markdown",
   "metadata": {
    "tags": [
     "fr"
    ]
   },
   "source": [
    "# Portes logiques\n",
    "\n",
    "Il peut arriver que nous voulions vérifier si plusieurs conditions, ou juste l'une d'entre elles, sont simultanément remplies. Il existe pour cela des opérateurs très pratiques :\n",
    "\n",
    "- ``and``: qui signifie \"ET\"\n",
    "- ``or``: qui signifie \"OU\"\n",
    "\n",
    "Si vous vous souvenez de l'introduction, vous vous souvenez sans doute de ce petit tableau :\n",
    "\n",
    "| A | B | A ET B | A OU B |\n",
    "|:-:|:-:|:------:|:------:|\n",
    "| 0 | 0 |    0   |    0   |\n",
    "| 1 | 0 |    0   |    1   |\n",
    "| 0 | 1 |    0   |    1   |\n",
    "| 1 | 1 |    1   |    1   |\n",
    "\n",
    "Celui-ci indiquait le comportement de deux opérateurs \"ET\" et \"OU\". Nous allons réutiliser ces concepts ici."
   ]
  },
  {
   "cell_type": "markdown",
   "metadata": {
    "tags": [
     "en"
    ]
   },
   "source": [
    "# Logic gates\n",
    "\n",
    "Sometimes we want to check whether several conditions, or just one of them, are fulfilled simultaneously. There are some very handy operators for this AND and OR.\n",
    "\n",
    "If you remember the introduction, you may remember this little table :\n",
    "\n",
    "| A | B | A AND B | A OR B  |\n",
    "|:-:|:-:|:-------:|:-------:|\n",
    "| 0 | 0 |    0    |    0    |\n",
    "| 1 | 0 |    0    |    1    |\n",
    "| 0 | 1 |    0    |    1    |\n",
    "| 1 | 1 |    1    |    1    |"
   ]
  },
  {
   "cell_type": "markdown",
   "metadata": {
    "tags": [
     "fr"
    ]
   },
   "source": [
    "## Les opérateurs \"ET\" (``and``) et \"OU\" (``or``)\n",
    "\n",
    "Lorsqu'on exécute des comparaisons, Python va d'abord évaluer si chacune des expressions est vraie ou fausse avant de les évaluer entre elles."
   ]
  },
  {
   "cell_type": "markdown",
   "metadata": {
    "tags": [
     "en"
    ]
   },
   "source": [
    "## The \"AND\" and \"OR\" operators\n",
    "\n",
    "When performing comparisons, Python will first evaluate whether each expression is true or false before evaluating them against each other."
   ]
  },
  {
   "cell_type": "markdown",
   "metadata": {
    "tags": [
     "fr"
    ]
   },
   "source": [
    "### \"ET\" (``and``)\n",
    "\n",
    "Vous examinez votre panier de légumes et vous vous demandez si vous avez suffisament de chaque légume.\n",
    "    \n",
    "**REMARQUES**:\n",
    "- L'utilisation de parenthèse pour délimiter les expressions est facultative dans le cas présent, mais il est recommandé de le faire pour des questions de clarté et pour être sûr que le code va s'exécuter comme on le souhaite."
   ]
  },
  {
   "cell_type": "markdown",
   "metadata": {
    "tags": [
     "en"
    ]
   },
   "source": [
    "### \"AND\"\n",
    "\n",
    "You look at your basket of vegetables and wonder if you have enough of each.\n",
    "    \n",
    "**NOTES**:\n",
    "- The use of parentheses to delimit expressions is optional in this case, but it is recommended for clarity and to ensure that the code will execute as desired."
   ]
  },
  {
   "cell_type": "code",
   "execution_count": null,
   "metadata": {
    "tags": [
     "fr"
    ]
   },
   "outputs": [],
   "source": [
    "c = 5 # courgettes\n",
    "a = 12 # aubergines\n",
    "\n",
    "if c >= 3 and a >= 3:\n",
    "    print(\"Dans le panier il y a au moins 3 légumes de chaque type.\")"
   ]
  },
  {
   "cell_type": "code",
   "execution_count": null,
   "metadata": {
    "tags": [
     "en"
    ]
   },
   "outputs": [],
   "source": [
    "c = 5 # courgettes\n",
    "a = 12 # aubergines\n",
    "\n",
    "if c >= 3 and a >= 3:\n",
    "    print(\"I have at least 3 vegetables of each type.\")"
   ]
  },
  {
   "cell_type": "markdown",
   "metadata": {
    "tags": [
     "fr"
    ]
   },
   "source": [
    "L'expression s'affiche puisqu'il suffit que l'une des deux expressions soit ``True`` pour que le ``or`` retourne ``True``. Rappellez-vous :\n",
    "\n",
    "```\n",
    "vrai ET vrai -> vrai\n",
    "vrai ET faux -> faux\n",
    "faux ET vrai -> faux\n",
    "faux ET faux -> faux\n",
    "\n",
    "```"
   ]
  },
  {
   "cell_type": "markdown",
   "metadata": {
    "tags": [
     "en"
    ]
   },
   "source": [
    "The expression is displayed since it only takes one of the two expressions to be ``True`` for the ``gold`` to return ``True``. Remember:\n",
    "\n",
    "```\n",
    "True AND True -> true\n",
    "True AND False -> false\n",
    "False AND True -> false\n",
    "False AND False -> false\n",
    "\n",
    "```"
   ]
  },
  {
   "cell_type": "markdown",
   "metadata": {
    "tags": [
     "fr"
    ]
   },
   "source": [
    "### \"OU\" (``or``)\n",
    "\n",
    "Désormais vous désirez savoir si vous avez au moins 3 courgettes ou 3 aubergines dans votre panier."
   ]
  },
  {
   "cell_type": "markdown",
   "metadata": {
    "tags": [
     "en"
    ]
   },
   "source": [
    "### \"OR\"\n",
    "\n",
    "Do I have at least 3 courgets or 3 aubergines?"
   ]
  },
  {
   "cell_type": "code",
   "execution_count": null,
   "metadata": {
    "tags": [
     "fr"
    ]
   },
   "outputs": [],
   "source": [
    "c = 12 # courgettes\n",
    "a = 0 # aubergines\n",
    "\n",
    "if (c >= 3) or (a >= 3):\n",
    "    print(\"Dans le panier il y a au moins 3 courgettes ou 3 aubergines\")"
   ]
  },
  {
   "cell_type": "code",
   "execution_count": null,
   "metadata": {
    "tags": [
     "en"
    ]
   },
   "outputs": [],
   "source": [
    "c = 12 # courgettes\n",
    "a = 0 # aubergines\n",
    "\n",
    "if (c >= 3) or (a >= 3):\n",
    "    print(\"I have at least 3 courgettes or 3 aubergines\")"
   ]
  },
  {
   "cell_type": "markdown",
   "metadata": {
    "tags": [
     "fr"
    ]
   },
   "source": [
    "L'expression s'affiche puisqu'il suffit que l'une des deux expressions soit ``True`` pour que le ``or`` retourne ``True``. Rappellez-vous :\n",
    "\n",
    "```\n",
    "vrai OU vrai -> vrai\n",
    "vrai OU faux -> vrai\n",
    "faux OU vrai -> vrai\n",
    "faux OU faux -> faux\n",
    "\n",
    "```"
   ]
  },
  {
   "cell_type": "markdown",
   "metadata": {
    "tags": [
     "en"
    ]
   },
   "source": [
    "The expression is displayed since it only takes one of the two expressions to be ``True`` for the ``or`` to return ``True``. Remember:\n",
    "\n",
    "```\n",
    "True OR True -> True\n",
    "True OR False -> True\n",
    "False OR True -> True\n",
    "False OR False -> False\n",
    "```"
   ]
  },
  {
   "cell_type": "markdown",
   "metadata": {
    "tags": [
     "fr"
    ]
   },
   "source": [
    "## Exercice (facile)\n",
    "\n",
    "A partir de l'exemple ci-dessous, complétez la dernière recette, \"l'omelette aux légumes\", qui nécessite :\n",
    "- Au moins 3 oeufs.\n",
    "- Le deuxième ingrédient peut être au choix au moins 2 aubergines, ou au moins 3 courgettes ou au moins 4 tomates.\n",
    "\n",
    "Si c'est le cas affichez le message suivant :\n",
    "\n",
    "```python\n",
    "\"On peut cuisiner une omelette aux légumes !\"\n",
    "```\n",
    "\n",
    "**ASTUCE**:\n",
    "\n",
    "- Vous n'avez besoin que de deux lignes de code.\n",
    "- Vous devez combiner les opérateurs ``and`` et ``or`` dans une même condition.\n",
    "- Réfléchissez bien aux parenthèses."
   ]
  },
  {
   "cell_type": "markdown",
   "metadata": {
    "tags": [
     "en"
    ]
   },
   "source": [
    "## Exercise (easy)\n",
    "\n",
    "From the example below, complete the last recipe, \"Vegetable omelette\", which requires :\n",
    "- At least 3 eggs.\n",
    "- The second ingredient can be either at least 2 aubergines, or at least 3 courgettes or at least 4 tomatoes.\n",
    "\n",
    "If so, display the following message:\n",
    "\n",
    "```python\n",
    "\"We can cook a vegetable omelette!\"\n",
    "```\n",
    "\n",
    "**ASTUCE**:\n",
    "\n",
    "- You only need two lines of code.\n",
    "- You need to combine ``and`` and ``or`` operations in the same condition.\n",
    "- Think carefully about the parentheses."
   ]
  },
  {
   "cell_type": "code",
   "execution_count": null,
   "metadata": {
    "tags": [
     "fr"
    ]
   },
   "outputs": [],
   "source": [
    "# Dans mon panier il y a :\n",
    "c = 3 # courgettes\n",
    "a = 3 # aubergines\n",
    "o = 3 # oeufs\n",
    "t = 4 # tomates\n",
    "\n",
    "# omelette à la courgette\n",
    "if c >= 2 and o >= 4:\n",
    "    print(\"Grande omelette aux courgettes\")\n",
    "elif c >= 1 and o >= 2:\n",
    "    print(\"Petite omelette aux courgettes\")\n",
    "\n",
    "# Troisième recette. Tapez votre code ici :\n"
   ]
  },
  {
   "cell_type": "code",
   "execution_count": null,
   "metadata": {
    "tags": [
     "fr",
     "solution"
    ]
   },
   "outputs": [],
   "source": [
    "#solution\n",
    "\n",
    "# Dans mon panier il y a :\n",
    "c = 3 # courgettes\n",
    "a = 3 # aubergines\n",
    "o = 3 # oeufs\n",
    "t = 4 # tomates\n",
    "\n",
    "# omelette à la courgette\n",
    "if c >= 2 and o >= 4:\n",
    "    print(\"Grande omelette aux courgettes.\")\n",
    "elif c >= 1 and o >= 2:\n",
    "    print(\"Petite omelette aux courgettes.\")\n",
    "\n",
    "# Troisième recette. Tapez votre code ici :\n",
    "\n",
    "if o >= 3 and (a >= 2 or c >= 3 or t >= 4):\n",
    "    print(\"On peut cuisiner une omelette aux légumes !\")"
   ]
  },
  {
   "cell_type": "code",
   "execution_count": null,
   "metadata": {
    "tags": [
     "en",
     "solution"
    ]
   },
   "outputs": [],
   "source": [
    "#solution\n",
    "\n",
    "# In my basket there are:\n",
    "c = 3 # courgettes\n",
    "a = 3 # aubergines\n",
    "o = 3 # eggs\n",
    "t = 4 # tomatoes\n",
    "\n",
    "# courgettes omelette\n",
    "if c >= 2 and o >= 4:\n",
    "    print(\"Large courgettes omelette.\")\n",
    "elif c >= 1 and o >= 2:\n",
    "    print(\"Small courgettes omelette.\")\n",
    "\n",
    "# Third recipy. Type your code here:\n",
    "\n",
    "if o >= 3 and (a >= 2 or c >= 3 or t >= 4):\n",
    "    print(\"We can cook a vegetable omelette!\")"
   ]
  },
  {
   "cell_type": "markdown",
   "metadata": {
    "tags": [
     "fr"
    ]
   },
   "source": [
    "## L'évaluation d'une condition\n",
    "\n",
    "Comme vu précédemment, à chaque fois que l'on écrit une condition python évalue cette expression et lui attribue une valeur : ``True`` si c'est vrai et ``False`` si c'est faux. On peut s'en assurer en faisant des tests dans Python :"
   ]
  },
  {
   "cell_type": "markdown",
   "metadata": {
    "tags": [
     "en"
    ]
   },
   "source": [
    "## Evaluating a condition\n",
    "\n",
    "Whenever we write a condition python evaluates that expression and assigns it a value: ``True`` if it is true and ``False`` if it is false. This can be checked by running tests in Python:"
   ]
  },
  {
   "cell_type": "code",
   "execution_count": null,
   "metadata": {},
   "outputs": [],
   "source": [
    "True and False"
   ]
  },
  {
   "cell_type": "code",
   "execution_count": null,
   "metadata": {},
   "outputs": [],
   "source": [
    "(True and False) and (True or False)"
   ]
  },
  {
   "cell_type": "code",
   "execution_count": null,
   "metadata": {},
   "outputs": [],
   "source": [
    "(True and False) or (True or False)"
   ]
  },
  {
   "cell_type": "code",
   "execution_count": null,
   "metadata": {},
   "outputs": [],
   "source": [
    "((True or False) or (True and False)) or (True and (True and False))"
   ]
  },
  {
   "cell_type": "markdown",
   "metadata": {
    "tags": [
     "fr"
    ]
   },
   "source": [
    "## Structures conditionnelles imbriquées\n",
    "\n",
    "Il est tout à fait possible d'imbriquer des ``if`` entre eux afin de ne pas répéter des tests inutilement.\n",
    "Par exemple :"
   ]
  },
  {
   "cell_type": "markdown",
   "metadata": {
    "tags": [
     "en"
    ]
   },
   "source": [
    "## Nested conditional structures\n",
    "\n",
    "It is possible to nest an ``if`` structure inside an other one. This can be used to avoid repeating tests unnecessarily.\n",
    "For example :"
   ]
  },
  {
   "cell_type": "code",
   "execution_count": null,
   "metadata": {
    "tags": [
     "fr"
    ]
   },
   "outputs": [],
   "source": [
    "a = 15\n",
    "b = 10\n",
    "\n",
    "if a > b:\n",
    "    print(\"a est plus grand que b...\")\n",
    "    \n",
    "    if a > b * 2:\n",
    "        print(\"... et a est plus grand que le double de b.\")\n",
    "    else:\n",
    "        print(\"... mais a est plus petit que le double de b.\")"
   ]
  },
  {
   "cell_type": "code",
   "execution_count": null,
   "metadata": {
    "tags": [
     "en"
    ]
   },
   "outputs": [],
   "source": [
    "a = 15\n",
    "b = 10\n",
    "\n",
    "if a > b:\n",
    "    print(\"a is bigger than b...\")\n",
    "    \n",
    "    if a > b * 2:\n",
    "        print(\"... and a is bigger than the double of b.\")\n",
    "    else:\n",
    "        print(\"... but a is smaller than the double of b.\")"
   ]
  },
  {
   "cell_type": "markdown",
   "metadata": {
    "tags": [
     "fr"
    ]
   },
   "source": [
    "## Exercice (moyen)\n",
    "\n",
    "Soit un triangle composé de 3 segments différents : a, b et c.\n",
    "\n",
    "```\n",
    "     /\\\n",
    " a  /  \\   b\n",
    "   /    \\\n",
    "  /      \\\n",
    "   ͞ ͞͞ ͞ ͞ ͞ ͞ ͞ ͞ ͞ ͞ ͞ ͞\n",
    "     c\n",
    "```\n",
    "\n",
    "Utilisez des ``if``, ``elif`` et ``else`` en les imbriquant si nécessaire afin de créer un programme qui:\n",
    "\n",
    "- Affiche \"Valide\" si le triangle est valide et \"Non valide\" si le triangle ne l'est pas. Rappel : pour vérifier qu'un triangle est valide il faut que la somme de deux côtés soit toujours plus grande que le troisième. donc que :\n",
    "\n",
    "```python\n",
    "    a + b > c\n",
    "    a + c > b\n",
    "    b + c > a\n",
    "```\n",
    "\n",
    "- Une fois que l'on sait que le triangle est valide :\n",
    "    - Affiche \"Equilatéral\" si le triangle est valide et équilatéral (trois côté égaux).\n",
    "    - Affiche \"Isocèle\" si le triangle est valide et isocèle (deux côtés égaux).\n",
    "    - Affiche \"Quelconque\" si le triangle est valide mais ni isocèle ni équilatéral.\n",
    "\n",
    "Faites varier les valeurs de a, b et c pour vérifier que tout fonctionne correctement.\n",
    "\n",
    "**ASTUCES**:\n",
    "\n",
    "- Ne testez pas à chaque fois si le triangle est valide ou non ! Imbriquez les tests sur la nature du triangle dans le premier test de validité. C'est à dire que vous testerez d'abord si le triangle est valide, si c'est le cas vous effectuerez d'autres tests pour déterminer sa nature. Si ce n'est pas le cas, le programme s'achève après avoir indiqué que le triangle n'est pas valide.\n",
    "- Vous pouvez tester avec un triangle équilatéral (ex: a = 5, b = 5 et c = 5), isocèle (ex: a = 3, b = 5 et c = 5) ou quelconque (ex: a = 3, b = 4, c = 5)."
   ]
  },
  {
   "cell_type": "markdown",
   "metadata": {
    "tags": [
     "en"
    ]
   },
   "source": [
    "## Exercise (medium)\n",
    "\n",
    "Let a triangle consist of 3 different segments: a, b and c.\n",
    "\n",
    "```\n",
    "     /\\\n",
    " a  /  \\   b\n",
    "   /    \\\n",
    "  /      \\\n",
    "   ͞ ͞͞ ͞ ͞ ͞ ͞ ͞ ͞ ͞ ͞ ͞ ͞\n",
    "     c\n",
    "```\n",
    "\n",
    "Use ``if``, ``elif`` and ``else``, nesting them as necessary to create a program that:\n",
    "\n",
    "- Displays \"Valid\" if the triangle is valid and \"Invalid\" if the triangle is not valid. Reminder: to check that a triangle is valid, the sum of two sides must always be greater than the third:\n",
    "\n",
    "```python\n",
    "    a + b > c\n",
    "    a + c > b\n",
    "    b + c > a\n",
    "```\n",
    "\n",
    "- Once we know that the triangle is valid:\n",
    "    - Displays \"Equilateral\" if the triangle is valid and equilateral (three equal sides).\n",
    "    - Displays \"Isosceles\" if the triangle is valid and isosceles (two equal sides).\n",
    "    - Displays \"Unspecified\" if the triangle is valid but neither isosceles nor equilateral.\n",
    "\n",
    "Vary the values of a, b and c to check that everything is working correctly.\n",
    "\n",
    "**TIPS**:\n",
    "\n",
    "- Do not test each time if the triangle is valid or not! Nest the tests on the nature of the triangle in the first validity test. That is, you will first test if the triangle is valid, if it is, you will perform other tests to determine its nature. If it is not, the program terminates after indicating that the triangle is not valid.\n",
    "- You can test with an equilateral triangle (e.g. a = 5, b = 5 and c = 5), an isosceles triangle (e.g. a = 3, b = 5 and c = 5) or any triangle (e.g. a = 3, b = 4, c = 5)."
   ]
  },
  {
   "cell_type": "code",
   "execution_count": null,
   "metadata": {
    "tags": []
   },
   "outputs": [],
   "source": [
    "a = 3\n",
    "b = 4\n",
    "c = 5\n",
    "\n",
    "# Code here!\n"
   ]
  },
  {
   "cell_type": "code",
   "execution_count": null,
   "metadata": {
    "tags": [
     "solution",
     "fr"
    ]
   },
   "outputs": [],
   "source": [
    "#solution\n",
    "\n",
    "a = 3\n",
    "b = 4\n",
    "c = 5\n",
    "\n",
    "if  a + b > c and a + c > b and b + c > a:\n",
    "    print(\"Valide\")\n",
    "\n",
    "    if a == b == c: print(\"Equilatéral\")\n",
    "    elif a == b or a == c or b == c: print (\"Isocèle\")\n",
    "    else: print (\"Quelconque\")\n",
    "    \n",
    "else: print (\"Non valide\")"
   ]
  },
  {
   "cell_type": "code",
   "execution_count": null,
   "metadata": {
    "tags": [
     "en",
     "solution"
    ]
   },
   "outputs": [],
   "source": [
    "#solution\n",
    "\n",
    "a = 3\n",
    "b = 4\n",
    "c = 5\n",
    "\n",
    "if  a + b > c and a + c > b and b + c > a:\n",
    "    print(\"Valid\")\n",
    "\n",
    "    if a == b == c: print(\"Equilateral\")\n",
    "    elif a == b or a == c or b == c: print(\"Isosceles\")\n",
    "    else: print(\"Unspecified\")\n",
    "    \n",
    "else: print (\"Not a valid triangle\")"
   ]
  },
  {
   "cell_type": "markdown",
   "metadata": {
    "tags": [
     "fr"
    ]
   },
   "source": [
    "## Pour aller plus loin"
   ]
  },
  {
   "cell_type": "markdown",
   "metadata": {
    "tags": [
     "en"
    ]
   },
   "source": [
    "## Let's go deeper"
   ]
  },
  {
   "cell_type": "markdown",
   "metadata": {
    "tags": [
     "fr"
    ]
   },
   "source": [
    "### Une nouvelle fonction : ``round()``\n",
    "\n",
    "La fonction ``round()`` permet d'arrondir un nombre. Elle prend deux paramètres en entrée : le nombre à arrondir et le nombre de décimales désiré. Par défaut elle l'arrondit à l'entier supérieur ou inférieur. Exemple :"
   ]
  },
  {
   "cell_type": "markdown",
   "metadata": {
    "tags": [
     "en"
    ]
   },
   "source": [
    "### A new function: ``round()``\n",
    "\n",
    "The ``round()`` function is used to round a number. It takes two parameters as input: the number to be rounded and the desired number of decimal places. By default it transforms the number in an integer. Example:"
   ]
  },
  {
   "cell_type": "code",
   "execution_count": null,
   "metadata": {
    "tags": []
   },
   "outputs": [],
   "source": [
    "round(3.14159)"
   ]
  },
  {
   "cell_type": "code",
   "execution_count": null,
   "metadata": {
    "tags": []
   },
   "outputs": [],
   "source": [
    "round(3.14159, 2)"
   ]
  },
  {
   "cell_type": "code",
   "execution_count": null,
   "metadata": {
    "tags": []
   },
   "outputs": [],
   "source": [
    "round(3.14159, 4)"
   ]
  },
  {
   "cell_type": "markdown",
   "metadata": {
    "tags": [
     "fr"
    ]
   },
   "source": [
    "### Exercice (moyen / difficile)\n",
    "\n",
    "En reprenant l'exercice précédent, ajoutez les tests nécessaires pour s'assurer que le triangle est bien rectangle. Il faut donc que le programme :\n",
    "\n",
    "- Affiche \"Valide\" si le triangle est valide et \"Non valide\" si le triangle ne l'est pas.\n",
    "\n",
    "- Affiche \"Equilatéral\" si le triangle est valide et équilatéral.\n",
    "- Affiche \"Isocèle\" si le triangle est valide et isocèle.\n",
    "\n",
    "- Affiche \"Rectangle\" si le triangle est seulement rectangle. Rappel : pour tester si un triangle est rectangle il faut que l'une de ces trois égalités soit vraie :\n",
    "\n",
    "```python\n",
    "    a² + b² = c²\n",
    "    a² + c² = b²\n",
    "    b² + c² = a²\n",
    "```\n",
    "\n",
    "- Affiche \"Rectangle et isocèle\" si il est rectangle et isocèle.\n",
    "\n",
    "- Affiche \"Quelconque\" si le triangle est valide mais sans propriété particulière (ni rectangle, ni isocèle, ni rectangle isocèle, ni équilatéral).\n",
    "\n",
    "Faites varier les valeurs de a, b et c pour vérifier que tout fonctionne correctement.\n",
    "\n",
    "**ASTUCES**:\n",
    "\n",
    "- En python le carré s'écrit puissance 2, c'est-à-dire ``**2``.\n",
    "- Comme il n'existe aucun triangle rectangle isocèle dont la longueur des trois côtés sont des entiers, on ne peut pas vérifier cette égalité sauf à arrondir les résultats. Dans ce cas là, il faut placer chaque terme de l'égalité dans un ``round()``. Ceci fonctionne par exemple avec un triangle de taille a = 6, b = 6, c = 8.48)."
   ]
  },
  {
   "cell_type": "markdown",
   "metadata": {
    "tags": [
     "en"
    ]
   },
   "source": [
    "### Exercise (medium / difficult)\n",
    "\n",
    "Using the previous exercise, add the necessary tests to ensure that the triangle is rectangular. The program must therefore :\n",
    "\n",
    "- Display \"Valid\" or not \"Valid\".\n",
    "\n",
    "- Display \"Equilateral\" if the triangle is valid and equilateral.\n",
    "- Display \"Isosceles\" if the triangle is valid and isosceles.\n",
    "\n",
    "- Displays \"Rectangle\" if the triangle is only rectangle. Reminder: to test if a triangle is right-angled, one of these three equations must be true:\n",
    "\n",
    "```python\n",
    "    a² + b² = c²\n",
    "    a² + c² = b²\n",
    "    b² + c² = a²\n",
    "```\n",
    "\n",
    "- Displays \"Rectangle and isosceles\" if it is a rectangle and isosceles.\n",
    "\n",
    "- Displays \"Unspecified\" if the triangle is valid but without any particular property (neither rectangle, nor isosceles, nor isosceles rectangle, nor equilateral).\n",
    "\n",
    "Vary the values of a, b and c to check that everything works correctly.\n",
    "\n",
    "**TIPS**:\n",
    "\n",
    "- In Python the square is written to the power of 2, that is ``**2``.\n",
    "- Since there is no isosceles right triangle whose three sides are integers, we can't check this equality except by rounding the results. In this case, each term of the equality must be placed in a round()``. This works for example with a triangle of size a = 6, b = 6, c = 8.48)."
   ]
  },
  {
   "cell_type": "code",
   "execution_count": null,
   "metadata": {},
   "outputs": [],
   "source": [
    "a = 6\n",
    "b = 6\n",
    "c = 8.48\n",
    "\n",
    "# code here!\n"
   ]
  },
  {
   "cell_type": "code",
   "execution_count": null,
   "metadata": {
    "tags": [
     "solution",
     "fr"
    ]
   },
   "outputs": [],
   "source": [
    "#solution\n",
    "\n",
    "a = 6\n",
    "b = 6\n",
    "c = 8.48\n",
    "\n",
    "if  a + b > c and a + c > b and b + c > a:\n",
    "    print(\"Valide\")\n",
    "\n",
    "    if a == b == c:\n",
    "        print(\"Equilatéral\")\n",
    "\n",
    "    elif a == b or a == c or b == c:\n",
    "        \n",
    "        if round(a ** 2 + b ** 2) == round(c ** 2) \\\n",
    "           or round(a ** 2 + c ** 2) == round(b ** 2) \\\n",
    "           or round(b ** 2 + c ** 2) == round(a ** 2):\n",
    "            \n",
    "            print(\"Rectangle et isocèle\")\n",
    "            \n",
    "        else:\n",
    "            print(\"Isocèle\")\n",
    "\n",
    "    elif round(a ** 2 + b ** 2) == round(c ** 2) \\\n",
    "         or round(a ** 2 + c ** 2) == round(b ** 2) \\\n",
    "         or round(b ** 2 + c ** 2) == round(a ** 2):\n",
    "        \n",
    "        print(\"Rectangle\")\n",
    "    \n",
    "    else: print(\"Quelconque\")\n",
    "    \n",
    "else: print(\"Non valide\")"
   ]
  },
  {
   "cell_type": "code",
   "execution_count": null,
   "metadata": {
    "tags": [
     "en",
     "solution"
    ]
   },
   "outputs": [],
   "source": [
    "#solution\n",
    "\n",
    "a = 6\n",
    "b = 6\n",
    "c = 8.48\n",
    "\n",
    "if  a + b > c and a + c > b and b + c > a:\n",
    "    print(\"Valid\")\n",
    "\n",
    "    if a == b == c:\n",
    "        print(\"Equilateral\")\n",
    "\n",
    "    elif a == b or a == c or b == c:\n",
    "        \n",
    "        if round(a ** 2 + b ** 2) == round(c ** 2) \\\n",
    "           or round(a ** 2 + c ** 2) == round(b ** 2) \\\n",
    "           or round(b ** 2 + c ** 2) == round(a ** 2):\n",
    "            \n",
    "            print(\"Rectangle et isosceles\")\n",
    "            \n",
    "        else:\n",
    "            print (\"Isosceles\")\n",
    "\n",
    "    elif round(a ** 2 + b ** 2) == round(c ** 2) \\\n",
    "         or round(a ** 2 + c ** 2) == round(b ** 2) \\\n",
    "         or round(b ** 2 + c ** 2) == round(a ** 2):\n",
    "        \n",
    "        print(\"Rectangle\")\n",
    "    \n",
    "    else: print(\"Unspecified\")\n",
    "    \n",
    "else: print(\"Not a valid triangle\")"
   ]
  }
 ],
 "metadata": {
  "kernelspec": {
   "display_name": "Python 3 (ipykernel)",
   "language": "python",
   "name": "python3"
  },
  "language_info": {
   "codemirror_mode": {
    "name": "ipython",
    "version": 3
   },
   "file_extension": ".py",
   "mimetype": "text/x-python",
   "name": "python",
   "nbconvert_exporter": "python",
   "pygments_lexer": "ipython3",
   "version": "3.10.9"
  }
 },
 "nbformat": 4,
 "nbformat_minor": 4
}
