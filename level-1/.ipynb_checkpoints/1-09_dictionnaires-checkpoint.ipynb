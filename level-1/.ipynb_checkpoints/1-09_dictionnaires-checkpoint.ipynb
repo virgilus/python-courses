{
 "cells": [
  {
   "cell_type": "markdown",
   "metadata": {
    "tags": [
     "fr"
    ]
   },
   "source": [
    "# DICTIONNAIRE\n",
    "\n",
    "## Qu'est-ce qu'un dictionnaire ?\n",
    "\n",
    "Les dictionnaire sont des objets python spéciaux qui associent à chaque entrée une valeur. On les reconnaît parce que le contenu d'un dictionnaire est encadré par des accolades `{ }`. Les dictionnaires sont des objets python de type `dict`. Par exemple :\n",
    "\n",
    "```python\n",
    "mon_dictionnaire = {\"password\": \"azerty\"}\n",
    "```\n",
    "\n",
    "On peut y ajouter différents éléments séparés par des virgules: \n",
    "\n",
    "```python\n",
    "mon_dictionnaire = {\"nom\": \"Snow\", \"prenom\":\"Jon\", \"password\": \"azerty\"}\n",
    "```\n",
    "\n",
    "Mais pour des raisons de lisibilité on écrit souvent un dictionnaire en séparant chaque couple par une ligne :\n",
    "\n",
    "```python\n",
    "mon_dictionnaire = {\"nom\": \"Snow\",\n",
    "                    \"prenom\":\"Jon\",\n",
    "                    \"password\": \"azerty\"}\n",
    "```\n",
    "\n",
    "On appelle le terme de gauche **la clé** ou **_key_**, et le terme de droite sa **valeur** ou **_value_**. On trouve souvent les abréviations **\"k\"** et **\"v\"** pour désigner ces deux parties.\n",
    "\n",
    "Il n'y a pas d'index dans un dictionnaire. Pour appeler une valeur il suffit de taper le nom du dictionnaire suivi de la clé entre crochets. par exemple : "
   ]
  },
  {
   "cell_type": "markdown",
   "metadata": {
    "tags": [
     "en"
    ]
   },
   "source": [
    "# DICTIONARY\n",
    "\n",
    "## What is a dictionary?\n",
    "\n",
    "Dictionaries are special Python objects that associate each entry with a value. They are recognizable because the contents of a dictionary are enclosed in curly brackets (`{ }`). Dictionaries are python objects of type `dict`. For example:\n",
    "\n",
    "```python\n",
    "my_dictionary = {\"password\": \"azerty\"}\n",
    "```\n",
    "\n",
    "You can add different elements to it, separated by commas: \n",
    "\n",
    "```python\n",
    "my_dictionary = {\"last name\": \"Snow\", \"first name\": \"Jon\", \"password\": \"azerty\"}\n",
    "```\n",
    "\n",
    "But for readability reasons we often write down a dictionary with a line separating each pair:\n",
    "\n",
    "```python\n",
    "my_dictionary = {\"last name\": \"Snow\",\n",
    "                 \"first name\": \"Jon\",\n",
    "                 \"password\": \"azerty\"}\n",
    "```\n",
    "\n",
    "The term on the left is called the **key**, and the term on the right **value**. The abbreviations **\"k \"** and **\"v \"** are often used to designate these two parts.\n",
    "\n",
    "There is no index in a dictionnary. To call up a value, simply type the name of the dictionary followed by the key in square brackets. For example:"
   ]
  },
  {
   "cell_type": "code",
   "execution_count": null,
   "metadata": {
    "tags": [
     "fr"
    ]
   },
   "outputs": [],
   "source": [
    "mon_dictionnaire = {\"nom\": \"Snow\",\n",
    "                    \"prenom\":\"Jon\",\n",
    "                    \"password\": \"azerty\"}\n",
    "\n",
    "print(mon_dictionnaire['nom'])\n",
    "print(mon_dictionnaire['prenom'])\n",
    "print(f\"mon_dictionnaire est de type : {type(mon_dictionnaire)}\")"
   ]
  },
  {
   "cell_type": "code",
   "execution_count": null,
   "metadata": {
    "tags": [
     "en"
    ]
   },
   "outputs": [],
   "source": [
    "my_dict = {\"last name\": \"Snow\",\n",
    "           \"first name\":\"Jon\",\n",
    "           \"password\": \"azerty\"}\n",
    "\n",
    "print(my_dict[\"last name\"])\n",
    "print(my_dict[\"first name\"])\n",
    "print(f\"The type of my dictionnary is: {type(my_dict)}\")"
   ]
  },
  {
   "cell_type": "markdown",
   "metadata": {
    "tags": [
     "fr"
    ]
   },
   "source": [
    "## Le contenu d'un dictionnaire\n",
    "\n",
    "Les valeurs d'un dictionnaire peuvent être de différents types (des strings, des entiers, des variables...). En revanche on ne peut pas utiliser un objet non \"hashable\" (qui peut être modifié, comme une liste ou un dictionnaire) comme clé. Par exemple :"
   ]
  },
  {
   "cell_type": "markdown",
   "metadata": {
    "tags": [
     "en"
    ]
   },
   "source": [
    "## The contents of a dictionary\n",
    "\n",
    "The values of a dictionary can be of different types (strings, integers, variables...). However, you cannot use a non-hashable object (which can be modified, like a list or a dictionary) as a key. For example :"
   ]
  },
  {
   "cell_type": "code",
   "execution_count": null,
   "metadata": {
    "tags": [
     "fr"
    ]
   },
   "outputs": [],
   "source": [
    "une_variable = 12\n",
    "\n",
    "mon_dictionnaire =  {\n",
    "    \"tomate\": \"Plante potagère annuelle, de la famille des Solanacées, cultivée pour ses fruits.\",\n",
    "    \"liste de mes fruits préférés\": [\"pomme\", \"poire\", \"banane\"],\n",
    "    14:2072,\n",
    "    \"nombre\": une_variable,\n",
    "    \"une plage de nombres\": range(2,20,4),\n",
    "    \"la même plage de nombres convertie en liste\": list(range(2,20,4)), # la fonction list() convertit un objet en liste !\n",
    "                    }\n",
    "print(mon_dictionnaire)"
   ]
  },
  {
   "cell_type": "code",
   "execution_count": null,
   "metadata": {
    "tags": [
     "en"
    ]
   },
   "outputs": [],
   "source": [
    "a_variable = 12\n",
    "\n",
    "my_dict = {\n",
    "    \"tomato\": \"Annual vegetable plant, of the Solanaceae family, cultivated for its fruit\",\n",
    "    \"list of my favourite fruits\": [\"apple\", \"pear\", \"banana\"],\n",
    "    14:2072,\n",
    "    \"number\": a_variable,\n",
    "    \"a range of numbers\": range(2,20,4),\n",
    "    \"the same range of numbers converted to a list\": list(range(2,20,4)), # the list() function converts an object to a list!\n",
    "                    }\n",
    "print(my_dict)"
   ]
  },
  {
   "cell_type": "markdown",
   "metadata": {
    "tags": [
     "fr"
    ]
   },
   "source": [
    "## Manipulation d'un dictionnaire\n",
    "\n",
    "### Création et ajout de clés\n",
    "\n",
    "Dans un dictionnaire chaque clé est associée à une valeur. Sinon inutile d'en faire un dictionnaire, ce serait une simple liste !\n",
    "\n",
    "Pour ajouter ou modifier une valeur il suffit d'assigner la valeur souhaitée à la clé. Si la clé n'existe pas elle sera automatiquement créée. Cela signifie également qu'un même dictionnaire ne peut **pas avoir deux clés identiques**. L'exemple suivant crée un dictionnaire nommé \"my_dict\", qui comporte une clé \"a\" associé à la valeur 1. Puis on modifie la valeur de \"a\" et on ajoute un nouveau couple clé/valeur au dictionnaire. **La syntaxe pour créer une clé ou la modifier est la même**."
   ]
  },
  {
   "cell_type": "markdown",
   "metadata": {
    "tags": [
     "en"
    ]
   },
   "source": [
    "## Handling a dictionary\n",
    "\n",
    "### Creating and adding keys\n",
    "\n",
    "In a dictionary each key is associated with a value. Otherwise there is no point in making a dictionary, it would be a simple list!\n",
    "\n",
    "To add or modify a value, simply assign the desired value to the key. If the key does not exist, it will be automatically created. This also means that the same dictionary can **not have two identical keys**.\n",
    "\n",
    "The following example creates a dictionary named \"my_dict\", which has a key \"a\" with the value 1. Then we change the value of \"a\" and add a new key/value pair to the dictionary. **The syntax for creating a key or modifying it is the same**."
   ]
  },
  {
   "cell_type": "code",
   "execution_count": null,
   "metadata": {
    "tags": []
   },
   "outputs": [],
   "source": [
    "my_dict = { \"a\": 1 }\n",
    "\n",
    "my_dict[\"a\"] = 1\n",
    "my_dict[\"b\"] = 2\n",
    "\n",
    "print(my_dict)"
   ]
  },
  {
   "cell_type": "markdown",
   "metadata": {
    "tags": [
     "fr"
    ]
   },
   "source": [
    "### Parcourir un dictionnaire\n",
    "\n",
    "#### Parcourir les clés\n",
    "\n",
    "Lorsqu'on fait un `for key in dict`, python ne retourne que les clés.\n",
    "\n",
    "**NOTE:** Pour être plus explicite on peut aussi utiliser la méthode `.keys()`, qui transforme les clés en itérable, cela revient au même.\n",
    "\n",
    "Exemple :"
   ]
  },
  {
   "cell_type": "markdown",
   "metadata": {
    "tags": [
     "en"
    ]
   },
   "source": [
    "### Iterate over a dictionary\n",
    "\n",
    "#### Over the keys\n",
    "\n",
    "When looping through a dictionnary, python only returns the keys.\n",
    "\n",
    "**NOTE:** To be more explicit you can also use the `.keys()` method, which turns the keys into iterables, which is the same thing.\n",
    "\n",
    "Example:"
   ]
  },
  {
   "cell_type": "code",
   "execution_count": null,
   "metadata": {
    "tags": []
   },
   "outputs": [],
   "source": [
    "secret_code = {\n",
    "    'a':2,\n",
    "    'b':3,\n",
    "    'c':4,\n",
    "    'd':5,\n",
    "    'e':6,\n",
    "    'f':7,\n",
    "    'g':8,\n",
    "    'h':9,\n",
    "            }\n",
    "\n",
    "for letter in secret_code:\n",
    "    print(letter)\n",
    "    \n",
    "print(\"              Using the method .keys() :\")\n",
    "    \n",
    "for letter in secret_code.keys():\n",
    "    print(letter)"
   ]
  },
  {
   "cell_type": "markdown",
   "metadata": {
    "tags": [
     "fr"
    ]
   },
   "source": [
    "#### Parcourir les valeurs\n",
    "\n",
    "On peut utiliser la méthode `.values()`. Celle-ci transforme les valeurs des clés en itérable. Exemple :"
   ]
  },
  {
   "cell_type": "markdown",
   "metadata": {
    "tags": [
     "en"
    ]
   },
   "source": [
    "#### Iterate over the values\n",
    "\n",
    "You can use the `.values()` method. This transforms the values of the keys into iterables. Example:"
   ]
  },
  {
   "cell_type": "code",
   "execution_count": null,
   "metadata": {
    "tags": []
   },
   "outputs": [],
   "source": [
    "secret_code = {\n",
    "    'a':2,\n",
    "    'b':3,\n",
    "    'c':4,\n",
    "    'd':5,\n",
    "    'e':6,\n",
    "    'f':7,\n",
    "    'g':8,\n",
    "    'h':9,\n",
    "            }\n",
    "\n",
    "for number in secret_code.values():\n",
    "    print(number)"
   ]
  },
  {
   "cell_type": "markdown",
   "metadata": {
    "tags": [
     "fr"
    ]
   },
   "source": [
    "#### Parcourir les clés et les valeurs en même temps\n",
    "\n",
    "La méthode `.items()` est là pour cela ! Elle renvoie des `tuples`, qui est un type que nous n'avons pas encore vu. Les tuples sont juste des listes qui ne peuvent pas être modifiées, on les identifie car elles sont placées entre parenthèses:\n",
    "\n",
    "```python\n",
    "(3, \"une chaîne\", 72)\n",
    "```\n",
    "\n",
    "Inutile d'en savoir plus pour l'instant. En donnant comme argument au `for` plusieurs noms de variables, cela nous permet de récupérer les clés et les valeurs dans des variables séparées. Que nous appelerons **k** et **v**."
   ]
  },
  {
   "cell_type": "markdown",
   "metadata": {
    "tags": [
     "en"
    ]
   },
   "source": [
    "#### Iterate over the keys and values at the same time\n",
    "\n",
    "The `.items()` method is there for that! It returns `tuples`, which is a type we haven't seen yet. Tuples are just lists that can't be changed, they are identified by being enclosed in parenthesis:\n",
    "\n",
    "```python\n",
    "(3, \"a string\", 72)\n",
    "```\n",
    "    \n",
    "No need to know more about this at the moment. By giving the `for` argument several variable names, this allows us to get the keys and values in separate variables. Which we will call **k** and **v**."
   ]
  },
  {
   "cell_type": "code",
   "execution_count": null,
   "metadata": {
    "tags": [
     "fr"
    ]
   },
   "outputs": [],
   "source": [
    "secret_code = {\n",
    "    'a':2,\n",
    "    'b':3,\n",
    "    'c':4,\n",
    "    'd':5,\n",
    "    'e':6,\n",
    "    'f':7,\n",
    "    'g':8,\n",
    "    'h':9,\n",
    "            }\n",
    "\n",
    "print (\"Affichons les tuples contenant la clé et la valeur : \\n\") # \\n permet d'aller à la ligne.\n",
    "\n",
    "for couple in secret_code.items():\n",
    "    print(f\"Ceci est un tuple {couple}\")\n",
    "\n",
    "print (\"\\n Affichons les clés et les valeurs séparément: \\n\")\n",
    "    \n",
    "for k, v in secret_code.items():\n",
    "    print(f\"Voici la clé k:{k} et la valeur v: {v}\")"
   ]
  },
  {
   "cell_type": "code",
   "execution_count": null,
   "metadata": {
    "tags": [
     "en"
    ]
   },
   "outputs": [],
   "source": [
    "secret_code = {\n",
    "    'a':2,\n",
    "    'b':3,\n",
    "    'c':4,\n",
    "    'd':5,\n",
    "    'e':6,\n",
    "    'f':7,\n",
    "    'g':8,\n",
    "    'h':9,\n",
    "            }\n",
    "\n",
    "print (\"Let's generate tuples from the dictionnary : \\n\") # \\n is used to go to the next line\n",
    "\n",
    "for couple in secret_code.items():\n",
    "    print(f\"This is a tuple: {couple}\")\n",
    "\n",
    "print (\"\\n Let's iterate through the keys and values using two variables : \\n\")\n",
    "    \n",
    "for k, v in secret_code.items():\n",
    "    print(f\"This is the key 'k': {k} and the value v: {v}\")"
   ]
  },
  {
   "cell_type": "markdown",
   "metadata": {
    "tags": [
     "fr"
    ]
   },
   "source": [
    "### Exercice (facile)\n",
    "\n",
    "Vous faites vos courses, voici ce que votre panier contient actuellement :\n",
    "\n",
    "- Deux poivrons\n",
    "- dix-huit oeufs\n",
    "\n",
    "**1°)** Créez un dictionnaire nommé \"panier\" dans lequel vous allez associer les différents produits de la liste de course à leur quantité.\n",
    "\n",
    "**2°)** Votre colocataire vous appelle pour vous demander d'acheter cinq aubergines. Il vous précise aussi que vous avez déjà 6 oeufs dans le frigo, vous n'en avez donc plus besoin que de 12 oeufs. Appliquez ces modifications sur votre dictionnaire existant à l'aide des instructions python.\n",
    "\n",
    "**3°)** En une seule boucle affichez pour chaque entrée du dictionnaire. \"Mon produit est *nom_du_produit* et j'en ai *valeur_du_produit*\"."
   ]
  },
  {
   "cell_type": "markdown",
   "metadata": {
    "tags": [
     "en"
    ]
   },
   "source": [
    "### Exercise (easy)\n",
    "\n",
    "You're shopping, here's what's in your basket right now:\n",
    "\n",
    "- Two peppers\n",
    "- Eighteen eggs\n",
    "\n",
    "**1°)** Create a dictionary called \"basket\" in which you will associate the different products on the shopping list with their quantity.\n",
    "\n",
    "**2°)** Your flatmate calls you to ask you to buy five aubergines. He also tells you that you already have 6 eggs in the fridge, so you only need 12 eggs. Apply these changes to your existing dictionary using the python instructions.\n",
    "\n",
    "**3°)** In a single loop display for each dictionary entry. \"My product is *product_name* and I have *product_value* of them\"."
   ]
  },
  {
   "cell_type": "code",
   "execution_count": null,
   "metadata": {},
   "outputs": [],
   "source": [
    "# Code here!\n"
   ]
  },
  {
   "cell_type": "code",
   "execution_count": null,
   "metadata": {
    "tags": [
     "fr",
     "solution"
    ]
   },
   "outputs": [],
   "source": [
    "# Solution\n",
    "\n",
    "# 1\n",
    "panier = {\n",
    "    'poivrons': 2,\n",
    "    'oeufs': 18,\n",
    "        }\n",
    "# 2\n",
    "\n",
    "# On rajoute 5 aubergines\n",
    "panier['aubergines'] = 5\n",
    "\n",
    "# On enlève 6 oeufs\n",
    "panier['oeufs'] = panier['oeufs'] - 6\n",
    "\n",
    "#3\n",
    "for k, v in panier.items():\n",
    "    print(f\"Mon produit est {k} et j'en ai {v}.\")"
   ]
  },
  {
   "cell_type": "code",
   "execution_count": null,
   "metadata": {
    "tags": [
     "en",
     "solution"
    ]
   },
   "outputs": [],
   "source": [
    "# Solution\n",
    "\n",
    "# 1\n",
    "basket = {\n",
    "    'peppers': 2,\n",
    "    'eggs': 18,\n",
    "        }\n",
    "# 2\n",
    "\n",
    "# On rajoute 5 aubergines\n",
    "basket['aubergines'] = 5\n",
    "\n",
    "# On enlève 6 oeufs\n",
    "basket['eggs'] = basket['eggs'] - 6\n",
    "\n",
    "#3\n",
    "for k, v in basket.items():\n",
    "    print(f\"My product is {k} and I have {v} of them.\")"
   ]
  },
  {
   "cell_type": "markdown",
   "metadata": {
    "tags": [
     "fr"
    ]
   },
   "source": [
    "### Exercice (moyen)\n",
    "\n",
    "A partir de la chaîne de caratère suivante qui contient l'alphabet, utilisez une boucle pour créer un dictionnaire qui contient chaque lettre de l'alphabet ainsi que son rang inverse dans l'alphabet (A = 26, B = 25 ... jusqu'à Z = 1).\n",
    "\n",
    "**Astuces**\n",
    "\n",
    "- Créez un dictionnaire vide avant de commencer la boucle.\n",
    "- Pour trouver le rang inverse vous pouvez créer une variable et l'incrémenter vous même, ou bien utiliser la fonction `enumerate()` sur la chaîne de caractère et utiliser l'index de chaque élément de la string."
   ]
  },
  {
   "cell_type": "markdown",
   "metadata": {
    "tags": [
     "en"
    ]
   },
   "source": [
    "### Exercise (medium)\n",
    "\n",
    "From the following character string containing the alphabet, use a loop to create a dictionary that contains each letter of the alphabet and its inverse rank in the alphabet (A = 26, B = 25 ... until Z = 1).\n",
    "\n",
    "**Tips**\n",
    "\n",
    "- Create an empty dictionary before starting the loop.\n",
    "- To find the reverse rank you can create a variable and increment it yourself, or use the `enumerate()` function on the string and use the index of each element (which is a character) of the string."
   ]
  },
  {
   "cell_type": "code",
   "execution_count": null,
   "metadata": {},
   "outputs": [],
   "source": [
    "alphabet = \"ABCDEFGHIJKLMNOPQRSTUVWXYZ\"\n",
    "\n",
    "# code here!"
   ]
  },
  {
   "cell_type": "code",
   "execution_count": null,
   "metadata": {
    "tags": [
     "solution"
    ]
   },
   "outputs": [],
   "source": [
    "# Solution\n",
    "\n",
    "alphabet = \"ABCDEFGHIJKLMNOPQRSTUVWXYZ\"\n",
    "\n",
    "d = {}\n",
    "\n",
    "for i, letter in enumerate(alphabet):\n",
    "    d[letter] = 26 - i\n",
    "    \n",
    "print(d)\n",
    "\n",
    "# other method:\n",
    "\n",
    "d = {}\n",
    "n = 26\n",
    "\n",
    "for letter in alphabet:\n",
    "    d[letter] = n\n",
    "    n -= 1\n",
    "    \n",
    "print(d)\n"
   ]
  },
  {
   "cell_type": "markdown",
   "metadata": {
    "tags": [
     "fr"
    ]
   },
   "source": [
    "# Pour aller plus loin"
   ]
  },
  {
   "cell_type": "markdown",
   "metadata": {
    "tags": [
     "fr"
    ]
   },
   "source": [
    "### Effacer une clé\n",
    "\n",
    "On peut utiliser la fonction `del`, tout comme les listes. Exemple :"
   ]
  },
  {
   "cell_type": "code",
   "execution_count": null,
   "metadata": {
    "tags": [
     "fr"
    ]
   },
   "outputs": [],
   "source": [
    "mon_dict = { \"a\": 7 }\n",
    "\n",
    "mon_dict[\"a\"] = 11\n",
    "mon_dict[\"b\"] = 16\n",
    "\n",
    "# On efface l'entrée \"a\"\n",
    "\n",
    "del mon_dict[\"a\"]\n",
    "\n",
    "print(mon_dict)"
   ]
  },
  {
   "cell_type": "markdown",
   "metadata": {
    "tags": [
     "fr"
    ]
   },
   "source": [
    "### Lorsque la clé n'existe pas"
   ]
  },
  {
   "cell_type": "markdown",
   "metadata": {
    "tags": [
     "fr"
    ]
   },
   "source": [
    "#### Tester si la clé existe avec `in`\n",
    "\n",
    "Si on appelle une clé qui n'existe pas le programme plante. Pour vérifier si une clé existe on peut utiliser un `if` en s'aidant de cette règle : si une variable existe elle retourne `True`, si elle est vide elle retourne `False`.\n",
    "On peut utiliser l'expression `in`, qui nous sera aussi très utile dans de nombreux autres cas pour vérifier qu'une objet se trouve dans un autre."
   ]
  },
  {
   "cell_type": "code",
   "execution_count": null,
   "metadata": {
    "tags": [
     "fr"
    ]
   },
   "outputs": [],
   "source": [
    "code_secret = {\n",
    "    'a':2,\n",
    "    'b':3,\n",
    "    'c':4,\n",
    "    'd':5,\n",
    "    'e':6,\n",
    "    'f':7,\n",
    "    'g':8,\n",
    "    'h':9,\n",
    "            }\n",
    "\n",
    "print('z' in code_secret) # La clé n'existe pas donc cette expression va retourner false\n",
    "\n",
    "if 'z' in code_secret: print (\"Si cette ligne est affichée c'est que j'existe ! Mais cette ligne ne sera pas affichée :(\")\n",
    "else: print(\"En revanche cette ligne là sera affichée puisque je n'existe pas !\")"
   ]
  },
  {
   "cell_type": "markdown",
   "metadata": {
    "tags": [
     "fr"
    ]
   },
   "source": [
    "#### La méthode `.get()`\n",
    "\n",
    "Pour gagner du temps on peut utiliser la méthode `.get()`, celle-ci permet de récupérer la valeur d'une clé, et si cette clé n'existe pas elle retourne une valeur par défaut que l'on détermine par avance grâce à cette syntaxe.\n",
    "\n",
    "```python\n",
    "dictionnaire.get(la_cle_que_je_recherche, valeur_par_defaut_a_lui_affecter_si_non_trouve)\n",
    "```\n",
    "\n",
    "Avec cette méthode nous sommes sûrs d'avoir toujours le résultat que l'on cherche : soit la clé existe déjà et on récupère sa valeur, soit on récupère la valeur par défaut que l'on vient de lui affecter.\n"
   ]
  },
  {
   "cell_type": "code",
   "execution_count": null,
   "metadata": {
    "tags": [
     "fr"
    ]
   },
   "outputs": [],
   "source": [
    "code_secret = {\n",
    "    'a':2,\n",
    "    'b':3,\n",
    "    'c':4,\n",
    "    'd':5,\n",
    "    'e':6,\n",
    "    'f':7,\n",
    "    'g':8,\n",
    "    'h':9,\n",
    "            }\n",
    "\n",
    "code_secret[\"z\"] = code_secret.get(\"z\", 27)\n",
    "print(code_secret)"
   ]
  },
  {
   "cell_type": "markdown",
   "metadata": {
    "tags": [
     "fr"
    ]
   },
   "source": [
    "## Exercice (facile / moyen)\n",
    "\n",
    "C'est jour de soldes !\n",
    "A partir du dictionnaire ci-dessous: \n",
    "\n",
    "- Vérifiez que la clé \"RAM\" existe dans le dictionnaire nommé \"produits\", sinon quittez le programme.\n",
    "- Itérez sur la liste \"catalogue\".\n",
    "- En utilisant `.get()`, modifiez le dictionnaire pour diviser les prix par deux pour chaque élément de la liste. Si l'élément n'existe pas dans le dictionnaire, assignez-lui la valeur 100 par défaut (cette valeur là sera elle aussi ensuite divisée par deux, et le nouvel objet vaudra donc 50 à la fin).\n",
    "- Affichez le résultat.\n",
    "\n",
    "**Astuce**\n",
    "\n",
    "- Réfléchissez bien au comportement de `.get()`.\n",
    "- 4 lignes de code (affichage compris) sont nécessaires."
   ]
  },
  {
   "cell_type": "code",
   "execution_count": null,
   "metadata": {
    "tags": [
     "fr"
    ]
   },
   "outputs": [],
   "source": [
    "produits = {\"processeur\" : 235,\n",
    "            \"carte mère\": 129,\n",
    "            \"RAM\": 79,\n",
    "            \"disque dur\": 59}\n",
    "\n",
    "catalogue = [\"processeur\",\n",
    "             \"carte graphique\",\n",
    "             \"ventilateur\",\n",
    "             \"carte mère\",\n",
    "             \"RAM\",\n",
    "             \"disque dur\",\n",
    "             \"alimentation\"]\n",
    "\n",
    "# Tapez votre code ici :\n",
    "\n"
   ]
  },
  {
   "cell_type": "code",
   "execution_count": null,
   "metadata": {
    "tags": [
     "fr",
     "solution"
    ]
   },
   "outputs": [],
   "source": [
    "# Solution\n",
    "\n",
    "produits = {\"processeur\" : 235,\n",
    "            \"carte mère\": 129,\n",
    "            \"RAM\": 79,\n",
    "            \"disque dur\": 59}\n",
    "\n",
    "catalogue = [\"processeur\",\n",
    "             \"carte graphique\",\n",
    "             \"ventilateur\",\n",
    "             \"carte mère\",\n",
    "             \"RAM\",\n",
    "             \"disque dur\",\n",
    "             \"alimentation\"]\n",
    "\n",
    "if \"RAM\" in produits :\n",
    "    for el in catalogue:\n",
    "        produits[el] = produits.get(el, 100) / 2\n",
    "\n",
    "    print(produits)"
   ]
  },
  {
   "cell_type": "markdown",
   "metadata": {
    "tags": [
     "fr"
    ]
   },
   "source": [
    "## Exercice (difficile)\n",
    "\n",
    "Vous croisez Antoine-Marie, un professeur de maths à la retraite. Celui-ci a appris que Python existait et se pose des questions sur la fonction `random.randint()` qui génére des nombres aléatoires. \"Est-ce que les nombres générés sont vraiment aléatoires ?\", vous demande-t-il. \n",
    "\n",
    "Vérifions-le en créant une fonction qui génère un grand nombre de fois des chiffres compris entre 0 et 9. À chaque fois qu'une valeur est générée tenez un compte en stockant les résultats dans un dictionnaire. A la fin de la boucle, affichez le dictionnaire. Si on paramètre le programme pour qu'il génère 100 nombres aléatoires, voici un exemple de résultat que l'on devrait obtenir :\n",
    "\n",
    "```python\n",
    "{'5': 20,\n",
    " '4': 6,\n",
    " '7': 15,\n",
    " '2': 9,\n",
    " '8': 5,\n",
    " '1': 4,\n",
    " '6': 9,\n",
    " '0': 11,\n",
    " '9': 11,\n",
    " '3': 10}\n",
    "```\n",
    "\n",
    "On voit que sur 100 lancers le chiffre 5 est apparu 20 fois mais le chiffre 4 seulement 6. Essayez avec un nombre de lancers plus important (attention, à partir d'un certain seuil, votre ordinateur sera sans doute trop lent pour effectuer ces calculs, dans ce cas là interrompez le kernel ou bien prenez votre mal en patience).\n",
    "\n",
    "**ASTUCES**:\n",
    "\n",
    "- Vous pouvez appeler une clé via une variable, voire une fonction.\n",
    "- Dans l'exemple ci-dessus les clés sont des strings, mais ce n'est pas une obligation, ils peuvent rester à l'état d'integer.\n",
    "- La programme entier, en incluant l'importation de la librairie et l'affichage ne fait que 6 lignes de code!\n",
    "- Si vous voulez vérifier graphiquement vos résultats utilisez cette ligne de code dans la cellule suivante en adaptant le nom de votre dictionnaire à celui par défaut. Il vous faudra peut-être installer la librairie matplotlib, en ce cas reportez vous à la leçon sur les librairies.\n",
    "- En utilisant la méthode `.get()` on économise une ligne de code."
   ]
  },
  {
   "cell_type": "code",
   "execution_count": null,
   "metadata": {
    "tags": [
     "fr"
    ]
   },
   "outputs": [],
   "source": [
    "from random import randint\n",
    "\n",
    "resultats = {}\n",
    "\n",
    "# Tapez votre code ici\n"
   ]
  },
  {
   "cell_type": "code",
   "execution_count": null,
   "metadata": {
    "tags": [
     "fr",
     "solution"
    ]
   },
   "outputs": [],
   "source": [
    "# Solution\n",
    "\n",
    "from random import randint\n",
    "\n",
    "resultats = {}\n",
    "\n",
    "for i in range(0,1000):\n",
    "    \n",
    "    num = randint(0,9)\n",
    "    resultats[num] = resultats.get(num, 0) + 1\n",
    "\n",
    "resultats"
   ]
  },
  {
   "cell_type": "code",
   "execution_count": null,
   "metadata": {
    "tags": [
     "fr"
    ]
   },
   "outputs": [],
   "source": [
    "# code pour vérifier visuellement les résultats\n",
    "# il faudra peut-être installer une librairie\n",
    "# Dans ce cas entrez ceci dans anaconda prompt\n",
    "# ou dans le terminal sous mac/linux :\n",
    "\n",
    "# python -m pip install -U pip\n",
    "# python -m pip install -U matplotlib\n",
    "\n",
    "import matplotlib.pyplot as plt\n",
    "\n",
    "le_dictionnaire_de_resultats = resultats\n",
    "\n",
    "plt.bar(range(len(le_dictionnaire_de_resultats)), list(le_dictionnaire_de_resultats.values()), align='center')\n",
    "plt.xticks(range(len(le_dictionnaire_de_resultats)), list(le_dictionnaire_de_resultats.keys()));"
   ]
  }
 ],
 "metadata": {
  "kernelspec": {
   "display_name": "Python 3 (ipykernel)",
   "language": "python",
   "name": "python3"
  },
  "language_info": {
   "codemirror_mode": {
    "name": "ipython",
    "version": 3
   },
   "file_extension": ".py",
   "mimetype": "text/x-python",
   "name": "python",
   "nbconvert_exporter": "python",
   "pygments_lexer": "ipython3",
   "version": "3.10.9"
  }
 },
 "nbformat": 4,
 "nbformat_minor": 4
}
