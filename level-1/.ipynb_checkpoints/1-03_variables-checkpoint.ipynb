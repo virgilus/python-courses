{
 "cells": [
  {
   "cell_type": "markdown",
   "metadata": {},
   "source": [
    "# VARIABLES"
   ]
  },
  {
   "cell_type": "markdown",
   "metadata": {
    "tags": [
     "fr"
    ]
   },
   "source": [
    "# Définition\n",
    "\n",
    "Le concept de variable est central dans la programmation puisque l'une des principales fonctions d'un ordinateur consiste à effectuer les mêmes opérations sur des données différentes.\n",
    "\n",
    "Commençons par une définition simple : une variable est une zone de la mémoire vive de l'ordinateur où nous allons pouvoir y stocker ce que nous voulons ! Une variable est comme le tiroir d'un meuble dans lequel nous pouvons choisir ce que l'on y stocke. Essayons avec des chiffres pour commencer. Pour déclarer une variable en python, il suffit d'écrire le nom de la variable puis d'utiliser ``=``. On dit alors qu'on \"affecte\" une valeur à une variable. Exemple :"
   ]
  },
  {
   "cell_type": "markdown",
   "metadata": {
    "tags": [
     "en"
    ]
   },
   "source": [
    "# Definition\n",
    "\n",
    "The concept of a variable is central since one of the main functions of a computer is to perform the same operations on different data.\n",
    "\n",
    "Let's start with a simple definition: a variable is an area of the computer's RAM where we can store whatever we want! A variable is like a drawer in a cabinet where we can choose what to store in it. Let's try it with numbers for a start. To declare a variable in Python, you just write the name of the variable and then use ``=``. Putting a value into a variable what we called an \"assignment\". Example:"
   ]
  },
  {
   "cell_type": "code",
   "execution_count": null,
   "metadata": {
    "tags": [
     "fr"
    ]
   },
   "outputs": [],
   "source": [
    "ma_variable = 12"
   ]
  },
  {
   "cell_type": "code",
   "execution_count": null,
   "metadata": {
    "tags": [
     "en"
    ]
   },
   "outputs": [],
   "source": [
    "my_variable = 12"
   ]
  },
  {
   "cell_type": "code",
   "execution_count": null,
   "metadata": {
    "tags": [
     "fr"
    ]
   },
   "outputs": [],
   "source": [
    "je_lui_donne_le_nom_que_je_veux = 148894978"
   ]
  },
  {
   "cell_type": "code",
   "execution_count": null,
   "metadata": {
    "tags": [
     "en"
    ]
   },
   "outputs": [],
   "source": [
    "I_can_name_my_variable_how_I_want = 148894978"
   ]
  },
  {
   "cell_type": "markdown",
   "metadata": {
    "tags": [
     "fr"
    ]
   },
   "source": [
    "En Python le nom de la variable fait l'objet de quelques limitations :\n",
    "\n",
    "- **Uniquement des lettres** (majuscules ou minuscules) ou **des chiffres** (mais on ne peut pas commencer par un chiffre).\n",
    "- **Pas de caractère spéciaux** (**sauf \"_\"** que l'on appelle _underscore_, ou  \"tiret du bas\")\n",
    "- **Pas de nom déjà utilisé par python**. Voici une liste des principaux mots interdits, que l'on appelle aussi des mots \"réservés\". Notez que ceux-ci s'affichent en vert quand on les tape dans une cellule de jupyter lab :\n",
    "\n",
    "``del``, ``from``, ``None``, ``True``, ``as``, ``elif``, ``global``, ``nonlocal``, ``try``, ``assert``, ``else``, ``if``, ``not``, ``while``, ``break``, ``except``, ``import``, ``or``, ``with``, ``class``, ``True``, ``False``, ``in``, ``pass``, ``yield``, ``continue``, ``finally``, ``is``, ``raise``, ``def``, ``for``, ``lambda``, ``return``, ``str``, ``int``, ``float``, ``bool``"
   ]
  },
  {
   "cell_type": "markdown",
   "metadata": {
    "tags": [
     "en"
    ]
   },
   "source": [
    "In Python, the variable name is subject to some limitations:\n",
    "\n",
    "- Only letters** (upper or lower case) or **numbers** (but you can't start with a number).\n",
    "- No special characters** (**except \"_\"** which is called _underscore_, or \"underscore\")\n",
    "- No names already used by python**. Here is a list of the main forbidden words, also called \"reserved\" words. Note that these are displayed in green when typed into a cell in jupyter lab :\n",
    "\n",
    "``del``, ``from``, ``None``, ``True``, ``as``, ``elif``, ``global``, ``nonlocal``, ``try``, ``assert``, ``else``, ``if``, ``not``, ``while``, ``break``, ``except``, ``import``, ``or``, ``with``, ``class``, ``True``, ``False``, ``in``, ``pass``, ``yield``, ``continue``, ``finally``, ``is``, ``raise``, ``def``, ``for``, ``lambda``, ``return``, ``str``, ``int``, ``float``, ``bool``"
   ]
  },
  {
   "cell_type": "markdown",
   "metadata": {
    "tags": [
     "fr"
    ]
   },
   "source": [
    "<img src='files/tab.jpg' alt='tab' width='200' align=\"left\"/> **L'auto-complétion :**\n",
    "\n",
    "Si l'on tape le début du nom de \"ma_variable\" puis qu'on utilise **\"tab\"**. Jupyter Lab va suggérer ou bien compléter le nom de la variable. Essayez donc sur la ligne suivante. Tapez les caractères \"ma_\" puis appuyez sur la touche \"tab\" : Jupyter Lab vous propose automatiquement votre nom de variable.\n",
    "\n",
    "\n",
    "(Si jamais l'auto-complétion ne fonctionne pas, c'est peut-être parce que vous n'avez pas exécuté la cellule qui définit ces noms de variables)."
   ]
  },
  {
   "cell_type": "markdown",
   "metadata": {
    "tags": [
     "en"
    ]
   },
   "source": [
    "<img src='files/tab.jpg' alt='tab' width='200' align=\"left\"/> **Auto-completion:**\n",
    "\n",
    "If we type the beginning of a \"my_variable\" and then use the **tab** key. Jupyter Lab will suggest or complete the variable name. Try this on the following line. Type the characters \"my_\" and press the \"tab\" key: Jupyter Lab will automatically suggest your variable name.\n",
    "\n",
    "\n",
    "(If the auto-completion does not work, it may be because you have not run the cell that defines these variable names)."
   ]
  },
  {
   "cell_type": "code",
   "execution_count": null,
   "metadata": {
    "tags": []
   },
   "outputs": [],
   "source": []
  },
  {
   "cell_type": "markdown",
   "metadata": {
    "tags": [
     "fr"
    ]
   },
   "source": [
    "# Manipulation de variables contenant des nombres"
   ]
  },
  {
   "cell_type": "markdown",
   "metadata": {
    "tags": [
     "en"
    ]
   },
   "source": [
    "# Manipulation of variables containing numbers"
   ]
  },
  {
   "cell_type": "markdown",
   "metadata": {
    "tags": [
     "fr"
    ]
   },
   "source": [
    "## Modification d'une variable\n",
    "\n",
    "Pour l'instant la variable nommée \"my_variable\" contient le nombre \"12\". Essayons d'effectuer des opérations avec ce contenu. Par exemple :"
   ]
  },
  {
   "cell_type": "markdown",
   "metadata": {
    "tags": [
     "en"
    ]
   },
   "source": [
    "## Modification of a variable\n",
    "\n",
    "At the moment our variable named \"my_variable\" contains the number \"12\". Let's try to perform some operations with this content. For example, let's try to do the following:"
   ]
  },
  {
   "cell_type": "code",
   "execution_count": null,
   "metadata": {
    "tags": []
   },
   "outputs": [],
   "source": [
    "my_variable = 12"
   ]
  },
  {
   "cell_type": "code",
   "execution_count": null,
   "metadata": {
    "tags": []
   },
   "outputs": [],
   "source": [
    "my_variable + 2"
   ]
  },
  {
   "cell_type": "code",
   "execution_count": null,
   "metadata": {
    "tags": []
   },
   "outputs": [],
   "source": [
    "my_variable / 4"
   ]
  },
  {
   "cell_type": "code",
   "execution_count": null,
   "metadata": {
    "tags": []
   },
   "outputs": [],
   "source": [
    "my_variable * my_variable"
   ]
  },
  {
   "cell_type": "code",
   "execution_count": null,
   "metadata": {
    "tags": []
   },
   "outputs": [],
   "source": [
    "my_variable"
   ]
  },
  {
   "cell_type": "markdown",
   "metadata": {
    "tags": [
     "fr"
    ]
   },
   "source": [
    "On constate que toutes ces opérations n'ont pas modifié la valeur initiale de ma variable. Elle reste toujours à 12, pour reprendre la métaphore du meuble, le contenu du tiroir est toujours le même. En revanche si on tape :"
   ]
  },
  {
   "cell_type": "markdown",
   "metadata": {
    "tags": [
     "en"
    ]
   },
   "source": [
    "All these operations have not changed the initial value of my variable. It always remains at 12. On the other hand, if we type :"
   ]
  },
  {
   "cell_type": "code",
   "execution_count": null,
   "metadata": {
    "tags": []
   },
   "outputs": [],
   "source": [
    "my_variable = my_variable * 2"
   ]
  },
  {
   "cell_type": "code",
   "execution_count": null,
   "metadata": {
    "tags": []
   },
   "outputs": [],
   "source": [
    "my_variable"
   ]
  },
  {
   "cell_type": "markdown",
   "metadata": {
    "tags": [
     "fr"
    ]
   },
   "source": [
    "Ici on a changé la valeur de la variable. Auparavant, notre variable contenait \"12\", désormais elle contient \"24\". On dit aussi qu'on lui a affecté une nouvelle valeur."
   ]
  },
  {
   "cell_type": "markdown",
   "metadata": {
    "tags": [
     "en"
    ]
   },
   "source": [
    "Here we have changed the value of the variable. Previously our variable contained \"12\", now it contains \"24\". We also say that we have assigned a new value to it."
   ]
  },
  {
   "cell_type": "markdown",
   "metadata": {
    "tags": [
     "fr"
    ]
   },
   "source": [
    "## Exercice (facile)\n",
    "\n",
    "Créez une variable appelée \"annee\" (sans les guillemets) et affectez lui votre année de naissance. Puis calculez l'âge que vous aurez en l'an 2034 en soustrayant la variable que vous avez créé à 2034."
   ]
  },
  {
   "cell_type": "markdown",
   "metadata": {
    "tags": [
     "en"
    ]
   },
   "source": [
    "## Exercise (easy)\n",
    "\n",
    "Create a variable called \"year\" (without quotes) and assign your year of birth to it. Then calculate how old you will be in the year 2034 by subtracting the variable you created from 2034."
   ]
  },
  {
   "cell_type": "code",
   "execution_count": null,
   "metadata": {},
   "outputs": [],
   "source": [
    "# Code here!\n"
   ]
  },
  {
   "cell_type": "markdown",
   "metadata": {
    "tags": [
     "fr"
    ]
   },
   "source": [
    "> **Notes :**\n",
    "\n",
    "> - En python le nom des variables est, par convention, toujours en minuscule.\n",
    "> - Les espaces avant et après le signe \"=\" sont là eux aussi par convention, ils permettent que le code soit plus lisible. \n",
    "> - Différence entre \"initialisation\" et \"affectation\" : La première fois qu'on affecte une valeur à une variable on parle d'initialisation puisque cette opération crée à la fois l'espace nécessaire dans la mémoire vive pour y faire tenir le contenu de notre variable et affecte une valeur à notre variable. Ensuite, si l'on modifie sa valeur, il s'agit juste d'une affectation."
   ]
  },
  {
   "cell_type": "markdown",
   "metadata": {
    "tags": [
     "en"
    ]
   },
   "source": [
    "> **Notes :**\n",
    "\n",
    "> In Python, variable names are always in lower case by convention.\n",
    "> The spaces before and after the \"=\" sign are also there by convention, they allow the code to be more readable. \n",
    "> The first time we assign a value to a variable we talk about \"initialization\" since this operation creates the variable and assigns a value to it. Then, if we modify its value, it is just an \"assignment\"."
   ]
  },
  {
   "cell_type": "markdown",
   "metadata": {
    "tags": [
     "fr"
    ]
   },
   "source": [
    "# Les différents types de variable"
   ]
  },
  {
   "cell_type": "markdown",
   "metadata": {
    "tags": [
     "en"
    ]
   },
   "source": [
    "# Different types of variable"
   ]
  },
  {
   "cell_type": "markdown",
   "metadata": {
    "tags": [
     "fr"
    ]
   },
   "source": [
    "## Introduction\n",
    "\n",
    "Pour l'instant les variables que nous avons utilisées contenaient uniquement des nombres. Mais une variable peut contenir différents \"type de donnée\". Essayez instinctivement de trouver la différence entre les deux variables suivantes :"
   ]
  },
  {
   "cell_type": "markdown",
   "metadata": {
    "tags": [
     "en"
    ]
   },
   "source": [
    "## Introduction\n",
    "\n",
    "So far the variables we have used have only contained numbers. But a variable can contain different \"data types\". Try instinctively to find the difference between the following two variables:"
   ]
  },
  {
   "cell_type": "code",
   "execution_count": null,
   "metadata": {
    "tags": []
   },
   "outputs": [],
   "source": [
    "variable_1 = 123\n",
    "variable_2 = \"123\""
   ]
  },
  {
   "cell_type": "markdown",
   "metadata": {
    "tags": [
     "fr"
    ]
   },
   "source": [
    "Une idée ? Continuons à expérimenter, que se passe-t-il si on les multiplie chacun par 3 ?"
   ]
  },
  {
   "cell_type": "markdown",
   "metadata": {
    "tags": [
     "en"
    ]
   },
   "source": [
    "What happens if we multiply our two variables by 3?"
   ]
  },
  {
   "cell_type": "code",
   "execution_count": null,
   "metadata": {
    "tags": []
   },
   "outputs": [],
   "source": [
    "variable_1 * 3"
   ]
  },
  {
   "cell_type": "code",
   "execution_count": null,
   "metadata": {
    "tags": []
   },
   "outputs": [],
   "source": [
    "variable_2 * 3"
   ]
  },
  {
   "cell_type": "markdown",
   "metadata": {
    "tags": [
     "fr"
    ]
   },
   "source": [
    "Vous l'avez deviné, la variable_1 contient **un nombre** alors que la variable 2 contient **du texte**. Au lieu du mot \"texte\", on préfère appeller cela une **\"chaîne de caractère\"**, car ceux-ci sont en réalité différents caractères mis bout à bout, ou encore une **\"_string_\"**.\n",
    "\n",
    "> **Note** :\n",
    "\n",
    "> - Une petite particularité du langage python, lorsqu'on multiplie une string par un nombre entier, la string est répétée.\n",
    "> Ex : 3 fois \"Z\" est égal à \"ZZZ\". C'est ce que nous avons fait pour la cellule du dessus."
   ]
  },
  {
   "cell_type": "markdown",
   "metadata": {
    "tags": [
     "en"
    ]
   },
   "source": [
    "You guessed it, variable_1 contains **a number** while variable 2 contains **text**. Instead of the word \"text\", we prefer to call this a **string**.\n",
    "\n",
    "> **Note** :\n",
    "\n",
    "> - In Python when you multiply a string by an integer the string is repeated.\n",
    "> Ex: 3 times \"Z\" is equal to \"ZZZ\"."
   ]
  },
  {
   "cell_type": "markdown",
   "metadata": {
    "tags": [
     "fr"
    ]
   },
   "source": [
    "## Les différents types de variables\n",
    "\n",
    "Les variables stockent donc différents types de valeurs. Examinons-en quelques-uns."
   ]
  },
  {
   "cell_type": "markdown",
   "metadata": {
    "tags": [
     "en"
    ]
   },
   "source": [
    "## The different types of variables\n",
    "\n",
    "Variables store different types of values. Let's have a look at some of them."
   ]
  },
  {
   "cell_type": "markdown",
   "metadata": {
    "tags": [
     "fr"
    ]
   },
   "source": [
    "### Les integer\n",
    "\n",
    "On appelle \"entier\", \"*integer*\" (\"int\" en abrégé) les nombres qui n'ont pas de décimales après la virgule. Exemple :\n",
    "\n",
    "```python\n",
    "-45\n",
    "\n",
    "12\n",
    "\n",
    "54645\n",
    "\n",
    "-45645456 \n",
    "\n",
    "```\n",
    "\n",
    "Note : Certains prononcent ce mot à la française \"int-é-guerre\", d'autres à l'anglaise \"int-é-djeur\"."
   ]
  },
  {
   "cell_type": "markdown",
   "metadata": {
    "tags": [
     "en"
    ]
   },
   "source": [
    "### Integers\n",
    "\n",
    "Numbers that have no decimal places after the decimal point are called \"integers\" (\"int\"). Example:\n",
    "\n",
    "```python\n",
    "-45\n",
    "\n",
    "12\n",
    "\n",
    "54645\n",
    "\n",
    "-45645456 \n",
    "```"
   ]
  },
  {
   "cell_type": "markdown",
   "metadata": {
    "tags": [
     "fr"
    ]
   },
   "source": [
    "### Les floats\n",
    "\n",
    "On appelle \"flottants\", \"float\" ou encore \"décimaux\" les nombres qui ont une ou plusieurs décimales après la virgule. Exemple :\n",
    "\n",
    "```python\n",
    "-45.56\n",
    "\n",
    "12.1\n",
    "\n",
    "548.56\n",
    "\n",
    "-416974562.14568941346759314619 \n",
    "```"
   ]
  },
  {
   "cell_type": "markdown",
   "metadata": {
    "tags": [
     "en"
    ]
   },
   "source": [
    "### Floats\n",
    "\n",
    "Numbers with one or more decimal places after the decimal point are called \"floats\". Example:\n",
    "\n",
    "```python\n",
    "-45.56\n",
    "\n",
    "12.1\n",
    "\n",
    "548.56\n",
    "\n",
    "-416974562.14568941346759314619 \n",
    "```"
   ]
  },
  {
   "cell_type": "markdown",
   "metadata": {
    "tags": [
     "fr"
    ]
   },
   "source": [
    "### Les chaînes de caractères\n",
    "\n",
    "Comme vu précédemment, on appelle \"chaîne de caractère\" ou \"*string*\" (\"str\" en abrégé) les variables qui contiennent du texte. Le texte est toujours placé entre guillemets pour ne pas les confondre avec les nombres. Par exemple :\n",
    "\n",
    "```python\n",
    "\"ceci est un navet\"\n",
    "\n",
    "\"Voici mon email : bla.blabla@blabla.bla\"\n",
    "\n",
    "\"6 * 7 = 42\"\n",
    "```\n",
    "\n",
    "On peut utiliser indifféremment des guillemets doubles droits (*double quote*) \" \" ou des guillemets droits simples (*simple quote*) ' ', qui sont aussi des apostrophes, pour définir une variable. Exemple :\n",
    "\n",
    "```python\n",
    "'ceci est un navet'\n",
    "\n",
    "'Voici mon email : bla.blabla@blabla.bla'\n",
    "\n",
    "'6 * 7 = 42'\n",
    "```\n",
    "\n",
    "Cela sert aussi à inclure les uns dans les autres, ce qui est utile si on veut utiliser des apostrophes ou des guillemets dans du texte. Par exemple :\n",
    "\n",
    "```python\n",
    "\"Comment tu t'appelles ?\"\n",
    "\n",
    "'Le mot bizarre est lui-même \"bizarre\", non ?'\n",
    "```"
   ]
  },
  {
   "cell_type": "markdown",
   "metadata": {
    "tags": [
     "en"
    ]
   },
   "source": [
    "### Strings\n",
    "\n",
    "As seen previously, variables that contain text are called \"string\" (\"str\"). The text is always enclosed in simple quotes or double quotes so as not to confuse them with numbers. For example:\n",
    "\n",
    "```python\n",
    "\"This is a string.\"\n",
    "\n",
    "\"This is my email: bla.blabla@blabla.bla\"\n",
    "\n",
    "\"6 * 7 = 42\"\n",
    "```\n",
    "\n",
    "or :\n",
    "\n",
    "```python\n",
    "'This is a string.'\n",
    "\n",
    "'This is my email: bla.blabla@blabla.bla'\n",
    "\n",
    "'6 * 7 = 42'\n",
    "```\n",
    "\n",
    "Using simple quotes and double quotes can help in specific cases:\n",
    "\n",
    "```python\n",
    "\"What's your name?\"\n",
    "\n",
    "'The word bizarre is \"bizarre\", right?'\n",
    "```"
   ]
  },
  {
   "cell_type": "markdown",
   "metadata": {
    "tags": [
     "fr"
    ]
   },
   "source": [
    "## Exercice (facile)\n",
    "\n",
    "Écrire un programme qui **multiplie deux variables entre elles** et retourne le résultat suivant :\n",
    "\n",
    "```python\n",
    "'Moi je connais une chanson qui énerve les gens ! Moi je connais une chanson qui énerve les gens ! Moi je connais une chanson qui énerve les gens ! Moi je connais une chanson qui énerve les gens ! Moi je connais une chanson qui énerve les gens ! Moi je connais une chanson qui énerve les gens ! Moi je connais une chanson qui énerve les gens ! Moi je connais une chanson qui énerve les gens ! Moi je connais une chanson qui énerve les gens ! Moi je connais une chanson qui énerve les gens ! Moi je connais une chanson qui énerve les gens ! Moi je connais une chanson qui énerve les gens ! Moi je connais une chanson qui énerve les gens ! Moi je connais une chanson qui énerve les gens ! Moi je connais une chanson qui énerve les gens ! '\n",
    "```\n",
    "\n",
    "**Astuces :**\n",
    "- Ne perdez pas de temps à compter : la même phrase est répétée 15 fois.\n",
    "- Vous pouvez donner le nom que vous voulez aux deux variables que vous allez créer.\n",
    "- Le programme nécessite 3 lignes de code au total.\n",
    "- On peut, bien sûr, multiplier la phrase par 15, mais le but de l'exercice est de multiplier deux variables entre elles."
   ]
  },
  {
   "cell_type": "markdown",
   "metadata": {
    "tags": [
     "en"
    ]
   },
   "source": [
    "## Exercise (easy)\n",
    "\n",
    "Write a program that **multiplies two variables together** and returns the following result:\n",
    "\n",
    "```python\n",
    "'I know a song that will get on your nerves! I know a song that will get on your nerves! I know a song that will get on your nerves! I know a song that will get on your nerves! I know a song that will get on your nerves! I know a song that will get on your nerves! I know a song that will get on your nerves! I know a song that will get on your nerves! I know a song that will get on your nerves! I know a song that will get on your nerves! I know a song that will get on your nerves! I know a song that will get on your nerves! I know a song that will get on your nerves! I know a song that will get on your nerves! I know a song that will get on your nerves! '\n",
    "```\n",
    "\n",
    "**Tips:**\n",
    "- Don't waste time counting: the same sentence is repeated 15 times.\n",
    "- You can name the two variables you are going to create whatever you want.\n",
    "- The program requires 3 lines of code in total.\n",
    "- You can, of course, multiply the sentence by 15, but the aim of the exercise is to multiply two variables with each other."
   ]
  },
  {
   "cell_type": "code",
   "execution_count": null,
   "metadata": {},
   "outputs": [],
   "source": [
    "# Code here!\n"
   ]
  },
  {
   "cell_type": "code",
   "execution_count": null,
   "metadata": {
    "tags": [
     "solution",
     "fr"
    ]
   },
   "outputs": [],
   "source": [
    "# Solution\n",
    "\n",
    "a = \"Moi je connais une chanson qui énerve les gens ! \"\n",
    "b = 15\n",
    "a * b"
   ]
  },
  {
   "cell_type": "code",
   "execution_count": null,
   "metadata": {
    "tags": [
     "solution",
     "en"
    ]
   },
   "outputs": [],
   "source": [
    "# Solution\n",
    "\n",
    "a = \"I know a song that will get on your nerves! \"\n",
    "b = 15\n",
    "a * b"
   ]
  },
  {
   "cell_type": "markdown",
   "metadata": {
    "tags": [
     "fr"
    ]
   },
   "source": [
    "# De nouvelles fonctions très utiles\n",
    "\n",
    "## Nouveautés concernant la fonction ``print()``\n",
    "\n",
    "### Arguments multiples\n",
    "\n",
    "En simplifiant on pourrait dire que l'interpréteur de jupyter lab ne vous affiche que le dernier résultat de votre programme. Mais en utilisant la fonction  ``print()`` il est possible d'afficher autant de lignes que l'on souhaite tout en n'exécutant qu'une seule cellule.\n",
    "\n",
    "Tout au long de ce cours la fonction ``print()`` sera votre meilleure alliée ! Elle permet d'afficher des résultats finaux mais aussi intermédiaires et est très utilisée pour \"débugguer\" un programme.\n",
    "\n",
    "En programmation, comme en mathématiques, un argument est la donnée qui va être traitée par une fonction. Quand on écrit :"
   ]
  },
  {
   "cell_type": "markdown",
   "metadata": {
    "tags": [
     "en"
    ]
   },
   "source": [
    "# New useful functions\n",
    "\n",
    "## What's new about the `print()` function\n",
    "\n",
    "### Multiple arguments\n",
    "\n",
    "To simplify, you could say that the jupyter lab interpreter only shows you the last result of your program. But by using the `print()` function it is possible to display as many rows as you want while executing only one cell.\n",
    "\n",
    "Throughout this course the `print()` function will be your best friend! It allows you to display final and intermediate results and is very useful for debugging a program.\n",
    "\n",
    "In programming, as in mathematics, an argument is the data that will be processed by a function. When you write:"
   ]
  },
  {
   "cell_type": "code",
   "execution_count": null,
   "metadata": {
    "tags": [
     "fr"
    ]
   },
   "outputs": [],
   "source": [
    "print(\"un texte\")"
   ]
  },
  {
   "cell_type": "code",
   "execution_count": null,
   "metadata": {
    "tags": [
     "en"
    ]
   },
   "outputs": [],
   "source": [
    "print(\"a text\")"
   ]
  },
  {
   "cell_type": "markdown",
   "metadata": {
    "tags": [
     "fr"
    ]
   },
   "source": [
    "La fonction est ```print()``` et l'argument est \"un texte\", qui en l'occurrence est une chaîne de caractère."
   ]
  },
  {
   "cell_type": "markdown",
   "metadata": {
    "tags": [
     "en"
    ]
   },
   "source": [
    "The function is ``print()`` and the argument is ``text'', which in this case is a string."
   ]
  },
  {
   "cell_type": "code",
   "execution_count": null,
   "metadata": {
    "tags": [
     "fr"
    ]
   },
   "outputs": [],
   "source": [
    "une_variable = \"un autre texte\"\n",
    "print(une_variable)"
   ]
  },
  {
   "cell_type": "code",
   "execution_count": null,
   "metadata": {
    "tags": [
     "en"
    ]
   },
   "outputs": [],
   "source": [
    "a_variable = \"another text\"\n",
    "print(a_variable)"
   ]
  },
  {
   "cell_type": "markdown",
   "metadata": {
    "tags": [
     "fr"
    ]
   },
   "source": [
    "Ici la fonction est toujours ```print()``` mais l'argument cette fois-ci est ``une_variable``, qui est une variable qui contient le texte \"un autre texte\".\n",
    "\n",
    "Pour l'instant nous n'avions utilisé la fonction ``print()`` qu'avec un seul argument, mais elle peut en prendre plusieurs. Pour cela il suffit simplement de les séparer par une virgule. Exemple :"
   ]
  },
  {
   "cell_type": "markdown",
   "metadata": {
    "tags": [
     "en"
    ]
   },
   "source": [
    "Here the function is still `print()` but the argument this time is \"a_variable\", which is a variable that contains the text \"another text\".\n",
    "\n",
    "So far we have only used the `print()` function with one argument, but it can take more than one. To do this, simply separate them with a comma. Example:"
   ]
  },
  {
   "cell_type": "code",
   "execution_count": null,
   "metadata": {
    "tags": [
     "fr"
    ]
   },
   "outputs": [],
   "source": [
    "legume = \"courgette\"\n",
    "prix = 3.50\n",
    "poids = 1.5 # en kg\n",
    "\n",
    "print(\"Le prix total de\", poids, \"kg de\", legume, \"est de\", prix * poids, \"€ !\")"
   ]
  },
  {
   "cell_type": "code",
   "execution_count": null,
   "metadata": {
    "tags": [
     "en"
    ]
   },
   "outputs": [],
   "source": [
    "vegetable = \"courgette\"\n",
    "price = 3.50\n",
    "weight = 1.5 # kg\n",
    "\n",
    "print(\"Total price for\", weight, \"kg of\", vegetable, \"is \", price * weight, \"€ !\")"
   ]
  },
  {
   "cell_type": "markdown",
   "metadata": {
    "tags": [
     "fr"
    ]
   },
   "source": [
    "### les \"f-strings\"\n",
    "\n",
    "Cependant, comme il est important de prendre de bonnes habitudes dès le début, la méthode la plus lisible et la plus efficace consiste néanmoins à utiliser les \"*f-strings*\", c'est une autre méthode pour insérer le contenu de variables dans du texte.\n",
    "\n",
    "Pour ce faire, on ajoute un \"f\" (abréviation de \"*formatter*\") après la première parenthèse du ``print``, puis on place les variables entre les accolades \"{\" et \"}\". Exemple :"
   ]
  },
  {
   "cell_type": "markdown",
   "metadata": {
    "tags": [
     "en"
    ]
   },
   "source": [
    "### f-strings\n",
    "\n",
    "However, as it is important to get into good habits from the start, the most readable and effective method is to use \"f-strings\", which is another method for inserting the contents of variables into text.\n",
    "\n",
    "This is done by adding an \"f\" (short for \"formatter\") after the first parenthesis of the ``print``, then placing the code between the curly brackets \"{\" and \"}\". Example:"
   ]
  },
  {
   "cell_type": "code",
   "execution_count": null,
   "metadata": {
    "tags": [
     "fr"
    ]
   },
   "outputs": [],
   "source": [
    "legume = \"courgette\"\n",
    "prix = 3.50\n",
    "poids = 1.5 # en kg\n",
    "\n",
    "print(f\"Le prix total de {poids}kg de {legume} est de {prix * poids}€ !\")"
   ]
  },
  {
   "cell_type": "code",
   "execution_count": null,
   "metadata": {
    "tags": [
     "en"
    ]
   },
   "outputs": [],
   "source": [
    "vegetable = \"courget\"\n",
    "price = 3.50\n",
    "weight = 1.5 # kg\n",
    "\n",
    "print(f\"Total price for {weight} kg of {vegetable} is {price * weight} € !\")"
   ]
  },
  {
   "cell_type": "markdown",
   "metadata": {
    "tags": [
     "fr"
    ]
   },
   "source": [
    "## La fonction _``type()``_\n",
    "\n",
    "### Idée générale\n",
    "\n",
    "Cette fonction permet de savoir de quel type est une variable. Par exemple :"
   ]
  },
  {
   "cell_type": "markdown",
   "metadata": {
    "tags": [
     "en"
    ]
   },
   "source": [
    "## The _``type()``_ function\n",
    "\n",
    "### General idea\n",
    "\n",
    "This function allows you to know what type a variable is. For example :"
   ]
  },
  {
   "cell_type": "code",
   "execution_count": null,
   "metadata": {
    "tags": []
   },
   "outputs": [],
   "source": [
    "variable_1 = 12\n",
    "print(type(variable_1))"
   ]
  },
  {
   "cell_type": "markdown",
   "metadata": {
    "tags": [
     "fr"
    ]
   },
   "source": [
    "Pour l'instant considérons ici le mot _\"class\"_ comme équivalent à \"type\". Le **'int'**, diminutif de *integer*, signifie que cette variable est un entier."
   ]
  },
  {
   "cell_type": "markdown",
   "metadata": {
    "tags": [
     "en"
    ]
   },
   "source": [
    "For now, let's consider the word _\"class\"_ as equivalent to \"type\". The **'int'**, short for *integer*, means that this variable is an integer."
   ]
  },
  {
   "cell_type": "code",
   "execution_count": null,
   "metadata": {
    "tags": []
   },
   "outputs": [],
   "source": [
    "variable_2 = \"12\"\n",
    "print(type(variable_2))"
   ]
  },
  {
   "cell_type": "markdown",
   "metadata": {
    "tags": [
     "fr"
    ]
   },
   "source": [
    "Le **'str'**, diminutif de *string*, signifie que cette variable est une chaîne de caractère."
   ]
  },
  {
   "cell_type": "markdown",
   "metadata": {
    "tags": [
     "en"
    ]
   },
   "source": [
    "The **'str'**, short for *string*, means that this variable is a string."
   ]
  },
  {
   "cell_type": "markdown",
   "metadata": {
    "tags": [
     "fr"
    ]
   },
   "source": [
    "### Exercice (facile)\n",
    "\n",
    "En s'inspirant des deux cellules du dessus complétez la cellule dessous ainsi :\n",
    "- Créez une nouvelle variable intitulée \"variable_3\" et donnez-lui pour valeur un nombre flottant.\n",
    "- Affichez son type, celui-ci doit être de type _float_"
   ]
  },
  {
   "cell_type": "markdown",
   "metadata": {
    "tags": [
     "en"
    ]
   },
   "source": [
    "### Exercise (easy)\n",
    "\n",
    "Using the two cells above as a guide, complete the cell below as follows:\n",
    "- Create a new variable called \"variable_3\" and give it a floating-point value.\n",
    "- Display its type, which must be _float_."
   ]
  },
  {
   "cell_type": "code",
   "execution_count": null,
   "metadata": {
    "tags": []
   },
   "outputs": [],
   "source": [
    "# Code here!\n"
   ]
  },
  {
   "cell_type": "code",
   "execution_count": null,
   "metadata": {
    "tags": [
     "solution"
    ]
   },
   "outputs": [],
   "source": [
    "# Solution\n",
    "\n",
    "variable_3 = 12.12\n",
    "print(type(variable_3))"
   ]
  },
  {
   "cell_type": "markdown",
   "metadata": {
    "tags": [
     "fr"
    ]
   },
   "source": [
    "## Modification du type d'une variable\n",
    "\n",
    "Python est un langage intelligent qui définit le type de la variable en fonction de la valeur que vous lui assignez. Mais rien ne vous empêche de modifier ensuite le type de cette variable. Pour cela il suffit simplement de lui affecter une valeur correspondant à un autre type."
   ]
  },
  {
   "cell_type": "markdown",
   "metadata": {
    "tags": [
     "en"
    ]
   },
   "source": [
    "## Changing the Type of a Variable\n",
    "\n",
    "Python is an intelligent language that defines the type of the variable according to the value you assign to it. But nothing prevents you from changing the type of this variable afterwards. To do so, you simply assign a value corresponding to another type."
   ]
  },
  {
   "cell_type": "code",
   "execution_count": null,
   "metadata": {
    "tags": [
     "fr"
    ]
   },
   "outputs": [],
   "source": [
    "x = 45.2513\n",
    "print(f\"Le type de x est {type(x)} car sa valeur est {x}\")"
   ]
  },
  {
   "cell_type": "code",
   "execution_count": null,
   "metadata": {
    "tags": [
     "en"
    ]
   },
   "outputs": [],
   "source": [
    "x = 45.2513\n",
    "print(f\"The type of x is {type(x)} because its value is {x}\")"
   ]
  },
  {
   "cell_type": "code",
   "execution_count": null,
   "metadata": {
    "tags": [
     "fr"
    ]
   },
   "outputs": [],
   "source": [
    "x = 2020\n",
    "print(f\"Le type de x est {type(x)} car sa valeur est {x}\")"
   ]
  },
  {
   "cell_type": "code",
   "execution_count": null,
   "metadata": {
    "tags": [
     "en"
    ]
   },
   "outputs": [],
   "source": [
    "x = 2020\n",
    "print(f\"The type of x is {type(x)} because its value is {x}\")"
   ]
  },
  {
   "cell_type": "code",
   "execution_count": null,
   "metadata": {
    "tags": [
     "fr"
    ]
   },
   "outputs": [],
   "source": [
    "x = 'patates'\n",
    "print(f\"Le type de x est {type(x)} car sa valeur est {x}\")"
   ]
  },
  {
   "cell_type": "code",
   "execution_count": null,
   "metadata": {
    "tags": [
     "en"
    ]
   },
   "outputs": [],
   "source": [
    "x = 'potatoes'\n",
    "print(f\"The type of x is {type(x)} because its value is {x}\")"
   ]
  },
  {
   "cell_type": "markdown",
   "metadata": {
    "tags": [
     "fr"
    ]
   },
   "source": [
    "## Addition de strings entre elles\n",
    "\n",
    "On a vu qu'une string multipliée par un entier répétait la chaîne de caractères. Mais que se passe-t-il si on les additionne ?"
   ]
  },
  {
   "cell_type": "markdown",
   "metadata": {
    "tags": [
     "en"
    ]
   },
   "source": [
    "## Adding strings together\n",
    "\n",
    "We have seen that a string multiplied by an integer repeats the string. But what happens if we add them together?"
   ]
  },
  {
   "cell_type": "code",
   "execution_count": null,
   "metadata": {
    "tags": []
   },
   "outputs": [],
   "source": [
    "string_1 = \"Hello,\"\n",
    "string_2 = \" world!\"\n",
    "\n",
    "print(string_1 + string_2)"
   ]
  },
  {
   "cell_type": "markdown",
   "metadata": {
    "tags": [
     "fr"
    ]
   },
   "source": [
    "Les deux strings se retrouvent **concaténées**, c'est-à-dire \"collées\" ensemble. Alors que si on donne plusieurs arguments séparés par des virgules à la fonction ```print()```, celle-ci les affiche par défaut séparé par un espace."
   ]
  },
  {
   "cell_type": "markdown",
   "metadata": {
    "tags": [
     "en"
    ]
   },
   "source": [
    "The two strings are said to be **concatenated**."
   ]
  },
  {
   "cell_type": "markdown",
   "metadata": {
    "tags": [
     "fr"
    ]
   },
   "source": [
    "## Exercice (facile)\n",
    "\n",
    "Utilisez la fonction ``print()`` pour écrire le mot \"riquiqui\" à partir des variables proposées dans la cellule suivante. Vous devez obligatoirement utiliser **une addition et une multiplication** et utiliser les variables existantes."
   ]
  },
  {
   "cell_type": "markdown",
   "metadata": {
    "tags": [
     "en"
    ]
   },
   "source": [
    "## Exercise (easy)\n",
    "\n",
    "Use the ``print()`` function to write the word \"zoo\" from the variables provided in the next cell. You must use **addition and multiplication** and use the existing variables."
   ]
  },
  {
   "cell_type": "code",
   "execution_count": null,
   "metadata": {
    "tags": [
     "fr"
    ]
   },
   "outputs": [],
   "source": [
    "a = \"ri\"\n",
    "b = \"qui\"\n",
    "\n",
    "# Code here!"
   ]
  },
  {
   "cell_type": "code",
   "execution_count": null,
   "metadata": {
    "tags": [
     "en"
    ]
   },
   "outputs": [],
   "source": [
    "a = \"z\"\n",
    "b = \"o\"\n",
    "\n",
    "# Code here!"
   ]
  },
  {
   "cell_type": "code",
   "execution_count": null,
   "metadata": {
    "tags": [
     "solution"
    ]
   },
   "outputs": [],
   "source": [
    "# Solution\n",
    "\n",
    "a + b * 2"
   ]
  }
 ],
 "metadata": {
  "kernelspec": {
   "display_name": "Python 3 (ipykernel)",
   "language": "python",
   "name": "python3"
  },
  "language_info": {
   "codemirror_mode": {
    "name": "ipython",
    "version": 3
   },
   "file_extension": ".py",
   "mimetype": "text/x-python",
   "name": "python",
   "nbconvert_exporter": "python",
   "pygments_lexer": "ipython3",
   "version": "3.10.9"
  },
  "toc-showtags": false
 },
 "nbformat": 4,
 "nbformat_minor": 4
}
