{
 "cells": [
  {
   "cell_type": "markdown",
   "id": "1154521b-c5e1-49d0-8f5a-5ecde3988e79",
   "metadata": {
    "tags": [
     "fr"
    ]
   },
   "source": [
    "# LIBRAIRIES\n",
    "\n",
    "## Qu'est-ce qu'une librairie ?\n",
    "\n",
    "Les librairies sont l'un des principaux points forts de python. Lorsqu'on importe une librairie, notre kernel \"apprend\" de nouvelles fonctions et de nouveaux objets que l'on peut réutiliser à notre guise.\n",
    "\n",
    "Les librairies les plus connues de Python (Pandas, Numpy, SciKitlearn...) ont été créées et sont maintenus par des milliers de contributeurs bénévoles, et parfois par certaines entreprises. Elles sont régulièrement améliorées et mises à jour.\n",
    "\n",
    "Lorsque l'on installe Python, beaucoup de librairies sont déjà incluses dans ce que l'on appelle la \"bibliothèque standard\" de python. D'autres nécessitent d'être installées via des commandes spécifiques.\n",
    "\n",
    "<div>\n",
    "<img src=\"files/librairies_populaires.png\" alt=\"librairies\" width=\"90%\" align='center'/><br><font size=\"1\">Source : https://www.data-bird.co/python/bibliotheque-python</font> </div>"
   ]
  },
  {
   "cell_type": "markdown",
   "id": "36fba674-aa62-4d17-875d-132343ac290a",
   "metadata": {
    "tags": [
     "en"
    ]
   },
   "source": [
    "# LIBRARIES\n",
    "\n",
    "## What is a library?\n",
    "\n",
    "Libraries are one of the main strengths of python. When we import a library, our kernel \"learns\" new functions and objects that we can use as we wish.\n",
    "\n",
    "The most famous Python libraries (Pandas, Numpy, SciKitlearn...) have been created and are maintained by thousands of volunteers, and sometimes by some companies. They are regularly improved and updated.\n",
    "\n",
    "When you install Python, many libraries are already included in the so-called \"standard library\" of Python. Others will need to be installed.\n",
    "\n",
    "<div>\n",
    "<img src=\"files/librairies_populaires.png\" alt=\"librairies\" width=\"90%\" align='center'/><br><font size=\"1\">Source : https://www.data-bird.co/python/bibliotheque-python</font> </div>"
   ]
  },
  {
   "cell_type": "markdown",
   "id": "5298fc45-8569-4181-bc37-ffe5dfc9c08f",
   "metadata": {
    "tags": [
     "fr"
    ]
   },
   "source": [
    "## Bibliothèque, librairie, package et module\n",
    "\n",
    "Ces termes font référence à différents niveau de complexité.\n",
    "\n",
    "- La bibliothèque englobe un grand nombre de librairie. Exemple : la bibliothèque standard de Python.\n",
    "\n",
    "- Une librairie est généralement défini comme un ensemble de *packages*.\n",
    "\n",
    "- Un package est un ensemble de module, possédant une arborescence et un constructeur matérialisé par un fichier ``__init__.py``.\n",
    "\n",
    "- Un module est un fichier portant une extension .py et contenant du code.\n",
    "\n",
    "<div>\n",
    "<img src=\"files/library_in_python.png\" alt=\"librairies, packages, modules\" width=\"100%\" align='center'/></div>"
   ]
  },
  {
   "cell_type": "markdown",
   "id": "558f60c9-7905-4441-baed-8ca16bec4a46",
   "metadata": {
    "tags": [
     "en"
    ]
   },
   "source": [
    "## Libraries package and module.\n",
    "\n",
    "These terms refer to different levels of complexity, but the way the following are used may vary as they are not standardised.\n",
    "\n",
    "- A library is usually defined as a collection of packages.\n",
    "\n",
    "- A package is a collection of modules, with a tree structure and a constructor in the form of a `__init__.py` file.\n",
    "\n",
    "- A module is a file with a \".py\" extension containing code.\n",
    "\n",
    "<div>\n",
    "<img src=\"files/library_in_python.png\" alt=\"librairies, packages, modules\" width=\"100%\" align='center'/></div>"
   ]
  },
  {
   "cell_type": "markdown",
   "id": "077d4b7c-5ac9-4768-bef0-29a63b85ee93",
   "metadata": {
    "tags": [
     "fr"
    ]
   },
   "source": [
    "## Module\n",
    "\n",
    "Un module est un fichier ayant une extension \".py\". Il peut servir à stocker du code, comme des fonctions par exemple, que l'on peut alors utiliser dans différents scripts ou différents programme.\n",
    "\n",
    "- Pour importer un module on peut l'importer dans son intégralité ainsi :\n",
    "\n",
    "```python\n",
    "import mon_module\n",
    "```\n",
    "\n",
    "Une fois cette opération effectuée, on peut utiliser les fonctions de ce module en les appelant ainsi :\n",
    "\n",
    "```python\n",
    "mon_module.ma_fonction()\n",
    "```\n",
    "\n",
    "- Nous pouvons également lui donner un \"alias\" (un diminutif la plupart du temps) de cette manière:\n",
    "\n",
    "```python\n",
    "import mon_module as m\n",
    "```\n",
    "Désormais il sera plus aisé d'appeler ses fonctions :\n",
    "\n",
    "```python\n",
    "m.ma_fonction()\n",
    "```\n",
    "\n",
    "- On peut aussi choisir de n'importer qu'une ou plusieurs fonctions spécifiques\n",
    "\n",
    "```python\n",
    "from mon_module import ma_fonction1, ma_fonction2\n",
    "```\n",
    "\n",
    "Dans ce cas on peut appeler directement la fonction sans avoir à préciser la librairie :\n",
    "\n",
    "```python\n",
    "ma_fonction1()\n",
    "ma_fonction2()\n",
    "```\n",
    "\n",
    "- Finalement on peut aussi choisir d'importer directement toutes les fonctions d'un module en utilisant l'opérateur `*`. Exemple :\n",
    "\n",
    "```python\n",
    "from mon_module import *\n",
    "```\n",
    "\n",
    "Dans ce cas, comme le cas précédent, on peut directement appeler les fonctions, sans devoir préciser la librairie."
   ]
  },
  {
   "cell_type": "markdown",
   "id": "2cdd99b2-78ac-4d58-9508-191430b07636",
   "metadata": {
    "tags": [
     "en"
    ]
   },
   "source": [
    "## Module\n",
    "\n",
    "A module is a file with a \".py\" extension. It can be used to store code, such as functions for example, which can then be used in different scripts or programs.\n",
    "\n",
    "- To import a module you can import it in its entirety as follows:\n",
    "\n",
    "```python\n",
    "import my_module\n",
    "```\n",
    "\n",
    "Once this has been done, you can use the functions in that module by calling them as follows:\n",
    "\n",
    "```python\n",
    "my_module.my_function()\n",
    "```\n",
    "\n",
    "- We can also give it an \"alias\" (a shorter name most of the time) like this:\n",
    "\n",
    "```python\n",
    "import my_module as m\n",
    "```\n",
    "Now it will be easier to call its functions:\n",
    "\n",
    "```python\n",
    "m.my_function()\n",
    "```\n",
    "\n",
    "- You can also choose to import only one or more specific functions\n",
    "\n",
    "```python\n",
    "from my_module import my_function1, my_function2\n",
    "```\n",
    "\n",
    "In this case you can call the function directly without having to specify the library:\n",
    "\n",
    "```python\n",
    "my_function1()\n",
    "my_function2()\n",
    "```\n",
    "\n",
    "- Finally, you can also choose to import all the functions of a module directly by using the `*` operator. Example:\n",
    "\n",
    "```python\n",
    "from my_module import *\n",
    "```\n",
    "\n",
    "In this case, as in the previous one, you can call the functions directly, without having to specify the library."
   ]
  },
  {
   "cell_type": "markdown",
   "id": "c1de5c61-7317-4486-ad09-8b6266f91c48",
   "metadata": {
    "tags": [
     "fr"
    ]
   },
   "source": [
    "### Exercice\n",
    "\n",
    "- Créez un fichier .py nommé \"module1.py\".\n",
    "- Écrivez à l'intérieur de celui-ci une fonction nommé `square()` qui retourne le carré d'un nombre.\n",
    "- Importez l'intégralité du module en lui donnant comme alias \"m1\" et utilisez la fonction `square()`.\n",
    "- Puis n'importez que la fonction `square()` du module1 et utilisez-la."
   ]
  },
  {
   "cell_type": "markdown",
   "id": "84f827b4-e1d7-49d5-ac18-13f46964513d",
   "metadata": {
    "tags": [
     "en"
    ]
   },
   "source": [
    "### Exercise\n",
    "\n",
    "- Create a .py file named \"module1.py\".\n",
    "- Write a function inside it called `square()` that returns the square of a number.\n",
    "- Import the whole module by giving it the alias \"m1\" and use the `square()` function.\n",
    "- Then import only the `square()` function from module1 and use it."
   ]
  },
  {
   "cell_type": "code",
   "execution_count": null,
   "id": "650256f4-a173-4de4-8902-62f8d0da8213",
   "metadata": {
    "tags": [
     "solution"
    ]
   },
   "outputs": [],
   "source": [
    "# Solution\n",
    "\n",
    "# Create a module1.py file inside the working directory, edit it so it contains:\n",
    "# def square(x): return x ** 2\n",
    "# Once it's done:\n",
    "\n",
    "import module1 as m1\n",
    "print(m1.square(2))\n",
    "from module1 import square\n",
    "print(square(3))"
   ]
  },
  {
   "cell_type": "markdown",
   "id": "642f50e7-36ee-48fc-9330-3a2817b312fa",
   "metadata": {
    "tags": [
     "fr"
    ]
   },
   "source": [
    "## Installer une librairie\n",
    "\n",
    "Le plus facile est d'ouvrir une fenêtre de terminal, de vérifier que nous sommes dans le bon environnement virtuel, si nous en avons un, puis d'utiliser `conda` ou `pip` pour installer la librairie. En règle générale la commande est simplement :\n",
    "\n",
    "```\n",
    "pip install le_nom_de_ma_librairie\n",
    "```"
   ]
  },
  {
   "cell_type": "markdown",
   "id": "6030b0f4-36e0-40cb-99db-89c0c1367a7f",
   "metadata": {
    "tags": [
     "en"
    ]
   },
   "source": [
    "## Installing a library\n",
    "\n",
    "The easiest way to do this is to open a terminal window, check that we are in the correct virtual environment, if we have one, and then use `conda` or `pip` to install the library. Generally the command is just :\n",
    "\n",
    "```\n",
    "pip install my_library_name\n",
    "```"
   ]
  }
 ],
 "metadata": {
  "kernelspec": {
   "display_name": "Python 3 (ipykernel)",
   "language": "python",
   "name": "python3"
  },
  "language_info": {
   "codemirror_mode": {
    "name": "ipython",
    "version": 3
   },
   "file_extension": ".py",
   "mimetype": "text/x-python",
   "name": "python",
   "nbconvert_exporter": "python",
   "pygments_lexer": "ipython3",
   "version": "3.10.9"
  }
 },
 "nbformat": 4,
 "nbformat_minor": 5
}
