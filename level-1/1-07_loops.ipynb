{
 "cells": [
  {
   "cell_type": "markdown",
   "metadata": {
    "tags": [
     "en"
    ]
   },
   "source": [
    "# LOOPS"
   ]
  },
  {
   "cell_type": "markdown",
   "metadata": {
    "tags": [
     "en"
    ]
   },
   "source": [
    "As we saw in the introduction, computers are very good at performing repetitive actions. In programming we have structures that allow us to perform **loops**, that is, to repeat the same instruction(s) as many times as we want. These are very common in all programming languages and form the core of a large number of programs."
   ]
  },
  {
   "cell_type": "markdown",
   "metadata": {
    "tags": [
     "en"
    ]
   },
   "source": [
    "## The `for` loop\n",
    "\n",
    "The `for` loop goes through the different elements of an object. It is used with the word `in`. For example:\n",
    "\n",
    "In human language:\n",
    "```\n",
    "For every page in this book:\n",
    "    Show page.\n",
    "```\n",
    "\n",
    "In python formalization:\n",
    "\n",
    "```python\n",
    "for page in book:\n",
    "    print(page)\n",
    "```\n",
    "\n",
    "You'll notice that, like an `if`, the code that follows a `for` is indentated."
   ]
  },
  {
   "cell_type": "markdown",
   "metadata": {
    "tags": [
     "en"
    ]
   },
   "source": [
    "### Iterate through a list\n",
    "\n",
    "Using a for loop, each item in the list will be selected one by one so that they can be processed separately. Many programmers use the name \"el\" (short for \"element\") to refer to the variable that will successively hold each element of the iterable, but this is just a habit. For example :"
   ]
  },
  {
   "cell_type": "code",
   "execution_count": null,
   "metadata": {
    "tags": []
   },
   "outputs": [],
   "source": [
    "my_list = [\"a\", \"b\", \"c\", \"d\", \"e\"]\n",
    "\n",
    "for el in my_list:\n",
    "    print(el)"
   ]
  },
  {
   "cell_type": "markdown",
   "metadata": {
    "tags": [
     "en"
    ]
   },
   "source": [
    "Here there are 5 different items in the list, which means that the instruction in the `for` block has been executed 5 times. Note that we can write as many instructions as we want in the block."
   ]
  },
  {
   "cell_type": "code",
   "execution_count": null,
   "metadata": {
    "tags": []
   },
   "outputs": [],
   "source": [
    "my_list = [\"a\", \"b\", \"c\", \"d\", \"e\"]\n",
    "\n",
    "i = 0\n",
    "for el in my_list:\n",
    "    print(el)\n",
    "    i = i + 1\n",
    "    print(i)"
   ]
  },
  {
   "cell_type": "markdown",
   "metadata": {
    "tags": [
     "en"
    ]
   },
   "source": [
    "### Exercise (easy)\n",
    "\n",
    "For each item in the following list display a sentence that indicates the number being processed and the value of its double.\n",
    "\n",
    "**Tips**:\n",
    "\n",
    "- You can perform calculations in `print()`.\n",
    "- Preferably use f-strings, it will be more readable.\n",
    "- Can be done in two lines of code."
   ]
  },
  {
   "cell_type": "code",
   "execution_count": null,
   "metadata": {
    "tags": []
   },
   "outputs": [],
   "source": [
    "seq1 = [2, 16, 78, 6, 21, 98, 53627]\n",
    "# Code here!\n"
   ]
  },
  {
   "cell_type": "markdown",
   "metadata": {
    "tags": [
     "en"
    ]
   },
   "source": [
    "### Exercise (easy)\n",
    "\n",
    "For each number in the following list:\n",
    "\n",
    "- If it is less than 100, display the result of that number multiplied by 3.\n",
    "- If it is greater than or equal to 100, display the result of that number divided by 5."
   ]
  },
  {
   "cell_type": "code",
   "execution_count": null,
   "metadata": {},
   "outputs": [],
   "source": [
    "seq2 = [50, 100, 213, 15, 350, 78, 101, 423]\n",
    "\n",
    "# tapez votre code ici :\n"
   ]
  },
  {
   "cell_type": "markdown",
   "metadata": {
    "tags": [
     "en"
    ]
   },
   "source": [
    "### The `len()` function\n",
    "\n",
    "The `len()` function, short for *lenght*, returns the number of elements in an iterable. Be careful because `len()` returns the number of elements not the maximum index! Ex:"
   ]
  },
  {
   "cell_type": "code",
   "execution_count": null,
   "metadata": {
    "tags": [
     "en"
    ]
   },
   "outputs": [],
   "source": [
    "a_list = [\"an element\", \"another element\", 3]\n",
    "print(len(a_list)) # 3 elements, so returns 3 but the index ranges from 0 to 2."
   ]
  },
  {
   "cell_type": "markdown",
   "metadata": {
    "tags": [
     "en"
    ]
   },
   "source": [
    "### Exercise (easy / medium)\n",
    "\n",
    "Write a function that calculates the average grade of a student. The grades are contained in a list.\n",
    "\n",
    "**TIPS**:\n",
    "\n",
    "- Create a new variable that will contain the sum total of the grades and initialize it to 0.\n",
    "- Use a `for` loop to iterate through the list and add up all the grades.\n",
    "- Use `len()` to find the size of the list and calculate the average."
   ]
  },
  {
   "cell_type": "code",
   "execution_count": null,
   "metadata": {
    "tags": []
   },
   "outputs": [],
   "source": [
    "grades = [10, 12, 16, 8, 17, 5, 9, 18, 14, 12, 11, 6, 8, 14, 20]\n",
    "\n",
    "# code here!\n"
   ]
  },
  {
   "cell_type": "markdown",
   "metadata": {
    "tags": [
     "en"
    ]
   },
   "source": [
    "### Exercise (medium)\n",
    "\n",
    "In the following sequence three groups of numbers are mixed: some are less than 100, some are between 1000 and 10 000 and some are more than 100 000. Calculate the average for each of these three groups.\n",
    "\n",
    "Different methods can be used. One method is to :\n",
    "\n",
    "- Create 3 empty lists in which to store the numbers belonging to each group.\n",
    "\n",
    "- Iterate over the \"grades\" list and add the grades to the appropriate list.\n",
    "\n",
    "- Once our three lists each contain the correct numbers, we can create a list of lists and iterate on them, calculating the average for each list. This is like nesting a `for` loop inside another `for` loop.\n",
    "\n",
    "**TIPS**:\n",
    "\n",
    "- Reminder: To add items to a list, use the `.append()` method."
   ]
  },
  {
   "cell_type": "code",
   "execution_count": null,
   "metadata": {},
   "outputs": [],
   "source": [
    "seq = [100001, 10, 14, 869761, 1771, 5, 7, 1878, 15, 11, 1001, 6901, 428712, 11, 19, 387654, 9009, 16]\n",
    "# code here!\n"
   ]
  },
  {
   "cell_type": "markdown",
   "metadata": {
    "tags": [
     "en"
    ]
   },
   "source": [
    "### Iterating over a range of numbers with `range()`\n",
    "\n",
    "`range()` is a very useful function, it allows you to create a \"range\" of numbers. By default the function starts from 0:"
   ]
  },
  {
   "cell_type": "code",
   "execution_count": null,
   "metadata": {
    "tags": []
   },
   "outputs": [],
   "source": [
    "for n in range(5):\n",
    "    print(n)"
   ]
  },
  {
   "cell_type": "markdown",
   "metadata": {
    "tags": [
     "en"
    ]
   },
   "source": [
    "You will notice that since Python starts counting from 0, a `range(5)` stops at 4! But there are 5 different elements.\n",
    "\n",
    "If `range()` is given a single number, as in the example above, it will assume that this is the number at which the range should end. If it is given two, it will assume that the first number is the starting point and the second the ending point. For example :"
   ]
  },
  {
   "cell_type": "code",
   "execution_count": null,
   "metadata": {
    "tags": []
   },
   "outputs": [],
   "source": [
    "for n in range(2,5):\n",
    "    print(n)"
   ]
  },
  {
   "cell_type": "markdown",
   "metadata": {
    "tags": [
     "en"
    ]
   },
   "source": [
    "### Exercise (easy)\n",
    "\n",
    "Using a `for` loop and `range()`, display the following result:\n",
    "    \n",
    "```python\n",
    "*\n",
    "**\n",
    "***\n",
    "****\n",
    "*****\n",
    "******\n",
    "*******\n",
    "********\n",
    "```\n",
    "\n",
    "**ASTUCE**:\n",
    "\n",
    "- Achievable in only two lines of code (or even one).\n",
    "- There are 8 stars in the last line.\n",
    "- The * is the multiplication symbol, and \"*\" is the star character."
   ]
  },
  {
   "cell_type": "code",
   "execution_count": null,
   "metadata": {},
   "outputs": [],
   "source": [
    "# Code here!\n"
   ]
  },
  {
   "cell_type": "markdown",
   "metadata": {
    "tags": [
     "en"
    ]
   },
   "source": [
    "### Exercise (medium / difficult)\n",
    "\n",
    "The aim of this exercise is to write a code which will allow to determine if a number is prime or not. As a reminder, [prime numbers](https://en.wikipedia.org/wiki/Prime_number) are numbers that are divisible only by 1 and by themselves. Write a program that takes as input a number equal to or greater than 2 and displays as output whether that number is prime or not.\n",
    "\n",
    "**TIPS**:\n",
    "\n",
    "- To determine whether a number is prime or not, you will need to use the \"modulo\" operation, which returns the remainder of the Euclidean division. If the remainder of a Euclidean division is zero and the divisor used is neither 1 nor itself then the number is not prime. In Python the modulo is written as `%`. If we want to know if 5 is a prime number, we divide 5 by all the numbers between 2 and 4 (since we exclude 1 and itself), i.e. 2, 3 and 4.\n",
    "\n",
    "```python\n",
    "5 % 2 = 1\n",
    "5 % 3 = 2\n",
    "5 % 4 = 1\n",
    "```\n",
    "\n",
    "None of these operations return 0 so 5 is a prime number. Now let's test with 35:\n",
    "\n",
    "```python\n",
    "35 % 2 = 1\n",
    "35 % 3 = 2\n",
    "35 % 4 = 3\n",
    "35 % 5 = 0\n",
    "```\n",
    "\n",
    "The fourth operation returns 0, which means that 35 is disivisible by 5. So it is not a prime number.\n",
    "\n",
    "- To be more efficient, assume that the number is prime, which can be done by initializing a boolean variable `is_prime = True` for example. As soon as you find a divisor other than 1 and itself, thus demonstrating that the number is not prime, you change this boolean variable accordingly and assign it `False`.\n",
    "- The function `range()` will be useful.\n",
    "- You will need 2 variables and 6 lines of code.\n",
    "- We could write this function to make it faster and more readable, but that would involve concepts we haven't seen yet."
   ]
  },
  {
   "cell_type": "code",
   "execution_count": null,
   "metadata": {},
   "outputs": [],
   "source": [
    "# Code here!\n"
   ]
  },
  {
   "cell_type": "markdown",
   "metadata": {
    "tags": [
     "en"
    ]
   },
   "source": [
    "### Iterate on a string\n",
    "\n",
    "Let's look at what happens if we use the `for` loop on a string."
   ]
  },
  {
   "cell_type": "code",
   "execution_count": null,
   "metadata": {
    "tags": []
   },
   "outputs": [],
   "source": [
    "for el in \"Hello!\":\n",
    "    print(el)"
   ]
  },
  {
   "cell_type": "markdown",
   "metadata": {
    "tags": [
     "en"
    ]
   },
   "source": [
    "The reason why several characters are called a *string* is because Python conceives a string as a sequence of different characters (we also say that the characters are \"concatenated\".\n",
    "\n",
    "You will notice that the space \" \" is also a character."
   ]
  },
  {
   "cell_type": "markdown",
   "metadata": {
    "tags": [
     "en"
    ]
   },
   "source": [
    "### Exercise (easy)\n",
    "\n",
    "You know that the longest word of the English language is \"pneumonoultramicroscopicsilicovolcanoconiosis\", but how many characters are there inside? Find out using a `for` loop and a variable to increment."
   ]
  },
  {
   "cell_type": "code",
   "execution_count": null,
   "metadata": {},
   "outputs": [],
   "source": [
    "# Code here!\n"
   ]
  }
 ],
 "metadata": {
  "kernelspec": {
   "display_name": "Python 3 (ipykernel)",
   "language": "python",
   "name": "python3"
  },
  "language_info": {
   "codemirror_mode": {
    "name": "ipython",
    "version": 3
   },
   "file_extension": ".py",
   "mimetype": "text/x-python",
   "name": "python",
   "nbconvert_exporter": "python",
   "pygments_lexer": "ipython3",
   "version": "3.10.9"
  }
 },
 "nbformat": 4,
 "nbformat_minor": 4
}
