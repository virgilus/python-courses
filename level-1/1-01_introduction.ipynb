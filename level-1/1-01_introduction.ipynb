{
 "cells": [
  {
   "cell_type": "markdown",
   "metadata": {
    "tags": [
     "en"
    ]
   },
   "source": [
    "# INTRODUCTION\n",
    "\n",
    "## Python for beginners\n",
    "\n",
    "Welcome to this introductory course on Python. In this first notebook we will present the main principles necessary to understand and execute the following exercises. Some aspects, such as binary and hexadecimal systems, are not compulsory to learn to program but are part of the general knowledge necessary for anyone interested in these subjects. All the files of this course are regularly updated and available on github at the following address:\n",
    "\n",
    "[python course on github](http://github.com/virgilus/cours-de-python)\n",
    "\n",
    "Feel free to help me correct errors, typos and approximations via a *merge request*.\n",
    "\n",
    "**Tip**: If you read this document in jupyter lab/notebook and double-click on the text, you will enter the edit mode. Click on the \"play\" button below the tab or press shift+enter to return the cell to its normal state."
   ]
  },
  {
   "cell_type": "markdown",
   "metadata": {
    "tags": [
     "en"
    ]
   },
   "source": [
    "## What is programming?\n",
    "\n",
    "**In one sentence:** programming is what makes it possible to write computer programs, i.e. to give instructions to a computer. But before going into detail, let's quickly recall the main components of a computer."
   ]
  },
  {
   "cell_type": "markdown",
   "metadata": {
    "tags": [
     "en"
    ]
   },
   "source": [
    "# The main components of a computer (the \"hardware\")\n",
    "\n",
    "When programming, it is not necessary to understand in detail how a computer works, especially when we use a language like Python which is \"high level\" language and has been designed so that the user doesn't have to worry about potential technical issues.\n",
    "\n",
    "However, it is necessary to know a certain number of things about computers in order to understand the error messages returned by the various tools we are going to use, but also to become familiar with the vocabulary of computing.\n",
    "\n",
    "A computer works by using a large number of electronic components that communicate with each other: some are necessary and others are only optional."
   ]
  },
  {
   "cell_type": "markdown",
   "metadata": {
    "tags": [
     "en"
    ]
   },
   "source": [
    "## The processor (CPU)\n",
    "\n",
    "<div>\n",
    "<img src=\"files/cpu.jpg\" alt=\"CPU\" width=\"400\" align='left'/> </div> The processor is the component of a computer that performs logical operations. Each processor has a clock (*clock*) that beats at a certain frequency and is measured in Giga Hertz (GHz), e.g. a 2.6 GHz processor has an internal clock that beats 2.6 billion times per second. Each beat represents an opportunity for the processor to manipulate a number of bits (32 bits or 64 bits). For now, let's remember that a bit is a unit that can take the value 0 or 1.\n",
    "\n",
    "In the past, we used to compare the power of processors by looking at their frequency, but this is less true nowadays since processors have several \"cores\" (*cores*) allowing them to perform several operations simultaneously and thus multiplying their computing power. Certain architectures and techniques, such as \"hyperthreading\", which allows a chip to execute two sub-processes, play an important role in the final performance that a processor can achieve.\n",
    "\n",
    "Today, most people use computers with 64-bit processors with 4 to 8 cores and a frequency of 1.5 to 3 GHz.\n",
    "\n",
    "The more a processor is used, the more it heats up. To dissipate this heat it is necessary to add a radiator and a fan to it so that its temperature remains at an acceptable level (between 70°C and 100°C depending on the model)."
   ]
  },
  {
   "cell_type": "markdown",
   "metadata": {
    "tags": [
     "en"
    ]
   },
   "source": [
    "## Random Access Memory (RAM)\n",
    "\n",
    "<img src=\"files/ram.jpg\" alt=\"CPU\" width=\"400\" align=\"left\"/>\n",
    "\n",
    "In order for the processor to perform operations on data these are first stored in an intermediate memory called \"random access memory\" or \"RAM\" (*Random Access Memory*). This memory is filled and emptied according to the processing requested by the user. It is said to be \"volatile\" because once the computer is switched off it is completely erased.\n",
    "\n",
    "A computer generally has one to four slots for inserting RAM bars. To improve the speed of the computer, it is preferable to use the same RAM model and capacity. Today's computers come with 8 to 32 Go (Giga octect). It is quite easy to change the RAM on most computers."
   ]
  },
  {
   "cell_type": "markdown",
   "metadata": {
    "tags": [
     "en"
    ]
   },
   "source": [
    "## The hard drive (HDD or SSD)\n",
    "\n",
    "<img src=\"files/hdd-ssd.jpg\" alt=\"HDD-SSD\" width=\"400\" align=\"left\"/>\n",
    "\n",
    "The hard drive is a non-volatile storage device that keeps the data when using the computer but also when the computer is switched off. Until recently, the vast majority of hard drives were HDDs (Hard Disk Drives), shown on the left. It uses a technology similar to vinyl or CD-ROM: several platters (discs) rotate inside and are read by read heads. \n",
    "\n",
    "In recent years, these hard drives have been gradually replaced by SSDs (Solid-State Drives), pictured on the right, which work more like USB sticks, i.e. the data is stored in electronic memory components but is not erased when the drive is switched off. These drives are generally much faster, but are also more expensive than HDDs for the same capacity. With the development of cloud storage technologies and the *streaming* of audio and video streams, users tend to store less data on their hard drives, it is not necessary to have a large storage capacity to be able to use all the basic functions of a computer.\n",
    "\n",
    "Overall, storage capacity has increased enormously in recent years. From a few Mo in the 1980s, HDDs sold in the market today often reach the size of 4 To (teraoctet) or 4 millions of Mo."
   ]
  },
  {
   "cell_type": "markdown",
   "metadata": {
    "tags": [
     "en"
    ]
   },
   "source": [
    "## The graphics card (GPU)\n",
    "\n",
    "<img src=\"files/gpu.jpg\" alt=\"gpu\" width=\"400\" align=\"left\" title=\"By Advanced Micro Devices, Inc (AMD), Attribution, https://commons.wikimedia.org/w/index.php?curid=8480474\"/>\n",
    "\n",
    "The graphics card (GPU for *Graphical Processing Unit*) is a card that is initially used to display images on a screen. A typical motherboard has a built-in graphics card, which allows a monitor to be connected by default. However, when we talk about a GPU we are generally referring to an optional graphics card that is used to increase the computer's ability to process images and perform calculations, especially 3D calculations.\n",
    "\n",
    "They are widely used by video game players as well as video and image processing professionals. Since the 2010s, they are also used by scientists and *data scientists* to train statistical or mathematical models requiring heavy and complex calculations (for example in the case of neural networks)."
   ]
  },
  {
   "cell_type": "markdown",
   "metadata": {
    "tags": [
     "en"
    ]
   },
   "source": [
    "## The motherboard\n",
    "\n",
    "<img src=\"files/motherboard.jpg\" alt=\"motherboard\" width=\"400\" align=\"left\"/>\n",
    "\n",
    "The motherboard is a printed circuit board that connects all the elements of the computer together. It has slots for the RAM and other types of cards (sound card, graphics card, wifi card, etc.), sockets for connecting the various disk drives (hard disks, CD/DVD drive/writer, etc.) using IDE or SATA connectors, as well as other types of inputs or outputs (VGA, HDMi, USB, mini-jack, etc.) for connecting external peripherals (monitors, printers, mouse, keyboard, speakers, etc.).\n",
    "\n",
    "The motherboard has a limiting effect on the performance of a computer: if the motherboard is not adapted to the three other main determinants of a computer -processor, RAM, hard disk- the overall performance of the computer will be slowed down.\n",
    "\n",
    "The BIOS (or UEFI in its more recent version), is a firmware contained on a chip on the motherboard that allows it to be set up before launching the operating system (OS) and also recognises the basic peripherals (keyboard, mouse, screen). We use it when we want to install or reinstall and OS or if we want to boot on a specific device, like a USB stick. Most of the time, when a computer boots up, it displays the keys we need to press to access the BIOS. The motherboard uses a small battery, the same kind we use to power watches, so it keeps track of the date and time even when the computer is turned off."
   ]
  },
  {
   "cell_type": "markdown",
   "metadata": {
    "tags": [
     "en"
    ]
   },
   "source": [
    "# Software\n",
    "\n",
    "From the \"hardware\", i.e. the physical components of a computer, we can build the whole \"software\" part, i.e. the programs that work using these components.\n",
    "\n",
    "Basically, we can see a computer as a particular process that takes data as input and processes it in order to return other data as output. A computer must therefore be able to :\n",
    "\n",
    "- Read and write data\n",
    "- Perform operations on that data\n",
    "\n",
    "But how can a computer perform operations or read data from electrical flows?"
   ]
  },
  {
   "cell_type": "markdown",
   "metadata": {
    "tags": [
     "en"
    ]
   },
   "source": [
    "## Operations: transistors and logic gates\n",
    "\n",
    "A transistor is an electronic component that works like a switch and allows current to flow or not. Making the distinction between an electric current that flows and an electric current that does not is the basis on which all modern computing is based. A computer \"understands\" *in fine* only two states: either the current flows or it does not (*True* or *False*, 1 or 0).\n",
    "\n",
    "| Context | Values |\n",
    "|:---------:|:-----------:|\n",
    "| Logic | true / false |\n",
    "| Logic | yes / no |\n",
    "| Numerical | 1 / 0 |\n",
    "\n",
    "Over the years transistors have been miniaturised to the point where a processor can contain billions of them and therefore perform billions of operations in a very short time.\n",
    "\n",
    "By assembling transistors together and circulating current between them, it is possible to make them perform logical operations automatically, these are called \"logic gates\". For example, if we take two transistors that we will call A and B, and we connect them in series, i.e. one after the other, and then we measure the current at the output of B :\n",
    "\n",
    "<img src=\"files/A_ET_B.png\" alt=\"A AND B\" width=\"300\" align=\"center\"/>\n",
    "\n",
    "- If A is off (the current does not flow) and B is off, the result is, obviously, negative.\n",
    "\n",
    "- If A is on but B is off, the result is negative because the current stops once it reaches B.\n",
    "\n",
    "- If A is deactivated and B is activated, the result is negative because the current, stopping at A, cannot reach B.\n",
    "\n",
    "- If A and B are both switched on, then the current flows and the result measured at the output of B will be positive.\n",
    "\n",
    "Here we have found a first logic gate which we will call \"AND\". It means that if A is true and B is true then the proposition \"A AND B\" is true. On the other hand, if either A or B (or both) is false, then \"A AND B\" will also be false.\n",
    "\n",
    "Let's take our transistors A and B again, but this time we'll connect them both to the same circuit without A going through B or B going through A. Then we measure the electric current at the output.\n",
    "\n",
    "<img src=\"files/A_OU_B.png\" alt=\"A AND B\" width=\"300\" align=\"center\"/>\n",
    "\n",
    "- If A is deactivated (the current does not flow) and B is also deactivated, the test result is, obviously, negative.\n",
    "\n",
    "- If A is on but B is off, the result is positive since the current will be passed through A.\n",
    "\n",
    "- If A is deactivated and B is activated, the result will be positive since the current will have passed through B.\n",
    "\n",
    "- If both A and B are turned on, then the current will flow through both transistors and the result will be positive.\n",
    "\n",
    "Here we have just discovered the \"OR\" logic gate. It means that if either A or B is true (or both) then \"A OR B\" is true. Only if both A and B are false will \"A OR B\" be false. If we create \"truth tables\" to summarise these two operations by assuming that the number \"1\" indicates that the current is flowing and the number \"0\" indicates that the current is not flowing, we get this:\n",
    "\n",
    "| A | B | A AND B | A OR B |\n",
    "|:-:|:-:|:------:|:------:|\n",
    "| 0 | 0 | 0 | 0 |\n",
    "| 1 | 0 | 0 | 1 |\n",
    "| 0 | 1 | 0 | 1 |\n",
    "| 1 | 1 | 1 | 1 |\n",
    "\n",
    "\n",
    "There are many other logic gates, but we will have the opportunity to talk about them again when we come to the chapter on conditions."
   ]
  },
  {
   "cell_type": "markdown",
   "metadata": {
    "tags": [
     "en"
    ]
   },
   "source": [
    "## Data: the binary system\n",
    "\n",
    "**A more detailed version of the binary system is available at the end of this notebook in the \"Further Reading\" section**.\n",
    "\n",
    "Bits (0 or 1) make it possible to carry out simple operations using basic electrical components, but this coding system can also be used to store information. To this end, electronical divices can \"assemble\" the bits together in order to count beyond one.\n",
    "\n",
    "A semi-octet (also called nibble) is a sequence of 4 bits, for example: 0110.\n",
    "\n",
    "One octet is a sequence of 8 bits, for example: 01001010.\n",
    "\n",
    "To simplify, one can imagine each bit 1 as \"on\" and each bit 0 as \"off\". Binary is read from right to left, and at each unit change, it is assigned a power of 2, starting from 2<sup>0</sup> (which is equal to 1) up to 2<sup>3</sup> (8 in decimal) for a half-byte.\n",
    "\n",
    "If we note m as the position of the bit, then each bit of this semi-octet can take a value equal to 2<sup> m - 1</sup>, or if it is inactive, 0. Since a semi-octet is coded on 4 bits, we can combine 5 possible values (8, 4, 2, 1, and 0) to take all values ranging from 0 to 15.\n",
    "\n",
    "\n",
    "|      Power         | 2<sup>3</sup> | 2<sup>2</sup> | 2<sup>1</sup> |    2<sup>0</sup>   |\n",
    "|:------------------:|:-------------:|:-------------:|:-------------:|:------------------:|\n",
    "|     Calculation    |   2 * 2 * 2   |     2 * 2     |       2       |          1         |\n",
    "|     Bit value      |       8       |       4       |       2       |          1         |\n",
    "\n",
    "\n",
    "From this it is easy to calculate the value of different semi-octet. For example :\n",
    "\n",
    "| 8 | 4 | 2 | 1 | Calculation | Result in decimal\n",
    "| :-: | :-: | :-: | :-: | :-: | :-: |\n",
    "| 0 | 1 | 1 | 0 | 4 + 2 | 6 |\n",
    "| 1 | 0 | 0 | 1 | 8 + 1 | 9 |\n",
    "| 0 | 0 | 0 | 1 | 1 | 1 |\n",
    "| 1 | 1 | 1 | 1 | 8 + 4 + 2 + 1 | 15 |\n"
   ]
  },
  {
   "cell_type": "markdown",
   "metadata": {
    "tags": [
     "en"
    ]
   },
   "source": [
    "## The hexadecimal system\n",
    "\n",
    "**A more detailed version of the hexadecimal system is available at the end of this notebook in the \"further reading\" section**.\n",
    "\n",
    "For optimisation reasons, and as a semi-byte can take 16 different values, the binary data is then converted into the hexadecimal system (from the Greek hexa: sixteen). Since the hexadecimal system uses a base of 16, additional digits had to be found to represent the missing 6 digits. The first 6 letters of the alphabet were used: A, B, C, D, E and F.\n",
    "\n",
    "| Hexadecimal | Decimal |  \n",
    "| :----: | :------: | \n",
    "| 0 | 0 |\n",
    "| 1 | 1 |\n",
    "| 2 | 2 |\n",
    "| 3 | 3 |\n",
    "| 4 | 4 |\n",
    "| 5 | 5 |\n",
    "| 6 | 6 |\n",
    "| 7 | 7 |\n",
    "| 8 | 8 |\n",
    "| 8 | 8 |\n",
    "| 9 | 9 |\n",
    "| A | 10 |\n",
    "| B | 11 |\n",
    "| C | 12 |\n",
    "| D | 13 |\n",
    "| E | 14 |\n",
    "| F | 15 |\n",
    "| 10 | 16 |\n",
    "| 11 | 17 |\n",
    "| 12 | 18 |\n",
    "| 13 | 19 |\n",
    "| 14 | 20 |\n",
    "| 15 | 21 |\n",
    "| 16 | 22 |\n",
    "| 17 | 23 |\n",
    "| 18 | 24 |\n",
    "| 19 | 25 |\n",
    "| 1A | 26 |\n",
    "| ... | ... |\n",
    "\n",
    "This is why in computing we sometimes find notations such as 1E, 3BF, C3, D4E etc. These are simply numbers in another base than the decimal base. The hexadecimal system is used for example to code MAC addresses of network cards, IPv6, colours, ASCII tables, security keys and so on..."
   ]
  },
  {
   "cell_type": "markdown",
   "metadata": {
    "tags": [
     "en"
    ]
   },
   "source": [
    "# Operating Systems and Applications\n",
    "\n",
    "## Operating Systems\n",
    "\n",
    "The operating system (OS) has three main functions:\n",
    "\n",
    "- It manages the different resources of the computer (memory, processor, RAM, keyboard, graphic cards...) so the user can run by the user can run differents softwares.\n",
    "- It offers an ecosystem in which developers can write new programs.\n",
    "- It embeds many utility software and protocols.\n",
    "- It provides a GUI (Graphic User Interface) and a CLI (Command Line Interface).\n",
    "\n",
    "Examples of operating systems for laptops and desktops:\n",
    "\n",
    "- Linux (GNU, free software), which comes in a multitude of \"distributions\" (Ubuntu, Debian...)\n",
    "- MacOs (Apple)\n",
    "- Windows (Microsoft)\n",
    "\n",
    "Operating systems for smartphones and tablets :\n",
    "\n",
    "- Android\n",
    "- iOS\n",
    "- Windows phone\n",
    "\n",
    "In reality, if we put aside the experimental operating systems, there are only two major families:\n",
    "\n",
    "- Unix and its derivatives on the one hand (Linux and all Apple products since 2001)\n",
    "- Windows products on the other hand.\n",
    "\n",
    "Windows is very widespread among private individuals, but computer specialists are mostly on Mac and Linux. As for servers and computers, they practically all run on Unix/Linux."
   ]
  },
  {
   "cell_type": "markdown",
   "metadata": {
    "tags": [
     "en"
    ]
   },
   "source": [
    "## How do you program?\n",
    "\n",
    "### Source code\n",
    "\n",
    "In computer science, programming, also called coding, is the set of activities that make it possible to write computer programs. The first step is to write **source code**, which is a language that can be understood by a human being but interpreted by a computer. It is a sort of common language, a junction point between man and machine, which allows the former to explain to the latter the operations it must perform. \n",
    "\n",
    "For example:\n",
    "\n",
    "**Human language:**\n",
    "\n",
    "\"I would like a function that returns the square of a number I enter\".\n",
    "\n",
    "**Source code (in python):**\n",
    "\n",
    "```python\n",
    "def square(x):\n",
    "    return x * x\n",
    "```\n",
    "\n",
    "**Machine language (in binary)**:\n",
    "\n",
    "```\n",
    "101000101010101010101000000101010101010101010001001010\n",
    "101001001001001010101011111010101000100100100100010011\n",
    "001000101111100010101001010101001010101010101000100100\n",
    "101000101010101010101000010101010101010101010001001010\n",
    "000011110010101010011110101010100100100001111111001010\n",
    "```\n",
    "\n",
    "In the above example the source code may seem a bit obscure to you at the moment, but it is still much more understandable than the machine language which is only composed of 0's and 1's."
   ]
  },
  {
   "cell_type": "markdown",
   "metadata": {
    "tags": [
     "en"
    ]
   },
   "source": [
    "### Programs, software, scripts and applications\n",
    "\n",
    "Generally speaking, a **program** is understood to be a sequence of instructions given to a computer. At the very least, it can therefore be a single line of code performing a single operation.\n",
    "\n",
    "However, the term \"program\" is often used incorrectly to designate, by metonymy, **software**. A software program is in reality an organised set of different programs, sometimes written in several languages. (example: word, firefox, outlook...)\n",
    "\n",
    "**Scripts**, on the other hand, can be executed inside or outside of softwares and are written in what are called \"interpreted languages\".\n",
    "\n",
    "As for the **applications**, or **apps**, that are installed on smartphones or tablets, they are simply \"software\", even if this term covers different cases and can include scripts (progressive web application)."
   ]
  },
  {
   "cell_type": "markdown",
   "metadata": {
    "tags": [
     "en"
    ]
   },
   "source": [
    "## Two main approaches to programming\n",
    "\n",
    "Source code needs to be **\"compiled \"** in order to be executed, i.e. it needs to be transformed into machine language (0s and 1s). To overstate the case, one could say that there are two kinds of use of source code in programming that stem from the two main types of compilation: **ahead-of-time compilation** (AOT) and **on-the-fly compilation**.\n",
    "\n",
    "- **Software development (ahead-of-time compilation)**\n",
    "\n",
    "    When a software is developed, this means that developers will define the specifications of the software, carry out its design, implement the desired functions using one or more programming languages and finally correct errors (*bugs*).\n",
    "    \n",
    "    For example, \"Firefox\" is a software that includes a set of programs written in different languages (C, C++, JavaScript, CSS, Rust...). At the end, the source code is **compiled** in order to create a binary executable file which is written in machine language, i.e. in a language that can be understood by the computer's processor.\n",
    "    \n",
    "    This binary executable file is what the user \"clicks\" on when they want to run the software on their computer. Most softwares have a graphical interface (menus, windows, etc.) so the user doesn't have to type commands.\n",
    "\n",
    "- **Scripts (on-the-fly compilation)**\n",
    "\n",
    "    When programming using scripts, the approach is different: the source code is read step by step (and therefore compiled on the fly) by the computer which executes the instructions. So there is no executable file: the program and the source code are one. Most of the time, we don't need to develop a graphical interface and we simply run the script to accomplish the desired task.\n",
    "    \n",
    "    For example, this is how websites work. When a web page is opened, the source code (often HTML, JavaScript and CSS) is interpreted by the browser which understands it and executes it line by line. There is no such thing as a \"google.exe\" file, but there is an HTML page which the source code is passed to the browser if you go to google.com.\n",
    "    \n",
    "    Scripts are widely used by anyone who needs to automate tasks but does not have the time, skills or inclination to create a complete program.\n",
    "    \n",
    "Some programming languages can only work when compiled beforehand (C, C++, Pascal etc.), others only work when compiled on the fly (i.e. scripts written in interpreted languages such as Shell, JavaScript etc.), and finally some languages (Python, PHP etc.) can work in both cases.\n",
    "\n",
    "**In this course we will write Python scripts, so we will use it as an interpreted language.**"
   ]
  },
  {
   "cell_type": "markdown",
   "metadata": {
    "tags": [
     "en"
    ]
   },
   "source": [
    "## Programming languages\n",
    "\n",
    "### Low and high level languages\n",
    "\n",
    "There are many different programming languages today, but they all derive from a single language: **Assembler**, which can be compiled directly into binary without almost any intermediate steps. Since writing in assembly language is a long and tedious task, computer scientists have started to invent new programming languages that simplify its use."
   ]
  },
  {
   "cell_type": "markdown",
   "metadata": {
    "tags": [
     "en"
    ]
   },
   "source": [
    "#### The 'Hello World'\n",
    "\n",
    "In computing, there is a tradition when learning a new language to successfully display the phrase \"Hello World\" on the computer screen. Here are three examples of \"Hello World\" programs (from [wikipedia](https://fr.wikipedia.org/wiki/Liste_de_programmes_Hello_world))."
   ]
  },
  {
   "cell_type": "markdown",
   "metadata": {
    "tags": [
     "en"
    ]
   },
   "source": [
    "#### Assembler"
   ]
  },
  {
   "cell_type": "markdown",
   "metadata": {
    "tags": []
   },
   "source": [
    "```assembly\n",
    "cseg    segment\n",
    "        assume  cs:cseg, ds:cseg\n",
    "        org     100h\n",
    "main    proc\n",
    "        mov     dx, offset Message\n",
    "        mov     ah, 9\n",
    "        int     21h\n",
    "        ret\n",
    "main    endp\n",
    "\n",
    "Message db      \"Hello, world!$\"\n",
    "cseg    ends\n",
    "        end     main\n",
    "\n",
    "```"
   ]
  },
  {
   "cell_type": "markdown",
   "metadata": {
    "tags": []
   },
   "source": [
    "#### C++\n",
    "\n",
    "```C\n",
    "#include <iostream>\n",
    " \n",
    "int main()\n",
    "{\n",
    "    std::cout << \"Hello, world!\\n\";\n",
    "}\n",
    "```"
   ]
  },
  {
   "cell_type": "markdown",
   "metadata": {
    "tags": []
   },
   "source": [
    "#### Python\n",
    "\n",
    "```python\n",
    "print('Hello, world!')\n",
    "```"
   ]
  },
  {
   "cell_type": "markdown",
   "metadata": {
    "tags": [
     "en"
    ]
   },
   "source": [
    "### Translation from one language to another.\n",
    "\n",
    "As you can see the source code for the same program is very different depending on the language chosen. Assembler is said to be a low level language, and Python is a high level language. C and C++ are often considered \"medium level\" languages.\n",
    "\n",
    "When programming in Python the instructions are first translated into \"bytecode\" by an interpreter (often CPython) and then executed in assembly."
   ]
  },
  {
   "cell_type": "markdown",
   "metadata": {
    "tags": [
     "en"
    ]
   },
   "source": [
    "### Different languages for different uses\n",
    "\n",
    "Initially each language was developed to achieve specific goals in a particular field; and each one has its strengths and weaknesses. Among the most popular, we can name:\n",
    "\n",
    "- HTML, CSS, PHP, JavaScript for web development\n",
    "- C++, Java for software development\n",
    "- R, Matlab for statistics and technical calculations.\n",
    "- SQL for database manipulation.\n",
    "- And so on..."
   ]
  },
  {
   "cell_type": "markdown",
   "metadata": {
    "tags": [
     "en"
    ]
   },
   "source": [
    "# Python\n",
    "\n",
    "## Origin\n",
    "\n",
    "Python is a language invented by a Dutch programmer while in his thirties, [**Guido Van Rossum**](https://fr.wikipedia.org/wiki/Guido_van_Rossum), who was bored at his parents' house during the Christmas holidays of 1989. He continued to improve and perfect his language over the years before a whole community of programmers, as well as Google, began to assist him, attracted by the simplicity of this language.\n",
    "\n",
    "The name \"Python\" comes from the British comedy group the [Monty Python](https://fr.wikipedia.org/wiki/Monty_Python), because \"Python\" was thought to be fun, just like the \"Monty Python\". Guido Van Rossum has stopped taking an active part in the development of Python in 2018, but he continues to give advices.\n",
    "\n",
    "Python is a general-purpose language, it is sometimes said to be \"the 2nd best language in all fields\". Meaning that there are often more suitable languages to do a specific job, but Python is also likely to achieve it.\n",
    "\n",
    "Nowadays Python is everywhere because it is very easy to learn and read. However, it has several flaws, the main one being its slowness: as Python is a high-level language, it takes a long time to translate its instructions into machine language (assemblor). However, this slowness is only noticeable when there are a large number of instructions to execute and/or the size of the data processed is very large."
   ]
  },
  {
   "cell_type": "markdown",
   "metadata": {
    "tags": [
     "en"
    ]
   },
   "source": [
    "## IDE\n",
    "\n",
    "An IDE, which stands for \"Integrated Development Environment\" is a software programs designed to help the programmer to write code. They save precious time by making the code more readable and provides a lot of helpful tools. Here a screenshot of the \"Visual Studio Code\" software while a programmer is working on Java Script code.\n",
    "\n",
    "<img src=\"files/VSC.png\" alt=\"Visual Studio Code\" width=\"600\" align='left'/>"
   ]
  },
  {
   "cell_type": "markdown",
   "metadata": {
    "tags": [
     "en"
    ]
   },
   "source": [
    "## Focus on Jupyter Lab\n",
    "\n",
    "In the following lessons we will use Jupyter Lab, a more advanced and more complex version of Jupyter Notebook. Jupyter Lab is a recent and innovative IDE which is perfect for scientific activities and data manipulation. Below is a screenshot.\n",
    "\n",
    "<img src=\"files/jupyter_lab.png\" alt=\"jupyter lab\" width=\"600\" align='left'/>\n"
   ]
  },
  {
   "cell_type": "markdown",
   "metadata": {
    "tags": [
     "en"
    ]
   },
   "source": [
    "### Jupyter lab\n",
    "\n",
    "\"Jupyter Lab\" is an IDE that allows coding in different languages (JUlia, PYThon, R but also SQL with some extensions).\n",
    "\n",
    "The easiest way to get Jupyter Lab is to download the Anaconda distribution from https://www.anaconda.com/distribution/\n",
    "\n",
    "**-/!\\ Be sure to download the version that corresponds to your operating system /!\\-**"
   ]
  },
  {
   "cell_type": "markdown",
   "metadata": {
    "tags": [
     "en"
    ]
   },
   "source": [
    "### Launch Jupyter Lab\n",
    "\n",
    "**For Windows:**\n",
    "\n",
    "To launch jupyter lab install Anaconda and then launch \"anaconda prompt\". This console is an improved version of the Windows command prompt, allowing you to be sure that Python is working properly. Once open, you simply type :\n",
    "\n",
    "```shell\n",
    "jupyter lab\n",
    "```\n",
    "\n",
    "**For Mac and Linux:**\n",
    "\n",
    "Open a terminal and type :\n",
    "\n",
    "```shell\n",
    "jupyter lab\n",
    "```"
   ]
  },
  {
   "cell_type": "markdown",
   "metadata": {
    "tags": [
     "en"
    ]
   },
   "source": [
    "### How does Jupyter Lab work?\n",
    "\n",
    "Once you have launched the program, a new tab should appear in your web browser.\n",
    "Indeed Jupyter Lab uses your browser to communicate directly with Python. This allows it to be more flexible than other software, and to do collaborative work.\n",
    "\n",
    "If Jupyter Lab doesn't open or opens in a browser you don't want to use, just copy and paste the link that Jupyter Lab displays in the console. In the image below the links that can be copied and pasted are shown in yellow.\n",
    "\n",
    "If a token is asked, copy-paste the one which is displayed in the shell.\n",
    "\n",
    "<img src=\"files/url-jupyter.jpg\" alt=\"CPU\" width=\"600\" align='left'/>"
   ]
  },
  {
   "cell_type": "markdown",
   "metadata": {
    "tags": [
     "en"
    ]
   },
   "source": [
    "### Cells\n",
    "\n",
    "Jupyter Lab uses \"cells\" which allow to execute code independently, or to insert other elements than code. Each cell can be of three different types:\n",
    "\n",
    "- **Cell \"Code\"**: It contains programming instructions that will be executed when the cell is launched.\n",
    "- **Cell \"Markdown\"**: Contains text and images that will be formatted correctly when the cell is run.\n",
    "- **Cell \"Raw\"**: Contains raw text, nothing happens when you launch the cell.\n",
    "\n",
    "To launch a cell and move to the next cell, simply select it and press **\"shift + enter \"**.\n",
    "To launch the cell without moving to the next cell, the combination is **\"ctrl + enter \"**."
   ]
  },
  {
   "cell_type": "markdown",
   "metadata": {
    "tags": [
     "en"
    ]
   },
   "source": [
    "## Markdown\n",
    "\n",
    "### Definition\n",
    "\n",
    "The best way to write text in Jupyter Lab is to use the markdown language which is a quick and easy way to write and format text. This introduction, and all subsequent courses, contain markdown. To edit a cell in markdown simply double click on the cell, or select it and press enter."
   ]
  },
  {
   "cell_type": "markdown",
   "metadata": {
    "tags": [
     "en"
    ]
   },
   "source": [
    "### How does Markdown work\n",
    "\n",
    "To display a title in markdown, place one \\# in front of it for the highest title. Then two \\#\\# for a second level title etc. Markdown has 6 levels of titles.\n",
    "\n",
    "You can also easily add links by placing text in square brackets, and then writing the link in parentheses (). \n",
    "\n",
    "[Here is an example of a link to a website (http://www.perdu.com)\n",
    "\n",
    "Lists can also be written as \"bullet points\":\n",
    "\n",
    "- Here a first element\n",
    "- And here a second one\n",
    "\n",
    "Double click on this cell to see the syntax of a markdown text! When you run the cell, the text is automatically formatted."
   ]
  },
  {
   "cell_type": "markdown",
   "metadata": {
    "tags": [
     "en"
    ]
   },
   "source": [
    "## Notebooks\n",
    "\n",
    "Notebooks, files with the extension **.ipynb**, are the files created by Jupyter Lab and Jupyter Notebook. They are hybrid files that allow you to do interactive programming by including Markdown. Notebooks break away from the often austere appearance of the tools used by developers, making programming more accessible and understandable to people who are not computer scientists.\n"
   ]
  },
  {
   "cell_type": "markdown",
   "metadata": {
    "tags": [
     "en"
    ]
   },
   "source": [
    "## Hello World!\n",
    "\n",
    "Earlier we mentioned this old tradition that when you learn a new language the first statement you execute should say \"Hello World! This is a way of learning how to use the text display function, but also to check that Python is correctly installed.\n",
    "\n",
    "Without further ado, let's enter the world of programming with this first statement:"
   ]
  },
  {
   "cell_type": "code",
   "execution_count": 1,
   "metadata": {},
   "outputs": [
    {
     "name": "stdout",
     "output_type": "stream",
     "text": [
      "Hello World!\n"
     ]
    }
   ],
   "source": [
    "print(\"Hello World!\")"
   ]
  },
  {
   "cell_type": "markdown",
   "metadata": {
    "tags": [
     "en"
    ]
   },
   "source": [
    "To run the command, go to the cell and press \"shift + enter\" (or click on the \"play\" icon at the top left). Below the cell you will see the result of your instruction. Here you have asked the computer to \"print\" a message, and the computer has complied with your wishes! Congratulations, you are now a programmer!"
   ]
  }
 ],
 "metadata": {
  "kernelspec": {
   "display_name": "Python 3 (ipykernel)",
   "language": "python",
   "name": "python3"
  },
  "language_info": {
   "codemirror_mode": {
    "name": "ipython",
    "version": 3
   },
   "file_extension": ".py",
   "mimetype": "text/x-python",
   "name": "python",
   "nbconvert_exporter": "python",
   "pygments_lexer": "ipython3",
   "version": "3.10.9"
  },
  "toc-autonumbering": true
 },
 "nbformat": 4,
 "nbformat_minor": 4
}
