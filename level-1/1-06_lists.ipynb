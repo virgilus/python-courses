{
 "cells": [
  {
   "cell_type": "markdown",
   "metadata": {
    "tags": [
     "en"
    ]
   },
   "source": [
    "# LISTS"
   ]
  },
  {
   "cell_type": "markdown",
   "metadata": {
    "tags": [
     "en"
    ]
   },
   "source": [
    "## What is a list in Python?\n",
    "\n",
    "Lists are special Python objects that can contain other objects. They are recognizable because the contents of these variables are enclosed in brackets `[ ]`. For example:\n",
    "\n",
    "```python\n",
    "my_list = [element1, element2, element3]\n",
    "```\n",
    "\n",
    "This list can contain different objects (strings, integers, variables, other lists...): \n",
    "\n",
    "```python\n",
    "my_variable = 12.34\n",
    "another_list = [1, 2, 3, \"sun\"]\n",
    "my_list = [\"This is a string\", 356, my_variable, one_other_list]\n",
    "```"
   ]
  },
  {
   "cell_type": "markdown",
   "metadata": {
    "tags": [
     "en"
    ]
   },
   "source": [
    "## Exercise (easy)\n",
    "\n",
    "In my basket there are : \n",
    "\n",
    "- Courgettes\n",
    "- My wallet which contains :\n",
    "    - 20€.\n",
    "    - The equivalent of 0.76 euro cents in change.\n",
    "\n",
    "Create a list called \"basket\" that contains these different objects.\n",
    "\n",
    "- For the courgettes, store them as strings.\n",
    "- For the wallet, create a new list variable called \"wallet\" which contains two elements: an *integer* of 20 and a *float* of 0.76."
   ]
  },
  {
   "cell_type": "code",
   "execution_count": null,
   "metadata": {},
   "outputs": [],
   "source": [
    "# Code here!\n"
   ]
  },
  {
   "cell_type": "markdown",
   "metadata": {
    "tags": [
     "en"
    ]
   },
   "source": [
    "# How do we use lists?\n",
    "\n",
    "## Index\n",
    "\n",
    "In a list each element is identified by an index. For Python the first element of a list corresponds to the index 0. This may sound strange, but this counting system has its advantages. If you want to know more, you can [read a post by Guido Van Rossum](http://python-history.blogspot.com/2013/10/why-python-uses-0-based-indexing.html), the creator of Python, who explains this choice.\n",
    "\n",
    "| Contents  | Index |\n",
    "|-----------|-------|\n",
    "| Element 1 | 0     |\n",
    "| Element 2 | 1     |\n",
    "| Element 3 | 2     |\n",
    "| ...       | ...   |\n",
    "| Element n | n-1   |\n",
    "\n",
    "\n",
    "## Manipulation using the index\n",
    "\n",
    "### Displaying an element\n",
    "\n",
    "To access an element in a list, simply indicate the index between `[]`.\n",
    "\n",
    "Example :"
   ]
  },
  {
   "cell_type": "code",
   "execution_count": null,
   "metadata": {
    "tags": [
     "en"
    ]
   },
   "outputs": [],
   "source": [
    "l = [\"My first element\", \"My second element\", 16.767, \"My fourth element\", True, \"My sixth element\"]\n",
    "print(l[0])"
   ]
  },
  {
   "cell_type": "markdown",
   "metadata": {
    "tags": [
     "en"
    ]
   },
   "source": [
    "### Modifying an element\n",
    "\n",
    "To replace one element with another, we use the same syntax as if we wanted to change the content of a variable:\n",
    "\n",
    "``python\n",
    "l[0] = my_new_element\n",
    "``"
   ]
  },
  {
   "cell_type": "markdown",
   "metadata": {
    "tags": [
     "en"
    ]
   },
   "source": [
    "## Exercise (easy)\n",
    "\n",
    "Using the method above, replace the exotic fruits with local fruits of your choice. Then display the contents of the basket."
   ]
  },
  {
   "cell_type": "code",
   "execution_count": null,
   "metadata": {
    "tags": [
     "en"
    ]
   },
   "outputs": [],
   "source": [
    "basket = [\"kiwi\", \"pear\", \"apple\", \"pineapple\", \"raspberry\"]\n",
    "\n",
    "# code here!\n"
   ]
  },
  {
   "cell_type": "markdown",
   "metadata": {
    "tags": [
     "en"
    ]
   },
   "source": [
    "## Adding an element\n",
    "\n",
    "This is done with the `.append()` method. Example:"
   ]
  },
  {
   "cell_type": "code",
   "execution_count": null,
   "metadata": {
    "tags": [
     "en"
    ]
   },
   "outputs": [],
   "source": [
    "basket = [\"pear\", \"apple\", \"raspberry\"]\n",
    "print(f\"Local fruits : {basket}\")\n",
    "\n",
    "basket.append(\"grape\")\n",
    "print(f\"Local fruits : {basket}\")"
   ]
  },
  {
   "cell_type": "markdown",
   "metadata": {
    "tags": [
     "en"
    ]
   },
   "source": [
    "## Adding an element to a specific index\n",
    "\n",
    "This is done using the `.insert()` method. For example:"
   ]
  },
  {
   "cell_type": "code",
   "execution_count": null,
   "metadata": {
    "tags": []
   },
   "outputs": [],
   "source": [
    "a = [\"A\", \"B\", \"D\"]\n",
    "a.insert(2, \"C\")\n",
    "a"
   ]
  },
  {
   "cell_type": "markdown",
   "metadata": {
    "tags": [
     "en"
    ]
   },
   "source": [
    "## Adding several elements\n",
    "\n",
    "This can be done in two different ways:\n",
    "    \n",
    "- By concatenating lists with the \"+\" operator"
   ]
  },
  {
   "cell_type": "code",
   "execution_count": null,
   "metadata": {
    "tags": []
   },
   "outputs": [],
   "source": [
    "nums = [1, 2, 3]\n",
    "nums + [\"A\", \"B\", \"C\"]"
   ]
  },
  {
   "cell_type": "markdown",
   "metadata": {
    "tags": [
     "en"
    ]
   },
   "source": [
    "- With the `.extend()` method which allows you to add the different of an iterable."
   ]
  },
  {
   "cell_type": "code",
   "execution_count": null,
   "metadata": {
    "tags": []
   },
   "outputs": [],
   "source": [
    "nums = [2, 4, 6]\n",
    "nums.extend([\"A\", \"B\", \"C\"])\n",
    "nums"
   ]
  },
  {
   "cell_type": "code",
   "execution_count": null,
   "metadata": {
    "tags": []
   },
   "outputs": [],
   "source": [
    "nums = [2, 4, 6]\n",
    "nums.extend(\"ABC\")\n",
    "nums"
   ]
  },
  {
   "cell_type": "markdown",
   "metadata": {
    "tags": [
     "en"
    ]
   },
   "source": [
    "## Exercise (easy)\n",
    "\n",
    "Perform the following operations in this order:\n",
    "\n",
    "1. Create an empty list named \"my_list\".\n",
    "1. Use the `.append()` method to add the element \"banana\".\n",
    "1. Concatenate the list with this one: `['False', 12]`.\n",
    "1. Display `False` by accessing it by its index.\n",
    "1. Display the contents of \"my_list\".\n",
    "1. Replace the word 'banana' with the word 'pear'.\n",
    "1. Replace `False` with `True`.\n",
    "1. Use the `.extend()` method to add the following elements: \"N\", \"O\", \"T\", \"H\", \"I\", \"N\", \"G\".\n",
    "1. Display the contents of \"my_list\".\n",
    "\n",
    "**TIP**:\n",
    "\n",
    "- An empty list is simply `[]`."
   ]
  },
  {
   "cell_type": "code",
   "execution_count": null,
   "metadata": {},
   "outputs": [],
   "source": [
    "# Code here!\n"
   ]
  },
  {
   "cell_type": "markdown",
   "metadata": {
    "tags": [
     "en"
    ]
   },
   "source": [
    "## Tuples\n",
    "\n",
    "### What is a tuple?\n",
    "\n",
    "A tuple is an ordered collection of element and is very similar to lists. For example a tuple is:\n",
    "\n",
    "- Ordered: Tuples maintain the order of elements, which means the elements are stored in a specific sequence and can be accessed using indexing.\n",
    "\n",
    "- Heterogeneous: Tuples can contain elements of different data types, including numbers, strings, other tuples, and more.\n",
    "\n",
    "But there is a big difference between a list and a tuple. A Tuple is:\n",
    "\n",
    "- Immutable: Once a tuple is created, you cannot change its elements. This immutability is in contrast to lists, which are mutable.\n",
    "\n",
    "To create a tuple, you enclose the different elements in parentheses. But quite often you don't even have to use parenthesis as long as it's unambiguous."
   ]
  },
  {
   "cell_type": "code",
   "execution_count": null,
   "metadata": {
    "tags": []
   },
   "outputs": [],
   "source": [
    "my_tuple = (3, \"hello\", [1, 2, 3])\n",
    "print(my_tuple)\n",
    "print(type(my_tuple))"
   ]
  },
  {
   "cell_type": "markdown",
   "metadata": {
    "tags": [
     "en"
    ]
   },
   "source": [
    "You can do the same thing without using parenthesis :"
   ]
  },
  {
   "cell_type": "code",
   "execution_count": null,
   "metadata": {
    "id": "1uqGs1hBH5BB",
    "tags": []
   },
   "outputs": [],
   "source": [
    "my_tuple = 3, \"hello\", [1, 2, 3]\n",
    "print(my_tuple)\n",
    "print(type(my_tuple))"
   ]
  },
  {
   "cell_type": "markdown",
   "metadata": {
    "tags": [
     "en"
    ]
   },
   "source": [
    "Tuples are immutable, you can't modify them once they are created."
   ]
  },
  {
   "cell_type": "code",
   "execution_count": null,
   "metadata": {
    "tags": []
   },
   "outputs": [],
   "source": [
    "my_tuple = 3, \"hello\", [1, 2, 3]\n",
    "#my_tuple[0] = 12 # TypeError: 'tuple' object does not support item assignment\n",
    "#my_tuple.append(12) # AttributeError: 'tuple' object has no attribute 'append'"
   ]
  }
 ],
 "metadata": {
  "kernelspec": {
   "display_name": "Python 3 (ipykernel)",
   "language": "python",
   "name": "python3"
  },
  "language_info": {
   "codemirror_mode": {
    "name": "ipython",
    "version": 3
   },
   "file_extension": ".py",
   "mimetype": "text/x-python",
   "name": "python",
   "nbconvert_exporter": "python",
   "pygments_lexer": "ipython3",
   "version": "3.10.9"
  }
 },
 "nbformat": 4,
 "nbformat_minor": 4
}
