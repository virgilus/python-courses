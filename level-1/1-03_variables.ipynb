{
 "cells": [
  {
   "cell_type": "markdown",
   "metadata": {},
   "source": [
    "# VARIABLES"
   ]
  },
  {
   "cell_type": "markdown",
   "metadata": {
    "tags": [
     "en"
    ]
   },
   "source": [
    "# Definition\n",
    "\n",
    "The concept of a variable is central since one of the main functions of a computer is to perform the same operations on different data.\n",
    "\n",
    "Let's start with a simple definition: a variable is an area of the computer's RAM where we can store whatever we want! A variable is like a drawer in a cabinet where we can choose what to store in it. Let's try it with numbers for a start. To declare a variable in Python, you just write the name of the variable and then use ``=``. Putting a value into a variable what we called an \"assignment\". Example:"
   ]
  },
  {
   "cell_type": "code",
   "execution_count": null,
   "metadata": {
    "tags": [
     "en"
    ]
   },
   "outputs": [],
   "source": [
    "my_variable = 12"
   ]
  },
  {
   "cell_type": "code",
   "execution_count": null,
   "metadata": {
    "tags": [
     "en"
    ]
   },
   "outputs": [],
   "source": [
    "I_can_name_my_variable_how_I_want = 148894978"
   ]
  },
  {
   "cell_type": "markdown",
   "metadata": {
    "tags": [
     "en"
    ]
   },
   "source": [
    "In Python, the variable name is subject to some limitations:\n",
    "\n",
    "- Only letters** (upper or lower case) or **numbers** (but you can't start with a number).\n",
    "- No special characters** (**except \"_\"** which is called _underscore_, or \"underscore\")\n",
    "- No names already used by python**. Here is a list of the main forbidden words, also called \"reserved\" words. Note that these are displayed in green when typed into a cell in jupyter lab :\n",
    "\n",
    "``del``, ``from``, ``None``, ``True``, ``as``, ``elif``, ``global``, ``nonlocal``, ``try``, ``assert``, ``else``, ``if``, ``not``, ``while``, ``break``, ``except``, ``import``, ``or``, ``with``, ``class``, ``True``, ``False``, ``in``, ``pass``, ``yield``, ``continue``, ``finally``, ``is``, ``raise``, ``def``, ``for``, ``lambda``, ``return``, ``str``, ``int``, ``float``, ``bool``"
   ]
  },
  {
   "cell_type": "markdown",
   "metadata": {
    "tags": [
     "en"
    ]
   },
   "source": [
    "<img src='files/tab.jpg' alt='tab' width='200' align=\"left\"/> **Auto-completion:**\n",
    "\n",
    "If we type the beginning of a \"my_variable\" and then use the **tab** key. Jupyter Lab will suggest or complete the variable name. Try this on the following line. Type the characters \"my_\" and press the \"tab\" key: Jupyter Lab will automatically suggest your variable name.\n",
    "\n",
    "\n",
    "(If the auto-completion does not work, it may be because you have not run the cell that defines these variable names)."
   ]
  },
  {
   "cell_type": "code",
   "execution_count": null,
   "metadata": {
    "tags": []
   },
   "outputs": [],
   "source": []
  },
  {
   "cell_type": "markdown",
   "metadata": {
    "tags": [
     "en"
    ]
   },
   "source": [
    "# Manipulation of variables containing numbers"
   ]
  },
  {
   "cell_type": "markdown",
   "metadata": {
    "tags": [
     "en"
    ]
   },
   "source": [
    "## Modification of a variable\n",
    "\n",
    "At the moment our variable named \"my_variable\" contains the number \"12\". Let's try to perform some operations with this content. For example, let's try to do the following:"
   ]
  },
  {
   "cell_type": "code",
   "execution_count": null,
   "metadata": {
    "tags": []
   },
   "outputs": [],
   "source": [
    "my_variable = 12"
   ]
  },
  {
   "cell_type": "code",
   "execution_count": null,
   "metadata": {
    "tags": []
   },
   "outputs": [],
   "source": [
    "my_variable + 2"
   ]
  },
  {
   "cell_type": "code",
   "execution_count": null,
   "metadata": {
    "tags": []
   },
   "outputs": [],
   "source": [
    "my_variable / 4"
   ]
  },
  {
   "cell_type": "code",
   "execution_count": null,
   "metadata": {
    "tags": []
   },
   "outputs": [],
   "source": [
    "my_variable * my_variable"
   ]
  },
  {
   "cell_type": "code",
   "execution_count": null,
   "metadata": {
    "tags": []
   },
   "outputs": [],
   "source": [
    "my_variable"
   ]
  },
  {
   "cell_type": "markdown",
   "metadata": {
    "tags": [
     "en"
    ]
   },
   "source": [
    "All these operations have not changed the initial value of my variable. It always remains at 12. On the other hand, if we type :"
   ]
  },
  {
   "cell_type": "code",
   "execution_count": null,
   "metadata": {
    "tags": []
   },
   "outputs": [],
   "source": [
    "my_variable = my_variable * 2"
   ]
  },
  {
   "cell_type": "code",
   "execution_count": null,
   "metadata": {
    "tags": []
   },
   "outputs": [],
   "source": [
    "my_variable"
   ]
  },
  {
   "cell_type": "markdown",
   "metadata": {
    "tags": [
     "en"
    ]
   },
   "source": [
    "Here we have changed the value of the variable. Previously our variable contained \"12\", now it contains \"24\". We also say that we have assigned a new value to it."
   ]
  },
  {
   "cell_type": "markdown",
   "metadata": {
    "tags": [
     "en"
    ]
   },
   "source": [
    "## Exercise (easy)\n",
    "\n",
    "Create a variable called \"year\" (without quotes) and assign your year of birth to it. Then calculate how old you will be in the year 2034 by subtracting the variable you created from 2034."
   ]
  },
  {
   "cell_type": "code",
   "execution_count": null,
   "metadata": {},
   "outputs": [],
   "source": [
    "# Code here!\n"
   ]
  },
  {
   "cell_type": "markdown",
   "metadata": {
    "tags": [
     "en"
    ]
   },
   "source": [
    "> **Notes :**\n",
    "\n",
    "> In Python, variable names are always in lower case by convention.\n",
    "> The spaces before and after the \"=\" sign are also there by convention, they allow the code to be more readable. \n",
    "> The first time we assign a value to a variable we talk about \"initialization\" since this operation creates the variable and assigns a value to it. Then, if we modify its value, it is just an \"assignment\"."
   ]
  },
  {
   "cell_type": "markdown",
   "metadata": {
    "tags": [
     "en"
    ]
   },
   "source": [
    "# Different types of variable"
   ]
  },
  {
   "cell_type": "markdown",
   "metadata": {
    "tags": [
     "en"
    ]
   },
   "source": [
    "## Introduction\n",
    "\n",
    "So far the variables we have used have only contained numbers. But a variable can contain different \"data types\". Try instinctively to find the difference between the following two variables:"
   ]
  },
  {
   "cell_type": "code",
   "execution_count": null,
   "metadata": {
    "tags": []
   },
   "outputs": [],
   "source": [
    "variable_1 = 123\n",
    "variable_2 = \"123\""
   ]
  },
  {
   "cell_type": "markdown",
   "metadata": {
    "tags": [
     "en"
    ]
   },
   "source": [
    "What happens if we multiply our two variables by 3?"
   ]
  },
  {
   "cell_type": "code",
   "execution_count": null,
   "metadata": {
    "tags": []
   },
   "outputs": [],
   "source": [
    "variable_1 * 3"
   ]
  },
  {
   "cell_type": "code",
   "execution_count": null,
   "metadata": {
    "tags": []
   },
   "outputs": [],
   "source": [
    "variable_2 * 3"
   ]
  },
  {
   "cell_type": "markdown",
   "metadata": {
    "tags": [
     "en"
    ]
   },
   "source": [
    "You guessed it, variable_1 contains **a number** while variable 2 contains **text**. Instead of the word \"text\", we prefer to call this a **string**.\n",
    "\n",
    "> **Note** :\n",
    "\n",
    "> - In Python when you multiply a string by an integer the string is repeated.\n",
    "> Ex: 3 times \"Z\" is equal to \"ZZZ\"."
   ]
  },
  {
   "cell_type": "markdown",
   "metadata": {
    "tags": [
     "en"
    ]
   },
   "source": [
    "## The different types of variables\n",
    "\n",
    "Variables store different types of values. Let's have a look at some of them."
   ]
  },
  {
   "cell_type": "markdown",
   "metadata": {
    "tags": [
     "en"
    ]
   },
   "source": [
    "### Integers\n",
    "\n",
    "Numbers that have no decimal places after the decimal point are called \"integers\" (\"int\"). Example:\n",
    "\n",
    "```python\n",
    "-45\n",
    "\n",
    "12\n",
    "\n",
    "54645\n",
    "\n",
    "-45645456 \n",
    "```"
   ]
  },
  {
   "cell_type": "markdown",
   "metadata": {
    "tags": [
     "en"
    ]
   },
   "source": [
    "### Floats\n",
    "\n",
    "Numbers with one or more decimal places after the decimal point are called \"floats\". Example:\n",
    "\n",
    "```python\n",
    "-45.56\n",
    "\n",
    "12.1\n",
    "\n",
    "548.56\n",
    "\n",
    "-416974562.14568941346759314619 \n",
    "```"
   ]
  },
  {
   "cell_type": "markdown",
   "metadata": {
    "tags": [
     "en"
    ]
   },
   "source": [
    "### Strings\n",
    "\n",
    "As seen previously, variables that contain text are called \"string\" (\"str\"). The text is always enclosed in simple quotes or double quotes so as not to confuse them with numbers. For example:\n",
    "\n",
    "```python\n",
    "\"This is a string.\"\n",
    "\n",
    "\"This is my email: bla.blabla@blabla.bla\"\n",
    "\n",
    "\"6 * 7 = 42\"\n",
    "```\n",
    "\n",
    "or :\n",
    "\n",
    "```python\n",
    "'This is a string.'\n",
    "\n",
    "'This is my email: bla.blabla@blabla.bla'\n",
    "\n",
    "'6 * 7 = 42'\n",
    "```\n",
    "\n",
    "Using simple quotes and double quotes can help in specific cases:\n",
    "\n",
    "```python\n",
    "\"What's your name?\"\n",
    "\n",
    "'The word bizarre is \"bizarre\", right?'\n",
    "```"
   ]
  },
  {
   "cell_type": "markdown",
   "metadata": {
    "tags": [
     "en"
    ]
   },
   "source": [
    "## Exercise (easy)\n",
    "\n",
    "Write a program that **multiplies two variables together** and returns the following result:\n",
    "\n",
    "```python\n",
    "'I know a song that will get on your nerves! I know a song that will get on your nerves! I know a song that will get on your nerves! I know a song that will get on your nerves! I know a song that will get on your nerves! I know a song that will get on your nerves! I know a song that will get on your nerves! I know a song that will get on your nerves! I know a song that will get on your nerves! I know a song that will get on your nerves! I know a song that will get on your nerves! I know a song that will get on your nerves! I know a song that will get on your nerves! I know a song that will get on your nerves! I know a song that will get on your nerves! '\n",
    "```\n",
    "\n",
    "**Tips:**\n",
    "- Don't waste time counting: the same sentence is repeated 15 times.\n",
    "- You can name the two variables you are going to create whatever you want.\n",
    "- The program requires 3 lines of code in total.\n",
    "- You can, of course, multiply the sentence by 15, but the aim of the exercise is to multiply two variables with each other."
   ]
  },
  {
   "cell_type": "code",
   "execution_count": null,
   "metadata": {},
   "outputs": [],
   "source": [
    "# Code here!\n"
   ]
  },
  {
   "cell_type": "code",
   "execution_count": null,
   "metadata": {
    "tags": [
     "solution",
     "en"
    ]
   },
   "outputs": [],
   "source": [
    "# Solution\n",
    "\n",
    "a = \"I know a song that will get on your nerves! \"\n",
    "b = 15\n",
    "a * b"
   ]
  },
  {
   "cell_type": "markdown",
   "metadata": {
    "tags": [
     "en"
    ]
   },
   "source": [
    "# New useful functions\n",
    "\n",
    "## What's new about the `print()` function\n",
    "\n",
    "### Multiple arguments\n",
    "\n",
    "To simplify, you could say that the jupyter lab interpreter only shows you the last result of your program. But by using the `print()` function it is possible to display as many rows as you want while executing only one cell.\n",
    "\n",
    "Throughout this course the `print()` function will be your best friend! It allows you to display final and intermediate results and is very useful for debugging a program.\n",
    "\n",
    "In programming, as in mathematics, an argument is the data that will be processed by a function. When you write:"
   ]
  },
  {
   "cell_type": "code",
   "execution_count": null,
   "metadata": {
    "tags": [
     "en"
    ]
   },
   "outputs": [],
   "source": [
    "print(\"a text\")"
   ]
  },
  {
   "cell_type": "markdown",
   "metadata": {
    "tags": [
     "en"
    ]
   },
   "source": [
    "The function is ``print()`` and the argument is ``text'', which in this case is a string."
   ]
  },
  {
   "cell_type": "code",
   "execution_count": null,
   "metadata": {
    "tags": [
     "en"
    ]
   },
   "outputs": [],
   "source": [
    "a_variable = \"another text\"\n",
    "print(a_variable)"
   ]
  },
  {
   "cell_type": "markdown",
   "metadata": {
    "tags": [
     "en"
    ]
   },
   "source": [
    "Here the function is still `print()` but the argument this time is \"a_variable\", which is a variable that contains the text \"another text\".\n",
    "\n",
    "So far we have only used the `print()` function with one argument, but it can take more than one. To do this, simply separate them with a comma. Example:"
   ]
  },
  {
   "cell_type": "code",
   "execution_count": null,
   "metadata": {
    "tags": [
     "en"
    ]
   },
   "outputs": [],
   "source": [
    "vegetable = \"courgette\"\n",
    "price = 3.50\n",
    "weight = 1.5 # kg\n",
    "\n",
    "print(\"Total price for\", weight, \"kg of\", vegetable, \"is \", price * weight, \"€ !\")"
   ]
  },
  {
   "cell_type": "markdown",
   "metadata": {
    "tags": [
     "en"
    ]
   },
   "source": [
    "### f-strings\n",
    "\n",
    "However, as it is important to get into good habits from the start, the most readable and effective method is to use \"f-strings\", which is another method for inserting the contents of variables into text.\n",
    "\n",
    "This is done by adding an \"f\" (short for \"formatter\") after the first parenthesis of the ``print``, then placing the code between the curly brackets \"{\" and \"}\". Example:"
   ]
  },
  {
   "cell_type": "code",
   "execution_count": null,
   "metadata": {
    "tags": [
     "en"
    ]
   },
   "outputs": [],
   "source": [
    "vegetable = \"courget\"\n",
    "price = 3.50\n",
    "weight = 1.5 # kg\n",
    "\n",
    "print(f\"Total price for {weight} kg of {vegetable} is {price * weight} € !\")"
   ]
  },
  {
   "cell_type": "markdown",
   "metadata": {
    "tags": [
     "en"
    ]
   },
   "source": [
    "## The _``type()``_ function\n",
    "\n",
    "### General idea\n",
    "\n",
    "This function allows you to know what type a variable is. For example :"
   ]
  },
  {
   "cell_type": "code",
   "execution_count": null,
   "metadata": {
    "tags": []
   },
   "outputs": [],
   "source": [
    "variable_1 = 12\n",
    "print(type(variable_1))"
   ]
  },
  {
   "cell_type": "markdown",
   "metadata": {
    "tags": [
     "en"
    ]
   },
   "source": [
    "For now, let's consider the word _\"class\"_ as equivalent to \"type\". The **'int'**, short for *integer*, means that this variable is an integer."
   ]
  },
  {
   "cell_type": "code",
   "execution_count": null,
   "metadata": {
    "tags": []
   },
   "outputs": [],
   "source": [
    "variable_2 = \"12\"\n",
    "print(type(variable_2))"
   ]
  },
  {
   "cell_type": "markdown",
   "metadata": {
    "tags": [
     "en"
    ]
   },
   "source": [
    "The **'str'**, short for *string*, means that this variable is a string."
   ]
  },
  {
   "cell_type": "markdown",
   "metadata": {
    "tags": [
     "en"
    ]
   },
   "source": [
    "### Exercise (easy)\n",
    "\n",
    "Using the two cells above as a guide, complete the cell below as follows:\n",
    "- Create a new variable called \"variable_3\" and give it a floating-point value.\n",
    "- Display its type, which must be _float_."
   ]
  },
  {
   "cell_type": "code",
   "execution_count": null,
   "metadata": {
    "tags": []
   },
   "outputs": [],
   "source": [
    "# Code here!\n"
   ]
  },
  {
   "cell_type": "code",
   "execution_count": null,
   "metadata": {
    "tags": [
     "solution"
    ]
   },
   "outputs": [],
   "source": [
    "# Solution\n",
    "\n",
    "variable_3 = 12.12\n",
    "print(type(variable_3))"
   ]
  },
  {
   "cell_type": "markdown",
   "metadata": {
    "tags": [
     "en"
    ]
   },
   "source": [
    "## Changing the Type of a Variable\n",
    "\n",
    "Python is an intelligent language that defines the type of the variable according to the value you assign to it. But nothing prevents you from changing the type of this variable afterwards. To do so, you simply assign a value corresponding to another type."
   ]
  },
  {
   "cell_type": "code",
   "execution_count": null,
   "metadata": {
    "tags": [
     "en"
    ]
   },
   "outputs": [],
   "source": [
    "x = 45.2513\n",
    "print(f\"The type of x is {type(x)} because its value is {x}\")"
   ]
  },
  {
   "cell_type": "code",
   "execution_count": null,
   "metadata": {
    "tags": [
     "en"
    ]
   },
   "outputs": [],
   "source": [
    "x = 2020\n",
    "print(f\"The type of x is {type(x)} because its value is {x}\")"
   ]
  },
  {
   "cell_type": "code",
   "execution_count": null,
   "metadata": {
    "tags": [
     "en"
    ]
   },
   "outputs": [],
   "source": [
    "x = 'potatoes'\n",
    "print(f\"The type of x is {type(x)} because its value is {x}\")"
   ]
  },
  {
   "cell_type": "markdown",
   "metadata": {
    "tags": [
     "en"
    ]
   },
   "source": [
    "## Adding strings together\n",
    "\n",
    "We have seen that a string multiplied by an integer repeats the string. But what happens if we add them together?"
   ]
  },
  {
   "cell_type": "code",
   "execution_count": null,
   "metadata": {
    "tags": []
   },
   "outputs": [],
   "source": [
    "string_1 = \"Hello,\"\n",
    "string_2 = \" world!\"\n",
    "\n",
    "print(string_1 + string_2)"
   ]
  },
  {
   "cell_type": "markdown",
   "metadata": {
    "tags": [
     "en"
    ]
   },
   "source": [
    "The two strings are said to be **concatenated**."
   ]
  },
  {
   "cell_type": "markdown",
   "metadata": {
    "tags": [
     "en"
    ]
   },
   "source": [
    "## Exercise (easy)\n",
    "\n",
    "Use the ``print()`` function to write the word \"zoo\" from the variables provided in the next cell. You must use **addition and multiplication** and use the existing variables."
   ]
  },
  {
   "cell_type": "code",
   "execution_count": null,
   "metadata": {
    "tags": [
     "en"
    ]
   },
   "outputs": [],
   "source": [
    "a = \"z\"\n",
    "b = \"o\"\n",
    "\n",
    "# Code here!"
   ]
  },
  {
   "cell_type": "code",
   "execution_count": null,
   "metadata": {
    "tags": [
     "solution"
    ]
   },
   "outputs": [],
   "source": [
    "# Solution\n",
    "\n",
    "a + b * 2"
   ]
  }
 ],
 "metadata": {
  "kernelspec": {
   "display_name": "Python 3 (ipykernel)",
   "language": "python",
   "name": "python3"
  },
  "language_info": {
   "codemirror_mode": {
    "name": "ipython",
    "version": 3
   },
   "file_extension": ".py",
   "mimetype": "text/x-python",
   "name": "python",
   "nbconvert_exporter": "python",
   "pygments_lexer": "ipython3",
   "version": "3.10.9"
  },
  "toc-showtags": false
 },
 "nbformat": 4,
 "nbformat_minor": 4
}
