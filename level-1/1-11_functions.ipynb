{
 "cells": [
  {
   "cell_type": "markdown",
   "metadata": {
    "tags": [
     "en"
    ]
   },
   "source": [
    "# FUNCTIONS\n",
    "\n",
    "We have already used many different functions so far. However, in programming it is common to create your own functions that will be perfectly adapted to your needs. Python allows you to do this very easily in just a few lines!\n",
    "\n",
    "## Syntax\n",
    "\n",
    "To do this we use the following syntax, which is very similar to that of loops or tests:\n",
    "\n",
    "- First, write the keyword `def` to make Python understand that the following will be a function.\n",
    "- Then type name you want to give to your function.\n",
    "- Add parentheses between which you can indicate arguments.\n",
    "- Add the sign `:` to specify that the sequence will be the content of the function.\n",
    "- At any time during the function we can tell it that we want it to return a value using the `return` statement. But this is not mandatory."
   ]
  },
  {
   "cell_type": "code",
   "execution_count": null,
   "metadata": {
    "tags": []
   },
   "outputs": [],
   "source": [
    "def my_first_function():\n",
    "    return \"First function!\""
   ]
  },
  {
   "cell_type": "markdown",
   "metadata": {
    "tags": [
     "en"
    ]
   },
   "source": [
    "## Execution\n",
    "\n",
    "Nothing happens when you run the cell? This is normal, your function is now **defined**, it exists somewhere in Python's memory. To execute it, you just have to call it like any other function."
   ]
  },
  {
   "cell_type": "code",
   "execution_count": null,
   "metadata": {
    "tags": []
   },
   "outputs": [],
   "source": [
    "my_first_function()"
   ]
  },
  {
   "cell_type": "markdown",
   "metadata": {
    "tags": [
     "en"
    ]
   },
   "source": [
    "## Parameters\n",
    "\n",
    "When defining a function you can define parameters by indicating the names of variables inside the parenthesis. The following function, which returns the square of a number, has one parameter: \"x\".\n",
    "\n",
    "```python\n",
    "def square(x):\n",
    "    return x * x\n",
    "```\n",
    "\n",
    "## Arguments\n",
    "\n",
    "Let's run the function with the parameter \"x\" set to 2:\n",
    "\n",
    "```python\n",
    "square(2)\n",
    "```\n",
    "Here the number 2 is the argument given to the function. The argument will pass the value to the function's parameter.\n",
    "Let's test this function by giving it different arguments."
   ]
  },
  {
   "cell_type": "code",
   "execution_count": null,
   "metadata": {},
   "outputs": [],
   "source": [
    "def square(x):\n",
    "    return x * x\n",
    "\n",
    "print(square(2))\n",
    "print(square(7))\n",
    "print(square(9))"
   ]
  },
  {
   "cell_type": "markdown",
   "metadata": {
    "tags": [
     "en"
    ]
   },
   "source": [
    "When we **call** (execute) the function, we pass the desired value as input. This value then takes the place of \"x\" in our function. But notice that we could have written this and obtained exactly the same results:"
   ]
  },
  {
   "cell_type": "code",
   "execution_count": null,
   "metadata": {},
   "outputs": [],
   "source": [
    "def square(blablabla):\n",
    "    return blablabla * blablabla\n",
    "\n",
    "print(square(2))\n",
    "print(square(7))\n",
    "print(square(9))\n",
    "\n",
    "# We can also use a variable as argument\n",
    "n = 49\n",
    "print(square(n))"
   ]
  },
  {
   "cell_type": "markdown",
   "metadata": {
    "tags": [
     "en"
    ]
   },
   "source": [
    "## The `return` statement\n",
    "\n",
    "The vast majority of functions have one or more `return` statements. This statement manages the output parameters, so it indicates what the function returns, what our function \"transforms\" into. After executing a `return` the function automatically terminates without executing the other lines of code.\n",
    "\n",
    "In the following example the function returns the square of a number if given a negative integer. If the number is between 0 and 100 inclusive it returns the value of the number plus 10.\n",
    "\n",
    "Otherwise it returns nothing which is a special object in Python called `None`."
   ]
  },
  {
   "cell_type": "code",
   "execution_count": null,
   "metadata": {
    "tags": []
   },
   "outputs": [],
   "source": [
    "def square_or_plus_ten(x):\n",
    "    if x < 0: return x ** 2\n",
    "    elif x <= 100: return x + 10"
   ]
  },
  {
   "cell_type": "code",
   "execution_count": null,
   "metadata": {
    "tags": []
   },
   "outputs": [],
   "source": [
    "square_or_plus_ten(-4)"
   ]
  },
  {
   "cell_type": "code",
   "execution_count": null,
   "metadata": {
    "tags": []
   },
   "outputs": [],
   "source": [
    "square_or_plus_ten(50)"
   ]
  },
  {
   "cell_type": "code",
   "execution_count": null,
   "metadata": {
    "tags": []
   },
   "outputs": [],
   "source": [
    "square_or_plus_ten(400)"
   ]
  },
  {
   "cell_type": "markdown",
   "metadata": {
    "tags": [
     "en"
    ]
   },
   "source": [
    "## Default Arguments\n",
    "\n",
    "If the user does not specify any arguments, the default value of the parameter can be set using the `=` sign. Ex:"
   ]
  },
  {
   "cell_type": "code",
   "execution_count": null,
   "metadata": {
    "tags": []
   },
   "outputs": [],
   "source": [
    "def multiply_by_10(x=10):\n",
    "    return x * 10\n",
    "\n",
    "print(multiply_by_10())\n",
    "print(multiply_by_10(5))\n",
    "print(multiply_by_10(23))\n",
    "print(multiply_by_10())"
   ]
  },
  {
   "cell_type": "markdown",
   "metadata": {
    "tags": [
     "en"
    ]
   },
   "source": [
    "## Multiple parameters\n",
    "\n",
    "You can give different parameters to a function by separating them with a comma. For example the following function returns different numbers multiplied by each other:"
   ]
  },
  {
   "cell_type": "code",
   "execution_count": null,
   "metadata": {},
   "outputs": [],
   "source": [
    "def mult(a, b, c):\n",
    "    return a * b * c\n",
    "\n",
    "mult(3, 4, 5)"
   ]
  },
  {
   "cell_type": "markdown",
   "metadata": {
    "tags": [
     "en"
    ]
   },
   "source": [
    "## Named Arguments\n",
    "\n",
    "Named arguments, also known as *keyword* arguments, are used to set default values to specific parameters.\n",
    "\n",
    "**Note**: By convention, whitespace are not used on either side of the equal operator (`=`) in the definition of a function or when calling it."
   ]
  },
  {
   "cell_type": "code",
   "execution_count": null,
   "metadata": {
    "tags": []
   },
   "outputs": [],
   "source": [
    "def birthday(name, birthdate, punctuation=\" !!!\"):\n",
    "    return name + \" was born on the \" + birthdate + punctuation\n",
    "\n",
    "birthday(birthdate=\"24th of March\", name='Bob')"
   ]
  },
  {
   "cell_type": "markdown",
   "metadata": {
    "tags": [
     "en"
    ]
   },
   "source": [
    "## Global and local scope of variables\n",
    "\n",
    "The scope of a variable determines whether a function has access to that variable or not.\n",
    "All variables created in the main body of the script are said to be \"global\" and can be used by all functions.\n",
    "\n",
    "A \"local\" variable is a variable created inside a function. It is automatically destroyed when the function terminates."
   ]
  },
  {
   "cell_type": "code",
   "execution_count": null,
   "metadata": {
    "tags": []
   },
   "outputs": [],
   "source": [
    "global_variable = \"aaa\"\n",
    "\n",
    "def test():\n",
    "    \n",
    "    local_variable = \"bbb\"\n",
    "    return global_variable + local_variable\n",
    "\n",
    "test()\n",
    "# Next line will yield an error :\n",
    "# print(local_variable)"
   ]
  },
  {
   "cell_type": "markdown",
   "metadata": {
    "tags": [
     "en"
    ]
   },
   "source": [
    "### Exercise (easy)\n",
    "\n",
    "Write a function called `convert()` that converts degrees Celsius to degrees Fahrenheit or degrees Celsius to degrees Fahrenheit. It takes two arguments as input:\n",
    "\n",
    "- A value (int or float).\n",
    "- The unit of this value, is it a degree celsius or fahrenheit? You can use the letters \"C\" or \"F\" to designate each unit.\n",
    "\n",
    "The program then returns the value converted to the unit where it is not.\n",
    "\n",
    "As a reminder:\n",
    "\n",
    "- Fahrenheit temperature = (Celsius temperature x 9/5) + 32\n",
    "\n",
    "- Celsius temperature = (Fahrenheit temperature - 32) × 5/9"
   ]
  },
  {
   "cell_type": "code",
   "execution_count": null,
   "metadata": {},
   "outputs": [],
   "source": [
    "# Code here!\n",
    "\n"
   ]
  },
  {
   "cell_type": "markdown",
   "metadata": {
    "tags": [
     "en"
    ]
   },
   "source": [
    "## Exercises : guidelines\n",
    "\n",
    "For the following series of exercises do not write error messages. Keep it simple, you will only need one argument and one or two `return` statements to solve each of these problems."
   ]
  },
  {
   "cell_type": "markdown",
   "metadata": {
    "tags": [
     "en"
    ]
   },
   "source": [
    "## Exercise - `Max()` (medium)\n",
    "\n",
    "The `max()` function returns the highest value of certain objects, such as lists. For example :"
   ]
  },
  {
   "cell_type": "code",
   "execution_count": null,
   "metadata": {
    "tags": []
   },
   "outputs": [],
   "source": [
    "seq = [5, 8, 1, 6, 9, 12]\n",
    "max(seq)"
   ]
  },
  {
   "cell_type": "markdown",
   "metadata": {
    "tags": [
     "en"
    ]
   },
   "source": [
    "Reprogram it using tests and loops. Name it `max2()`."
   ]
  },
  {
   "cell_type": "code",
   "execution_count": null,
   "metadata": {},
   "outputs": [],
   "source": [
    "def max2(seq):\n",
    "    \n",
    "    pass # delete the pass instructions and code here!\n",
    "\n",
    "    #return"
   ]
  },
  {
   "cell_type": "code",
   "execution_count": null,
   "metadata": {},
   "outputs": [],
   "source": [
    "# Use this cell to check if your function works\n",
    "\n",
    "nombres = [5,8,1,6,9,12]\n",
    "if max(nombres) == max2(nombres): print(\"Bravo !\")"
   ]
  },
  {
   "cell_type": "markdown",
   "metadata": {
    "tags": [
     "en"
    ]
   },
   "source": [
    "## Exercise (Medium) - `.isdigit()`\n",
    "\n",
    "Remember the `.isdigit()` method? This method is used to find out if a string contains only digits. Create a function named `isdigit2()` that does the same thing.\n",
    "\n",
    "**TIPS**:\n",
    "\n",
    "- Your function must return `True` or `False`.\n",
    "- A function can have several `return`, but as soon as it executes one it stops immediately. Use this behaviour to your advantage!\n",
    "- You can use the `not` operator to shorten your code."
   ]
  },
  {
   "cell_type": "code",
   "execution_count": null,
   "metadata": {},
   "outputs": [],
   "source": [
    "def isdigit2(text):\n",
    "    \n",
    "    digits = '0123456789'\n",
    "        \n",
    "    # return"
   ]
  },
  {
   "cell_type": "code",
   "execution_count": null,
   "metadata": {},
   "outputs": [],
   "source": [
    "if isdigit2(\"5364\") == \"5364\".isdigit(): print(\"Bravo !\")\n",
    "if isdigit2(\"5A364a\") == \"5A364a\".isdigit(): print(\"Bravo !\") "
   ]
  },
  {
   "cell_type": "markdown",
   "metadata": {
    "tags": [
     "en"
    ]
   },
   "source": [
    "## Exercise - Median (medium / hard)\n",
    "\n",
    "Create a function named `med()` that calculates the median of a sequence of integers stored in a list.\n",
    "\n",
    "**REMINDER:**\n",
    "\n",
    "The median of a distribution is a value x that splits the set of values into two equal parts: putting one half of the values, which are all less than or equal to x, on one side and the other half of the values, which are all greater than or equal to x, on the other side.\n",
    "\n",
    "If the number of values in the distribution is even, the median is the average of the two central values.\n",
    "\n",
    "**TIPS**\n",
    "\n",
    "- You can give a list as an argument to the `sorted()` function to sort it in ascending order.\n",
    "- Converting a `float` to `int` takes only the integer part of a number. For example `8.5` converted to an integer then becomes `8`. This can be useful if the integer is to be used as an index to a list.\n",
    "- There are two cases: either the number of elements in the sequence is even, or it is odd."
   ]
  },
  {
   "cell_type": "code",
   "execution_count": null,
   "metadata": {},
   "outputs": [],
   "source": [
    "def med(seq):\n",
    "    \n",
    "    pass # delete the pass instruction and code here!\n",
    "    # return"
   ]
  },
  {
   "cell_type": "code",
   "execution_count": null,
   "metadata": {
    "tags": []
   },
   "outputs": [],
   "source": [
    "# Use this cell to check if your function works\n",
    "import numpy as np\n",
    "\n",
    "a = [172.67,3,78,-67, 8900, 8, 19, 9, 89]\n",
    "\n",
    "print(f\"Result with med(): {med(a)}\")\n",
    "print(f\"Result with numpy.median(): {np.median(a)}\")\n",
    "if med(a) == np.median(a) : print (\"Bravo !\")\n",
    "else: print(\":(\")"
   ]
  },
  {
   "cell_type": "markdown",
   "metadata": {
    "tags": [
     "en"
    ]
   },
   "source": [
    "## Exercise - Mode (difficult)\n",
    "\n",
    "The modal value is the most present value in a distribution. Take for example the following sequence: `[2, 3, 3, 5, -1, 3, 12, 3]`.\n",
    "\n",
    "Its modal value is \"3\", because it occurs 4 times. This number, 4, is also called \"frequency of the modal value\".\n",
    "\n",
    "A distribution can have several modes since there can be equality between the most present values. For example the sequence `[17, 34, 34, 42, 42]` has two modal values: 34 and 42 (and the frequency of these two modal values is 2).\n",
    "\n",
    "**Without using `max()` or `count()` functions**, write a function named `mode()` that returns the modal value(s) with the frequency. The function must therefore return two objects: a list containing the modal value(s) and a number corresponding to the frequency of that value(s). Example:\n",
    "\n",
    "```python\n",
    "mode([2, 3, 19, 2, 1, 0, -7, 2])\n",
    ">>> ([2], 3)\n",
    "```\n",
    "```python\n",
    "mode([7, 8, 9, 8, 9])\n",
    ">>> ([8, 9], 2)\n",
    "```\n",
    "**TIPS**\n",
    "\n",
    "- Using a dictionary is a good idea.\n",
    "- One of the solutions to this exercise may involve manipulating infinite numbers, in which case you can use `float('inf')` or `float('-inf')`.\n",
    "- Again, `sorted()` can be used."
   ]
  },
  {
   "cell_type": "code",
   "execution_count": null,
   "metadata": {},
   "outputs": [],
   "source": [
    "def mode(seq):\n",
    "    \n",
    "    pass # delete this instruction and code here!\n",
    "    \n",
    "    # return"
   ]
  },
  {
   "cell_type": "code",
   "execution_count": 2,
   "metadata": {
    "tags": []
   },
   "outputs": [
    {
     "name": "stdout",
     "output_type": "stream",
     "text": [
      "Result with mode() = ([50, 60, 90], 5)\n",
      "Result with multimode() and stats.mode() = ([50, 60, 90], 5)\n",
      "Bravo !\n"
     ]
    }
   ],
   "source": [
    "# Use this cell to check if your function works\n",
    "\n",
    "from scipy import stats\n",
    "from statistics import multimode\n",
    "\n",
    "b = [50, 70, 80, 90, 70, 60, 50, 60, 40, 30, 30, 80, 120, 150, 50, 60, 80, 90, 60, 30, 60, 70, 90, 90, 90, 50, 50]\n",
    "\n",
    "res_mode = mode(b)\n",
    "res_stats_multimode = sorted(multimode(b)), stats.mode(b, keepdims=True)[1][0]\n",
    "print(f\"Result with mode() = {res_mode}\")\n",
    "print(f\"Result with multimode() and stats.mode() = {res_stats_multimode}\")\n",
    "if res_mode == res_stats_multimode: print(\"Bravo !\")\n",
    "else: print(\":(\")"
   ]
  },
  {
   "cell_type": "markdown",
   "metadata": {},
   "source": [
    "## Exercise - Calculating a water quantity (difficult)\n",
    "\n",
    "Write a function that takes a list of positive integers, each representing the height of a building, and then determines the maximum volume of water that can be contained in that structure. For example the list `[5,0,4,2,0,3]` can be represented in this form:\n",
    "\n",
    "```\n",
    "___               \n",
    "| |   ___         \n",
    "| |   | |      ___\n",
    "| |   | |___   | |\n",
    "| |   |    |   | |\n",
    "| |___|    |___| |\n",
    "```\n",
    "\n",
    "The first building is 5 stories high (5 rows), since its height is 5. The second building is flat since its height is 0 etc.\n",
    "By convention, the width of each building is 1 (even if graphically this width is represented by a sequence of 3 characters).\n",
    "\n",
    "If we imagine that it starts to rain on this \"city\", then the water will start to accumulate and form pockets between the two largest buildings on either side:\n",
    "\n",
    "```\n",
    "___               \n",
    "| |   ___         \n",
    "| |+++| |      ___\n",
    "| |+++| |±±±+++| |\n",
    "| |+++|    |+++| |\n",
    "| |±±±|    |±±±| |\n",
    "```\n",
    "\n",
    "Here, graphically, each group of three +++ represents a volume of water. We can therefore see that this \"city\" can hold 8 volumes of water. It is this result, the number of volumes of water, that the function should return.\n",
    "\n",
    "**TIP**:\n",
    "\n",
    "- The solution lies in two lines of code. A `for` loop and its statement.\n",
    "\n",
    "Examples:\n",
    "- Input: `[1, 2, 1, 2]`\n",
    "- Output: `1`\n",
    "- Input: `[5, 0, 4, 2, 0, 3]`\n",
    "- Output: `8`\n",
    "- Input: `[0, 2, 4, 0, 2, 1, 2, 6]`\n",
    "- Output: `11`\n",
    "- Input: `[10, 0, 1, 2, 0, 12]`\n",
    "- Output: `37`\n",
    "- Input: `[0, 0, 12, 4, 0, 5, 15, 2, 4, 7, 0, 3, 6, 2, 2, 2, 2, 4]`\n",
    "- Output: `52`"
   ]
  },
  {
   "cell_type": "code",
   "execution_count": null,
   "metadata": {
    "tags": []
   },
   "outputs": [],
   "source": [
    "def compute_water_qty(seq):\n",
    "    water_qty_total = 0\n",
    "    # Code here!\n",
    "\n",
    "    return water_qty_total"
   ]
  },
  {
   "cell_type": "code",
   "execution_count": null,
   "metadata": {
    "tags": []
   },
   "outputs": [],
   "source": [
    "# use this cell to check if your function works\n",
    "\n",
    "test = {\"1\":[[1, 2, 1, 2], 1],\n",
    "        \"2\":[[5, 0, 4, 2, 0, 3], 8],\n",
    "        \"3\":[[0, 2, 4, 0, 2, 1, 2, 6], 11],\n",
    "        \"4\":[[10, 0, 1, 2, 0, 12], 37],\n",
    "        \"5\":[[0, 0, 12, 4, 0, 5, 15, 2, 4, 7, 0, 3, 6, 2, 2, 2, 2, 4], 52]}\n",
    "\n",
    "for k, v in test.items():\n",
    "    if compute_water_qty(v[0]) == v[1]: print(f\"Test {k} : Succès\")\n",
    "    else: print(f\"Test {k} : Echec\")"
   ]
  },
  {
   "cell_type": "markdown",
   "metadata": {
    "tags": [
     "en"
    ]
   },
   "source": [
    "# Exercise - Quick Sort (difficult)\n",
    "\n",
    "A function can be recursive, meaning it can call itself while it's being executed.\n",
    "Write a recursive function named `quicksort()` that can perform a quick sort on a list.\n",
    "\n",
    "The input will be an unordered list of numbers and the ouput a list containing the same numbers but sorted in ascending order.\n",
    "\n",
    "In order to perform a quick sort, we need to break this list down into three different groups using a \"pivot\" number.\n",
    "\n",
    "Once you've chosen a pivot number to start with (it could be the first one in the list, the last one, the one in the middle, a random number, etc.), generate three new groups that we'll store in lists :\n",
    "\n",
    "- left \"**: in which you will place all numbers smaller than our pivot number.\n",
    "- middle \"**: in which you will place all numbers equal to our pivot number.\n",
    "- right \"**: in which you will place all numbers greater than our pivot number.\n",
    "\n",
    "Then concatenate the lists in this exact order: `left + middle + right` to get the final ranked list. However, apart from the element(s) in the middle list, the elements inside the lists `left` and `right` will not be sorted. You will therefore need to apply the function recursively to the `left` list and the `right` list in order to rank them too.\n",
    "\n",
    "When there is only one item left to process in the list, simply return the list.\n",
    "\n",
    "Visual example with a quick sort *quick sort* which takes the last number as its pivot. However it is more common to take the middle of the list.\n",
    "\n",
    "![](files/quicksort.png)\n"
   ]
  },
  {
   "cell_type": "code",
   "execution_count": null,
   "metadata": {},
   "outputs": [],
   "source": [
    "def quicksort(arr):\n",
    "    pass # Delete the \"pass\" and start coding!\n",
    "    \n",
    "    #return\n"
   ]
  }
 ],
 "metadata": {
  "kernelspec": {
   "display_name": "Python 3 (ipykernel)",
   "language": "python",
   "name": "python3"
  },
  "language_info": {
   "codemirror_mode": {
    "name": "ipython",
    "version": 3
   },
   "file_extension": ".py",
   "mimetype": "text/x-python",
   "name": "python",
   "nbconvert_exporter": "python",
   "pygments_lexer": "ipython3",
   "version": "3.10.9"
  }
 },
 "nbformat": 4,
 "nbformat_minor": 4
}
