{
 "cells": [
  {
   "cell_type": "markdown",
   "id": "36fba674-aa62-4d17-875d-132343ac290a",
   "metadata": {
    "tags": [
     "en"
    ]
   },
   "source": [
    "# LIBRARIES\n",
    "\n",
    "## What is a library?\n",
    "\n",
    "Libraries are one of the main strengths of python. When we import a library, our kernel \"learns\" new functions and objects that we can use as we wish.\n",
    "\n",
    "The most famous Python libraries (Pandas, Numpy, SciKitlearn...) have been created and are maintained by thousands of volunteers, and sometimes by some companies. They are regularly improved and updated.\n",
    "\n",
    "When you install Python, many libraries are already included in the so-called \"standard library\" of Python. Others will need to be installed."
   ]
  },
  {
   "cell_type": "markdown",
   "id": "ea9d5556-0a3f-441b-bc42-d161c624dda5",
   "metadata": {
    "tags": []
   },
   "source": [
    "<div>\n",
    "<img src=\"files/librairies_populaires.png\" alt=\"librairies\" width=\"90%\" align='center'/><br><font size=\"1\">Source : https://www.data-bird.co/python/bibliotheque-python</font> </div>"
   ]
  },
  {
   "cell_type": "markdown",
   "id": "558f60c9-7905-4441-baed-8ca16bec4a46",
   "metadata": {
    "tags": [
     "en"
    ]
   },
   "source": [
    "## Libraries package and module.\n",
    "\n",
    "These terms refer to different levels of complexity, but the way the following are used may vary as they are not standardised.\n",
    "\n",
    "- A library is usually defined as a collection of packages.\n",
    "\n",
    "- A package is a collection of modules, with a tree structure and a constructor in the form of a `__init__.py` file.\n",
    "\n",
    "- A module is a file with a \".py\" extension containing code.\n",
    "\n",
    "<div>\n",
    "<img src=\"files/library_in_python.png\" alt=\"librairies, packages, modules\" width=\"100%\" align='center'/></div>"
   ]
  },
  {
   "cell_type": "markdown",
   "id": "2cdd99b2-78ac-4d58-9508-191430b07636",
   "metadata": {
    "tags": [
     "en"
    ]
   },
   "source": [
    "## Module\n",
    "\n",
    "A module is a file with a \".py\" extension. It can be used to store code, such as functions for example, which can then be used in different scripts or programs.\n",
    "\n",
    "- To import a module you can import it in its entirety as follows:\n",
    "\n",
    "```python\n",
    "import my_module\n",
    "```\n",
    "\n",
    "Once this has been done, you can use the functions in that module by calling them as follows:\n",
    "\n",
    "```python\n",
    "my_module.my_function()\n",
    "```\n",
    "\n",
    "- We can also give it an \"alias\" (a shorter name most of the time) like this:\n",
    "\n",
    "```python\n",
    "import my_module as m\n",
    "```\n",
    "Now it will be easier to call its functions:\n",
    "\n",
    "```python\n",
    "m.my_function()\n",
    "```\n",
    "\n",
    "- You can also choose to import only one or more specific functions\n",
    "\n",
    "```python\n",
    "from my_module import my_function1, my_function2\n",
    "```\n",
    "\n",
    "In this case you can call the function directly without having to specify the library:\n",
    "\n",
    "```python\n",
    "my_function1()\n",
    "my_function2()\n",
    "```\n",
    "\n",
    "- Finally, you can also choose to import all the functions of a module directly by using the `*` operator. Example:\n",
    "\n",
    "```python\n",
    "from my_module import *\n",
    "```\n",
    "\n",
    "In this case, as in the previous one, you can call the functions directly, without having to specify the library."
   ]
  },
  {
   "cell_type": "markdown",
   "id": "84f827b4-e1d7-49d5-ac18-13f46964513d",
   "metadata": {
    "tags": [
     "en"
    ]
   },
   "source": [
    "### Exercise\n",
    "\n",
    "- Create a .py file named \"module1.py\".\n",
    "- Write a function inside it called `square()` that returns the square of a number.\n",
    "- Import the whole module by giving it the alias \"m1\" and use the `square()` function.\n",
    "- Then import only the `square()` function from module1 and use it."
   ]
  },
  {
   "cell_type": "code",
   "execution_count": null,
   "id": "3fc75b4b-c790-46db-a29d-5a21299398bb",
   "metadata": {},
   "outputs": [],
   "source": [
    "# Code here!\n"
   ]
  },
  {
   "cell_type": "code",
   "execution_count": null,
   "id": "fb4153f3-bdd6-4e05-880f-b96b585dd4d1",
   "metadata": {},
   "outputs": [],
   "source": [
    "# Code here!\n"
   ]
  },
  {
   "cell_type": "markdown",
   "id": "511df39b-af87-4205-abc2-9e790a6e7883",
   "metadata": {
    "tags": [
     "en"
    ]
   },
   "source": [
    "## Docstring\n",
    "\n",
    "A \"docstring\", short for \"documentation string\" is a text string added right after the definition of functions, classes or modules.\n",
    "\n",
    "Docstrings are used to explain the purpose, behavior, parameter(s), and output(s) of a function or an object.\n",
    "\n",
    "Docstrings are always placed within triple quotes (either single or double), for example:\n",
    "\n",
    "```python\n",
    "def my_function(x, y):\n",
    "    \"\"\"Returns the sum of x et y converted to string.\"\"\"\n",
    "    output = str(x + y)\n",
    "    return output\n",
    "```\n",
    "\n",
    "If the docstring is long, you can use multiple lines:\n",
    "\n",
    "```python\n",
    "def my_fonction(x, y):\n",
    "    \"\"\"\n",
    "    Returns the sum of x et y converted to string.\n",
    "    \n",
    "        Parameters:\n",
    "                x (int): A decimal integer\n",
    "                y (int): Another decimal integer\n",
    "\n",
    "        Returns:\n",
    "                output (str): The sum of a and b converted to string.\n",
    "    \"\"\"\n",
    "    output = str(x + y)\n",
    "    return output\n",
    "```\n",
    "\n",
    "In Jupyter Notebook and Jupyter Lab, pressing \"shift+tab\" allows you to display various information about an object, including its docstring.\n",
    "\n",
    "You can also display it using the `.__doc__` property of your object.\n",
    "\n",
    "## Exercise:\n",
    "\n",
    "Document your module's code:\n",
    "\n",
    "- Add a docstring to your module.\n",
    "- Add a docstring to your function.\n",
    "- Verify that the text displays correctly, both for the module and the function.\n",
    "- Display your docstrings using the `.__doc__` property without `print()`, and then with `print()`.\n",
    "\n",
    "**TIP**: You may have to restart your kernel and reimport your module to see the changes."
   ]
  },
  {
   "cell_type": "code",
   "execution_count": null,
   "id": "04463b7a-4fdd-4c8e-8645-4f8c740a2ea7",
   "metadata": {},
   "outputs": [],
   "source": [
    "# Code here!\n"
   ]
  },
  {
   "cell_type": "markdown",
   "id": "6030b0f4-36e0-40cb-99db-89c0c1367a7f",
   "metadata": {
    "tags": [
     "en"
    ]
   },
   "source": [
    "## Installing a library\n",
    "\n",
    "The easiest way to do this is to open a terminal window, check that we are in the correct virtual environment, if we have one, and then use `conda` or `pip` to install the library. Generally the command is just :\n",
    "\n",
    "```\n",
    "pip install my_library_name\n",
    "```"
   ]
  }
 ],
 "metadata": {
  "kernelspec": {
   "display_name": "Python 3 (ipykernel)",
   "language": "python",
   "name": "python3"
  },
  "language_info": {
   "codemirror_mode": {
    "name": "ipython",
    "version": 3
   },
   "file_extension": ".py",
   "mimetype": "text/x-python",
   "name": "python",
   "nbconvert_exporter": "python",
   "pygments_lexer": "ipython3",
   "version": "3.11.5"
  }
 },
 "nbformat": 4,
 "nbformat_minor": 5
}
