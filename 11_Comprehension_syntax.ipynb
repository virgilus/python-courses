{
 "cells": [
  {
   "cell_type": "markdown",
   "id": "5eabec60-fd5c-40d4-ab6b-b9dff9f97c3b",
   "metadata": {
    "tags": [
     "en"
    ]
   },
   "source": [
    "# Comprehension Syntax\n",
    "\n",
    "Comprehension syntax is a syntax specific to some programming languages that comes from the world of mathematics and which, instead of describing elements one by one, describes the properties that these different elements have in common.\n",
    "\n",
    "In Python, this can be thought of as a formula that allows us to generate elements instead of writing them all one by one.\n",
    "\n",
    "This syntax can be applied to different objects (lists, sets and dictionaries) and is widely used, for example to easily filter iterables.\n",
    "\n",
    "Even if this way of writing is short and elegant, it is not recommended to use it each time we need to generate a list, a dictionary or a set. Indeed, if the operation to be performed is complex, it's probably best to use a `for` loop which will take up a little more space in the code but will also be easier to create, test, debug and understand by another programmer."
   ]
  },
  {
   "cell_type": "markdown",
   "id": "82fc579c",
   "metadata": {
    "tags": [
     "en"
    ]
   },
   "source": [
    "# List Comprehension\n",
    "\n",
    "## Definition\n",
    "\n",
    "List Comprehension are a kind of \"magic formula\" that will create lists. In general, we start with an iterable object from which we want to create a list (it can be another list, but also a dictionary or any other iterable object).\n",
    "\n",
    "To create a comprehensive list we open the brackets as if we wanted to create a list, but instead of enumerating the different elements that make it up, we use the following syntax:\n",
    "\n",
    "```python\n",
    "[expression for element in iterable]\n",
    "```\n",
    "Here:\n",
    "\n",
    "- The variable **expression** is the result we want to get.\n",
    "- The **element** variable is the name we will give to each element we iterate on.\n",
    "- The **iterable** variable is the name of the object on which we can iterate.\n",
    "\n",
    "So you could write it like this:\n",
    "\n",
    "```python\n",
    "[what_we_want_to_get for variable_containing_successively_each_element in object_iterable]\n",
    "```\n",
    "\n",
    "To begin in a very simple way, let's just create a comprehension list that will generate a copy of another list:"
   ]
  },
  {
   "cell_type": "code",
   "execution_count": null,
   "id": "01c523ed",
   "metadata": {
    "tags": []
   },
   "outputs": [],
   "source": [
    "seq = [2, 6, 8, 5, 7, 9, 1, 2, 3, 6]\n",
    "\n",
    "[n for n in seq]"
   ]
  },
  {
   "cell_type": "markdown",
   "id": "151e7bc5-c259-49b5-b29c-d14c5900d713",
   "metadata": {
    "tags": [
     "en"
    ]
   },
   "source": [
    "Now let's imagine that we want to generate a new list containing the squares of each of these numbers, we will then modify the expression we are trying to obtain:"
   ]
  },
  {
   "cell_type": "code",
   "execution_count": null,
   "id": "6112c0d7",
   "metadata": {
    "tags": []
   },
   "outputs": [],
   "source": [
    "seq = [2, 6, 8, 5, 7, 9, 1, 2, 3, 6]\n",
    "\n",
    "[n ** 2 for n in seq]"
   ]
  },
  {
   "cell_type": "markdown",
   "id": "a1497c86-2628-4b52-8454-59aca7713308",
   "metadata": {
    "tags": [
     "en"
    ]
   },
   "source": [
    "Note that we could use a `for` loop as well, but it'd take more time to write:"
   ]
  },
  {
   "cell_type": "code",
   "execution_count": null,
   "id": "d4f768c1",
   "metadata": {
    "tags": []
   },
   "outputs": [],
   "source": [
    "seq = [2, 6, 8, 5, 7, 9, 1, 2, 3, 6]\n",
    "\n",
    "new_list = []\n",
    "\n",
    "for n in seq:\n",
    "    new_list.append(n ** 2)\n",
    "\n",
    "print(new_list)"
   ]
  },
  {
   "cell_type": "markdown",
   "id": "c370b5ea-7db7-4843-81d9-116efd7141ef",
   "metadata": {
    "tags": [
     "en"
    ]
   },
   "source": [
    "### Exercise (easy)\n",
    "\n",
    "From the following list, generate a new list using the comprehensive syntax that triples each character. For example The letter \"c\" will become \"ccc\" in the new list.\n",
    "\n",
    "**Tip**:\n",
    "\n",
    "- Remember, in python it is possible to multiply strings by integers."
   ]
  },
  {
   "cell_type": "code",
   "execution_count": null,
   "id": "f9ac133c",
   "metadata": {
    "tags": []
   },
   "outputs": [],
   "source": [
    "seq = [\"a\", \"c\", \"d\", \"f\", \"g\", \"z\", \"e\", \"i\"]\n",
    "\n",
    "# Code here!"
   ]
  },
  {
   "cell_type": "markdown",
   "id": "1da135af-9cd7-4c3b-95ba-0fdcb51fbdc5",
   "metadata": {
    "tags": [
     "en"
    ]
   },
   "source": [
    "## Filtering with list comprehension and `if`\n",
    "\n",
    "Lists allow you to easily filter, i.e. to choose the elements that you will process (and those that you will not process).\n",
    "\n",
    "To do this, you simply add an `if` at the end of the syntax.\n",
    "\n",
    "```python\n",
    "[el for el in iterable if cond]\n",
    "```\n",
    "In other words, we want \"el\" if the condition is met, where \"el\" is the element that will be added to our list. Otherwise the element will not be processed.\n",
    "\n",
    "We could also write it this way:\n",
    "\n",
    "```python\n",
    "[what_we_want_to_get for variable_containing_successively_each_element in object_iterable if our_condition_is_true]\n",
    "```\n",
    "\n",
    "Let's go back to the last example and imagine that we only want to triple the letters in the case that they are vowels:"
   ]
  },
  {
   "cell_type": "code",
   "execution_count": null,
   "id": "ac5709bc",
   "metadata": {
    "tags": []
   },
   "outputs": [],
   "source": [
    "seq = [\"a\", \"c\", \"d\", \"f\", \"g\", \"z\", \"e\", \"i\"]\n",
    "\n",
    "[el * 3 for el in seq if el in [\"a\", \"e\", \"i\", \"o\", \"u\", \"y\"]]"
   ]
  },
  {
   "cell_type": "markdown",
   "id": "f6479d69-1791-4fce-9ce0-9d24dba5f36c",
   "metadata": {
    "tags": [
     "en"
    ]
   },
   "source": [
    "## Exercise (easy)\n",
    "\n",
    "Write a comprehensive list that returns the square of the following numbers only if they are strictly greater than 5."
   ]
  },
  {
   "cell_type": "code",
   "execution_count": null,
   "id": "31b2c6d8",
   "metadata": {
    "tags": []
   },
   "outputs": [],
   "source": [
    "seq = [2, 6, 8, 5, 7, 9, 1, 2, 3, 6]\n",
    "\n",
    "# code here!\n"
   ]
  },
  {
   "cell_type": "markdown",
   "id": "aa71926b-7f4c-4c07-81ab-c0c8dde405f2",
   "metadata": {
    "tags": [
     "en"
    ]
   },
   "source": [
    "## `if` and `else` in a list comprehension\n",
    "\n",
    "Sometimes we want to apply different transformations to elements depending on their nature. In this case you can add `if` and `else` in the first part of the expression.\n",
    "\n",
    "```python\n",
    "[expression_1 if condition else expression_2 for element in iterable]\n",
    "```\n",
    "For example, let's say we want to get the squares of the numbers 2, 4 and 6 and the cube of the other numbers."
   ]
  },
  {
   "cell_type": "code",
   "execution_count": null,
   "id": "9737d35c",
   "metadata": {
    "tags": []
   },
   "outputs": [],
   "source": [
    "seq = [2, 6, 8, 5, 7, 9, 1, 2, 3, 6]\n",
    "\n",
    "[n ** 2 if n in [2, 4, 6] else n ** 3 for n in seq]"
   ]
  },
  {
   "cell_type": "markdown",
   "id": "fb541b58-695c-41bd-b546-e1db0ac8c441",
   "metadata": {
    "tags": [
     "en"
    ]
   },
   "source": [
    "Note that the use of conditional expressions (`if` and `else`) can be combined with the use of an `if` at the end of the expression which will filter out the upstream elements:"
   ]
  },
  {
   "cell_type": "code",
   "execution_count": null,
   "id": "9dab9666",
   "metadata": {
    "tags": []
   },
   "outputs": [],
   "source": [
    "seq = [2, 6, 8, 5, 7, 9, 1, 2, 3, 6]\n",
    "\n",
    "[n ** 2 if n in [2, 4, 6] else n ** 3 for n in seq if n > 5]"
   ]
  },
  {
   "cell_type": "markdown",
   "id": "5e1712c8-e666-4da2-96fa-ce4a3c075ce6",
   "metadata": {
    "tags": [
     "en"
    ]
   },
   "source": [
    "## Exercise (easy / medium)\n",
    "\n",
    "Generate a new list from the \"fruits\" list using the comprehensive syntax. The new list will have the following characteristics:\n",
    "\n",
    "- The first letter of each word must be a capital letter.\n",
    "- The items \"banana\" will be replaced by \"Gorilla\".\n",
    "- The items \"mango\" should be removed from the list."
   ]
  },
  {
   "cell_type": "code",
   "execution_count": null,
   "id": "ebc3b67b-598d-4f32-b5e8-7e78bfe03270",
   "metadata": {
    "tags": [
     "en"
    ]
   },
   "outputs": [],
   "source": [
    "fruits = [\"mango\", \"banana\", \"kiwi\", \"orange\",\n",
    "         \"banana\", \"banana\", \"banana\", \"banane\",\n",
    "         \"mango\", \"mango\", \"banana\", \"mango\", \"banana\",\n",
    "         \"pineapple\", \"mango\", \"banana\", \"pineapple\"]\n",
    "\n",
    "# Code here!"
   ]
  },
  {
   "cell_type": "markdown",
   "id": "5dcc796d-0b02-4f3b-87ad-735d9072227f",
   "metadata": {
    "tags": [
     "en"
    ]
   },
   "source": [
    "# Dictionary comprehension\n",
    "\n",
    "## Definition\n",
    "\n",
    "Dictionary comprehension behave in the same way as list comprehension, except that they must be given two expressions to return: the key and the value. The syntax is therefore slightly different:\n",
    "\n",
    "```python\n",
    "{k: v for k, v in iterable}\n",
    "```\n",
    "Here:\n",
    "\n",
    "- The variable **k** (*key*) is the variable that will be used as the key.\n",
    "- The variable **v** (*value*) is the value associated with this key.\n",
    "- The **iterable** variable is the name of the object that we will be able to iterate on, so this iterable must contain pairs of values.\n",
    "\n",
    "Let's start simply by creating a copy of a dictionary, in this case we must iterate on it using the `.items()` method so that at each iteration a key-value pair is returned."
   ]
  },
  {
   "cell_type": "code",
   "execution_count": null,
   "id": "58a75397",
   "metadata": {
    "tags": []
   },
   "outputs": [],
   "source": [
    "my_dict = {\"kiwis\": 3,\n",
    "           \"melons\": 12,\n",
    "           \"oranges\": 7}\n",
    "\n",
    "{k: v for k, v in my_dict.items()}"
   ]
  },
  {
   "cell_type": "markdown",
   "id": "8f5dc83c-4570-4982-aac3-1b657fe14e52",
   "metadata": {
    "tags": [
     "en"
    ]
   },
   "source": [
    "Now let's multiply the quantities by 5."
   ]
  },
  {
   "cell_type": "code",
   "execution_count": null,
   "id": "5596a3a7",
   "metadata": {
    "tags": []
   },
   "outputs": [],
   "source": [
    "my_dict = {\"kiwis\": 3,\n",
    "           \"melons\": 12,\n",
    "           \"oranges\": 7}\n",
    "\n",
    "{k: v * 5 for k, v in my_dict.items()}"
   ]
  },
  {
   "cell_type": "markdown",
   "id": "46271906-5ad4-45c6-949e-0d750961eb97",
   "metadata": {
    "tags": [
     "en"
    ]
   },
   "source": [
    "And let's capitalise the keys."
   ]
  },
  {
   "cell_type": "code",
   "execution_count": null,
   "id": "f5dbb948",
   "metadata": {
    "tags": []
   },
   "outputs": [],
   "source": [
    "my_dict = {\"kiwis\": 3,\n",
    "           \"melons\": 12,\n",
    "           \"oranges\": 7}\n",
    "\n",
    "{k.upper(): v * 5 for k, v in my_dict.items()}"
   ]
  },
  {
   "cell_type": "markdown",
   "id": "abbf9c70-8093-4bdd-9c2f-e62fbb24ec72",
   "metadata": {
    "tags": [
     "en"
    ]
   },
   "source": [
    "## Generating a dictionary from lists\n",
    "\n",
    "Let's pretend we have two lists, we want the first one to become a key and the second to become the value. We can then use the `zip()` function which will map each element of one list to the other so that we can iterate over both lists simultaneously!\n",
    "\n",
    "Let's create an object of type `zip` and iterate over it to see how it behaves:"
   ]
  },
  {
   "cell_type": "code",
   "execution_count": null,
   "id": "5e1e1436",
   "metadata": {
    "tags": []
   },
   "outputs": [],
   "source": [
    "l1 = [\"kiwis\", \"melons\", \"oranges\"]\n",
    "l2 = [3, 12, 7]\n",
    "\n",
    "for el in zip(l1, l2): print(el)"
   ]
  },
  {
   "cell_type": "markdown",
   "id": "ccdaac0b-332d-4ac6-8df6-afae27f207ee",
   "metadata": {
    "tags": [
     "en"
    ]
   },
   "source": [
    "Zipping the lists together has created a special \"zip\" object that allows us to iterate over both lists at once. This returns a \"tuple\" at each iteration. Now let's generate our dictionary using the comprehensive syntax :"
   ]
  },
  {
   "cell_type": "code",
   "execution_count": null,
   "id": "e210cbd4",
   "metadata": {
    "tags": []
   },
   "outputs": [],
   "source": [
    "l1 = [\"kiwis\", \"melons\", \"oranges\"]\n",
    "l2 = [3, 12, 7]\n",
    "\n",
    "{k: v for k, v in zip(l1, l2)}"
   ]
  },
  {
   "cell_type": "markdown",
   "id": "bea457fe-d442-48ae-bc88-33dc4d3c5ae7",
   "metadata": {
    "tags": [
     "en"
    ]
   },
   "source": [
    "Conditional structures (`if` and `else`) apply in the same way as in list comprehension."
   ]
  },
  {
   "cell_type": "markdown",
   "id": "3bdaa226-65be-40b9-83f7-6bbfc8566704",
   "metadata": {
    "tags": [
     "en"
    ]
   },
   "source": [
    "# Exercise (medium)\n",
    "\n",
    "Create a dictionary from the following two lists. The one containing the names of the differents types of food will be the key, the other will be the values. Make sure that the following constraints are met:\n",
    "\n",
    "- If a dictionary key has more than 6 characters, the first letter of the key will be capitalized. Otherwise, if the key is 6 characters or fewer, the entire key should be upper case.\n",
    "- If the value is 0, replace it with \"out of stock\".\n",
    "- Keys beginning with the letter \"c\" and \"b\" (regardless of their case) should be ignored.\n",
    "\n",
    "**TIPS**\n",
    "\n",
    "- Use `.upper()` to deal with the letter case.\n",
    "- Do you remember the use of *slices*?\n",
    "- If you apply ``len()`` on a string, you'll get the number of characters of the string."
   ]
  },
  {
   "cell_type": "code",
   "execution_count": null,
   "id": "1b4d3ed6",
   "metadata": {
    "tags": []
   },
   "outputs": [],
   "source": [
    "food = [\"Courgettes\", \"quiches\", \"aubergines\", \"croissants\", \"Baguettes\", \"kiwis\", \"melons\", \"oranges\", \"brioches\"]\n",
    "stock = [1, 0, 2, 16, 46, 0, 1, 4, 5]\n",
    "\n",
    "# Code here!\n"
   ]
  },
  {
   "cell_type": "markdown",
   "id": "18dd4dd8-d319-4594-a8c1-431378d2890e",
   "metadata": {
    "tags": [
     "en"
    ]
   },
   "source": [
    "# Exercise (difficult)\n",
    "\n",
    "Use comprehensive syntax to generate a list of numbers and solve the following problem.\n",
    "\n",
    "Find a 6-digit number that meets the following conditions:\n",
    "\n",
    "- The first and last digits are the same.\n",
    "- The first digit multiplied by 2 produces a 2-digit number.\n",
    "- This number is the second and third digits.\n",
    "- The last digit multiplied by 3 produces a 2-digit number.\n",
    "- This number is the fourth and fifth digits.\n",
    "- The total of all 6 digits equals 22.\n",
    "\n",
    "**Tip**:\n",
    "\n",
    "- Start by creating a comprehensive list that generates all the real numbers with 6 digits. Then use `if` and `and` to filter the list."
   ]
  },
  {
   "cell_type": "code",
   "execution_count": null,
   "id": "e199fab8-9464-4596-be37-0778191e85f0",
   "metadata": {},
   "outputs": [],
   "source": [
    "# Code here!\n",
    "\n"
   ]
  },
  {
   "cell_type": "markdown",
   "id": "ffa05634-3ecb-45ae-9a2b-05656c0abd26",
   "metadata": {
    "tags": [
     "en"
    ]
   },
   "source": [
    "# Exercise (difficult)\n",
    "\n",
    "Some words in the English language have a unique property: their letters are arranged in alphabetical order. For example, the words \"abbey\", \"cells\" and \"loops\" share this property.\n",
    "\n",
    "Run the cell below to create a list containing a large number of words in the English language (around 370 000), then create a comprehensive list to keep only the words that share this property and contain at least 5 letters.\n",
    "\n",
    "**Libraries**: To complete our task we will the `requests` library which allows us to retrieve information from the internet.\n",
    "\n",
    "**Tips**:\n",
    "\n",
    "- The `all` function can be very useful. It takes a list of iterables as input and returns `True` if all the elements in the list are `True`. If at least one of the elements is `False`, then it returns `False`.\n",
    "\n",
    "For example:\n",
    "\n",
    "```python\n",
    "all([True, False, True])\n",
    ">>> False\n",
    "```\n",
    "\n",
    "But you can also apply `all` to expressions or comprehensive lists, for example :\n",
    "\n",
    "```python\n",
    "l = [n**2 > 200 for n in range(13,17)]\n",
    "all(l)\n",
    ">>> False\n",
    "```\n",
    "\n",
    "Or directly (note the absence of square brackets \"[ ]\", it's the expression we're evaluating, not the comprehensive list): \n",
    "\n",
    "```python\n",
    "all(n**2 > 200 for n in range(13,17))\n",
    ">>> False\n",
    "```\n",
    "\n",
    "- The `enumerate()` function is used to retrieve two variables when we go through an iterable: the index, and the element. By convention, these are called \"i\" and \"el\". It is very useful when you want to compare characters in a string with other characters, since you can access any character with s[i] (where s is a string and i is an index).\n",
    "\n",
    "```python\n",
    "for i, el in enumerate('Hey') : print(i, el)\n",
    ">>> 0 H\n",
    ">>> 1 e\n",
    ">>> 2 y\n",
    "```\n",
    "\n",
    "- The `ord()` function returns the number representing the unicode code of a specified character.\n",
    "\n",
    "```python\n",
    "ord(\"a\")\n",
    ">>> 97\n",
    "```\n",
    "\n",
    "- You need to find 341 words."
   ]
  },
  {
   "cell_type": "code",
   "execution_count": null,
   "id": "df2ad920-aeb1-431e-a96a-bfa6befb6030",
   "metadata": {
    "tags": [
     "en"
    ]
   },
   "outputs": [],
   "source": [
    "import requests\n",
    "\n",
    "r = requests.get('https://raw.githubusercontent.com/dwyl/english-words/master/words_alpha.txt')\n",
    "words = [w for w in r.text.split()]\n",
    "print(f\"Number of words in the list 'words' : {len(words)}\")\n",
    "\n",
    "# Code here!\n"
   ]
  }
 ],
 "metadata": {
  "kernelspec": {
   "display_name": "Python 3 (ipykernel)",
   "language": "python",
   "name": "python3"
  },
  "language_info": {
   "codemirror_mode": {
    "name": "ipython",
    "version": 3
   },
   "file_extension": ".py",
   "mimetype": "text/x-python",
   "name": "python",
   "nbconvert_exporter": "python",
   "pygments_lexer": "ipython3",
   "version": "3.10.9"
  }
 },
 "nbformat": 4,
 "nbformat_minor": 5
}
