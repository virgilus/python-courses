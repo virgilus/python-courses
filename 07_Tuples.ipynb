{
 "cells": [
  {
   "cell_type": "markdown",
   "id": "3c375621-904a-4bac-bda1-6a46c03f45df",
   "metadata": {},
   "source": [
    "# Tuples"
   ]
  },
  {
   "cell_type": "markdown",
   "id": "d7aaa457-39b7-4b09-8109-0df58cb1b18b",
   "metadata": {
    "tags": [
     "en"
    ]
   },
   "source": [
    "## Tuples\n",
    "\n",
    "### What is a tuple?\n",
    "\n",
    "A tuple is an ordered collection of element. Just like a list, a tuple is:\n",
    "\n",
    "- **Ordered**: Tuples maintain the order of elements, which means the elements are stored in a specific sequence and can be accessed using indexing.\n",
    "\n",
    "- **Heterogeneous**: Tuples can contain elements of different data types, including numbers, strings, other tuples, and more.\n",
    "\n",
    "But there is a big difference between a list and a tuple. A Tuple is:\n",
    "\n",
    "- **Immutable**: Once a tuple is created, you cannot change its elements. This immutability is in contrast to lists, which are mutable.\n",
    "\n",
    "To create a tuple, you enclose the different elements in parentheses."
   ]
  },
  {
   "cell_type": "code",
   "execution_count": null,
   "id": "d6ae4b99-11d4-4004-8505-ac6b8e83e69a",
   "metadata": {
    "tags": []
   },
   "outputs": [],
   "source": [
    "my_tuple = (3, \"hello\", [1, 2, 3])\n",
    "print(my_tuple)\n",
    "print(type(my_tuple))"
   ]
  },
  {
   "cell_type": "markdown",
   "id": "81e29a57-96b0-4306-9e9d-51853eb5822a",
   "metadata": {
    "tags": [
     "en"
    ]
   },
   "source": [
    "## Implicite tuple\n",
    "\n",
    "You don't even have to use parenthesis as long as it's unambiguous, this is called an \"implicit tuple\" :"
   ]
  },
  {
   "cell_type": "code",
   "execution_count": null,
   "id": "1e36e73b-64d4-4cee-9995-b4463f4cbf49",
   "metadata": {
    "id": "1uqGs1hBH5BB",
    "tags": []
   },
   "outputs": [],
   "source": [
    "my_tuple = 3, \"hello\", [1, 2, 3]\n",
    "print(my_tuple)\n",
    "print(type(my_tuple))"
   ]
  },
  {
   "cell_type": "markdown",
   "id": "cdc3a892-46cd-4991-927b-05afad3a3132",
   "metadata": {
    "tags": [
     "en"
    ]
   },
   "source": [
    "Tuples are immutable, you can't modify them once they are created."
   ]
  },
  {
   "cell_type": "code",
   "execution_count": null,
   "id": "a9fad9f7-af13-4094-b45d-59bc0ef9ac1d",
   "metadata": {
    "tags": []
   },
   "outputs": [],
   "source": [
    "my_tuple = 3, \"hello\", [1, 2, 3]\n",
    "#my_tuple[0] = 12 # TypeError: 'tuple' object does not support item assignment\n",
    "#my_tuple.append(12) # AttributeError: 'tuple' object has no attribute 'append'"
   ]
  },
  {
   "cell_type": "markdown",
   "id": "105b5a0f-292d-4205-9fc0-53dd4a8ef317",
   "metadata": {
    "tags": [
     "en"
    ]
   },
   "source": [
    "### Let's go farther"
   ]
  },
  {
   "cell_type": "code",
   "execution_count": null,
   "id": "d1881fd3-32cf-4785-85d6-55e9a699ef3d",
   "metadata": {
    "tags": []
   },
   "outputs": [],
   "source": [
    "# You can create dictionary with tuple keys:\n",
    "\n",
    "d = {(x, x + 1): x for x in range(5)} # dict comprehension\n",
    "\n",
    "for k, v in d.items(): print(f\"k: {k}, v : {v}\") # prints the dictionary\n",
    "\n",
    "print(\"d[(1, 2)] :\", d[(1, 2)]) # we can get the value using a uple as key\n",
    "\n",
    "# If I try to create a dictionary with lists as keys, we'll get an error\n",
    "#d = {[x, x + 1]: x for x in range(5)} # yields \"TypeError: unhashable type: 'list'\""
   ]
  }
 ],
 "metadata": {
  "kernelspec": {
   "display_name": "Python 3 (ipykernel)",
   "language": "python",
   "name": "python3"
  },
  "language_info": {
   "codemirror_mode": {
    "name": "ipython",
    "version": 3
   },
   "file_extension": ".py",
   "mimetype": "text/x-python",
   "name": "python",
   "nbconvert_exporter": "python",
   "pygments_lexer": "ipython3",
   "version": "3.10.9"
  }
 },
 "nbformat": 4,
 "nbformat_minor": 5
}
