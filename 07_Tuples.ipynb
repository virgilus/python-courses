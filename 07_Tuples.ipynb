{
 "cells": [
  {
   "cell_type": "markdown",
   "id": "3c375621-904a-4bac-bda1-6a46c03f45df",
   "metadata": {},
   "source": [
    "# Tuples"
   ]
  },
  {
   "cell_type": "markdown",
   "id": "d7aaa457-39b7-4b09-8109-0df58cb1b18b",
   "metadata": {
    "editable": true,
    "slideshow": {
     "slide_type": ""
    },
    "tags": [
     "en"
    ]
   },
   "source": [
    "## What is a tuple?\n",
    "\n",
    "A tuple is an ordered collection of elements. Just like a list, a tuple is **ordered** (you can access it using the index) and **heterogeneous** (can contain objects of different types).\n",
    "\n",
    "However, the big difference between a list and a tuple is that a tuple is **immutable**: Once a tuple is created, you cannot modify it (unlike a list, which is said to be \"mutable\").\n",
    "\n",
    "## Why use a tuple instead of a list?\n",
    "\n",
    "- Because a tuple is a simpler object than a list, it takes up less space in the computer's memory.\n",
    "\n",
    "- Since a tuple is not modifiable, you can ensure that its content will not be accidentally altered.\n",
    "\n",
    "## Syntax\n",
    "\n",
    "Here is the syntax to create a tuple:"
   ]
  },
  {
   "cell_type": "code",
   "execution_count": null,
   "id": "8b7c368c-afb8-4673-930e-1c80b6368d05",
   "metadata": {},
   "outputs": [],
   "source": [
    "my_tuple = (1, 2, 3)\n",
    "my_tuple"
   ]
  },
  {
   "cell_type": "code",
   "execution_count": null,
   "id": "d6ae4b99-11d4-4004-8505-ac6b8e83e69a",
   "metadata": {
    "editable": true,
    "slideshow": {
     "slide_type": ""
    },
    "tags": []
   },
   "outputs": [],
   "source": [
    "my_tuple = (3, \"hello\", True)\n",
    "my_tuple"
   ]
  },
  {
   "cell_type": "markdown",
   "id": "81e29a57-96b0-4306-9e9d-51853eb5822a",
   "metadata": {
    "tags": [
     "en"
    ]
   },
   "source": [
    "## Implicite tuple\n",
    "\n",
    "You don't even have to use parenthesis as long as it's unambiguous, this is called an \"implicit tuple\" :"
   ]
  },
  {
   "cell_type": "code",
   "execution_count": null,
   "id": "1e36e73b-64d4-4cee-9995-b4463f4cbf49",
   "metadata": {
    "editable": true,
    "id": "1uqGs1hBH5BB",
    "slideshow": {
     "slide_type": ""
    },
    "tags": []
   },
   "outputs": [],
   "source": [
    "my_tuple = 3, \"hello\", True\n",
    "my_tuple"
   ]
  },
  {
   "cell_type": "markdown",
   "id": "cdc3a892-46cd-4991-927b-05afad3a3132",
   "metadata": {
    "tags": [
     "en"
    ]
   },
   "source": [
    "Tuples are immutable, you can't modify them once they are created."
   ]
  },
  {
   "cell_type": "code",
   "execution_count": null,
   "id": "a9fad9f7-af13-4094-b45d-59bc0ef9ac1d",
   "metadata": {
    "editable": true,
    "slideshow": {
     "slide_type": ""
    },
    "tags": []
   },
   "outputs": [],
   "source": [
    "my_tuple = 3, \"hello\", True\n",
    "#my_tuple[0] = 12 # TypeError: 'tuple' object does not support item assignment\n",
    "#my_tuple.append(12) # AttributeError: 'tuple' object has no attribute 'append'"
   ]
  },
  {
   "cell_type": "markdown",
   "id": "105b5a0f-292d-4205-9fc0-53dd4a8ef317",
   "metadata": {
    "tags": [
     "en"
    ]
   },
   "source": [
    "### Let's go deeper"
   ]
  },
  {
   "cell_type": "code",
   "execution_count": null,
   "id": "d1881fd3-32cf-4785-85d6-55e9a699ef3d",
   "metadata": {
    "editable": true,
    "slideshow": {
     "slide_type": ""
    },
    "tags": []
   },
   "outputs": [],
   "source": [
    "# A tuple is immutable, meaning it is an hashable object.\n",
    "# So, we can use it as a key inside a dictionary.\n",
    "\n",
    "d = {(12, 38, \"a string\") : 999}\n",
    "print(d)\n",
    "\n",
    "# If I try to create a dictionary with lists as keys, we'll get an error\n",
    "# d = {[12, 38, \"a string\"] : 999} # yields \"TypeError: unhashable type: 'list'\""
   ]
  }
 ],
 "metadata": {
  "kernelspec": {
   "display_name": "Python 3 (ipykernel)",
   "language": "python",
   "name": "python3"
  },
  "language_info": {
   "codemirror_mode": {
    "name": "ipython",
    "version": 3
   },
   "file_extension": ".py",
   "mimetype": "text/x-python",
   "name": "python",
   "nbconvert_exporter": "python",
   "pygments_lexer": "ipython3",
   "version": "3.11.0"
  }
 },
 "nbformat": 4,
 "nbformat_minor": 5
}
