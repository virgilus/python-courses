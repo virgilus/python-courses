{
 "cells": [
  {
   "cell_type": "markdown",
   "metadata": {
    "tags": [
     "en"
    ]
   },
   "source": [
    "# DICTIONARY\n",
    "\n",
    "## What is a dictionary?\n",
    "\n",
    "Dictionaries are special Python objects that associate each entry with a value. They are recognizable because the contents of a dictionary are enclosed in curly brackets (`{ }`). Dictionaries are python objects of type `dict`. For example:\n",
    "\n",
    "```python\n",
    "my_dictionary = {\"password\": \"azerty\"}\n",
    "```\n",
    "\n",
    "You can add different elements to it, separated by commas: \n",
    "\n",
    "```python\n",
    "my_dictionary = {\"last name\": \"Snow\", \"first name\": \"Jon\", \"password\": \"azerty\"}\n",
    "```\n",
    "\n",
    "But for readability reasons we often write down a dictionary with a line separating each pair:\n",
    "\n",
    "```python\n",
    "my_dictionary = {\"last name\": \"Snow\",\n",
    "                 \"first name\": \"Jon\",\n",
    "                 \"password\": \"azerty\"}\n",
    "```\n",
    "\n",
    "The term on the left is called the **key**, and the term on the right **value**. The abbreviations **\"k \"** and **\"v \"** are often used to designate these two parts.\n",
    "\n",
    "There is no index in a dictionnary. To call up a value, simply type the name of the dictionary followed by the key in square brackets. For example:"
   ]
  },
  {
   "cell_type": "code",
   "execution_count": null,
   "metadata": {
    "tags": [
     "en"
    ]
   },
   "outputs": [],
   "source": [
    "my_dict = {\"last name\": \"Snow\",\n",
    "           \"first name\":\"Jon\",\n",
    "           \"password\": \"azerty\"}\n",
    "\n",
    "print(my_dict[\"last name\"])\n",
    "print(my_dict[\"first name\"])\n",
    "print(f\"The type of my dictionnary is: {type(my_dict)}\")"
   ]
  },
  {
   "cell_type": "markdown",
   "metadata": {
    "tags": [
     "en"
    ]
   },
   "source": [
    "## The contents of a dictionary\n",
    "\n",
    "The values of a dictionary can be of different types (strings, integers, floats, tuples...). However, you cannot use a non-hashable object (which can be modified, like a list or a dictionary) as a key. For example :"
   ]
  },
  {
   "cell_type": "code",
   "execution_count": null,
   "metadata": {
    "tags": [
     "en"
    ]
   },
   "outputs": [],
   "source": [
    "a_variable = 12\n",
    "\n",
    "my_dict = {\n",
    "    \"tomato\": \"Annual vegetable plant, of the Solanaceae family, cultivated for its fruit\",\n",
    "    \"list of my favourite fruits\": [\"apple\", \"pear\", \"banana\"],\n",
    "    14:2072,\n",
    "    \"number\": a_variable,\n",
    "    (\"I am a\", \"tuple\", 314) : (\"We can use a tuple as key!\", \"and as values!\"),\n",
    "    \"a range of numbers\": range(2,20,4),\n",
    "    \"the same range of numbers converted to a list\": list(range(2,20,4)), # the list() function converts an object to a list!\n",
    "                    }\n",
    "print(my_dict)"
   ]
  },
  {
   "cell_type": "markdown",
   "metadata": {
    "tags": [
     "en"
    ]
   },
   "source": [
    "However if I try to create a key with an object that cannot be \"hashed\" (meaning, to simplify, it cannot be modified), like a list for example, then Python throws an error:"
   ]
  },
  {
   "cell_type": "code",
   "execution_count": null,
   "metadata": {
    "tags": []
   },
   "outputs": [],
   "source": [
    "#d = {[1, 2, 3] : \"hello\"} # TypeError: unhashable type: 'list'"
   ]
  },
  {
   "cell_type": "markdown",
   "metadata": {
    "tags": [
     "en"
    ]
   },
   "source": [
    "## Handling a dictionary\n",
    "\n",
    "### Creating and adding keys\n",
    "\n",
    "In a dictionary each key is associated with a value. Otherwise there is no point in making a dictionary, it would be a simple list!\n",
    "\n",
    "To add or modify a value, simply assign the desired value to the key. If the key does not exist, it will be automatically created. This also means that the same dictionary can **not have two identical keys**.\n",
    "\n",
    "The following example creates a dictionary named \"my_dict\", which has a key \"a\" with the value 1. Then we change the value of \"a\" and add a new key/value pair to the dictionary. **The syntax for creating a key or modifying it is the same**."
   ]
  },
  {
   "cell_type": "code",
   "execution_count": null,
   "metadata": {
    "tags": []
   },
   "outputs": [],
   "source": [
    "my_dict = { \"a\": 1 }\n",
    "\n",
    "my_dict[\"a\"] = 12\n",
    "my_dict[\"b\"] = 2\n",
    "\n",
    "print(my_dict)"
   ]
  },
  {
   "cell_type": "markdown",
   "metadata": {
    "tags": [
     "en"
    ]
   },
   "source": [
    "### Iterate over a dictionary\n",
    "\n",
    "#### Over the keys\n",
    "\n",
    "When looping through a dictionnary, python only returns the keys.\n",
    "\n",
    "**NOTE:** To be more explicit you can also use the `.keys()` method, which turns the keys into iterables, which is the same thing.\n",
    "\n",
    "Example:"
   ]
  },
  {
   "cell_type": "code",
   "execution_count": null,
   "metadata": {
    "tags": []
   },
   "outputs": [],
   "source": [
    "secret_code = {\n",
    "    'a':2,\n",
    "    'b':3,\n",
    "    'c':4,\n",
    "    'd':5,\n",
    "    'e':6,\n",
    "    'f':7,\n",
    "    'g':8,\n",
    "    'h':9,\n",
    "            }\n",
    "\n",
    "for letter in secret_code:\n",
    "    print(letter)\n",
    "    \n",
    "print(\"              Using the method .keys() :\")\n",
    "    \n",
    "for letter in secret_code.keys():\n",
    "    print(letter)"
   ]
  },
  {
   "cell_type": "markdown",
   "metadata": {
    "tags": [
     "en"
    ]
   },
   "source": [
    "#### Iterate over the values\n",
    "\n",
    "You can use the `.values()` method. This transforms the values of the keys into iterables. Example:"
   ]
  },
  {
   "cell_type": "code",
   "execution_count": null,
   "metadata": {
    "tags": []
   },
   "outputs": [],
   "source": [
    "secret_code = {\n",
    "    'a':2,\n",
    "    'b':3,\n",
    "    'c':4,\n",
    "    'd':5,\n",
    "    'e':6,\n",
    "    'f':7,\n",
    "    'g':8,\n",
    "    'h':9,\n",
    "            }\n",
    "\n",
    "for number in secret_code.values():\n",
    "    print(number)"
   ]
  },
  {
   "cell_type": "markdown",
   "metadata": {
    "tags": [
     "en"
    ]
   },
   "source": [
    "#### Iterating over keys and values simultaneously\n",
    "\n",
    "The `.items()` method is designed for this purpose! It returns *tuples* containing the key as the first element and the value as the second element.\n",
    "\n",
    "By indicating to Python that we want to iterate over multiple variables at the same time, it will automatically place the keys **k** in the first variable and the values **v** in the second."
   ]
  },
  {
   "cell_type": "code",
   "execution_count": null,
   "metadata": {
    "tags": [
     "en"
    ]
   },
   "outputs": [],
   "source": [
    "secret_code = {\n",
    "    'a':2,\n",
    "    'b':3,\n",
    "    'c':4,\n",
    "    'd':5,\n",
    "    'e':6,\n",
    "    'f':7,\n",
    "    'g':8,\n",
    "    'h':9,\n",
    "            }\n",
    "\n",
    "print (\"Let's generate tuples from the dictionnary : \\n\") # \\n is used to go to the next line\n",
    "\n",
    "for couple in secret_code.items():\n",
    "    print(f\"This is a tuple: {couple}\")\n",
    "\n",
    "print (\"\\n Let's iterate through the keys and values using two variables : \\n\")\n",
    "    \n",
    "for k, v in secret_code.items():\n",
    "    print(f\"This is the key 'k': {k} and the value v: {v}\")"
   ]
  },
  {
   "cell_type": "markdown",
   "metadata": {
    "tags": [
     "en"
    ]
   },
   "source": [
    "### Exercise (easy)\n",
    "\n",
    "❓ **>>>** You're shopping, here's what's in your basket right now:\n",
    "\n",
    "- Two peppers\n",
    "- Eighteen eggs\n",
    "\n",
    "**1°)** Create a dictionary called \"basket\" in which you will associate the different products inside your basket with their quantity.\n",
    "\n",
    "**2°)** Your flatmate calls you to ask you to buy five aubergines. He also tells you that you already have 6 eggs in the fridge, so you only need 12 eggs. Apply these changes to your existing dictionary using the python instructions.\n",
    "\n",
    "**3°)** In a single loop display for each dictionary entry. \"My product is *product_name* and I have *product_value* of them\"."
   ]
  },
  {
   "cell_type": "code",
   "execution_count": null,
   "metadata": {},
   "outputs": [],
   "source": [
    "# Code here!\n"
   ]
  },
  {
   "cell_type": "markdown",
   "metadata": {
    "tags": [
     "en"
    ]
   },
   "source": [
    "### Exercise (medium)\n",
    "\n",
    "❓ **>>>** From the following character string containing the alphabet, use a loop to create a dictionary that contains each letter of the alphabet and its inverse rank in the alphabet (A = 26, B = 25 ... until Z = 1).\n",
    "\n",
    "**Tips**\n",
    "\n",
    "- Create an empty dictionary before starting the loop.\n",
    "- To find the reverse rank you can create a variable and increment it yourself, or use the `enumerate()` function on the string and use the index of each element (which is a character) of the string."
   ]
  },
  {
   "cell_type": "code",
   "execution_count": null,
   "metadata": {},
   "outputs": [],
   "source": [
    "alphabet = \"ABCDEFGHIJKLMNOPQRSTUVWXYZ\"\n",
    "\n",
    "# code here!"
   ]
  },
  {
   "cell_type": "code",
   "execution_count": null,
   "metadata": {},
   "outputs": [],
   "source": []
  },
  {
   "cell_type": "code",
   "execution_count": null,
   "metadata": {},
   "outputs": [],
   "source": [
    "# You can create dictionary with tuple keys:\n",
    "\n",
    "d = {(x, x + 1): x for x in range(5)} # dict comprehension\n",
    "\n",
    "for k, v in d.items(): print(f\"k: {k}, v : {v}\") # prints the dictionary\n",
    "\n",
    "print(\"d[(1, 2)] :\", d[(1, 2)]) # we can get the value using a uple as key\n",
    "\n",
    "# If I try to create a dictionary with lists as keys, we'll get an error\n",
    "#d = {[x, x + 1]: x for x in range(5)} # yields \"TypeError: unhashable type: 'list'\""
   ]
  }
 ],
 "metadata": {
  "kernelspec": {
   "display_name": "Python 3 (ipykernel)",
   "language": "python",
   "name": "python3"
  },
  "language_info": {
   "codemirror_mode": {
    "name": "ipython",
    "version": 3
   },
   "file_extension": ".py",
   "mimetype": "text/x-python",
   "name": "python",
   "nbconvert_exporter": "python",
   "pygments_lexer": "ipython3",
   "version": "3.11.0"
  }
 },
 "nbformat": 4,
 "nbformat_minor": 4
}
