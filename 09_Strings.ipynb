{
 "cells": [
  {
   "cell_type": "markdown",
   "metadata": {
    "tags": [
     "en"
    ]
   },
   "source": [
    "# STRINGS\n",
    "\n",
    "We have previously seen that strings are in fact ordered sequences of characters. String manipulation is common in programming and Python has a wide range of methods to handle this type of object.\n",
    "\n",
    "## Index\n",
    "\n",
    "Each alphanumeric character has an index in a string. It can be accessed by entering the index, which is always an integer and always starts from 0, so :\n",
    "\n",
    "| H | e | l | l | o |   | W | o | r | l | d  |    | !  | !  | !  |\n",
    "|---|---|---|---|---|---|---|---|---|---|----|----|----|----|----|\n",
    "| 0 | 1 | 2 | 3 | 4 | 5 | 6 | 7 | 8 | 9 | 10 | 11 | 12 | 13 | 14 |"
   ]
  },
  {
   "cell_type": "code",
   "execution_count": null,
   "metadata": {
    "tags": []
   },
   "outputs": [],
   "source": [
    "my_string = \"Hello World !!!\"\n",
    "my_string[0]"
   ]
  },
  {
   "cell_type": "markdown",
   "metadata": {
    "tags": [
     "en"
    ]
   },
   "source": [
    "In Python a string is an iterable obect, so we can use a `for` loop."
   ]
  },
  {
   "cell_type": "code",
   "execution_count": null,
   "metadata": {
    "tags": []
   },
   "outputs": [],
   "source": [
    "my_string = \"Hello World !!!\"\n",
    "\n",
    "for i in my_string:\n",
    "    print(i)"
   ]
  },
  {
   "cell_type": "markdown",
   "metadata": {
    "tags": [
     "en"
    ]
   },
   "source": [
    "## Selecting indexes\n",
    "\n",
    "\n",
    "Several characters can be accessed using a numerical index in square brackets. This is done by separating the start index and the stop index with a `:`. This is also called *slicing*, which is a substring.\n",
    "\n",
    "```python\n",
    "my_string[index_start:index_stop]\n",
    "```\n",
    "\n",
    "Python uses semi-open ranges, so the x is inclusive and the y is exclusive. The function of *slice* takes the *index_start* element into account but stops when it encounters the *index_stop* element, and thus does not take it into account.\n",
    "\n",
    "This makes it possible to write very elegant lines of code. For example, if we want a string to be split into three groups separated by two indices i and j, then: \n",
    "\n",
    "```python\n",
    "a = a[:i] + a[i:j] + a[j:]\n",
    "```\n",
    "Another way of looking at it: if i = 3 and is used as an upper bound, it's a bit like having a value of `2.999999...` with infinite decimal places.\n",
    "\n",
    "Leaving the lower bound or the upper bound empty means we want to select all the indexes from the start or until the end."
   ]
  },
  {
   "cell_type": "code",
   "execution_count": null,
   "metadata": {
    "tags": []
   },
   "outputs": [],
   "source": [
    "my_string = \"Hello World !!!\"\n",
    "\n",
    "print(my_string[0:1])\n",
    "print(my_string[:1])\n",
    "print(my_string[0:4])\n",
    "print(my_string[4:6])\n",
    "print(my_string[12:15])\n",
    "print(my_string[12:])"
   ]
  },
  {
   "cell_type": "markdown",
   "metadata": {
    "tags": [
     "en"
    ]
   },
   "source": [
    "### Negative indexing\n",
    "\n",
    "We can also use negative indexing. In that case the last character is -1.\n",
    "\n",
    "| H   | e   | l   | l   | o   |     | W  | o  | r  | l  | d  |    | !  | !  | !  |\n",
    "|-----|-----|-----|-----|-----|-----|----|----|----|----|----|----|----|----|----|\n",
    "| -15 | -14 | -13 | -12 | -11 | -10 | -9 | -8 | -7 | -6 | -5 | -4 | -3 | -2 | -1 |"
   ]
  },
  {
   "cell_type": "code",
   "execution_count": null,
   "metadata": {
    "tags": []
   },
   "outputs": [],
   "source": [
    "my_string = \"Hello World !!!\"\n",
    "\n",
    "print(my_string[-2:-1])\n",
    "print(my_string[-9:-4])\n",
    "print(my_string[-15:-11])\n",
    "print(my_string[:-4])\n",
    "print(my_string[-9:])"
   ]
  },
  {
   "cell_type": "markdown",
   "metadata": {
    "tags": [
     "en"
    ]
   },
   "source": [
    "### Exercise (easy)\n",
    "\n",
    "❓ **>>>** Use the following variable along with *slices* and `print()` to display:\n",
    "\n",
    "- \"Hello\" (using positive indexes)\n",
    "- \"programmers\" (using negative indexes)"
   ]
  },
  {
   "cell_type": "code",
   "execution_count": null,
   "metadata": {
    "tags": [
     "en"
    ]
   },
   "outputs": [],
   "source": [
    "s = \"Hello to all programmers.\"\n",
    "\n",
    "# Code here!\n"
   ]
  },
  {
   "cell_type": "markdown",
   "metadata": {
    "tags": [
     "en"
    ]
   },
   "source": [
    "# Concatenation\n",
    "\n",
    "This is the act of joining strings or characters together. In Python it's easy, as we've already seen, just use the `+` operator as if they were numbers."
   ]
  },
  {
   "cell_type": "markdown",
   "metadata": {
    "tags": [
     "en"
    ]
   },
   "source": [
    "## Exercise (easy)\n",
    "\n",
    "❓ **>>>** Use a `for` loop to correct the spelling of each item in the following list by adding the **\"di\"** characters when necessary.\n",
    "\n",
    "**TIPS:**\n",
    "\n",
    "- Beware, there is an exception for \"dimanche\", use an `if` in your loop to fix the problem!"
   ]
  },
  {
   "cell_type": "code",
   "execution_count": null,
   "metadata": {
    "tags": []
   },
   "outputs": [],
   "source": [
    "jours_tronques = [\"lun\", \"mar\", \"mercre\", \"jeu\", \"vendre\", \"same\", \"manche\"]\n",
    "\n",
    "# Tapez votre code ici :\n"
   ]
  },
  {
   "cell_type": "markdown",
   "metadata": {
    "tags": [
     "en"
    ]
   },
   "source": [
    "# Other useful functions\n",
    "\n",
    "## The `in` keyword\n",
    "\n",
    "This python statement simply means \"in\" or more accurately \"contained in\". So far we've always seen it with `for`, but it can also be used to check that an object contains a certain element. In this case it returns `True` if the element we're looking for is contained in the object or `False` otherwise.\n",
    "\n",
    "For example:"
   ]
  },
  {
   "cell_type": "code",
   "execution_count": null,
   "metadata": {
    "tags": []
   },
   "outputs": [],
   "source": [
    "seq = [\"a\", \"b\", \"c\", \"d\"]\n",
    "\n",
    "print(\"a\" in seq)\n",
    "print(\"e\" in seq)"
   ]
  },
  {
   "cell_type": "markdown",
   "metadata": {
    "tags": [
     "en"
    ]
   },
   "source": [
    "### The `not` operator\n",
    "If you need the opposite behaviour, just add a `not` before the `in`. For example:"
   ]
  },
  {
   "cell_type": "code",
   "execution_count": null,
   "metadata": {
    "tags": []
   },
   "outputs": [],
   "source": [
    "seq = [\"a\", \"b\", \"c\", \"d\"]\n",
    "\n",
    "print(\"z\" not in seq)"
   ]
  },
  {
   "cell_type": "markdown",
   "metadata": {
    "tags": [
     "en"
    ]
   },
   "source": [
    "## Exercise (easy)\n",
    "\n",
    "❓ **>>>** If the letter \"x\" is contained in the list named \"symbols\", display the text \"x is inside the list\". Otherwise display \"x is not inside the list\".\n",
    "\n",
    "Then if \"pi\" is not present in the text, display \"pi is not in the list\", otherwise display \"pi is in the list\".\n",
    "\n",
    "**Tip**:\n",
    "\n",
    "- Use `if`, `else`, `in` and `not`."
   ]
  },
  {
   "cell_type": "code",
   "execution_count": null,
   "metadata": {
    "tags": []
   },
   "outputs": [],
   "source": [
    "symbols = [\"phi\", \"x\", \"lambda\", \"epsilon\", \"y\"]\n",
    "\n",
    "# code here!"
   ]
  },
  {
   "cell_type": "markdown",
   "metadata": {
    "tags": [
     "en"
    ]
   },
   "source": [
    "## Upper and lower case\n",
    "\n",
    "The `.upper()` and `.lower()` methods convert all of the characters to uppercase or to lowercase. Example: "
   ]
  },
  {
   "cell_type": "code",
   "execution_count": null,
   "metadata": {
    "tags": [
     "en"
    ]
   },
   "outputs": [],
   "source": [
    "loud = \"UPPERCASE!!!\"\n",
    "soft = \"lowercase...\"\n",
    "\n",
    "print(loud.lower())\n",
    "print(soft.upper())"
   ]
  },
  {
   "cell_type": "markdown",
   "metadata": {
    "tags": [
     "en"
    ]
   },
   "source": [
    "## Exercise (easy)\n",
    "\n",
    "❓ **>>>** Show all the words in the following list in lower case.\n",
    "\n",
    "**Tips**:\n",
    "\n",
    "- Use a `for` loop."
   ]
  },
  {
   "cell_type": "code",
   "execution_count": null,
   "metadata": {
    "tags": []
   },
   "outputs": [],
   "source": [
    "l = ['NooB', 'HaCKerZ', 'NeWBiE']\n",
    "# tapez votre code ici\n"
   ]
  },
  {
   "cell_type": "markdown",
   "metadata": {
    "tags": [
     "en"
    ]
   },
   "source": [
    "## Exercise (medium)\n",
    "\n",
    "❓ **>>>** The letter \"e\" is the most common in the English language, but how many times is it present in these two extracts from texts written, respectively, by Poe and Wright?\n",
    "\n",
    "**ASTUCES**:\n",
    "\n",
    "- Here we will iterate on each character of the string.\n",
    "- Be careful with upper and lower case! You'll have to handle this using `.upper()` or `.lower()`.\n",
    "- The three double quotes `\"\"\"` let Python know that everything that follows is text, until you close the triple double quotes."
   ]
  },
  {
   "cell_type": "code",
   "execution_count": null,
   "metadata": {
    "tags": [
     "en"
    ]
   },
   "outputs": [],
   "source": [
    "poe = \"\"\"\n",
    "Once upon a midnight dreary, while I pondered, weak and weary,\n",
    "Over many a quaint and curious volume of forgotten lore—\n",
    "    While I nodded, nearly napping, suddenly there came a tapping,\n",
    "As of some one gently rapping, rapping at my chamber door.\n",
    "“’Tis some visitor,” I muttered, “tapping at my chamber door—\n",
    "            Only this and nothing more.”\n",
    "\n",
    "Ah, distinctly I remember it was in the bleak December;\n",
    "And each separate dying ember wrought its ghost upon the floor.\n",
    "    Eagerly I wished the morrow;—vainly I had sought to borrow\n",
    "    From my books surcease of sorrow—sorrow for the lost Lenore—\n",
    "For the rare and radiant maiden whom the angels name Lenore—\n",
    "            Nameless here for evermore.\n",
    "\"\"\"\n",
    "\n",
    "wright = \"\"\"\n",
    "If Youth, throughout all history, had had a champion to stand up for it;\n",
    "to show a doubting world that a child can think; and, possibly, do it practically;\n",
    "you wouldn't constantly run across folks today who claim that \"a child don't know anything.\"\n",
    "A child's brain starts functioning at birth; and has, amongst its many infant convolutions,\n",
    "thousands of dormant atoms, into which God has put a mystic possibility for noticing an adult's act,\n",
    "and figuring out its purport.\n",
    "\"\"\"\n",
    "\n",
    "# code here!\n",
    "\n"
   ]
  },
  {
   "cell_type": "markdown",
   "metadata": {
    "tags": [
     "en"
    ]
   },
   "source": [
    "## Function `.split()`\n",
    "\n",
    "This function splits a string into a list at the specified separator and returns a list of substrings. By default, the separator is the space \" \". Example :"
   ]
  },
  {
   "cell_type": "code",
   "execution_count": null,
   "metadata": {
    "tags": [
     "en"
    ]
   },
   "outputs": [],
   "source": [
    "a_string = \"Hello, I am a sentence. So I'm made up of several words, logical, right?\"\n",
    "a_string.split()"
   ]
  },
  {
   "cell_type": "markdown",
   "metadata": {
    "tags": [
     "en"
    ]
   },
   "source": [
    "But we could use the comma as separator:"
   ]
  },
  {
   "cell_type": "code",
   "execution_count": null,
   "metadata": {
    "tags": [
     "en"
    ]
   },
   "outputs": [],
   "source": [
    "a_string = \"Hello, I am a sentence. So I'm made up of several words, logical, right?\"\n",
    "a_string.split(\",\")"
   ]
  },
  {
   "cell_type": "markdown",
   "metadata": {
    "tags": [
     "en"
    ]
   },
   "source": [
    "## Exercise (medium)\n",
    "\n",
    "❓ **>>>** From the sentence stored in the \"text\" variable, display each of the words but change them so that they all start with a capital letter.\n",
    "\n",
    "**TIPS**:\n",
    "\n",
    "- Don't forget the principles of concatenation, *slices* and `.split()`!\n",
    "- As a reminder: the method for capitalizing characters is `.upper()`."
   ]
  },
  {
   "cell_type": "code",
   "execution_count": null,
   "metadata": {
    "tags": [
     "en"
    ]
   },
   "outputs": [],
   "source": [
    "text = \"\"\"\n",
    "Python is a language that can be used in many contexts\n",
    "and can be adapted to any type of use thanks to specialised libraries.\n",
    "\"\"\"\n",
    "\n",
    "# Code here!"
   ]
  },
  {
   "cell_type": "markdown",
   "metadata": {
    "tags": [
     "en"
    ]
   },
   "source": [
    "## The `.replace()` method\n",
    "\n",
    "If you want to replace one or more characters in a string (*substring*), you can use a very handy method: `.replace()`.\n",
    "\n",
    "```python\n",
    "string.replace(original, new, count)\n",
    "```\n",
    "\n",
    "Where:\n",
    "- **old**: the original substring you want to replace.\n",
    "- **new** : the new substring.\n",
    "- **count** : the number of times you want to replace the original substring with the new one (optional).\n",
    "\n",
    "For example :"
   ]
  },
  {
   "cell_type": "code",
   "execution_count": null,
   "metadata": {
    "tags": [
     "en"
    ]
   },
   "outputs": [],
   "source": [
    "text = \"Hell@, h@w you d@ing?\"\n",
    "print(f\"Text before: {text}\")\n",
    "\n",
    "text = text.replace('@', 'o')\n",
    "print(f\"Text after: {text}\")"
   ]
  },
  {
   "cell_type": "markdown",
   "metadata": {
    "tags": [
     "en"
    ]
   },
   "source": [
    "## Exercise (easy/medium)\n",
    "\n",
    "❓ **>>>** We want to modify the following list to clearly display the first names, surnames and email providers in the following form:\n",
    "\n",
    "```python\n",
    "\"firstname lastname - Mailbox provider: name.ext\"\n",
    "```\n",
    "For example for the address:\n",
    "```python\n",
    "\"jeanne.chose@no-log.org\"\n",
    "```\n",
    "we want the following result:\n",
    "```python\n",
    "\"jeanne chose - Mailbox provider: no-log.org\"\n",
    "```\n",
    "\n",
    "**TIPS:**\n",
    "\n",
    "- Be careful! You only want to delete **the first point, not the second!**\n",
    "- You can apply a method after another method, for example a succession of `.replace()` on a string."
   ]
  },
  {
   "cell_type": "code",
   "execution_count": null,
   "metadata": {
    "tags": []
   },
   "outputs": [],
   "source": [
    "emails = [\"jean.truc@aol.com\", \"herve.bidule@wanadoo.fr\", \"emilie.machin@caramail.com\"]\n",
    "\n",
    "# Code here!\n"
   ]
  },
  {
   "cell_type": "code",
   "execution_count": null,
   "metadata": {},
   "outputs": [],
   "source": []
  }
 ],
 "metadata": {
  "kernelspec": {
   "display_name": "Python 3 (ipykernel)",
   "language": "python",
   "name": "python3"
  },
  "language_info": {
   "codemirror_mode": {
    "name": "ipython",
    "version": 3
   },
   "file_extension": ".py",
   "mimetype": "text/x-python",
   "name": "python",
   "nbconvert_exporter": "python",
   "pygments_lexer": "ipython3",
   "version": "3.11.0"
  }
 },
 "nbformat": 4,
 "nbformat_minor": 4
}
