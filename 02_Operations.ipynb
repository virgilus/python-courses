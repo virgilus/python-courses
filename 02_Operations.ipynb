{
 "cells": [
  {
   "cell_type": "markdown",
   "metadata": {
    "editable": true,
    "slideshow": {
     "slide_type": ""
    },
    "tags": []
   },
   "source": [
    "# OPERATIONS"
   ]
  },
  {
   "cell_type": "markdown",
   "metadata": {
    "editable": true,
    "slideshow": {
     "slide_type": ""
    },
    "tags": [
     "en"
    ]
   },
   "source": [
    "# Basic arithmetic"
   ]
  },
  {
   "cell_type": "markdown",
   "metadata": {
    "editable": true,
    "slideshow": {
     "slide_type": ""
    },
    "tags": [
     "en"
    ]
   },
   "source": [
    "### Common shortcuts used in Jupyter\n",
    "\n",
    "- Shift + enter -> Execute the contents of a cell\n",
    "\n",
    "The escape key is used to enter \"command\" mode.\n",
    "\n",
    "- Esc + a -> Insert a line above\n",
    "- Esc + b -> Insert a line below\n",
    "- Esc + m -> Change the cell to \"markdown\" format (to display text)\n",
    "- Esc + y -> Switch the cell to \"code\" mode (which can be used)\n",
    "- Esc + r -> Switch the cell to \"raw\" mode (which is neither code nor markdown)\n",
    "- Esc + d d -> Delete a cell\n",
    "\n",
    "A more detailed list can be found by [following this link](https://opensharing.fr/scripting-python-jupyter-shortcuts)."
   ]
  },
  {
   "cell_type": "markdown",
   "metadata": {
    "tags": [
     "en"
    ]
   },
   "source": [
    "### Displaying a message using the Print function\n",
    "\n",
    "The print function is used to display a message to the user. The syntax is very simple: just type ``print()``, and give it as argument the text to be displayed by placing it in quotes. For example :"
   ]
  },
  {
   "cell_type": "code",
   "execution_count": null,
   "metadata": {
    "tags": []
   },
   "outputs": [],
   "source": [
    "print(\"Hello World!\")"
   ]
  },
  {
   "cell_type": "markdown",
   "metadata": {
    "tags": [
     "en"
    ]
   },
   "source": [
    "Now, you know what a function is: it is very similar to a function in mathematics. It is a process that, in most cases, takes parameters as input and returns a result."
   ]
  },
  {
   "cell_type": "markdown",
   "metadata": {
    "tags": [
     "en"
    ]
   },
   "source": [
    "## Language Formatting\n",
    "\n",
    "- Python is a language that follows a strict structure: each statement must be written on a different line.\n",
    "\n",
    "- Comments can be added by using the hash key before writing it. Comments are useful to explain or structure the code. If you type a \"#\" at the beginning of a line, python ignore everything written after it. Example:"
   ]
  },
  {
   "cell_type": "code",
   "execution_count": null,
   "metadata": {
    "tags": [
     "en"
    ]
   },
   "outputs": [],
   "source": [
    "# I can write a comment here!\n",
    "\n",
    "print(\"Hello World!\") # Or here!"
   ]
  },
  {
   "cell_type": "markdown",
   "metadata": {
    "tags": [
     "en"
    ]
   },
   "source": [
    "## Basic operations\n",
    "\n",
    "Python, at a minimum, is a giant calculator. The basic operators are:\n",
    "\n",
    "- Addition: +\n",
    "- Subtraction: -\n",
    "- Multiplication: *\n",
    "- Division: /\n",
    "\n",
    "To add decimals, the \".\" is used as a separator. Since Python 3.6, undescores (\"_\") can also be used as a thousands separator."
   ]
  },
  {
   "cell_type": "markdown",
   "metadata": {
    "tags": [
     "en"
    ]
   },
   "source": [
    "## PEP8\n",
    "\n",
    "\"PEP8\", or \"Python Enhancement Proposal 8\", is a style guide for Python that aims to improve the readability of code and make it consistent across the wide spectrum of Python projects. [The official document can be found here](https://peps.python.org/pep-0008/).\n",
    "\n",
    "PEP8 recommends adding spaces before and after each operator. (However, there are some exceptions that we will see later on)."
   ]
  },
  {
   "cell_type": "markdown",
   "metadata": {
    "tags": []
   },
   "source": [
    "## Exemples"
   ]
  },
  {
   "cell_type": "code",
   "execution_count": null,
   "metadata": {
    "tags": []
   },
   "outputs": [],
   "source": [
    "1 + 1"
   ]
  },
  {
   "cell_type": "code",
   "execution_count": null,
   "metadata": {
    "tags": []
   },
   "outputs": [],
   "source": [
    "9.3 + 0.7"
   ]
  },
  {
   "cell_type": "code",
   "execution_count": null,
   "metadata": {
    "tags": []
   },
   "outputs": [],
   "source": [
    "12 - 38"
   ]
  },
  {
   "cell_type": "code",
   "execution_count": null,
   "metadata": {},
   "outputs": [],
   "source": [
    "57.678 * 897.789"
   ]
  },
  {
   "cell_type": "code",
   "execution_count": null,
   "metadata": {
    "tags": []
   },
   "outputs": [],
   "source": [
    "525346.456 / 35263.156"
   ]
  },
  {
   "cell_type": "code",
   "execution_count": null,
   "metadata": {
    "tags": []
   },
   "outputs": [],
   "source": [
    "1000000 * 35000"
   ]
  },
  {
   "cell_type": "code",
   "execution_count": null,
   "metadata": {
    "tags": []
   },
   "outputs": [],
   "source": [
    "1_000_000 * 35_000"
   ]
  },
  {
   "cell_type": "markdown",
   "metadata": {
    "tags": [
     "en"
    ]
   },
   "source": [
    "In Python spaces between numbers and operators are optional, but it is recommended to use them in order to comply with coding conventions (PEP8). Parentheses are used in the same way as in mathematics: the expressions between the parentheses will be calculated first, and then the [precedence rules](https://en.wikipedia.org/wiki/Order_of_operations) apply normally."
   ]
  },
  {
   "cell_type": "markdown",
   "metadata": {
    "tags": [
     "en"
    ]
   },
   "source": [
    "## Exercise (easy)\n",
    "\n",
    "❓ **>>>** You go shopping at the local organic market gardener. From the shopping list, calculate the price you will have to pay for each type of vegetable.\n",
    "\n",
    "| Vegetable        | Price           | Quantity      | Note           |\n",
    "|------------------|-----------------|---------------|----------------|\n",
    "| Turnips          | 1,94€/kg        | 751g          |                |\n",
    "| Onion bundle     | 75cts each      | 3 bundles     |                |\n",
    "| Butternut squash | 5,17€ per piece | half a squash |                |\n",
    "| Spinach          | 3,23€ per kilo  | 1,335 kg      | discount: -25% |"
   ]
  },
  {
   "cell_type": "code",
   "execution_count": null,
   "metadata": {},
   "outputs": [],
   "source": [
    "# Code here and on the next cells!\n"
   ]
  },
  {
   "cell_type": "code",
   "execution_count": null,
   "metadata": {},
   "outputs": [],
   "source": []
  },
  {
   "cell_type": "code",
   "execution_count": null,
   "metadata": {},
   "outputs": [],
   "source": []
  },
  {
   "cell_type": "code",
   "execution_count": null,
   "metadata": {},
   "outputs": [],
   "source": []
  },
  {
   "cell_type": "markdown",
   "metadata": {
    "tags": [
     "en"
    ]
   },
   "source": [
    "# Advanced Arithmetic\n",
    "\n",
    "- Powers : **\n",
    "- Euclidean division: //\n",
    "- The modulo (remainder of the euclidean division): %."
   ]
  },
  {
   "cell_type": "code",
   "execution_count": null,
   "metadata": {
    "tags": []
   },
   "outputs": [],
   "source": [
    "14 ** 5"
   ]
  },
  {
   "cell_type": "code",
   "execution_count": null,
   "metadata": {
    "tags": []
   },
   "outputs": [],
   "source": [
    "14 // 5"
   ]
  },
  {
   "cell_type": "code",
   "execution_count": null,
   "metadata": {
    "tags": []
   },
   "outputs": [],
   "source": [
    "14 % 5"
   ]
  }
 ],
 "metadata": {
  "kernelspec": {
   "display_name": "Python 3 (ipykernel)",
   "language": "python",
   "name": "python3"
  },
  "language_info": {
   "codemirror_mode": {
    "name": "ipython",
    "version": 3
   },
   "file_extension": ".py",
   "mimetype": "text/x-python",
   "name": "python",
   "nbconvert_exporter": "python",
   "pygments_lexer": "ipython3",
   "version": "3.11.0"
  },
  "toc-autonumbering": false,
  "toc-showcode": false,
  "toc-showmarkdowntxt": false,
  "toc-showtags": false
 },
 "nbformat": 4,
 "nbformat_minor": 4
}
