{
 "cells": [
  {
   "cell_type": "markdown",
   "metadata": {},
   "source": [
    "# CONDITIONS"
   ]
  },
  {
   "cell_type": "markdown",
   "metadata": {
    "tags": [
     "en"
    ]
   },
   "source": [
    "# Definition\n",
    "\n",
    "## General idea\n",
    "\n",
    "Conditions allow our programs to perform different operations based on test results.\n",
    "\n",
    "Here is an example of a condition written in English but formatted as required by python.\n",
    "\n",
    "```\n",
    "if it rains :\n",
    "    take the bus\n",
    "otherwise :\n",
    "    go by bike\n",
    "```"
   ]
  },
  {
   "cell_type": "markdown",
   "metadata": {
    "tags": [
     "en"
    ]
   },
   "source": [
    "## Indentation\n",
    "\n",
    "<img src=\"files/tab.jpg\" alt=\"tab\" width=\"200\" align=\"left\"/>\n",
    "In the example above, you will notice that there is an \"offset\", a space, between the line containing the condition to be tested and the line containing the action to be performed. In Python most of the time an identation equals four spaces.\n",
    "\n",
    "This is called **\"indentation \"**. That is, adding spaces, or series of spaces, using the \"tab\" key to highlight what are called **\"code blocks \"**. Code blocks can be indented successively, so we speak of indentation levels. For example :"
   ]
  },
  {
   "cell_type": "raw",
   "metadata": {
    "tags": [
     "en"
    ]
   },
   "source": [
    "hello\n",
    "    here is an indented line\n",
    "    this one too, we are in the first level of indentation\n",
    "        this one is indented in relation to the previous one\n",
    "        here we are in the second indentation level\n",
    "            And here in a third level!\n",
    "    back to the first level\n",
    "And here we are out of the indented text"
   ]
  },
  {
   "cell_type": "markdown",
   "metadata": {
    "tags": [
     "en"
    ]
   },
   "source": [
    "To add an indentation level, simply select the lines you wish to indent and press **\"tab \"**.\n",
    "To remove an indentation level, do the same operation but press **\"shift+tab \"** simultaneously."
   ]
  },
  {
   "cell_type": "markdown",
   "metadata": {
    "tags": [
     "en"
    ]
   },
   "source": [
    "# Tests and conditions\n",
    "\n",
    "## Comparison operators\n",
    "\n",
    "### Usual operators\n",
    "\n",
    "Python is able to compare different values or expressions with each other. Here is a first list of operators used, you will notice that they are very similar to those used in mathematics.\n",
    "\n",
    "- ``<`` means \"less than\".\n",
    "- ``>`` means \"greater than\".\n",
    "- ``>=`` means \"greater than or equal to\"\n",
    "- ``<=`` means \"less than or equal to\".\n",
    "- ``==`` means \"is equal to\".\n",
    "- ``!=`` means \"different from\".\n",
    "\n",
    "**Note:** In computer science we distinguish the assignment operator from the equality operator. Indeed:\n",
    "- The sign ``==`` tests whether two expressions are equal.\n",
    "- The sign ``=`` assigns the content of the right-hand expression to the left-hand one.\n",
    "\n",
    "Example:"
   ]
  },
  {
   "cell_type": "code",
   "execution_count": null,
   "metadata": {
    "tags": []
   },
   "outputs": [],
   "source": [
    "my_variable = 3"
   ]
  },
  {
   "cell_type": "code",
   "execution_count": null,
   "metadata": {
    "tags": []
   },
   "outputs": [],
   "source": [
    "my_variable == 3"
   ]
  },
  {
   "cell_type": "markdown",
   "metadata": {
    "tags": [
     "en"
    ]
   },
   "source": [
    "### True or false? Binary again\n",
    "\n",
    "As a result of this comparison, Python has just returned ``True``.\n",
    "\n",
    "In the introduction, we saw that the concept of true or false the very heart of computing. When performing a comparison between two values or expressions, python returns a result that is either ``True`` or ``False``. These two values belong to a new type: they are said to be boolean values (``bool``).\n",
    "\n",
    "**Note**\n",
    "\n",
    "- Be careful with the capitalization of ``True`` and ``False``. Otherwise Python will think you are talking about a variable.\n",
    "- Python's reserved words, like ``True`` and ``False``, appear in green in Jupyter Lab.\n",
    "\n",
    "Let's check this for ourselves:"
   ]
  },
  {
   "cell_type": "code",
   "execution_count": null,
   "metadata": {
    "tags": []
   },
   "outputs": [],
   "source": [
    "type(True)"
   ]
  },
  {
   "cell_type": "code",
   "execution_count": null,
   "metadata": {
    "tags": []
   },
   "outputs": [],
   "source": [
    "type(False)"
   ]
  },
  {
   "cell_type": "markdown",
   "metadata": {
    "tags": [
     "en"
    ]
   },
   "source": [
    "Let's check out some examples:"
   ]
  },
  {
   "cell_type": "code",
   "execution_count": null,
   "metadata": {},
   "outputs": [],
   "source": [
    "3 == 3"
   ]
  },
  {
   "cell_type": "code",
   "execution_count": null,
   "metadata": {},
   "outputs": [],
   "source": [
    "3 == 4"
   ]
  },
  {
   "cell_type": "code",
   "execution_count": null,
   "metadata": {},
   "outputs": [],
   "source": [
    "38 >= 12 "
   ]
  },
  {
   "cell_type": "code",
   "execution_count": null,
   "metadata": {},
   "outputs": [],
   "source": [
    "12 < 8"
   ]
  },
  {
   "cell_type": "code",
   "execution_count": null,
   "metadata": {},
   "outputs": [],
   "source": [
    "12 <= 12"
   ]
  },
  {
   "cell_type": "code",
   "execution_count": null,
   "metadata": {},
   "outputs": [],
   "source": [
    "9 != 8"
   ]
  },
  {
   "cell_type": "code",
   "execution_count": null,
   "metadata": {},
   "outputs": [],
   "source": [
    "22 != 22"
   ]
  },
  {
   "cell_type": "markdown",
   "metadata": {
    "tags": [
     "en"
    ]
   },
   "source": [
    "By \"expression\" we mean any object that can be evaluated, such as a variable, a character, a number, as well as their association, for example by using parentheses. Ex:"
   ]
  },
  {
   "cell_type": "code",
   "execution_count": null,
   "metadata": {
    "tags": []
   },
   "outputs": [],
   "source": [
    "my_variable = 3\n",
    "(my_variable + 3) == (2 + 2 * 2)"
   ]
  },
  {
   "cell_type": "code",
   "execution_count": null,
   "metadata": {
    "tags": []
   },
   "outputs": [],
   "source": [
    "my_variable = 3\n",
    "(my_variable * my_variable) == 9"
   ]
  },
  {
   "cell_type": "code",
   "execution_count": null,
   "metadata": {
    "tags": []
   },
   "outputs": [],
   "source": [
    "my_variable = 3\n",
    "(my_variable * my_variable) == 9.00000000000001"
   ]
  },
  {
   "cell_type": "markdown",
   "metadata": {
    "tags": [
     "en"
    ]
   },
   "source": [
    "## The ``if`` statement\n",
    "\n",
    "The ``if`` statement allows code to be executed when a comparison returns ``True``. When using ``if``, the executed block must be **indented**.\n",
    "\n",
    "The syntax is as follows:\n",
    "\n",
    "```python\n",
    "if condition:\n",
    "    statement 1\n",
    "    statement 2\n",
    "    statement n\n",
    "```\n",
    "\n",
    "Note the use of the **\": \"** at the end. It tells Python that the instruction, or block of instruction code, that follows is indented. You can think of it as an equivalent of a \"then\" (*then*).\n",
    "Example:"
   ]
  },
  {
   "cell_type": "code",
   "execution_count": null,
   "metadata": {
    "tags": [
     "en"
    ]
   },
   "outputs": [],
   "source": [
    "my_variable = 3\n",
    "\n",
    "if my_variable == 3:\n",
    "    print(\"This variable is equal to three.\")"
   ]
  },
  {
   "cell_type": "markdown",
   "metadata": {
    "tags": [
     "en"
    ]
   },
   "source": [
    "It works for any object, like a string."
   ]
  },
  {
   "cell_type": "code",
   "execution_count": null,
   "metadata": {
    "tags": [
     "en"
    ]
   },
   "outputs": [],
   "source": [
    "string = \"aaa\"\n",
    "\n",
    "if string == \"aaa\":\n",
    "    print('This variable contains \"aaa\"')"
   ]
  },
  {
   "cell_type": "markdown",
   "metadata": {
    "tags": [
     "en"
    ]
   },
   "source": [
    "## the \"else\" statement\n",
    "\n",
    "The ``else`` statement allows code to be executed when the test expression (``if``) is evaluated to False. This statement always works in addition to an ``if``, it cannot exist without it.\n",
    "\n",
    "**Note:**\n",
    "- Notice in the following example how the ``#`` also allows lines of code to be passed as comments and thus not executed. If we ever want to change the value of the weather variable to \"rain\", we can just remove the ``#``)\n",
    "\n",
    "Let's go back to the example from the beginning of the course:"
   ]
  },
  {
   "cell_type": "code",
   "execution_count": null,
   "metadata": {
    "tags": [
     "en"
    ]
   },
   "outputs": [],
   "source": [
    "weather = \"rain\"\n",
    "# weather = \"sun\"\n",
    "\n",
    "if weather == \"rain\":\n",
    "    print(\"It's raining... Let's take the bus!\")\n",
    "else:\n",
    "    print(\"It's sunny, let's go by bike!\")"
   ]
  },
  {
   "cell_type": "markdown",
   "metadata": {
    "tags": [
     "en"
    ]
   },
   "source": [
    "## the \"elif\" statement\n",
    "\n",
    "The ``elif`` statement, which is a contraction of \"Else If\" is used to execute code when the test condition in the first ``if`` is evaluated false, but another condition is evaluated true.\n",
    "\n",
    "The following example comments on a student's grade in an exam. You will notice that with ``elif`` as soon as the condition is met the program exits the conditional structure. Had we only used several ``if`` then the program would have allowed multiple answers, which we don't want."
   ]
  },
  {
   "cell_type": "code",
   "execution_count": null,
   "metadata": {
    "tags": [
     "en"
    ]
   },
   "outputs": [],
   "source": [
    "grade = 19\n",
    "\n",
    "if grade > 20:\n",
    "    print(\"Impossible\")\n",
    "elif grade == 20:\n",
    "    print(\"Perfect\")\n",
    "elif grade >= 10:\n",
    "    print(\"More than 10\")\n",
    "elif grade >= 0:\n",
    "    print(\"Less than 10\")\n",
    "else:\n",
    "    print(\"Below 0\")"
   ]
  },
  {
   "cell_type": "markdown",
   "metadata": {
    "tags": [
     "en"
    ]
   },
   "source": [
    "## Exercise (easy)\n",
    "\n",
    "Write a program that :\n",
    "\n",
    "- Takes as input the age of a person in a variable named \"age\".\n",
    "\n",
    "- If the person is over 122 years old, [world record for longevity](https://fr.wikipedia.org/wiki/Jeanne_Calment), tell them that their age is not credible.\n",
    "\n",
    "- If the person is over 18, use ``print()`` to tell them that they are eligible to vote.\n",
    "\n",
    "- If the person is under 18, tell them they are not eligible to vote.\n",
    "\n",
    "- If the person is 0 years old or younger, tell him/her that this age is impossible.\n",
    "\n",
    "Write the program step by step, running it regularly to check that everything is working correctly.\n",
    "\n",
    "**Note:**\n",
    "- Note that the order in which you test the different scenarios plays a crucial role in the final result."
   ]
  },
  {
   "cell_type": "code",
   "execution_count": null,
   "metadata": {},
   "outputs": [],
   "source": [
    "# Code here!\n"
   ]
  },
  {
   "cell_type": "markdown",
   "metadata": {
    "tags": [
     "en"
    ]
   },
   "source": [
    "# Logic gates\n",
    "\n",
    "Sometimes we want to check whether several conditions, or just one of them, are fulfilled simultaneously. There are some very handy operators for this AND and OR.\n",
    "\n",
    "If you remember the introduction, you may remember this little table :\n",
    "\n",
    "| A | B | A AND B | A OR B  |\n",
    "|:-:|:-:|:-------:|:-------:|\n",
    "| 0 | 0 |    0    |    0    |\n",
    "| 1 | 0 |    0    |    1    |\n",
    "| 0 | 1 |    0    |    1    |\n",
    "| 1 | 1 |    1    |    1    |"
   ]
  },
  {
   "cell_type": "markdown",
   "metadata": {
    "tags": [
     "en"
    ]
   },
   "source": [
    "## The \"AND\" and \"OR\" operators\n",
    "\n",
    "When performing comparisons, Python will first evaluate whether each expression is true or false before evaluating them against each other.\n",
    "\n",
    "The AND and OR operators will be evaluated after common mathematical operations (multiplication, division, etc.) as well as after comparison operators (>, <=, etc.). A table is available at the end of this notebook.\n",
    "\n",
    "If you have any doubts about the order of priorities in Python, you can always use parentheses. When there are different operators in an expression, Python always starts by evaluating what is inside parentheses."
   ]
  },
  {
   "cell_type": "markdown",
   "metadata": {
    "tags": [
     "en"
    ]
   },
   "source": [
    "### \"AND\"\n",
    "\n",
    "You look at your basket of vegetables and wonder if you have enough of each.\n",
    "    \n",
    "**NOTES**:\n",
    "- In this case, PEP8 recommends removing spaces between expressions that are calculated first to improve visibility. This does not change the execution of the code; it's just a convention."
   ]
  },
  {
   "cell_type": "code",
   "execution_count": null,
   "metadata": {
    "tags": [
     "en"
    ]
   },
   "outputs": [],
   "source": [
    "c = 5 # courgettes\n",
    "a = 12 # aubergines\n",
    "\n",
    "if c>=3 and a>=3:\n",
    "    print(\"I have at least 3 vegetables of each type.\")"
   ]
  },
  {
   "cell_type": "markdown",
   "metadata": {
    "tags": [
     "en"
    ]
   },
   "source": [
    "The expression is displayed since it only takes one of the two expressions to be ``True`` for the ``gold`` to return ``True``. Remember:\n",
    "\n",
    "```\n",
    "True AND True -> true\n",
    "True AND False -> false\n",
    "False AND True -> false\n",
    "False AND False -> false\n",
    "\n",
    "```"
   ]
  },
  {
   "cell_type": "markdown",
   "metadata": {
    "tags": [
     "en"
    ]
   },
   "source": [
    "### \"OR\"\n",
    "\n",
    "Do I have at least 3 courgettes or 3 aubergines?"
   ]
  },
  {
   "cell_type": "code",
   "execution_count": null,
   "metadata": {
    "tags": [
     "en"
    ]
   },
   "outputs": [],
   "source": [
    "c = 12 # courgettes\n",
    "a = 0 # aubergines\n",
    "\n",
    "if c>=3 or a>=3:\n",
    "    print(\"I have at least 3 courgettes or 3 aubergines\")"
   ]
  },
  {
   "cell_type": "markdown",
   "metadata": {
    "tags": [
     "en"
    ]
   },
   "source": [
    "The expression is displayed since it only takes one of the two expressions to be ``True`` for the ``or`` to return ``True``. Remember:\n",
    "\n",
    "```\n",
    "True OR True -> True\n",
    "True OR False -> True\n",
    "False OR True -> True\n",
    "False OR False -> False\n",
    "```"
   ]
  },
  {
   "cell_type": "markdown",
   "metadata": {
    "tags": [
     "en"
    ]
   },
   "source": [
    "## Exercise (easy)\n",
    "\n",
    "From the example below, complete the last recipe, \"Vegetable omelette\", which requires :\n",
    "- At least 3 eggs.\n",
    "- The second ingredient can be either at least 2 aubergines, or at least 3 courgettes or at least 4 tomatoes.\n",
    "\n",
    "If so, display the following message:\n",
    "\n",
    "```python\n",
    "\"We can cook a vegetable omelette!\"\n",
    "```\n",
    "\n",
    "**TIPS**:\n",
    "\n",
    "- You only need two lines of code.\n",
    "- You need to combine ``and`` and ``or`` operations in the same condition."
   ]
  },
  {
   "cell_type": "code",
   "execution_count": null,
   "metadata": {
    "tags": [
     "en"
    ]
   },
   "outputs": [],
   "source": [
    "# In my basket there are:\n",
    "c = 3 # courgettes\n",
    "a = 3 # aubergines\n",
    "o = 3 # eggs\n",
    "t = 4 # tomatoes\n",
    "\n",
    "# courgettes omelette\n",
    "if c>=2 and o>=4:\n",
    "    print(\"Large courgettes omelette.\")\n",
    "elif c>=1 and o>=2:\n",
    "    print(\"Small courgettes omelette.\")\n",
    "\n",
    "# Third recipy. Type your code here:\n",
    "\n"
   ]
  },
  {
   "cell_type": "markdown",
   "metadata": {
    "tags": [
     "en"
    ]
   },
   "source": [
    "## Evaluating a condition\n",
    "\n",
    "Whenever we write a condition python evaluates that expression and assigns it a value: ``True`` if it is true and ``False`` if it is false. This can be checked by running tests in Python:"
   ]
  },
  {
   "cell_type": "code",
   "execution_count": null,
   "metadata": {},
   "outputs": [],
   "source": [
    "True and False"
   ]
  },
  {
   "cell_type": "code",
   "execution_count": null,
   "metadata": {},
   "outputs": [],
   "source": [
    "(True and False) and (True or False)"
   ]
  },
  {
   "cell_type": "code",
   "execution_count": null,
   "metadata": {},
   "outputs": [],
   "source": [
    "(True and False) or (True or False)"
   ]
  },
  {
   "cell_type": "code",
   "execution_count": null,
   "metadata": {},
   "outputs": [],
   "source": [
    "((True or False) or (True and False)) or (True and (True and False))"
   ]
  },
  {
   "cell_type": "markdown",
   "metadata": {
    "tags": [
     "en"
    ]
   },
   "source": [
    "## Nested conditional structures\n",
    "\n",
    "It is possible to nest an ``if`` structure inside an other one. This can be used to avoid repeating tests unnecessarily.\n",
    "For example :"
   ]
  },
  {
   "cell_type": "code",
   "execution_count": null,
   "metadata": {
    "tags": [
     "en"
    ]
   },
   "outputs": [],
   "source": [
    "a = 15\n",
    "b = 10\n",
    "\n",
    "if a > b:\n",
    "    print(\"a is bigger than b...\")\n",
    "    \n",
    "    if a > b*2:\n",
    "        print(\"... and a is bigger than the double of b.\")\n",
    "    else:\n",
    "        print(\"... but a is smaller than the double of b.\")"
   ]
  },
  {
   "cell_type": "markdown",
   "metadata": {
    "tags": [
     "en"
    ]
   },
   "source": [
    "## Exercise (medium)\n",
    "\n",
    "Let a triangle consist of 3 different segments: a, b and c.\n",
    "\n",
    "```\n",
    "     /\\\n",
    " a  /  \\   b\n",
    "   /    \\\n",
    "  /      \\\n",
    "   ͞ ͞͞ ͞ ͞ ͞ ͞ ͞ ͞ ͞ ͞ ͞ ͞\n",
    "     c\n",
    "```\n",
    "\n",
    "Use ``if``, ``elif`` and ``else``, nesting them as necessary to create a program that:\n",
    "\n",
    "- Displays \"Valid\" if the triangle is valid and \"Invalid\" if the triangle is not valid. Reminder: to check that a triangle is valid, the sum of two sides must always be greater than the third:\n",
    "\n",
    "```python\n",
    "    a + b > c\n",
    "    a + c > b\n",
    "    b + c > a\n",
    "```\n",
    "\n",
    "- Once we know that the triangle is valid:\n",
    "    - Displays \"Equilateral\" if the triangle is valid and equilateral (three equal sides).\n",
    "    - Displays \"Isosceles\" if the triangle is valid and isosceles (two equal sides).\n",
    "    - Displays \"Unspecified\" if the triangle is valid but neither isosceles nor equilateral.\n",
    "\n",
    "Vary the values of a, b and c to check that everything is working correctly.\n",
    "\n",
    "**TIPS**:\n",
    "\n",
    "- Do not test each time if the triangle is valid or not! Nest the tests on the nature of the triangle in the first validity test. That is, you will first test if the triangle is valid, if it is, you will perform other tests to determine its nature. If it is not, the program terminates after indicating that the triangle is not valid.\n",
    "- You can test with an equilateral triangle (e.g. a = 5, b = 5 and c = 5), an isosceles triangle (e.g. a = 3, b = 5 and c = 5) or any triangle (e.g. a = 3, b = 4, c = 5)."
   ]
  },
  {
   "cell_type": "code",
   "execution_count": null,
   "metadata": {
    "tags": []
   },
   "outputs": [],
   "source": [
    "a = 3\n",
    "b = 4\n",
    "c = 5\n",
    "\n",
    "# Code here!\n"
   ]
  },
  {
   "cell_type": "markdown",
   "metadata": {
    "tags": [
     "en"
    ]
   },
   "source": [
    "## Let's go deeper"
   ]
  },
  {
   "cell_type": "markdown",
   "metadata": {
    "tags": [
     "en"
    ]
   },
   "source": [
    "### A new function: ``round()``\n",
    "\n",
    "The ``round()`` function is used to round a number. It takes two parameters as input: the number to be rounded and the desired number of decimal places. By default it transforms the number in an integer. Example:"
   ]
  },
  {
   "cell_type": "code",
   "execution_count": null,
   "metadata": {
    "tags": []
   },
   "outputs": [],
   "source": [
    "round(3.14159)"
   ]
  },
  {
   "cell_type": "code",
   "execution_count": null,
   "metadata": {
    "tags": []
   },
   "outputs": [],
   "source": [
    "round(3.14159, 2)"
   ]
  },
  {
   "cell_type": "code",
   "execution_count": null,
   "metadata": {
    "tags": []
   },
   "outputs": [],
   "source": [
    "round(3.14159, 4)"
   ]
  },
  {
   "cell_type": "markdown",
   "metadata": {
    "tags": [
     "en"
    ]
   },
   "source": [
    "### Exercise (medium / difficult)\n",
    "\n",
    "Using the previous exercise, add the necessary tests to ensure that the triangle is rectangular. The program must therefore :\n",
    "\n",
    "- Display \"Valid\" or not \"Valid\".\n",
    "\n",
    "- Display \"Equilateral\" if the triangle is valid and equilateral.\n",
    "- Display \"Isosceles\" if the triangle is valid and isosceles.\n",
    "\n",
    "- Displays \"Rectangle\" if the triangle is only rectangle. Reminder: to test if a triangle is right-angled, one of these three equations must be true:\n",
    "\n",
    "```python\n",
    "    a² + b² = c²\n",
    "    a² + c² = b²\n",
    "    b² + c² = a²\n",
    "```\n",
    "\n",
    "- Displays \"Rectangle and isosceles\" if it is a rectangle and isosceles.\n",
    "\n",
    "- Displays \"Unspecified\" if the triangle is valid but without any particular property (neither rectangle, nor isosceles, nor isosceles rectangle, nor equilateral).\n",
    "\n",
    "Vary the values of a, b and c to check that everything works correctly.\n",
    "\n",
    "**TIPS**:\n",
    "\n",
    "- In Python the square is written to the power of 2, that is ``**2``.\n",
    "- Since there is no isosceles right triangle whose three sides are integers, we can't check this equality except by rounding the results. In this case, each term of the equality must be placed in a round()``. This works for example with a triangle of size a = 6, b = 6, c = 8.48)."
   ]
  },
  {
   "cell_type": "code",
   "execution_count": null,
   "metadata": {},
   "outputs": [],
   "source": [
    "a = 6\n",
    "b = 6\n",
    "c = 8.48\n",
    "\n",
    "# code here!\n"
   ]
  },
  {
   "cell_type": "markdown",
   "metadata": {
    "tags": [
     "en"
    ]
   },
   "source": [
    "# Let's go deeper\n",
    "\n",
    "## Order of Priorities in Python.\n",
    "\n",
    "Operators at the top of the table have the highest priority.\n",
    "\n",
    "| Operators                                    | Meaning                                           |\n",
    "|----------------------------------------------|---------------------------------------------------|\n",
    "| ()                                           | Parentheses                                       |\n",
    "| **                                           | Exponent                                          |\n",
    "| +x, -x, ~x                                   | Unary plus, Unary minus, Bitwise NOT              |\n",
    "| *, /, //, %                                  | Multiplication, Division, Floor division, Modulus |\n",
    "| +, -                                         | Addition, Subtraction                             |\n",
    "| <<, >>                                       | Bitwise shift operators                           |\n",
    "| &                                            | Bitwise AND                                       |\n",
    "| ^                                            | Bitwise XOR                                       |\n",
    "| \\|                                           | Bitwise OR                                        |\n",
    "| ==, !=, >, >=, <, <=, is, is not, in, not in | Comparisons, Identity, Membership operators       |\n",
    "| not                                          | Logical NOT                                       |\n",
    "| and                                          | Logical AND                                       |\n",
    "| or                                           | Logical OR                                        |"
   ]
  }
 ],
 "metadata": {
  "kernelspec": {
   "display_name": "Python 3 (ipykernel)",
   "language": "python",
   "name": "python3"
  },
  "language_info": {
   "codemirror_mode": {
    "name": "ipython",
    "version": 3
   },
   "file_extension": ".py",
   "mimetype": "text/x-python",
   "name": "python",
   "nbconvert_exporter": "python",
   "pygments_lexer": "ipython3",
   "version": "3.11.5"
  }
 },
 "nbformat": 4,
 "nbformat_minor": 4
}
