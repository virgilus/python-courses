{
 "cells": [
  {
   "cell_type": "markdown",
   "metadata": {
    "tags": [
     "en"
    ]
   },
   "source": [
    "# LOOPS"
   ]
  },
  {
   "cell_type": "markdown",
   "metadata": {
    "tags": [
     "en"
    ]
   },
   "source": [
    "As we saw in the introduction, computers are very good at performing repetitive actions. In programming we have structures that allow us to perform **loops**, that is, to repeat the same instruction(s) as many times as we want. These are very common in all programming languages and form the core of a large number of programs."
   ]
  },
  {
   "cell_type": "markdown",
   "metadata": {
    "tags": [
     "en"
    ]
   },
   "source": [
    "## The `for` loop\n",
    "\n",
    "The `for` loop goes through the different elements of an object. It is used with the word `in`. For example:\n",
    "\n",
    "In human language:\n",
    "```\n",
    "For every page in this book:\n",
    "    Show page.\n",
    "```\n",
    "\n",
    "In python formalization:\n",
    "\n",
    "```python\n",
    "for page in book:\n",
    "    print(page)\n",
    "```\n",
    "\n",
    "You'll notice that, like an `if`, the code that follows a `for` is indentated."
   ]
  },
  {
   "cell_type": "markdown",
   "metadata": {
    "tags": [
     "en"
    ]
   },
   "source": [
    "### Iterate through a list\n",
    "\n",
    "Using a for loop, each item in the list will be selected one by one so that they can be processed separately. Many programmers use the name \"el\" (short for \"element\") to refer to the variable that will successively hold each element of the iterable, but this is just a habit. For example :"
   ]
  },
  {
   "cell_type": "code",
   "execution_count": null,
   "metadata": {
    "tags": []
   },
   "outputs": [],
   "source": [
    "my_list = [\"a\", \"b\", \"c\", \"d\", \"e\"]\n",
    "\n",
    "for el in my_list:\n",
    "    print(el)"
   ]
  },
  {
   "cell_type": "markdown",
   "metadata": {
    "tags": [
     "en"
    ]
   },
   "source": [
    "Here there are 5 different items in the list, which means that the instruction in the `for` block has been executed 5 times. Note that we can write as many instructions as we want in the block."
   ]
  },
  {
   "cell_type": "code",
   "execution_count": null,
   "metadata": {
    "tags": []
   },
   "outputs": [],
   "source": [
    "my_list = [\"a\", \"b\", \"c\", \"d\", \"e\"]\n",
    "\n",
    "i = 0\n",
    "for el in my_list:\n",
    "    print(el)\n",
    "    i = i + 1\n",
    "    print(i)"
   ]
  },
  {
   "cell_type": "markdown",
   "metadata": {
    "tags": [
     "en"
    ]
   },
   "source": [
    "### Exercise (easy)\n",
    "\n",
    "For each item in the following list display a sentence that indicates the number being processed and the value of its double.\n",
    "\n",
    "**Tips**:\n",
    "\n",
    "- You can perform calculations in `print()`.\n",
    "- Preferably use f-strings, it will be more readable.\n",
    "- Can be done in two lines of code."
   ]
  },
  {
   "cell_type": "code",
   "execution_count": null,
   "metadata": {
    "tags": []
   },
   "outputs": [],
   "source": [
    "seq1 = [2, 16, 78, 6, 21, 98, 53627]\n",
    "# Code here!\n"
   ]
  },
  {
   "cell_type": "markdown",
   "metadata": {
    "tags": [
     "en"
    ]
   },
   "source": [
    "### Exercise (easy)\n",
    "\n",
    "For each number in the following list:\n",
    "\n",
    "- If it is less than 100, display the result of that number multiplied by 3.\n",
    "- If it is greater than or equal to 100, display the result of that number divided by 5."
   ]
  },
  {
   "cell_type": "code",
   "execution_count": null,
   "metadata": {},
   "outputs": [],
   "source": [
    "seq2 = [50, 100, 213, 15, 350, 78, 101, 423]\n",
    "\n",
    "# code here!\n"
   ]
  },
  {
   "cell_type": "markdown",
   "metadata": {
    "tags": [
     "en"
    ]
   },
   "source": [
    "### The `len()` function\n",
    "\n",
    "The `len()` function, short for *lenght*, returns the number of elements in an iterable. Be careful because `len()` returns the number of elements not the maximum index! Ex:"
   ]
  },
  {
   "cell_type": "code",
   "execution_count": null,
   "metadata": {
    "tags": [
     "en"
    ]
   },
   "outputs": [],
   "source": [
    "a_list = [\"an element\", \"another element\", 3]\n",
    "print(len(a_list)) # 3 elements, so returns 3 but the index ranges from 0 to 2."
   ]
  },
  {
   "cell_type": "markdown",
   "metadata": {
    "tags": [
     "en"
    ]
   },
   "source": [
    "### Exercise (easy / medium)\n",
    "\n",
    "Write a function that calculates the average grade of a student. The grades are contained in a list.\n",
    "\n",
    "**TIPS**:\n",
    "\n",
    "- When looping through the list grades, add the previous note to the \"total\" variable.\n",
    "- Use a `for` loop to iterate through the list and add up all the grades.\n",
    "- Use `len()` to find the size of the list and calculate the average."
   ]
  },
  {
   "cell_type": "code",
   "execution_count": null,
   "metadata": {
    "tags": []
   },
   "outputs": [],
   "source": [
    "grades = [10, 12, 16, 8, 17, 5, 9, 18, 14, 12, 11, 6, 8, 14, 20]\n",
    "total = 0\n",
    "\n",
    "# code here!\n"
   ]
  },
  {
   "cell_type": "markdown",
   "metadata": {
    "tags": [
     "en"
    ]
   },
   "source": [
    "### Exercise (medium)\n",
    "\n",
    "In the following sequence three groups of numbers are mixed: some are less than 100, some are between 1000 and 10 000 and some are more than 100 000. Calculate the average for each of these three groups.\n",
    "\n",
    "Different methods can be used. One method is to :\n",
    "\n",
    "- Create 3 empty lists in which to store the numbers belonging to each group.\n",
    "\n",
    "- Iterate over the \"seq\" list and add the numbers to the appropriate list.\n",
    "\n",
    "- Once our three lists each contain the correct numbers, we can create a list of lists and iterate on them, calculating the average for each list thanks to the code written in a previous exercice. This is like nesting a `for` loop inside another `for` loop.\n",
    "\n",
    "**TIPS**:\n",
    "\n",
    "- Reminder: To add items to a list, use the `.append()` method."
   ]
  },
  {
   "cell_type": "code",
   "execution_count": null,
   "metadata": {},
   "outputs": [],
   "source": [
    "seq = [100001, 10, 14, 869761, 1771, 5, 7, 1878, 15, 11, 1001, 6901, 428712, 11, 19, 387654, 9009, 16]\n",
    "# code here!\n"
   ]
  },
  {
   "cell_type": "markdown",
   "metadata": {
    "tags": [
     "en"
    ]
   },
   "source": [
    "### Iterating over a range of numbers with `range()`\n",
    "\n",
    "`range()` is a very useful function, it allows you to create a \"range\" of numbers. By default the function starts from 0:"
   ]
  },
  {
   "cell_type": "code",
   "execution_count": null,
   "metadata": {
    "tags": []
   },
   "outputs": [],
   "source": [
    "for n in range(5):\n",
    "    print(n)"
   ]
  },
  {
   "cell_type": "markdown",
   "metadata": {
    "tags": [
     "en"
    ]
   },
   "source": [
    "You will notice that since Python starts counting from 0, a `range(5)` stops at 4! But there are 5 different elements.\n",
    "\n",
    "If `range()` is given a single number, as in the example above, it will assume that this is the number at which the range should end. If it is given two, it will assume that the first number is the starting point and the second the ending point. For example :"
   ]
  },
  {
   "cell_type": "code",
   "execution_count": null,
   "metadata": {
    "tags": []
   },
   "outputs": [],
   "source": [
    "for n in range(2,5):\n",
    "    print(n)"
   ]
  },
  {
   "cell_type": "markdown",
   "metadata": {
    "tags": [
     "en"
    ]
   },
   "source": [
    "### Exercise (easy)\n",
    "\n",
    "Using a `for` loop and `range()`, display the following result:\n",
    "    \n",
    "```python\n",
    "*\n",
    "**\n",
    "***\n",
    "****\n",
    "*****\n",
    "******\n",
    "*******\n",
    "********\n",
    "```\n",
    "\n",
    "**ASTUCE**:\n",
    "\n",
    "- Achievable in only two lines of code (or even one).\n",
    "- There are 8 stars in the last line.\n",
    "- The * is the multiplication symbol, and \"*\" is the star character."
   ]
  },
  {
   "cell_type": "code",
   "execution_count": null,
   "metadata": {},
   "outputs": [],
   "source": [
    "# Code here!\n"
   ]
  },
  {
   "cell_type": "markdown",
   "metadata": {
    "tags": [
     "en"
    ]
   },
   "source": [
    "### Exercise (medium / difficult)\n",
    "\n",
    "The aim of this exercise is to write a code which will allow to determine if a number is prime or not. As a reminder, [prime numbers](https://en.wikipedia.org/wiki/Prime_number) are numbers that are divisible only by 1 and by themselves. Write a program that takes as input a number equal to or greater than 2 and displays as output whether that number is prime or not.\n",
    "\n",
    "**TIPS**:\n",
    "\n",
    "- To determine whether a number is prime or not, you will need to use the \"modulo\" operation, which returns the remainder of the Euclidean division. If the remainder of a Euclidean division is zero and the divisor used is neither 1 nor itself then the number is not prime. In Python the modulo is written as `%`. If we want to know if 5 is a prime number, we divide 5 by all the numbers between 2 and 4 (since we exclude 1 and itself), i.e. 2, 3 and 4.\n",
    "\n",
    "```python\n",
    "5 % 2 = 1\n",
    "5 % 3 = 2\n",
    "5 % 4 = 1\n",
    "```\n",
    "\n",
    "None of these operations return 0 so 5 is a prime number. Now let's test with 35:\n",
    "\n",
    "```python\n",
    "35 % 2 = 1\n",
    "35 % 3 = 2\n",
    "35 % 4 = 3\n",
    "35 % 5 = 0\n",
    "```\n",
    "\n",
    "The fourth operation returns 0, which means that 35 is disivisible by 5. So it is not a prime number.\n",
    "\n",
    "- To be more efficient, assume that the number is prime, which can be done by initializing a boolean variable `is_prime = True` for example. As soon as you find a divisor other than 1 and itself, thus demonstrating that the number is not prime, you change this boolean variable accordingly and assign it `False`.\n",
    "- The function `range()` will be useful.\n",
    "- You will need 2 variables and 6 lines of code.\n",
    "- We could write this function to make it faster and more readable, but that would involve concepts we haven't seen yet."
   ]
  },
  {
   "cell_type": "code",
   "execution_count": null,
   "metadata": {},
   "outputs": [],
   "source": [
    "# Code here!\n"
   ]
  },
  {
   "cell_type": "markdown",
   "metadata": {
    "tags": [
     "en"
    ]
   },
   "source": [
    "### Iterate on a string\n",
    "\n",
    "Let's look at what happens if we use the `for` loop on a string."
   ]
  },
  {
   "cell_type": "code",
   "execution_count": null,
   "metadata": {
    "tags": []
   },
   "outputs": [],
   "source": [
    "for el in \"Hello !!! !!!\":\n",
    "    print(el)"
   ]
  },
  {
   "cell_type": "markdown",
   "metadata": {
    "tags": [
     "en"
    ]
   },
   "source": [
    "The reason why several characters are called a *string* is because Python conceives a string as a sequence of different characters (we also say that the characters are \"concatenated\".\n",
    "\n",
    "You will notice that the space \" \" is also a character."
   ]
  },
  {
   "cell_type": "markdown",
   "metadata": {
    "tags": [
     "en"
    ]
   },
   "source": [
    "### Exercise (easy)\n",
    "\n",
    "You know that the longest word of the English language is \"pneumonoultramicroscopicsilicovolcanoconiosis\", but how many characters are there inside? Find out using a `for` loop and a variable to increment."
   ]
  },
  {
   "cell_type": "code",
   "execution_count": null,
   "metadata": {},
   "outputs": [],
   "source": [
    "# Code here!\n"
   ]
  },
  {
   "cell_type": "markdown",
   "metadata": {
    "tags": [
     "en"
    ]
   },
   "source": [
    "## Index and Element in a Loop\n",
    "\n",
    "Sometimes, not only do we want to retrieve the element, but also its index.\n",
    "\n",
    "### The `.enumerate()` method\n",
    "\n",
    "This method returns a tuple containing the index and the element.\n",
    "\n",
    "Many programmers use \"i\" as the variable name for the index."
   ]
  },
  {
   "cell_type": "code",
   "execution_count": null,
   "metadata": {
    "tags": []
   },
   "outputs": [],
   "source": [
    "my_list = [555, \"Hello !\", 777, \"bla bla bla\"]\n",
    "\n",
    "for my_tuple in enumerate(my_list):\n",
    "    print(my_tuple)"
   ]
  },
  {
   "cell_type": "markdown",
   "metadata": {
    "tags": [
     "en"
    ]
   },
   "source": [
    "### Iterating over two variables simultaneously\n",
    "\n",
    "By providing Python with a tuple (either explicit or implicit), we can iterate over two variables simultaneously, such as the index and the element. As a convention, many programmers name the variable containing the index \"i.\""
   ]
  },
  {
   "cell_type": "code",
   "execution_count": null,
   "metadata": {
    "tags": []
   },
   "outputs": [],
   "source": [
    "my_list = [555, \"Hello !\", 777, \"bla bla bla\"]\n",
    "\n",
    "for i, el in enumerate(my_list):\n",
    "    print(\"index =\", i)\n",
    "    print(\"element =\", el)"
   ]
  },
  {
   "cell_type": "markdown",
   "metadata": {
    "tags": [
     "en"
    ]
   },
   "source": [
    "## Exercise (easy / medium)\n",
    "\n",
    "Write a program that iterates through the list named \"n\" and modifies it by replacing all numbers strictly greater than 100 with zero.\n",
    "\n",
    "**Tips:**\n",
    "\n",
    "- Use the `enumerate()` function, of course.\n",
    "- To access or modify an element in a list, you can use its index. For example, `my_list[0]` accesses the first element of the list."
   ]
  },
  {
   "cell_type": "code",
   "execution_count": null,
   "metadata": {
    "tags": []
   },
   "outputs": [],
   "source": [
    "n = [12, 78, 101, -67, 34, 234, 89, 23, 17, 987, 675, 345, 65, 32, 234]\n",
    "\n",
    "# Code here!"
   ]
  },
  {
   "cell_type": "markdown",
   "metadata": {
    "tags": [
     "en"
    ]
   },
   "source": [
    "# Let's go deeper"
   ]
  },
  {
   "cell_type": "markdown",
   "metadata": {
    "tags": [
     "en"
    ]
   },
   "source": [
    "## The `while` loop\n",
    "\n",
    "This instruction is used to execute a block of operations as long as a condition is verified.\n",
    "\n",
    "Let's imagine that we have a finite stock of candies in a bag (which, unfortunately, is always the case) and that we eat them one by one. A `while` loop would work like this:\n",
    "\n",
    "Example:"
   ]
  },
  {
   "cell_type": "code",
   "execution_count": null,
   "metadata": {
    "tags": [
     "en"
    ]
   },
   "outputs": [],
   "source": [
    "number_of_candies = 5\n",
    "\n",
    "print(f\"There are {number_of_candies} candies left in my bag!\")\n",
    "\n",
    "while number_of_candies > 0:\n",
    "    print(\"Yummy ! :)\")\n",
    "    number_of_candies = number_of_candies - 1\n",
    "    print(f\"There are {number_of_candies} candies left in my bag!\")\n",
    "\n",
    "print(f\"Bag is empty, number of candies is equal to {number_of_candies} ! :(\")"
   ]
  },
  {
   "cell_type": "markdown",
   "metadata": {
    "tags": [
     "en"
    ]
   },
   "source": [
    "In the example above, we first check how many candies there are in the bag. If there are some left, then we eat one, which reduces the stock by one. Each time the instruction block is finished, the condition is checked again. When the stock equals 0, the loop stops.\n",
    "\n",
    "From a more mathematical point of view, this same function could be written as follows:"
   ]
  },
  {
   "cell_type": "code",
   "execution_count": null,
   "metadata": {
    "tags": [
     "en"
    ]
   },
   "outputs": [],
   "source": [
    "x = 5\n",
    "\n",
    "while x > 0:\n",
    "    print(f\"x equals {x}\")\n",
    "    x = x - 1\n",
    "print(f\"Done ! x equals {x}\")"
   ]
  },
  {
   "cell_type": "markdown",
   "metadata": {
    "tags": [
     "en"
    ]
   },
   "source": [
    "## Beware of infinite loops!\n",
    "\n",
    "Sometimes if we don't pay attention, we might create a loop where the exit condition is never fulfilled. This is called an infinite loop. In this case, the computer will continue to execute the loop again and again until it is manually 'forced' to stop or an external event occurs (power cut, memory error, a bug, etc.). For example, if I write :\n",
    "\n",
    "```python\n",
    "while 1 != 2:\n",
    "    print(\"Damn, an infinite loop !!!!\")\n",
    "```\n",
    "\n",
    "Since 1 will never be equal to 2, executing this loop would display this sentence until... forever. If this happens, you can click on the \"STOP\" square icon (_\"Interrupt the Kernel\"_) at the top of the notebook. Or use the shortcut :\n",
    "\n",
    "**ESC + i i** (escape key then press the \"i\" key twice quickly, for _\"interrupt\"_)\n",
    "\n",
    "Jupyter Lab will display a \"*KeyboardInterrupt*\" error message, which is perfectly normal.\n",
    "\n",
    "## An example of an infinite loop:\n",
    "***Run it and then shut down the kernel using the keyboard shortcut***\n",
    "\n",
    "**Warning**: To avoid potential problems, this cell is in \"*raw*\" mode (plain text) and cannot be executed. Change its type by positioning yourself over it as if you were going to edit it (the edit cursor flashes somewhere in the cell) and then using the keyboard shortcut **ESC + y**. (You can also use the drop-down menu at the top of the notebook to choose 'Code' instead of 'Raw', which is the same but not as fast). \n",
    "\n",
    "**COMMENTS**:\n",
    "\n",
    "- Here the first line of code is used to import a special function called `sleep()` which comes from the `time` library. This `sleep()` function pauses Python for a set time (3 seconds in this case). We'll look at the libraries in more detail later.\n",
    "- By convention, the variable used to count the number of passes in a loop is often called \"i\" or \"count\"."
   ]
  },
  {
   "cell_type": "raw",
   "metadata": {
    "tags": [
     "en"
    ]
   },
   "source": [
    "from time import sleep\n",
    "\n",
    "i = 0\n",
    "\n",
    "while 1 != 2:\n",
    "    i = i + 1\n",
    "    print(f\"Infinite loop: N°{i}\")\n",
    "    sleep(3)"
   ]
  },
  {
   "cell_type": "markdown",
   "metadata": {
    "tags": [
     "en"
    ]
   },
   "source": [
    "## Exercise (easy)\n",
    "\n",
    "At the market, you meet your little cousin, Theodore, who challenges you at a mathematical little game.\n",
    "He wants to display the multiplication table for 9 in Python. You could, of course, write a series of 10 `print()` like this:\n",
    "\n",
    "```python\n",
    "print(\"9 times 0 = 0\")\n",
    "print(\"9 times 1 = 9\")\n",
    "print(\"9 times 2 = 18\")\n",
    "print(\"...etc...\")\n",
    "```\n",
    "But that would be tedious. Show him the power of loops by writing a program that automatically displays the multiplication table for 9. Make sure your program can be easily modified to display the multiplication table for another number.\n",
    "\n",
    "**TIPS**:\n",
    "\n",
    "- We could use an ``for`` loop of course, but let's do it here with a `while` loop.\n",
    "- You can also perform operations in the `print()` arguments or in the f-strings braces. Ex: `print(3*4)` or `print(f \"the result is: {3*4}\")`.\n",
    "- Don't forget to increment your counter, otherwise you'll create an infinite loop!"
   ]
  },
  {
   "cell_type": "code",
   "execution_count": null,
   "metadata": {
    "tags": []
   },
   "outputs": [],
   "source": [
    "# Code here!\n"
   ]
  },
  {
   "cell_type": "markdown",
   "metadata": {
    "tags": [
     "en"
    ]
   },
   "source": [
    "## Exercise (medium)\n",
    "\n",
    "Theodore challenges you again:\n",
    "\n",
    "Given that an average sheet of paper is 0.11 millimetres thick (i.e. 0.00011 metres). How many times does it have to be folded to reach the height of the Eiffel Tower (324m)? And to reach the Moon (average distance of 384 402 000 metres)?\n",
    "\n",
    "**TIPS**:\n",
    "\n",
    "- Folding a sheet of paper means doubling its size each time it is folded.\n",
    "- You'll need to create three input variables: the size of the sheet, the number of folds made (the counter, or *count*), and the distance to be exceeded.\n",
    "- It'll take around 6 lines of code."
   ]
  },
  {
   "cell_type": "code",
   "execution_count": null,
   "metadata": {
    "tags": []
   },
   "outputs": [],
   "source": [
    "distance = 324  # Eiffel Tower\n",
    "# distance = 384402000  # Moon\n",
    "\n",
    "# Code here!\n"
   ]
  },
  {
   "cell_type": "markdown",
   "metadata": {
    "tags": [
     "en"
    ]
   },
   "source": [
    "## Exercise (difficult)\n",
    "\n",
    "Théodore and his friends from the maths club have come up with a new challenge. Will you be able to write a program that doesn't check whether a number is prime or not, but finds **ALL** the primes in a given range of numbers?\n",
    "You need to display all the primes found, as well as the total number of primes found.\n",
    "\n",
    "To check your results, you should know that there are:\n",
    "- 25 primes between 2 and 100.\n",
    "- 21 primes between 100 and 200.\n",
    "\n",
    "A more precise list is available on this [wikipedia page](https://en.wikipedia.org/wiki/List_of_prime_numbers).\n",
    "\n",
    "**TIPS**\n",
    "\n",
    "- To improve the speed of your program you can use two methods:\n",
    "\n",
    "   1. Use a `for` loop to get every number in the range, but when testing each number use a `while` loop to test if the number is prime or not. By writing the right condition in the `while` you can make the loop stop as soon as you know that the number being tested is not prime.\n",
    "   \n",
    "   1. To speed up code execution considerably, we can use the following theorem: *If n is not divisible by any of the primes less than or equal to its square root, it can be stated that it is prime*. Instead of testing up to the target number, you can stop at its square root. In Python there are various ways of writing the square root, but a quick and easy method is to use the 0.5 power: `n**0.5`.\n",
    "  "
   ]
  },
  {
   "cell_type": "code",
   "execution_count": null,
   "metadata": {
    "tags": []
   },
   "outputs": [],
   "source": [
    "start = 2\n",
    "end = 100\n",
    "count = 0\n",
    "\n",
    "print(f\"Prime numbers between {start} and {end} :\")\n",
    "\n",
    "# Code here!\n"
   ]
  }
 ],
 "metadata": {
  "kernelspec": {
   "display_name": "Python 3 (ipykernel)",
   "language": "python",
   "name": "python3"
  },
  "language_info": {
   "codemirror_mode": {
    "name": "ipython",
    "version": 3
   },
   "file_extension": ".py",
   "mimetype": "text/x-python",
   "name": "python",
   "nbconvert_exporter": "python",
   "pygments_lexer": "ipython3",
   "version": "3.11.5"
  }
 },
 "nbformat": 4,
 "nbformat_minor": 4
}
